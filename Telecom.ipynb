{
 "cells": [
  {
   "cell_type": "markdown",
   "metadata": {},
   "source": [
    "# Телеком\n",
    "\n",
    "Оператор связи «Ниединогоразрыва.ком» хочет научиться прогнозировать отток клиентов. Если выяснится, что пользователь планирует уйти, ему будут предложены промокоды и специальные условия. Команда оператора собрала персональные данные о некоторых клиентах, информацию об их тарифах и договорах."
   ]
  },
  {
   "cell_type": "markdown",
   "metadata": {},
   "source": [
    "## Описание "
   ]
  },
  {
   "cell_type": "markdown",
   "metadata": {},
   "source": [
    "### Описание услуг\n",
    "\n",
    "Оператор предоставляет два основных типа услуг: \n",
    "\n",
    "1. Стационарную телефонную связь. Возможно подключение телефонного аппарата к нескольким линиям одновременно.\n",
    "2. Интернет. Подключение может быть двух типов: через телефонную линию (DSL*,* от англ. *digital subscriber line*, «цифровая абонентская линия») или оптоволоконный кабель (*Fiber optic*).\n",
    "\n",
    "Также доступны такие услуги:\n",
    "\n",
    "- Интернет-безопасность: антивирус (*DeviceProtection*) и блокировка небезопасных сайтов (*OnlineSecurity*);\n",
    "- Выделенная линия технической поддержки (*TechSupport*);\n",
    "- Облачное хранилище файлов для резервного копирования данных (*OnlineBackup*);\n",
    "- Стриминговое телевидение (*StreamingTV*) и каталог фильмов (*StreamingMovies*).\n",
    "\n",
    "За услуги клиенты могут платить каждый месяц или заключить договор на 1–2 года. Доступны различные способы расчёта и возможность получения электронного чека."
   ]
  },
  {
   "cell_type": "markdown",
   "metadata": {},
   "source": [
    "### Описание данных\n",
    "\n",
    "Данные состоят из файлов, полученных из разных источников:\n",
    "\n",
    "- `contract.csv` — информация о договоре;\n",
    "- `personal.csv` — персональные данные клиента;\n",
    "- `internet.csv` — информация об интернет-услугах;\n",
    "- `phone.csv` — информация об услугах телефонии.\n",
    "\n",
    "Во всех файлах столбец `customerID` содержит код клиента.\n",
    "\n",
    "Информация о договорах актуальна на 1 февраля 2020"
   ]
  },
  {
   "cell_type": "markdown",
   "metadata": {},
   "source": [
    "## Предобработка"
   ]
  },
  {
   "cell_type": "markdown",
   "metadata": {},
   "source": [
    "Импортируем необходимые для работы библиотеки."
   ]
  },
  {
   "cell_type": "code",
   "execution_count": 1,
   "metadata": {},
   "outputs": [],
   "source": [
    "import pandas as pd"
   ]
  },
  {
   "cell_type": "markdown",
   "metadata": {},
   "source": [
    "Прочитаем и запишем файлы с данными."
   ]
  },
  {
   "cell_type": "code",
   "execution_count": 2,
   "metadata": {},
   "outputs": [],
   "source": [
    "contract = pd.read_csv('/datasets/final_provider/contract.csv')\n",
    "personal = pd.read_csv('/datasets/final_provider/personal.csv')\n",
    "internet = pd.read_csv('/datasets/final_provider/internet.csv')\n",
    "phone = pd.read_csv('/datasets/final_provider/phone.csv')"
   ]
  },
  {
   "cell_type": "markdown",
   "metadata": {},
   "source": [
    "С помощью цикла получим первые пять строк и основную информацию о каждом датафрейме."
   ]
  },
  {
   "cell_type": "code",
   "execution_count": 3,
   "metadata": {
    "scrolled": false
   },
   "outputs": [
    {
     "data": {
      "text/html": [
       "<div>\n",
       "<style scoped>\n",
       "    .dataframe tbody tr th:only-of-type {\n",
       "        vertical-align: middle;\n",
       "    }\n",
       "\n",
       "    .dataframe tbody tr th {\n",
       "        vertical-align: top;\n",
       "    }\n",
       "\n",
       "    .dataframe thead th {\n",
       "        text-align: right;\n",
       "    }\n",
       "</style>\n",
       "<table border=\"1\" class=\"dataframe\">\n",
       "  <thead>\n",
       "    <tr style=\"text-align: right;\">\n",
       "      <th></th>\n",
       "      <th>customerID</th>\n",
       "      <th>BeginDate</th>\n",
       "      <th>EndDate</th>\n",
       "      <th>Type</th>\n",
       "      <th>PaperlessBilling</th>\n",
       "      <th>PaymentMethod</th>\n",
       "      <th>MonthlyCharges</th>\n",
       "      <th>TotalCharges</th>\n",
       "    </tr>\n",
       "  </thead>\n",
       "  <tbody>\n",
       "    <tr>\n",
       "      <th>0</th>\n",
       "      <td>7590-VHVEG</td>\n",
       "      <td>2020-01-01</td>\n",
       "      <td>No</td>\n",
       "      <td>Month-to-month</td>\n",
       "      <td>Yes</td>\n",
       "      <td>Electronic check</td>\n",
       "      <td>29.85</td>\n",
       "      <td>29.85</td>\n",
       "    </tr>\n",
       "    <tr>\n",
       "      <th>1</th>\n",
       "      <td>5575-GNVDE</td>\n",
       "      <td>2017-04-01</td>\n",
       "      <td>No</td>\n",
       "      <td>One year</td>\n",
       "      <td>No</td>\n",
       "      <td>Mailed check</td>\n",
       "      <td>56.95</td>\n",
       "      <td>1889.5</td>\n",
       "    </tr>\n",
       "    <tr>\n",
       "      <th>2</th>\n",
       "      <td>3668-QPYBK</td>\n",
       "      <td>2019-10-01</td>\n",
       "      <td>2019-12-01 00:00:00</td>\n",
       "      <td>Month-to-month</td>\n",
       "      <td>Yes</td>\n",
       "      <td>Mailed check</td>\n",
       "      <td>53.85</td>\n",
       "      <td>108.15</td>\n",
       "    </tr>\n",
       "    <tr>\n",
       "      <th>3</th>\n",
       "      <td>7795-CFOCW</td>\n",
       "      <td>2016-05-01</td>\n",
       "      <td>No</td>\n",
       "      <td>One year</td>\n",
       "      <td>No</td>\n",
       "      <td>Bank transfer (automatic)</td>\n",
       "      <td>42.30</td>\n",
       "      <td>1840.75</td>\n",
       "    </tr>\n",
       "    <tr>\n",
       "      <th>4</th>\n",
       "      <td>9237-HQITU</td>\n",
       "      <td>2019-09-01</td>\n",
       "      <td>2019-11-01 00:00:00</td>\n",
       "      <td>Month-to-month</td>\n",
       "      <td>Yes</td>\n",
       "      <td>Electronic check</td>\n",
       "      <td>70.70</td>\n",
       "      <td>151.65</td>\n",
       "    </tr>\n",
       "  </tbody>\n",
       "</table>\n",
       "</div>"
      ],
      "text/plain": [
       "   customerID   BeginDate              EndDate            Type  \\\n",
       "0  7590-VHVEG  2020-01-01                   No  Month-to-month   \n",
       "1  5575-GNVDE  2017-04-01                   No        One year   \n",
       "2  3668-QPYBK  2019-10-01  2019-12-01 00:00:00  Month-to-month   \n",
       "3  7795-CFOCW  2016-05-01                   No        One year   \n",
       "4  9237-HQITU  2019-09-01  2019-11-01 00:00:00  Month-to-month   \n",
       "\n",
       "  PaperlessBilling              PaymentMethod  MonthlyCharges TotalCharges  \n",
       "0              Yes           Electronic check           29.85        29.85  \n",
       "1               No               Mailed check           56.95       1889.5  \n",
       "2              Yes               Mailed check           53.85       108.15  \n",
       "3               No  Bank transfer (automatic)           42.30      1840.75  \n",
       "4              Yes           Electronic check           70.70       151.65  "
      ]
     },
     "metadata": {},
     "output_type": "display_data"
    },
    {
     "name": "stdout",
     "output_type": "stream",
     "text": [
      "<class 'pandas.core.frame.DataFrame'>\n",
      "RangeIndex: 7043 entries, 0 to 7042\n",
      "Data columns (total 8 columns):\n",
      " #   Column            Non-Null Count  Dtype  \n",
      "---  ------            --------------  -----  \n",
      " 0   customerID        7043 non-null   object \n",
      " 1   BeginDate         7043 non-null   object \n",
      " 2   EndDate           7043 non-null   object \n",
      " 3   Type              7043 non-null   object \n",
      " 4   PaperlessBilling  7043 non-null   object \n",
      " 5   PaymentMethod     7043 non-null   object \n",
      " 6   MonthlyCharges    7043 non-null   float64\n",
      " 7   TotalCharges      7043 non-null   object \n",
      "dtypes: float64(1), object(7)\n",
      "memory usage: 440.3+ KB\n",
      "\n",
      "\n"
     ]
    },
    {
     "data": {
      "text/html": [
       "<div>\n",
       "<style scoped>\n",
       "    .dataframe tbody tr th:only-of-type {\n",
       "        vertical-align: middle;\n",
       "    }\n",
       "\n",
       "    .dataframe tbody tr th {\n",
       "        vertical-align: top;\n",
       "    }\n",
       "\n",
       "    .dataframe thead th {\n",
       "        text-align: right;\n",
       "    }\n",
       "</style>\n",
       "<table border=\"1\" class=\"dataframe\">\n",
       "  <thead>\n",
       "    <tr style=\"text-align: right;\">\n",
       "      <th></th>\n",
       "      <th>customerID</th>\n",
       "      <th>gender</th>\n",
       "      <th>SeniorCitizen</th>\n",
       "      <th>Partner</th>\n",
       "      <th>Dependents</th>\n",
       "    </tr>\n",
       "  </thead>\n",
       "  <tbody>\n",
       "    <tr>\n",
       "      <th>0</th>\n",
       "      <td>7590-VHVEG</td>\n",
       "      <td>Female</td>\n",
       "      <td>0</td>\n",
       "      <td>Yes</td>\n",
       "      <td>No</td>\n",
       "    </tr>\n",
       "    <tr>\n",
       "      <th>1</th>\n",
       "      <td>5575-GNVDE</td>\n",
       "      <td>Male</td>\n",
       "      <td>0</td>\n",
       "      <td>No</td>\n",
       "      <td>No</td>\n",
       "    </tr>\n",
       "    <tr>\n",
       "      <th>2</th>\n",
       "      <td>3668-QPYBK</td>\n",
       "      <td>Male</td>\n",
       "      <td>0</td>\n",
       "      <td>No</td>\n",
       "      <td>No</td>\n",
       "    </tr>\n",
       "    <tr>\n",
       "      <th>3</th>\n",
       "      <td>7795-CFOCW</td>\n",
       "      <td>Male</td>\n",
       "      <td>0</td>\n",
       "      <td>No</td>\n",
       "      <td>No</td>\n",
       "    </tr>\n",
       "    <tr>\n",
       "      <th>4</th>\n",
       "      <td>9237-HQITU</td>\n",
       "      <td>Female</td>\n",
       "      <td>0</td>\n",
       "      <td>No</td>\n",
       "      <td>No</td>\n",
       "    </tr>\n",
       "  </tbody>\n",
       "</table>\n",
       "</div>"
      ],
      "text/plain": [
       "   customerID  gender  SeniorCitizen Partner Dependents\n",
       "0  7590-VHVEG  Female              0     Yes         No\n",
       "1  5575-GNVDE    Male              0      No         No\n",
       "2  3668-QPYBK    Male              0      No         No\n",
       "3  7795-CFOCW    Male              0      No         No\n",
       "4  9237-HQITU  Female              0      No         No"
      ]
     },
     "metadata": {},
     "output_type": "display_data"
    },
    {
     "name": "stdout",
     "output_type": "stream",
     "text": [
      "<class 'pandas.core.frame.DataFrame'>\n",
      "RangeIndex: 7043 entries, 0 to 7042\n",
      "Data columns (total 5 columns):\n",
      " #   Column         Non-Null Count  Dtype \n",
      "---  ------         --------------  ----- \n",
      " 0   customerID     7043 non-null   object\n",
      " 1   gender         7043 non-null   object\n",
      " 2   SeniorCitizen  7043 non-null   int64 \n",
      " 3   Partner        7043 non-null   object\n",
      " 4   Dependents     7043 non-null   object\n",
      "dtypes: int64(1), object(4)\n",
      "memory usage: 275.2+ KB\n",
      "\n",
      "\n"
     ]
    },
    {
     "data": {
      "text/html": [
       "<div>\n",
       "<style scoped>\n",
       "    .dataframe tbody tr th:only-of-type {\n",
       "        vertical-align: middle;\n",
       "    }\n",
       "\n",
       "    .dataframe tbody tr th {\n",
       "        vertical-align: top;\n",
       "    }\n",
       "\n",
       "    .dataframe thead th {\n",
       "        text-align: right;\n",
       "    }\n",
       "</style>\n",
       "<table border=\"1\" class=\"dataframe\">\n",
       "  <thead>\n",
       "    <tr style=\"text-align: right;\">\n",
       "      <th></th>\n",
       "      <th>customerID</th>\n",
       "      <th>InternetService</th>\n",
       "      <th>OnlineSecurity</th>\n",
       "      <th>OnlineBackup</th>\n",
       "      <th>DeviceProtection</th>\n",
       "      <th>TechSupport</th>\n",
       "      <th>StreamingTV</th>\n",
       "      <th>StreamingMovies</th>\n",
       "    </tr>\n",
       "  </thead>\n",
       "  <tbody>\n",
       "    <tr>\n",
       "      <th>0</th>\n",
       "      <td>7590-VHVEG</td>\n",
       "      <td>DSL</td>\n",
       "      <td>No</td>\n",
       "      <td>Yes</td>\n",
       "      <td>No</td>\n",
       "      <td>No</td>\n",
       "      <td>No</td>\n",
       "      <td>No</td>\n",
       "    </tr>\n",
       "    <tr>\n",
       "      <th>1</th>\n",
       "      <td>5575-GNVDE</td>\n",
       "      <td>DSL</td>\n",
       "      <td>Yes</td>\n",
       "      <td>No</td>\n",
       "      <td>Yes</td>\n",
       "      <td>No</td>\n",
       "      <td>No</td>\n",
       "      <td>No</td>\n",
       "    </tr>\n",
       "    <tr>\n",
       "      <th>2</th>\n",
       "      <td>3668-QPYBK</td>\n",
       "      <td>DSL</td>\n",
       "      <td>Yes</td>\n",
       "      <td>Yes</td>\n",
       "      <td>No</td>\n",
       "      <td>No</td>\n",
       "      <td>No</td>\n",
       "      <td>No</td>\n",
       "    </tr>\n",
       "    <tr>\n",
       "      <th>3</th>\n",
       "      <td>7795-CFOCW</td>\n",
       "      <td>DSL</td>\n",
       "      <td>Yes</td>\n",
       "      <td>No</td>\n",
       "      <td>Yes</td>\n",
       "      <td>Yes</td>\n",
       "      <td>No</td>\n",
       "      <td>No</td>\n",
       "    </tr>\n",
       "    <tr>\n",
       "      <th>4</th>\n",
       "      <td>9237-HQITU</td>\n",
       "      <td>Fiber optic</td>\n",
       "      <td>No</td>\n",
       "      <td>No</td>\n",
       "      <td>No</td>\n",
       "      <td>No</td>\n",
       "      <td>No</td>\n",
       "      <td>No</td>\n",
       "    </tr>\n",
       "  </tbody>\n",
       "</table>\n",
       "</div>"
      ],
      "text/plain": [
       "   customerID InternetService OnlineSecurity OnlineBackup DeviceProtection  \\\n",
       "0  7590-VHVEG             DSL             No          Yes               No   \n",
       "1  5575-GNVDE             DSL            Yes           No              Yes   \n",
       "2  3668-QPYBK             DSL            Yes          Yes               No   \n",
       "3  7795-CFOCW             DSL            Yes           No              Yes   \n",
       "4  9237-HQITU     Fiber optic             No           No               No   \n",
       "\n",
       "  TechSupport StreamingTV StreamingMovies  \n",
       "0          No          No              No  \n",
       "1          No          No              No  \n",
       "2          No          No              No  \n",
       "3         Yes          No              No  \n",
       "4          No          No              No  "
      ]
     },
     "metadata": {},
     "output_type": "display_data"
    },
    {
     "name": "stdout",
     "output_type": "stream",
     "text": [
      "<class 'pandas.core.frame.DataFrame'>\n",
      "RangeIndex: 5517 entries, 0 to 5516\n",
      "Data columns (total 8 columns):\n",
      " #   Column            Non-Null Count  Dtype \n",
      "---  ------            --------------  ----- \n",
      " 0   customerID        5517 non-null   object\n",
      " 1   InternetService   5517 non-null   object\n",
      " 2   OnlineSecurity    5517 non-null   object\n",
      " 3   OnlineBackup      5517 non-null   object\n",
      " 4   DeviceProtection  5517 non-null   object\n",
      " 5   TechSupport       5517 non-null   object\n",
      " 6   StreamingTV       5517 non-null   object\n",
      " 7   StreamingMovies   5517 non-null   object\n",
      "dtypes: object(8)\n",
      "memory usage: 344.9+ KB\n",
      "\n",
      "\n"
     ]
    },
    {
     "data": {
      "text/html": [
       "<div>\n",
       "<style scoped>\n",
       "    .dataframe tbody tr th:only-of-type {\n",
       "        vertical-align: middle;\n",
       "    }\n",
       "\n",
       "    .dataframe tbody tr th {\n",
       "        vertical-align: top;\n",
       "    }\n",
       "\n",
       "    .dataframe thead th {\n",
       "        text-align: right;\n",
       "    }\n",
       "</style>\n",
       "<table border=\"1\" class=\"dataframe\">\n",
       "  <thead>\n",
       "    <tr style=\"text-align: right;\">\n",
       "      <th></th>\n",
       "      <th>customerID</th>\n",
       "      <th>MultipleLines</th>\n",
       "    </tr>\n",
       "  </thead>\n",
       "  <tbody>\n",
       "    <tr>\n",
       "      <th>0</th>\n",
       "      <td>5575-GNVDE</td>\n",
       "      <td>No</td>\n",
       "    </tr>\n",
       "    <tr>\n",
       "      <th>1</th>\n",
       "      <td>3668-QPYBK</td>\n",
       "      <td>No</td>\n",
       "    </tr>\n",
       "    <tr>\n",
       "      <th>2</th>\n",
       "      <td>9237-HQITU</td>\n",
       "      <td>No</td>\n",
       "    </tr>\n",
       "    <tr>\n",
       "      <th>3</th>\n",
       "      <td>9305-CDSKC</td>\n",
       "      <td>Yes</td>\n",
       "    </tr>\n",
       "    <tr>\n",
       "      <th>4</th>\n",
       "      <td>1452-KIOVK</td>\n",
       "      <td>Yes</td>\n",
       "    </tr>\n",
       "  </tbody>\n",
       "</table>\n",
       "</div>"
      ],
      "text/plain": [
       "   customerID MultipleLines\n",
       "0  5575-GNVDE            No\n",
       "1  3668-QPYBK            No\n",
       "2  9237-HQITU            No\n",
       "3  9305-CDSKC           Yes\n",
       "4  1452-KIOVK           Yes"
      ]
     },
     "metadata": {},
     "output_type": "display_data"
    },
    {
     "name": "stdout",
     "output_type": "stream",
     "text": [
      "<class 'pandas.core.frame.DataFrame'>\n",
      "RangeIndex: 6361 entries, 0 to 6360\n",
      "Data columns (total 2 columns):\n",
      " #   Column         Non-Null Count  Dtype \n",
      "---  ------         --------------  ----- \n",
      " 0   customerID     6361 non-null   object\n",
      " 1   MultipleLines  6361 non-null   object\n",
      "dtypes: object(2)\n",
      "memory usage: 99.5+ KB\n",
      "\n",
      "\n"
     ]
    }
   ],
   "source": [
    "for x in (contract, personal, internet, phone):\n",
    "    display(x.head())\n",
    "    x.info()\n",
    "    print()\n",
    "    print()"
   ]
  },
  {
   "cell_type": "markdown",
   "metadata": {},
   "source": [
    "У нас в распоряжении данные о 7043 пользователях. Пропусков в таблицах нет и это прекрасно, видно что не все клиенты попали в датафреймы по услугам интернета и телефонной связи, значит они пользуются только чем-то одним. Каких-либо распределений посмотреть не получится, так как почти все столбцы категориальные.\n",
    "\n",
    "Для начала объединим все таблицы начиная с `contract` по столбцу `\"customerID\"`."
   ]
  },
  {
   "cell_type": "code",
   "execution_count": 4,
   "metadata": {},
   "outputs": [
    {
     "name": "stdout",
     "output_type": "stream",
     "text": [
      "<class 'pandas.core.frame.DataFrame'>\n",
      "Int64Index: 7043 entries, 0 to 7042\n",
      "Data columns (total 20 columns):\n",
      " #   Column            Non-Null Count  Dtype  \n",
      "---  ------            --------------  -----  \n",
      " 0   customerID        7043 non-null   object \n",
      " 1   BeginDate         7043 non-null   object \n",
      " 2   EndDate           7043 non-null   object \n",
      " 3   Type              7043 non-null   object \n",
      " 4   PaperlessBilling  7043 non-null   object \n",
      " 5   PaymentMethod     7043 non-null   object \n",
      " 6   MonthlyCharges    7043 non-null   float64\n",
      " 7   TotalCharges      7043 non-null   object \n",
      " 8   gender            7043 non-null   object \n",
      " 9   SeniorCitizen     7043 non-null   int64  \n",
      " 10  Partner           7043 non-null   object \n",
      " 11  Dependents        7043 non-null   object \n",
      " 12  InternetService   5517 non-null   object \n",
      " 13  OnlineSecurity    5517 non-null   object \n",
      " 14  OnlineBackup      5517 non-null   object \n",
      " 15  DeviceProtection  5517 non-null   object \n",
      " 16  TechSupport       5517 non-null   object \n",
      " 17  StreamingTV       5517 non-null   object \n",
      " 18  StreamingMovies   5517 non-null   object \n",
      " 19  MultipleLines     6361 non-null   object \n",
      "dtypes: float64(1), int64(1), object(18)\n",
      "memory usage: 1.1+ MB\n"
     ]
    }
   ],
   "source": [
    "df = contract.merge(personal, on='customerID', how='left', sort=False) \n",
    "df = df.merge(internet, on='customerID', how='left', sort=False)\n",
    "df = df.merge(phone, on='customerID', how='left', sort=False)\n",
    "df.info()"
   ]
  },
  {
   "cell_type": "markdown",
   "metadata": {},
   "source": [
    "Видно, что названия столбцов не приведены к нижнему регистру, а также записаны слитно. Если избавиться от заглавных букв мы можем с помощью метода `.lower()`, то со второй проблемой в любом случае придется работать вручную.\n",
    "\n",
    "Заодно изменим название столбца с телефонными услугами."
   ]
  },
  {
   "cell_type": "code",
   "execution_count": 5,
   "metadata": {},
   "outputs": [],
   "source": [
    "df.columns = ['customer_id', 'begin_date', 'end_date', 'type', 'paperless_billing', 'payment_method',      \\\n",
    "              'monthly_charges', 'total_charges', 'gender', 'senior_citizen', 'partner', 'dependents',     \\\n",
    "              'internet_service', 'online_security', 'online_backup', 'device_protection', 'tech_support', \\\n",
    "              'streaming_tv', 'streaming_movies', 'phone']"
   ]
  },
  {
   "cell_type": "markdown",
   "metadata": {},
   "source": [
    "Чтобы мы могли как-то работать с пропусками в стобце `\"phone\"` заменим значения c помощью функции `.loc[]`."
   ]
  },
  {
   "cell_type": "code",
   "execution_count": 6,
   "metadata": {},
   "outputs": [],
   "source": [
    "df.loc[(df['phone'] == 'Yes'), 'phone'] = 'Multiple lines'\n",
    "df.loc[(df['phone'] == 'No'), 'phone'] = 'One line'"
   ]
  },
  {
   "cell_type": "markdown",
   "metadata": {},
   "source": [
    "Возвращаясь к выводу, к которому мы пришли ранее, заменим пропуски в столбцах с услугами на \"No\"."
   ]
  },
  {
   "cell_type": "code",
   "execution_count": 7,
   "metadata": {},
   "outputs": [
    {
     "name": "stdout",
     "output_type": "stream",
     "text": [
      "<class 'pandas.core.frame.DataFrame'>\n",
      "Int64Index: 7043 entries, 0 to 7042\n",
      "Data columns (total 20 columns):\n",
      " #   Column             Non-Null Count  Dtype  \n",
      "---  ------             --------------  -----  \n",
      " 0   customer_id        7043 non-null   object \n",
      " 1   begin_date         7043 non-null   object \n",
      " 2   end_date           7043 non-null   object \n",
      " 3   type               7043 non-null   object \n",
      " 4   paperless_billing  7043 non-null   object \n",
      " 5   payment_method     7043 non-null   object \n",
      " 6   monthly_charges    7043 non-null   float64\n",
      " 7   total_charges      7043 non-null   object \n",
      " 8   gender             7043 non-null   object \n",
      " 9   senior_citizen     7043 non-null   int64  \n",
      " 10  partner            7043 non-null   object \n",
      " 11  dependents         7043 non-null   object \n",
      " 12  internet_service   7043 non-null   object \n",
      " 13  online_security    7043 non-null   object \n",
      " 14  online_backup      7043 non-null   object \n",
      " 15  device_protection  7043 non-null   object \n",
      " 16  tech_support       7043 non-null   object \n",
      " 17  streaming_tv       7043 non-null   object \n",
      " 18  streaming_movies   7043 non-null   object \n",
      " 19  phone              7043 non-null   object \n",
      "dtypes: float64(1), int64(1), object(18)\n",
      "memory usage: 1.1+ MB\n"
     ]
    }
   ],
   "source": [
    "df[df.columns[df.isna().any()]] = df[df.columns[df.isna().any()]].fillna('No')\n",
    "\n",
    "df.info()"
   ]
  },
  {
   "cell_type": "code",
   "execution_count": 8,
   "metadata": {},
   "outputs": [
    {
     "data": {
      "text/html": [
       "<div>\n",
       "<style scoped>\n",
       "    .dataframe tbody tr th:only-of-type {\n",
       "        vertical-align: middle;\n",
       "    }\n",
       "\n",
       "    .dataframe tbody tr th {\n",
       "        vertical-align: top;\n",
       "    }\n",
       "\n",
       "    .dataframe thead th {\n",
       "        text-align: right;\n",
       "    }\n",
       "</style>\n",
       "<table border=\"1\" class=\"dataframe\">\n",
       "  <thead>\n",
       "    <tr style=\"text-align: right;\">\n",
       "      <th></th>\n",
       "      <th>customer_id</th>\n",
       "      <th>begin_date</th>\n",
       "      <th>end_date</th>\n",
       "      <th>type</th>\n",
       "      <th>paperless_billing</th>\n",
       "      <th>payment_method</th>\n",
       "      <th>monthly_charges</th>\n",
       "      <th>total_charges</th>\n",
       "      <th>gender</th>\n",
       "      <th>senior_citizen</th>\n",
       "      <th>partner</th>\n",
       "      <th>dependents</th>\n",
       "      <th>internet_service</th>\n",
       "      <th>online_security</th>\n",
       "      <th>online_backup</th>\n",
       "      <th>device_protection</th>\n",
       "      <th>tech_support</th>\n",
       "      <th>streaming_tv</th>\n",
       "      <th>streaming_movies</th>\n",
       "      <th>phone</th>\n",
       "    </tr>\n",
       "  </thead>\n",
       "  <tbody>\n",
       "    <tr>\n",
       "      <th>0</th>\n",
       "      <td>7590-VHVEG</td>\n",
       "      <td>2020-01-01</td>\n",
       "      <td>No</td>\n",
       "      <td>Month-to-month</td>\n",
       "      <td>Yes</td>\n",
       "      <td>Electronic check</td>\n",
       "      <td>29.85</td>\n",
       "      <td>29.85</td>\n",
       "      <td>Female</td>\n",
       "      <td>0</td>\n",
       "      <td>Yes</td>\n",
       "      <td>No</td>\n",
       "      <td>DSL</td>\n",
       "      <td>No</td>\n",
       "      <td>Yes</td>\n",
       "      <td>No</td>\n",
       "      <td>No</td>\n",
       "      <td>No</td>\n",
       "      <td>No</td>\n",
       "      <td>No</td>\n",
       "    </tr>\n",
       "    <tr>\n",
       "      <th>1</th>\n",
       "      <td>5575-GNVDE</td>\n",
       "      <td>2017-04-01</td>\n",
       "      <td>No</td>\n",
       "      <td>One year</td>\n",
       "      <td>No</td>\n",
       "      <td>Mailed check</td>\n",
       "      <td>56.95</td>\n",
       "      <td>1889.5</td>\n",
       "      <td>Male</td>\n",
       "      <td>0</td>\n",
       "      <td>No</td>\n",
       "      <td>No</td>\n",
       "      <td>DSL</td>\n",
       "      <td>Yes</td>\n",
       "      <td>No</td>\n",
       "      <td>Yes</td>\n",
       "      <td>No</td>\n",
       "      <td>No</td>\n",
       "      <td>No</td>\n",
       "      <td>One line</td>\n",
       "    </tr>\n",
       "    <tr>\n",
       "      <th>2</th>\n",
       "      <td>3668-QPYBK</td>\n",
       "      <td>2019-10-01</td>\n",
       "      <td>2019-12-01 00:00:00</td>\n",
       "      <td>Month-to-month</td>\n",
       "      <td>Yes</td>\n",
       "      <td>Mailed check</td>\n",
       "      <td>53.85</td>\n",
       "      <td>108.15</td>\n",
       "      <td>Male</td>\n",
       "      <td>0</td>\n",
       "      <td>No</td>\n",
       "      <td>No</td>\n",
       "      <td>DSL</td>\n",
       "      <td>Yes</td>\n",
       "      <td>Yes</td>\n",
       "      <td>No</td>\n",
       "      <td>No</td>\n",
       "      <td>No</td>\n",
       "      <td>No</td>\n",
       "      <td>One line</td>\n",
       "    </tr>\n",
       "    <tr>\n",
       "      <th>3</th>\n",
       "      <td>7795-CFOCW</td>\n",
       "      <td>2016-05-01</td>\n",
       "      <td>No</td>\n",
       "      <td>One year</td>\n",
       "      <td>No</td>\n",
       "      <td>Bank transfer (automatic)</td>\n",
       "      <td>42.30</td>\n",
       "      <td>1840.75</td>\n",
       "      <td>Male</td>\n",
       "      <td>0</td>\n",
       "      <td>No</td>\n",
       "      <td>No</td>\n",
       "      <td>DSL</td>\n",
       "      <td>Yes</td>\n",
       "      <td>No</td>\n",
       "      <td>Yes</td>\n",
       "      <td>Yes</td>\n",
       "      <td>No</td>\n",
       "      <td>No</td>\n",
       "      <td>No</td>\n",
       "    </tr>\n",
       "    <tr>\n",
       "      <th>4</th>\n",
       "      <td>9237-HQITU</td>\n",
       "      <td>2019-09-01</td>\n",
       "      <td>2019-11-01 00:00:00</td>\n",
       "      <td>Month-to-month</td>\n",
       "      <td>Yes</td>\n",
       "      <td>Electronic check</td>\n",
       "      <td>70.70</td>\n",
       "      <td>151.65</td>\n",
       "      <td>Female</td>\n",
       "      <td>0</td>\n",
       "      <td>No</td>\n",
       "      <td>No</td>\n",
       "      <td>Fiber optic</td>\n",
       "      <td>No</td>\n",
       "      <td>No</td>\n",
       "      <td>No</td>\n",
       "      <td>No</td>\n",
       "      <td>No</td>\n",
       "      <td>No</td>\n",
       "      <td>One line</td>\n",
       "    </tr>\n",
       "  </tbody>\n",
       "</table>\n",
       "</div>"
      ],
      "text/plain": [
       "  customer_id  begin_date             end_date            type  \\\n",
       "0  7590-VHVEG  2020-01-01                   No  Month-to-month   \n",
       "1  5575-GNVDE  2017-04-01                   No        One year   \n",
       "2  3668-QPYBK  2019-10-01  2019-12-01 00:00:00  Month-to-month   \n",
       "3  7795-CFOCW  2016-05-01                   No        One year   \n",
       "4  9237-HQITU  2019-09-01  2019-11-01 00:00:00  Month-to-month   \n",
       "\n",
       "  paperless_billing             payment_method  monthly_charges total_charges  \\\n",
       "0               Yes           Electronic check            29.85         29.85   \n",
       "1                No               Mailed check            56.95        1889.5   \n",
       "2               Yes               Mailed check            53.85        108.15   \n",
       "3                No  Bank transfer (automatic)            42.30       1840.75   \n",
       "4               Yes           Electronic check            70.70        151.65   \n",
       "\n",
       "   gender  senior_citizen partner dependents internet_service online_security  \\\n",
       "0  Female               0     Yes         No              DSL              No   \n",
       "1    Male               0      No         No              DSL             Yes   \n",
       "2    Male               0      No         No              DSL             Yes   \n",
       "3    Male               0      No         No              DSL             Yes   \n",
       "4  Female               0      No         No      Fiber optic              No   \n",
       "\n",
       "  online_backup device_protection tech_support streaming_tv streaming_movies  \\\n",
       "0           Yes                No           No           No               No   \n",
       "1            No               Yes           No           No               No   \n",
       "2           Yes                No           No           No               No   \n",
       "3            No               Yes          Yes           No               No   \n",
       "4            No                No           No           No               No   \n",
       "\n",
       "      phone  \n",
       "0        No  \n",
       "1  One line  \n",
       "2  One line  \n",
       "3        No  \n",
       "4  One line  "
      ]
     },
     "execution_count": 8,
     "metadata": {},
     "output_type": "execute_result"
    }
   ],
   "source": [
    "df.head()"
   ]
  },
  {
   "cell_type": "markdown",
   "metadata": {},
   "source": [
    "Дальнейший план проекта:\n",
    "\n",
    "- Загрузка и предобработка. Определить целевой признак, посмотреть его отношение к остальным. Преобразовать два столбца с датами в один с количеством дней пользования услугами Телекома.\n",
    "- Исследование (EDA). Посмотреть на отношение целевого признака к остальным, убрать неифнормативные столбцы из выборки.\n",
    "- Моделирование. Разбить выборку на train, valid, test. Учитывая, что 88% нашего датасета - категориальные значения, лучшим решением будет выбрать бустинговые модели. \n",
    "- Тестирование. С помощью GridSearch подобрать лучшие параметры для моделей и выявить лучшую для дальнейшего тестирования.\n",
    "- Подготовка отчета. Сделать выводы на основе полученных результатов."
   ]
  },
  {
   "cell_type": "markdown",
   "metadata": {},
   "source": [
    "## Подготовка признаков"
   ]
  },
  {
   "cell_type": "code",
   "execution_count": 9,
   "metadata": {},
   "outputs": [
    {
     "name": "stdout",
     "output_type": "stream",
     "text": [
      "Collecting phik==0.10.0\n",
      "  Downloading phik-0.10.0-py3-none-any.whl (599 kB)\n",
      "\u001b[K     |████████████████████████████████| 599 kB 2.5 MB/s eta 0:00:01\n",
      "\u001b[?25hRequirement already satisfied: matplotlib>=2.2.3 in /opt/conda/lib/python3.9/site-packages (from phik==0.10.0) (3.3.4)\n",
      "Requirement already satisfied: numpy>=1.15.4 in /opt/conda/lib/python3.9/site-packages (from phik==0.10.0) (1.21.1)\n",
      "Requirement already satisfied: joblib>=0.14.1 in /opt/conda/lib/python3.9/site-packages (from phik==0.10.0) (1.1.0)\n",
      "Requirement already satisfied: numba>=0.38.1 in /opt/conda/lib/python3.9/site-packages (from phik==0.10.0) (0.56.0)\n",
      "Requirement already satisfied: scipy>=1.1.0 in /opt/conda/lib/python3.9/site-packages (from phik==0.10.0) (1.9.1)\n",
      "Requirement already satisfied: pandas>=0.23.4 in /opt/conda/lib/python3.9/site-packages (from phik==0.10.0) (1.2.4)\n",
      "Requirement already satisfied: cycler>=0.10 in /opt/conda/lib/python3.9/site-packages (from matplotlib>=2.2.3->phik==0.10.0) (0.11.0)\n",
      "Requirement already satisfied: python-dateutil>=2.1 in /opt/conda/lib/python3.9/site-packages (from matplotlib>=2.2.3->phik==0.10.0) (2.8.1)\n",
      "Requirement already satisfied: pyparsing!=2.0.4,!=2.1.2,!=2.1.6,>=2.0.3 in /opt/conda/lib/python3.9/site-packages (from matplotlib>=2.2.3->phik==0.10.0) (2.4.7)\n",
      "Requirement already satisfied: pillow>=6.2.0 in /opt/conda/lib/python3.9/site-packages (from matplotlib>=2.2.3->phik==0.10.0) (8.4.0)\n",
      "Requirement already satisfied: kiwisolver>=1.0.1 in /opt/conda/lib/python3.9/site-packages (from matplotlib>=2.2.3->phik==0.10.0) (1.4.4)\n",
      "Requirement already satisfied: setuptools in /opt/conda/lib/python3.9/site-packages (from numba>=0.38.1->phik==0.10.0) (49.6.0.post20210108)\n",
      "Requirement already satisfied: llvmlite<0.40,>=0.39.0dev0 in /opt/conda/lib/python3.9/site-packages (from numba>=0.38.1->phik==0.10.0) (0.39.0)\n",
      "Requirement already satisfied: pytz>=2017.3 in /opt/conda/lib/python3.9/site-packages (from pandas>=0.23.4->phik==0.10.0) (2021.1)\n",
      "Requirement already satisfied: six>=1.5 in /opt/conda/lib/python3.9/site-packages (from python-dateutil>=2.1->matplotlib>=2.2.3->phik==0.10.0) (1.16.0)\n",
      "Installing collected packages: phik\n",
      "Successfully installed phik-0.10.0\n"
     ]
    }
   ],
   "source": [
    "! pip install phik==0.10.0\n",
    "\n",
    "from catboost import CatBoostClassifier\n",
    "import lightgbm as lgb\n",
    "\n",
    "from sklearn.dummy import DummyClassifier\n",
    "\n",
    "from sklearn.metrics import accuracy_score \n",
    "from sklearn.metrics import roc_auc_score\n",
    "\n",
    "from sklearn.model_selection import GridSearchCV\n",
    "from sklearn.model_selection import train_test_split\n",
    "\n",
    "from sklearn.preprocessing import LabelEncoder\n",
    "\n",
    "from datetime import datetime\n",
    "\n",
    "import phik\n",
    "import seaborn as sns"
   ]
  },
  {
   "cell_type": "markdown",
   "metadata": {},
   "source": [
    "Для начала преобразуем столбцы с датами. Один будет показывать продолжительность пользования услугами - `'time_of_use'`, а второй факт ухода - `'target'`.\n",
    "\n",
    "Чтобы получить количество дней приведем столбцы к типу datetime."
   ]
  },
  {
   "cell_type": "code",
   "execution_count": 10,
   "metadata": {},
   "outputs": [
    {
     "data": {
      "text/html": [
       "<div>\n",
       "<style scoped>\n",
       "    .dataframe tbody tr th:only-of-type {\n",
       "        vertical-align: middle;\n",
       "    }\n",
       "\n",
       "    .dataframe tbody tr th {\n",
       "        vertical-align: top;\n",
       "    }\n",
       "\n",
       "    .dataframe thead th {\n",
       "        text-align: right;\n",
       "    }\n",
       "</style>\n",
       "<table border=\"1\" class=\"dataframe\">\n",
       "  <thead>\n",
       "    <tr style=\"text-align: right;\">\n",
       "      <th></th>\n",
       "      <th>customer_id</th>\n",
       "      <th>type</th>\n",
       "      <th>paperless_billing</th>\n",
       "      <th>payment_method</th>\n",
       "      <th>monthly_charges</th>\n",
       "      <th>total_charges</th>\n",
       "      <th>gender</th>\n",
       "      <th>senior_citizen</th>\n",
       "      <th>partner</th>\n",
       "      <th>dependents</th>\n",
       "      <th>internet_service</th>\n",
       "      <th>online_security</th>\n",
       "      <th>online_backup</th>\n",
       "      <th>device_protection</th>\n",
       "      <th>tech_support</th>\n",
       "      <th>streaming_tv</th>\n",
       "      <th>streaming_movies</th>\n",
       "      <th>phone</th>\n",
       "      <th>target</th>\n",
       "      <th>time_of_use</th>\n",
       "    </tr>\n",
       "  </thead>\n",
       "  <tbody>\n",
       "    <tr>\n",
       "      <th>0</th>\n",
       "      <td>7590-VHVEG</td>\n",
       "      <td>Month-to-month</td>\n",
       "      <td>Yes</td>\n",
       "      <td>Electronic check</td>\n",
       "      <td>29.85</td>\n",
       "      <td>29.85</td>\n",
       "      <td>Female</td>\n",
       "      <td>0</td>\n",
       "      <td>Yes</td>\n",
       "      <td>No</td>\n",
       "      <td>DSL</td>\n",
       "      <td>No</td>\n",
       "      <td>Yes</td>\n",
       "      <td>No</td>\n",
       "      <td>No</td>\n",
       "      <td>No</td>\n",
       "      <td>No</td>\n",
       "      <td>No</td>\n",
       "      <td>0</td>\n",
       "      <td>31</td>\n",
       "    </tr>\n",
       "    <tr>\n",
       "      <th>1</th>\n",
       "      <td>5575-GNVDE</td>\n",
       "      <td>One year</td>\n",
       "      <td>No</td>\n",
       "      <td>Mailed check</td>\n",
       "      <td>56.95</td>\n",
       "      <td>1889.5</td>\n",
       "      <td>Male</td>\n",
       "      <td>0</td>\n",
       "      <td>No</td>\n",
       "      <td>No</td>\n",
       "      <td>DSL</td>\n",
       "      <td>Yes</td>\n",
       "      <td>No</td>\n",
       "      <td>Yes</td>\n",
       "      <td>No</td>\n",
       "      <td>No</td>\n",
       "      <td>No</td>\n",
       "      <td>One line</td>\n",
       "      <td>0</td>\n",
       "      <td>1036</td>\n",
       "    </tr>\n",
       "    <tr>\n",
       "      <th>2</th>\n",
       "      <td>3668-QPYBK</td>\n",
       "      <td>Month-to-month</td>\n",
       "      <td>Yes</td>\n",
       "      <td>Mailed check</td>\n",
       "      <td>53.85</td>\n",
       "      <td>108.15</td>\n",
       "      <td>Male</td>\n",
       "      <td>0</td>\n",
       "      <td>No</td>\n",
       "      <td>No</td>\n",
       "      <td>DSL</td>\n",
       "      <td>Yes</td>\n",
       "      <td>Yes</td>\n",
       "      <td>No</td>\n",
       "      <td>No</td>\n",
       "      <td>No</td>\n",
       "      <td>No</td>\n",
       "      <td>One line</td>\n",
       "      <td>1</td>\n",
       "      <td>61</td>\n",
       "    </tr>\n",
       "    <tr>\n",
       "      <th>3</th>\n",
       "      <td>7795-CFOCW</td>\n",
       "      <td>One year</td>\n",
       "      <td>No</td>\n",
       "      <td>Bank transfer (automatic)</td>\n",
       "      <td>42.30</td>\n",
       "      <td>1840.75</td>\n",
       "      <td>Male</td>\n",
       "      <td>0</td>\n",
       "      <td>No</td>\n",
       "      <td>No</td>\n",
       "      <td>DSL</td>\n",
       "      <td>Yes</td>\n",
       "      <td>No</td>\n",
       "      <td>Yes</td>\n",
       "      <td>Yes</td>\n",
       "      <td>No</td>\n",
       "      <td>No</td>\n",
       "      <td>No</td>\n",
       "      <td>0</td>\n",
       "      <td>1371</td>\n",
       "    </tr>\n",
       "    <tr>\n",
       "      <th>4</th>\n",
       "      <td>9237-HQITU</td>\n",
       "      <td>Month-to-month</td>\n",
       "      <td>Yes</td>\n",
       "      <td>Electronic check</td>\n",
       "      <td>70.70</td>\n",
       "      <td>151.65</td>\n",
       "      <td>Female</td>\n",
       "      <td>0</td>\n",
       "      <td>No</td>\n",
       "      <td>No</td>\n",
       "      <td>Fiber optic</td>\n",
       "      <td>No</td>\n",
       "      <td>No</td>\n",
       "      <td>No</td>\n",
       "      <td>No</td>\n",
       "      <td>No</td>\n",
       "      <td>No</td>\n",
       "      <td>One line</td>\n",
       "      <td>1</td>\n",
       "      <td>61</td>\n",
       "    </tr>\n",
       "    <tr>\n",
       "      <th>...</th>\n",
       "      <td>...</td>\n",
       "      <td>...</td>\n",
       "      <td>...</td>\n",
       "      <td>...</td>\n",
       "      <td>...</td>\n",
       "      <td>...</td>\n",
       "      <td>...</td>\n",
       "      <td>...</td>\n",
       "      <td>...</td>\n",
       "      <td>...</td>\n",
       "      <td>...</td>\n",
       "      <td>...</td>\n",
       "      <td>...</td>\n",
       "      <td>...</td>\n",
       "      <td>...</td>\n",
       "      <td>...</td>\n",
       "      <td>...</td>\n",
       "      <td>...</td>\n",
       "      <td>...</td>\n",
       "      <td>...</td>\n",
       "    </tr>\n",
       "    <tr>\n",
       "      <th>7038</th>\n",
       "      <td>6840-RESVB</td>\n",
       "      <td>One year</td>\n",
       "      <td>Yes</td>\n",
       "      <td>Mailed check</td>\n",
       "      <td>84.80</td>\n",
       "      <td>1990.5</td>\n",
       "      <td>Male</td>\n",
       "      <td>0</td>\n",
       "      <td>Yes</td>\n",
       "      <td>Yes</td>\n",
       "      <td>DSL</td>\n",
       "      <td>Yes</td>\n",
       "      <td>No</td>\n",
       "      <td>Yes</td>\n",
       "      <td>Yes</td>\n",
       "      <td>Yes</td>\n",
       "      <td>Yes</td>\n",
       "      <td>Multiple lines</td>\n",
       "      <td>0</td>\n",
       "      <td>730</td>\n",
       "    </tr>\n",
       "    <tr>\n",
       "      <th>7039</th>\n",
       "      <td>2234-XADUH</td>\n",
       "      <td>One year</td>\n",
       "      <td>Yes</td>\n",
       "      <td>Credit card (automatic)</td>\n",
       "      <td>103.20</td>\n",
       "      <td>7362.9</td>\n",
       "      <td>Female</td>\n",
       "      <td>0</td>\n",
       "      <td>Yes</td>\n",
       "      <td>Yes</td>\n",
       "      <td>Fiber optic</td>\n",
       "      <td>No</td>\n",
       "      <td>Yes</td>\n",
       "      <td>Yes</td>\n",
       "      <td>No</td>\n",
       "      <td>Yes</td>\n",
       "      <td>Yes</td>\n",
       "      <td>Multiple lines</td>\n",
       "      <td>0</td>\n",
       "      <td>2191</td>\n",
       "    </tr>\n",
       "    <tr>\n",
       "      <th>7040</th>\n",
       "      <td>4801-JZAZL</td>\n",
       "      <td>Month-to-month</td>\n",
       "      <td>Yes</td>\n",
       "      <td>Electronic check</td>\n",
       "      <td>29.60</td>\n",
       "      <td>346.45</td>\n",
       "      <td>Female</td>\n",
       "      <td>0</td>\n",
       "      <td>Yes</td>\n",
       "      <td>Yes</td>\n",
       "      <td>DSL</td>\n",
       "      <td>Yes</td>\n",
       "      <td>No</td>\n",
       "      <td>No</td>\n",
       "      <td>No</td>\n",
       "      <td>No</td>\n",
       "      <td>No</td>\n",
       "      <td>No</td>\n",
       "      <td>0</td>\n",
       "      <td>337</td>\n",
       "    </tr>\n",
       "    <tr>\n",
       "      <th>7041</th>\n",
       "      <td>8361-LTMKD</td>\n",
       "      <td>Month-to-month</td>\n",
       "      <td>Yes</td>\n",
       "      <td>Mailed check</td>\n",
       "      <td>74.40</td>\n",
       "      <td>306.6</td>\n",
       "      <td>Male</td>\n",
       "      <td>1</td>\n",
       "      <td>Yes</td>\n",
       "      <td>No</td>\n",
       "      <td>Fiber optic</td>\n",
       "      <td>No</td>\n",
       "      <td>No</td>\n",
       "      <td>No</td>\n",
       "      <td>No</td>\n",
       "      <td>No</td>\n",
       "      <td>No</td>\n",
       "      <td>Multiple lines</td>\n",
       "      <td>1</td>\n",
       "      <td>123</td>\n",
       "    </tr>\n",
       "    <tr>\n",
       "      <th>7042</th>\n",
       "      <td>3186-AJIEK</td>\n",
       "      <td>Two year</td>\n",
       "      <td>Yes</td>\n",
       "      <td>Bank transfer (automatic)</td>\n",
       "      <td>105.65</td>\n",
       "      <td>6844.5</td>\n",
       "      <td>Male</td>\n",
       "      <td>0</td>\n",
       "      <td>No</td>\n",
       "      <td>No</td>\n",
       "      <td>Fiber optic</td>\n",
       "      <td>Yes</td>\n",
       "      <td>No</td>\n",
       "      <td>Yes</td>\n",
       "      <td>Yes</td>\n",
       "      <td>Yes</td>\n",
       "      <td>Yes</td>\n",
       "      <td>One line</td>\n",
       "      <td>0</td>\n",
       "      <td>2010</td>\n",
       "    </tr>\n",
       "  </tbody>\n",
       "</table>\n",
       "<p>7043 rows × 20 columns</p>\n",
       "</div>"
      ],
      "text/plain": [
       "     customer_id            type paperless_billing             payment_method  \\\n",
       "0     7590-VHVEG  Month-to-month               Yes           Electronic check   \n",
       "1     5575-GNVDE        One year                No               Mailed check   \n",
       "2     3668-QPYBK  Month-to-month               Yes               Mailed check   \n",
       "3     7795-CFOCW        One year                No  Bank transfer (automatic)   \n",
       "4     9237-HQITU  Month-to-month               Yes           Electronic check   \n",
       "...          ...             ...               ...                        ...   \n",
       "7038  6840-RESVB        One year               Yes               Mailed check   \n",
       "7039  2234-XADUH        One year               Yes    Credit card (automatic)   \n",
       "7040  4801-JZAZL  Month-to-month               Yes           Electronic check   \n",
       "7041  8361-LTMKD  Month-to-month               Yes               Mailed check   \n",
       "7042  3186-AJIEK        Two year               Yes  Bank transfer (automatic)   \n",
       "\n",
       "      monthly_charges total_charges  gender  senior_citizen partner  \\\n",
       "0               29.85         29.85  Female               0     Yes   \n",
       "1               56.95        1889.5    Male               0      No   \n",
       "2               53.85        108.15    Male               0      No   \n",
       "3               42.30       1840.75    Male               0      No   \n",
       "4               70.70        151.65  Female               0      No   \n",
       "...               ...           ...     ...             ...     ...   \n",
       "7038            84.80        1990.5    Male               0     Yes   \n",
       "7039           103.20        7362.9  Female               0     Yes   \n",
       "7040            29.60        346.45  Female               0     Yes   \n",
       "7041            74.40         306.6    Male               1     Yes   \n",
       "7042           105.65        6844.5    Male               0      No   \n",
       "\n",
       "     dependents internet_service online_security online_backup  \\\n",
       "0            No              DSL              No           Yes   \n",
       "1            No              DSL             Yes            No   \n",
       "2            No              DSL             Yes           Yes   \n",
       "3            No              DSL             Yes            No   \n",
       "4            No      Fiber optic              No            No   \n",
       "...         ...              ...             ...           ...   \n",
       "7038        Yes              DSL             Yes            No   \n",
       "7039        Yes      Fiber optic              No           Yes   \n",
       "7040        Yes              DSL             Yes            No   \n",
       "7041         No      Fiber optic              No            No   \n",
       "7042         No      Fiber optic             Yes            No   \n",
       "\n",
       "     device_protection tech_support streaming_tv streaming_movies  \\\n",
       "0                   No           No           No               No   \n",
       "1                  Yes           No           No               No   \n",
       "2                   No           No           No               No   \n",
       "3                  Yes          Yes           No               No   \n",
       "4                   No           No           No               No   \n",
       "...                ...          ...          ...              ...   \n",
       "7038               Yes          Yes          Yes              Yes   \n",
       "7039               Yes           No          Yes              Yes   \n",
       "7040                No           No           No               No   \n",
       "7041                No           No           No               No   \n",
       "7042               Yes          Yes          Yes              Yes   \n",
       "\n",
       "               phone  target  time_of_use  \n",
       "0                 No       0           31  \n",
       "1           One line       0         1036  \n",
       "2           One line       1           61  \n",
       "3                 No       0         1371  \n",
       "4           One line       1           61  \n",
       "...              ...     ...          ...  \n",
       "7038  Multiple lines       0          730  \n",
       "7039  Multiple lines       0         2191  \n",
       "7040              No       0          337  \n",
       "7041  Multiple lines       1          123  \n",
       "7042        One line       0         2010  \n",
       "\n",
       "[7043 rows x 20 columns]"
      ]
     },
     "execution_count": 10,
     "metadata": {},
     "output_type": "execute_result"
    }
   ],
   "source": [
    "df['target'] = df['end_date'].apply(lambda x: 0 if x=='No' else 1)\n",
    "\n",
    "df.loc[(df['end_date'] == 'No'), 'end_date'] = '2020-02-01 00:00:00'\n",
    "df['begin_date'] = df['begin_date'].apply(lambda x: datetime.strptime(x, '%Y-%m-%d'))\n",
    "df['end_date'] = df['end_date'].apply(lambda x: datetime.strptime(x, '%Y-%m-%d %H:%M:%S'))\n",
    "df['time_of_use'] = (df['end_date'] - df['begin_date']).dt.days\n",
    "\n",
    "df = df.drop(['begin_date', 'end_date'], axis=1)\n",
    "df"
   ]
  },
  {
   "cell_type": "markdown",
   "metadata": {},
   "source": [
    "Для удобства преобразуем столбец с суммой выплат и назначим id пользователя индексом."
   ]
  },
  {
   "cell_type": "code",
   "execution_count": 11,
   "metadata": {},
   "outputs": [
    {
     "name": "stdout",
     "output_type": "stream",
     "text": [
      "<class 'pandas.core.frame.DataFrame'>\n",
      "Index: 7043 entries, 7590-VHVEG to 3186-AJIEK\n",
      "Data columns (total 19 columns):\n",
      " #   Column             Non-Null Count  Dtype  \n",
      "---  ------             --------------  -----  \n",
      " 0   type               7043 non-null   object \n",
      " 1   paperless_billing  7043 non-null   object \n",
      " 2   payment_method     7043 non-null   object \n",
      " 3   monthly_charges    7043 non-null   float64\n",
      " 4   total_charges      7043 non-null   float64\n",
      " 5   gender             7043 non-null   object \n",
      " 6   senior_citizen     7043 non-null   int64  \n",
      " 7   partner            7043 non-null   object \n",
      " 8   dependents         7043 non-null   object \n",
      " 9   internet_service   7043 non-null   object \n",
      " 10  online_security    7043 non-null   object \n",
      " 11  online_backup      7043 non-null   object \n",
      " 12  device_protection  7043 non-null   object \n",
      " 13  tech_support       7043 non-null   object \n",
      " 14  streaming_tv       7043 non-null   object \n",
      " 15  streaming_movies   7043 non-null   object \n",
      " 16  phone              7043 non-null   object \n",
      " 17  target             7043 non-null   int64  \n",
      " 18  time_of_use        7043 non-null   int64  \n",
      "dtypes: float64(2), int64(3), object(14)\n",
      "memory usage: 1.1+ MB\n"
     ]
    }
   ],
   "source": [
    "df.loc[(df['total_charges'] == ' '), ['total_charges']] = '0'\n",
    "df['total_charges'] = df['total_charges'].astype('float')\n",
    "\n",
    "df = df.set_index('customer_id')\n",
    "df.info()"
   ]
  },
  {
   "cell_type": "markdown",
   "metadata": {},
   "source": [
    "Так признаки подготовлены, осталось проверить как они кореллируют с нашим таргетом, так как большинство из них категориальные воспользуемся методом `.phik()`."
   ]
  },
  {
   "cell_type": "code",
   "execution_count": 13,
   "metadata": {},
   "outputs": [
    {
     "name": "stdout",
     "output_type": "stream",
     "text": [
      "interval columns not set, guessing: ['monthly_charges', 'total_charges', 'senior_citizen', 'target', 'time_of_use']\n"
     ]
    },
    {
     "data": {
      "text/plain": [
       "<AxesSubplot:>"
      ]
     },
     "execution_count": 13,
     "metadata": {},
     "output_type": "execute_result"
    },
    {
     "data": {
      "image/png": "[encoded data removed]",
      "text/plain": [
       "<Figure size 432x288 with 2 Axes>"
      ]
     },
     "metadata": {
      "needs_background": "light"
     },
     "output_type": "display_data"
    }
   ],
   "source": [
    "matrix = df.phik_matrix()\n",
    "\n",
    "sns.heatmap(matrix)"
   ]
  },
  {
   "cell_type": "code",
   "execution_count": 14,
   "metadata": {},
   "outputs": [
    {
     "data": {
      "text/plain": [
       "gender               0.000000\n",
       "phone                0.021922\n",
       "streaming_movies     0.093923\n",
       "streaming_tv         0.096865\n",
       "device_protection    0.101516\n",
       "online_backup        0.126973\n",
       "internet_service     0.196202\n",
       "partner              0.232930\n",
       "senior_citizen       0.233432\n",
       "type                 0.251639\n",
       "dependents           0.253936\n",
       "tech_support         0.254615\n",
       "online_security      0.264580\n",
       "total_charges        0.278498\n",
       "paperless_billing    0.295754\n",
       "monthly_charges      0.360050\n",
       "payment_method       0.449125\n",
       "time_of_use          0.474001\n",
       "target               1.000000\n",
       "Name: target, dtype: float64"
      ]
     },
     "execution_count": 14,
     "metadata": {},
     "output_type": "execute_result"
    }
   ],
   "source": [
    "matrix['target'].sort_values()"
   ]
  },
  {
   "cell_type": "markdown",
   "metadata": {},
   "source": [
    "Удалим, из датасета столбцы, от которых никак не зависит целевой признак - `'gender'`, `'phone'`."
   ]
  },
  {
   "cell_type": "code",
   "execution_count": 15,
   "metadata": {},
   "outputs": [],
   "source": [
    "df = df.drop(['gender', 'phone'], axis=1).copy()"
   ]
  },
  {
   "cell_type": "markdown",
   "metadata": {},
   "source": [
    "Наибольшей зависимостью к целевому признаку обладают `'monthly_charges'`, `'payment_method'`, `'time_of_use'`. Посмотрим как именно они зависят, построим графики. Гистограмму для ежемесячного платежа и времени использования услугами и барплот для платежного метода. "
   ]
  },
  {
   "cell_type": "code",
   "execution_count": 16,
   "metadata": {},
   "outputs": [
    {
     "data": {
      "image/png": "[encoded data removed]",
      "text/plain": [
       "<Figure size 432x288 with 1 Axes>"
      ]
     },
     "metadata": {
      "needs_background": "light"
     },
     "output_type": "display_data"
    }
   ],
   "source": [
    "sns.barplot(data=df, x=\"target\", y=\"payment_method\")\\\n",
    "   .set(xlabel='Среднее значение таргета',\n",
    "        ylabel='Способ оплаты');"
   ]
  },
  {
   "cell_type": "code",
   "execution_count": 17,
   "metadata": {},
   "outputs": [
    {
     "data": {
      "image/png": "[encoded data removed]",
      "text/plain": [
       "<Figure size 720x360 with 2 Axes>"
      ]
     },
     "metadata": {
      "needs_background": "light"
     },
     "output_type": "display_data"
    }
   ],
   "source": [
    "sns.displot(data=df, x=\"monthly_charges\", col=\"target\", kde=True)\\\n",
    "   .set(xlabel='Ежемесячный платеж',\n",
    "        ylabel='Количество');"
   ]
  },
  {
   "cell_type": "code",
   "execution_count": 18,
   "metadata": {},
   "outputs": [
    {
     "data": {
      "image/png": "[encoded data removed]",
      "text/plain": [
       "<Figure size 720x360 with 2 Axes>"
      ]
     },
     "metadata": {
      "needs_background": "light"
     },
     "output_type": "display_data"
    }
   ],
   "source": [
    "sns.displot(data=df, x=\"time_of_use\", col=\"target\", kde=True)\\\n",
    "   .set(xlabel='Время использования',\n",
    "        ylabel='Количество');"
   ]
  },
  {
   "cell_type": "markdown",
   "metadata": {},
   "source": [
    "Составим небольшой портрет типичного \"перебежчика\" - вероятнее всего это будет человек, который одновременно выбирает НЕ самый дешевый тариф, пользуется услугами менее 5 месяцев и...пользуется электронными чеками. \n",
    "\n",
    "Можно сделать определенные выводы: особое внимание стоит уделять клиентам, изначально выбирающим дорогие тарифы, постоянщики соответственно более верны. Также видимо необходимо запретить электронные чеки, по крайней мере выяснить, не совпадение ли это."
   ]
  },
  {
   "cell_type": "markdown",
   "metadata": {},
   "source": [
    "Изменим тип неколичественных столбцов на категориальные, чтобы в дальнейшем явно передавать их моделям."
   ]
  },
  {
   "cell_type": "code",
   "execution_count": 19,
   "metadata": {},
   "outputs": [],
   "source": [
    "cat_features = ['type',  'paperless_billing', 'payment_method', 'partner', 'dependents', 'internet_service', \n",
    "                'online_security', 'online_backup', 'device_protection', 'tech_support', 'streaming_tv', 'streaming_movies']\n",
    "for x in cat_features:\n",
    "    df[x] = df[x].astype('category')"
   ]
  },
  {
   "cell_type": "markdown",
   "metadata": {},
   "source": [
    "Разделим нашу выборку на тренировочную и тестовую, заодно посмотрим на отношение целевого признака."
   ]
  },
  {
   "cell_type": "code",
   "execution_count": 20,
   "metadata": {},
   "outputs": [
    {
     "data": {
      "text/plain": [
       "0.2653698707936959"
      ]
     },
     "execution_count": 20,
     "metadata": {},
     "output_type": "execute_result"
    }
   ],
   "source": [
    "features = df.drop('target', axis=1)\n",
    "target= df['target']\n",
    "\n",
    "features_train, features_test, target_train, target_test = train_test_split(\n",
    "    features, target, test_size=.25, random_state=311022)\n",
    "\n",
    "target.mean()"
   ]
  },
  {
   "cell_type": "markdown",
   "metadata": {},
   "source": [
    "Более чем каждый четвертый, на мой взгляд это много, за этим мы и здесь, так как признак распределен неравномерно, а применять балансировку мы не имеем права ведь данные должны быть максимально близкими к реальным, будем оценивать успех модели с помощью метрики ROC-AUC, в ней каждому классу задается свой вес."
   ]
  },
  {
   "cell_type": "markdown",
   "metadata": {},
   "source": [
    "## Обучение моделей"
   ]
  },
  {
   "cell_type": "markdown",
   "metadata": {},
   "source": [
    "### LightGBM"
   ]
  },
  {
   "cell_type": "markdown",
   "metadata": {},
   "source": [
    "Первой обучим модель LightGBM, с помощью GridSearch подберем гиперпараметры, выведем на экран лучшую модель и результат метрики."
   ]
  },
  {
   "cell_type": "code",
   "execution_count": 32,
   "metadata": {
    "scrolled": true
   },
   "outputs": [
    {
     "name": "stdout",
     "output_type": "stream",
     "text": [
      "{'boosting_type': 'gbdt', 'max_depth': -1, 'n_estimators': 200, 'num_leaves': 40, 'objective': 'binary'}\n",
      "0.8891522121230672\n"
     ]
    }
   ],
   "source": [
    "model = lgb.LGBMClassifier() \n",
    "parametrs = {'boosting_type': ['gbdt'],  \n",
    "             'objective'    : ['binary'],\n",
    "             'num_leaves'   : [30, 40, 50],   \n",
    "             'max_depth'    : [-1],\n",
    "             'n_estimators' : [100, 200]}\n",
    "\n",
    "grid = GridSearchCV(estimator = model, param_grid = parametrs, scoring='roc_auc', n_jobs=-1)\n",
    "grid.fit(features_train, target_train, categorical_feature = 'auto')\n",
    "print(grid.best_params_)\n",
    "lgbm = grid.best_score_\n",
    "print(lgbm)"
   ]
  },
  {
   "cell_type": "code",
   "execution_count": 33,
   "metadata": {},
   "outputs": [
    {
     "data": {
      "text/plain": [
       "0.979742521772056"
      ]
     },
     "execution_count": 33,
     "metadata": {},
     "output_type": "execute_result"
    }
   ],
   "source": [
    "model = lgb.LGBMClassifier(boosting_type='gbdt', max_depth=-1, n_estimators=200, num_leaves=40, objective='binary')\n",
    "model.fit(features_train, target_train, categorical_feature = 'auto')\n",
    "predict = model.predict(features_train)\n",
    "acc = accuracy_score(target_train, predict)\n",
    "\n",
    "acc"
   ]
  },
  {
   "cell_type": "markdown",
   "metadata": {},
   "source": [
    "### CatBoost"
   ]
  },
  {
   "cell_type": "markdown",
   "metadata": {},
   "source": [
    "Проделаем то же самое для модели CatBoost."
   ]
  },
  {
   "cell_type": "code",
   "execution_count": 23,
   "metadata": {},
   "outputs": [
    {
     "name": "stdout",
     "output_type": "stream",
     "text": [
      "{'depth': 6, 'iterations': 200, 'learning_rate': 0.2}\n",
      "0.8979715317062398\n"
     ]
    }
   ],
   "source": [
    "model = CatBoostClassifier()\n",
    "parametrs = {'depth'          : [3, 6, 9],\n",
    "              'learning_rate' : [0.1, 0.2],\n",
    "              'iterations'    : [50, 100, 200]}\n",
    "\n",
    "grid = GridSearchCV(estimator = model, param_grid = parametrs, scoring='roc_auc', n_jobs=-1)\n",
    "grid.fit(features_train, target_train, cat_features=cat_features, verbose=False)\n",
    "print(grid.best_params_)\n",
    "cat = grid.best_score_\n",
    "print(cat)"
   ]
  },
  {
   "cell_type": "code",
   "execution_count": 24,
   "metadata": {},
   "outputs": [
    {
     "data": {
      "text/plain": [
       "0.9299507762211283"
      ]
     },
     "execution_count": 24,
     "metadata": {},
     "output_type": "execute_result"
    }
   ],
   "source": [
    "model = CatBoostClassifier(depth=6, iterations=200, learning_rate=.2)\n",
    "model.fit(features_train, target_train, cat_features = cat_features, verbose=False)\n",
    "predict = model.predict(features_train)\n",
    "acc = accuracy_score(target_train, predict)\n",
    "\n",
    "acc"
   ]
  },
  {
   "cell_type": "markdown",
   "metadata": {},
   "source": [
    "С небольшим перевесом лучший результат показала модель CatBoost, значение метрики - 0.9, и это не предел, но такой результат нас вполне устраивает, осталось убедиться и проверить на тестовой выборке."
   ]
  },
  {
   "cell_type": "markdown",
   "metadata": {},
   "source": [
    "### Dummy "
   ]
  },
  {
   "cell_type": "code",
   "execution_count": 25,
   "metadata": {},
   "outputs": [
    {
     "data": {
      "text/plain": [
       "0.5"
      ]
     },
     "execution_count": 25,
     "metadata": {},
     "output_type": "execute_result"
    }
   ],
   "source": [
    "model = DummyClassifier(strategy=\"most_frequent\")\n",
    "model.fit(features_train, target_train)\n",
    "predict = model.predict_proba(features_train)[:, 1]\n",
    "dummy = roc_auc_score(target_train, predict)\n",
    "\n",
    "dummy"
   ]
  },
  {
   "cell_type": "code",
   "execution_count": 26,
   "metadata": {},
   "outputs": [
    {
     "data": {
      "text/plain": [
       "0.7328663385081409"
      ]
     },
     "execution_count": 26,
     "metadata": {},
     "output_type": "execute_result"
    }
   ],
   "source": [
    "model = DummyClassifier(strategy=\"most_frequent\")\n",
    "model.fit(features_train, target_train)\n",
    "predict = model.predict(features_train)\n",
    "acc = accuracy_score(target_train, predict)\n",
    "\n",
    "acc"
   ]
  },
  {
   "cell_type": "markdown",
   "metadata": {},
   "source": [
    "С перевесом в одну сотую лучшей оказалась модель CatBoost, осталось проверить ее на тестовой выборке."
   ]
  },
  {
   "cell_type": "markdown",
   "metadata": {},
   "source": [
    "### Тестирование"
   ]
  },
  {
   "cell_type": "code",
   "execution_count": 27,
   "metadata": {},
   "outputs": [
    {
     "data": {
      "text/plain": [
       "0.9062819425779273"
      ]
     },
     "execution_count": 27,
     "metadata": {},
     "output_type": "execute_result"
    }
   ],
   "source": [
    "model = CatBoostClassifier(depth=6, learning_rate=.2, iterations=200)\n",
    "model.fit(features_train, target_train, cat_features=cat_features, verbose=False)\n",
    "predict = model.predict_proba(features_test)[:, 1]\n",
    "roc = roc_auc_score(target_test, predict)\n",
    "\n",
    "roc"
   ]
  },
  {
   "cell_type": "markdown",
   "metadata": {},
   "source": [
    "На тесте все еще лучше, думаю это связано с архитектурой бустинга, ведь модель ищет минимальную ошибку при обучении, а так как признаки у нас более менее равномерно влияют на таргет (корреляция 0,1-0,4), можем предположить, что  при большей выборке модель показывала бы еще более лучший результат.\n",
    "\n",
    "Теперь посмотрим какие признаки были наиболее полезны при обучении модели."
   ]
  },
  {
   "cell_type": "code",
   "execution_count": 28,
   "metadata": {},
   "outputs": [
    {
     "data": {
      "image/png": "[encoded data removed]",
      "text/plain": [
       "<Figure size 432x288 with 1 Axes>"
      ]
     },
     "metadata": {
      "needs_background": "light"
     },
     "output_type": "display_data"
    }
   ],
   "source": [
    "feature_importance = model.get_feature_importance(prettified=True)\n",
    "sns.barplot(data=feature_importance, y='Feature Id', x='Importances')\\\n",
    "   .set(title='CatBoost',\n",
    "        xlabel='Важность',\n",
    "        ylabel='Признак');"
   ]
  },
  {
   "cell_type": "markdown",
   "metadata": {},
   "source": [
    "И так, наиболее важными оказались примерно те же самые столбцы, которые имеют большую корреляцию с целевым признаком. CatBoost, как и любая другая машина лучше работает с числами, поэтому на вершине \"полезности\" признаки, имеющие числовой тип."
   ]
  },
  {
   "cell_type": "markdown",
   "metadata": {},
   "source": [
    "## Общий вывод по проекту"
   ]
  },
  {
   "cell_type": "markdown",
   "metadata": {},
   "source": [
    "1. Перед нами была поставлена задача: Оператор связи «Ниединогоразрыва.ком» хочет научиться прогнозировать отток клиентов. В том случае если пользователь захочет уйти ему будут предложены специальные условия. Основными услугами являются интернет и телефонная связь.\n",
    "   \n",
    "   Данные состояли из четырех файлов, содержащих информацию о клиенте, договоре и предоставляемых услугах. Информация о договорах актуальна на 1 февраля 2020.\n",
    "   \n",
    "   Основным шагами в ходе выполнения проекта будут: предобработка данных, подготовка признаков для обучения модели анализ их на мультиколинеарность; кодирование признаков и подбор гиперпараметров для моделей, сравнение результатов со \"случайной моделью\" и тестирование."
   ]
  },
  {
   "cell_type": "markdown",
   "metadata": {},
   "source": [
    "2. В ходе предобработки были обработаны все пропуски, а данные собраны в один датасет, чтобы с ним было удобнее работать.    Перед обучением модели столбцы с датами были удалены, вместо них мы вывели новый признак - время использования, который, забегая немного вперед, при обучении стал самым важным (!). \n",
    "   \n",
    "   Данные были приведены к нужным типам, а признаки не имеющие зависимости с фактом ухода клиента были удалены, чтобы результат предсказания модели был менее случайным, а самыми коррелирующими по итогам исследования помимо уже названного времени пользования, были ежемесячный платеж и метод оплаты. То есть можно сделать вывод, что от качества каких-то определенных услуг уход клиента никак не зависит. \n",
    "\n",
    "   Так как выбранные нами модели не требуют кодирования, мы лишь привели столбцы к категориальному типу и напрямую передали такой список в модель. \n",
    "   \n",
    "   В ходе выполнения проекта мы столкнулись с трудностями лишь на этапе предобработки: \"пустые\" значения в данных, которые приходилось изменять, названия признаков и их тип также за неимением подходящих фраемворков нужно было приводить к единому формату вручную. "
   ]
  },
  {
   "cell_type": "markdown",
   "metadata": {},
   "source": [
    "3. В качестве признаков для обучения модели были отобраны парметры.\n",
    "\n",
    "   Пользование дополнительными услугами:\n",
    "- Интернет-безопасность\n",
    "- Выделенная линия поддержки\n",
    "- Облачное хранилище \n",
    "- Стриминговое телевидение и каталог фильмов.\n",
    "\n",
    "  Параметры договора: \n",
    "- Периодичность платы\n",
    "- Ежемесячный платеж\n",
    "- Cпособ оплаты\n",
    "- Тип заполнения документов\n",
    "\n",
    "  Личные данные:\n",
    "- Семейное положение\n",
    "- Вышел ли человек на пенсию\n",
    "- Является ли иждивенцем\n",
    "  \n",
    "   А также данные о пользовании интернетом, общее время пользования услугами и сумма выплат за этот срок.\n",
    "\n",
    "   В ходе исследование нами был составлен портрет клиента, на которого стоит обращать внимание: это человек, который пользуется услугами менее пяти месяцев, и в то же время выбирает тариф отличный от самого дешевого. Факторы, на которые стоит совершенно не стоит смотреть - это пол и телефонная связь. Все остальные показатели имеют примерно одинаковую зависиомость от таргета 10-30%."
   ]
  },
  {
   "cell_type": "markdown",
   "metadata": {},
   "source": [
    "4. Выборка была разбита на обучающую (75%) и тестовую для лучшей модели (25%). В ходе проекта рассматривались модели градиентного бустинга - LightGBM и Сatboost, которые лучше всего работают с категориальными признаками, а таковых у нас более 80%. При обучении гиперпараметры подбирались автоматически. Так как в наших данных сведений об ушедших клиентах почти в три раза меньше использовалась особая метрика, которая назначала каждому значению свой вес. Если бы мы запустили модель, предсказывающую таргет случайным образом, процент правильных ответов был бы значительно больше половины, но нашей основной задачей было предсказывать тот самый непопулярный класс.\n",
    "\n",
    "\n",
    "| Model | ROC-AUC | Accuracy |\n",
    "|---|---|---|\n",
    "| LightGBM | 0.889152| 0.979742|\n",
    "| CatBoost | 0.897972| 0.929950|\n",
    "| Dummy | 0.500000| 0.732866|\n",
    "\n",
    "\n",
    "   Поэтому из таблицы выше видно, что примененнная нами метрика показывает реально положение дел, ведь процент правильных ответов у случайной модели был 70-75%. Также стоит заметить, что в целом LightGBM дает больше верных предсказаний, но CatBoost лучше находит, клиентов, которые уйдут. \n",
    "\n",
    "   Лучшей моделью стала CatBoost c параметрами (depth=6, learning_rate=.2, iterations=200). Проведя анализ важности признаков мы выяснили, что таковыми являются все числовые столбцы - срок пользования, ежемесячный платеж, общая сумма выплат, логично ведь любая машина лучше всего работает с числами.  На тестовой выборке выбранная модель показала результат еще выше, чем на тренировочных данных - 0.91, что не может не радовать. С поставленной задачей мы справились!"
   ]
  },
  {
   "cell_type": "markdown",
   "metadata": {},
   "source": [
    "В качестве ключевых шагов в решении задачи можно выделить удаление из данных для обучения признаков, от которых не зависит уход клиента и преобразование дат начала и конца контракта в общее количество дней. Таких манипуляций хватило для результата удовлетворяющего заданию.\n",
    "\n",
    "Поэтому можно резюмировать, все пункты плана были выполнены, такое исследование однозначно поможет бизнесу."
   ]
  }
 ],
 "metadata": {
  "ExecuteTimeLog": [
   {
    "duration": 420,
    "start_time": "2022-11-03T10:14:01.260Z"
   },
   {
    "duration": 59,
    "start_time": "2022-11-03T10:15:21.766Z"
   },
   {
    "duration": 523,
    "start_time": "2022-11-03T10:15:37.693Z"
   },
   {
    "duration": 14,
    "start_time": "2022-11-03T10:16:21.720Z"
   },
   {
    "duration": 10,
    "start_time": "2022-11-03T10:16:29.680Z"
   },
   {
    "duration": 14,
    "start_time": "2022-11-03T10:16:35.107Z"
   },
   {
    "duration": 8,
    "start_time": "2022-11-03T10:16:42.216Z"
   },
   {
    "duration": 12,
    "start_time": "2022-11-03T10:16:47.037Z"
   },
   {
    "duration": 23,
    "start_time": "2022-11-03T10:17:14.838Z"
   },
   {
    "duration": 23,
    "start_time": "2022-11-03T10:17:27.234Z"
   },
   {
    "duration": 40,
    "start_time": "2022-11-03T10:17:39.868Z"
   },
   {
    "duration": 29,
    "start_time": "2022-11-03T10:22:25.336Z"
   },
   {
    "duration": 46,
    "start_time": "2022-11-03T10:22:26.110Z"
   },
   {
    "duration": 41,
    "start_time": "2022-11-03T10:22:26.562Z"
   },
   {
    "duration": 33,
    "start_time": "2022-11-03T10:25:50.806Z"
   },
   {
    "duration": 74,
    "start_time": "2022-11-03T10:26:13.026Z"
   },
   {
    "duration": 25,
    "start_time": "2022-11-03T10:26:17.950Z"
   },
   {
    "duration": 56,
    "start_time": "2022-11-03T10:27:46.361Z"
   },
   {
    "duration": 15,
    "start_time": "2022-11-03T10:31:57.927Z"
   },
   {
    "duration": 13,
    "start_time": "2022-11-03T10:32:03.550Z"
   },
   {
    "duration": 112,
    "start_time": "2022-11-03T10:34:21.689Z"
   },
   {
    "duration": 94,
    "start_time": "2022-11-03T10:34:28.600Z"
   },
   {
    "duration": 74,
    "start_time": "2022-11-03T10:35:09.660Z"
   },
   {
    "duration": 65,
    "start_time": "2022-11-03T10:35:14.698Z"
   },
   {
    "duration": 12,
    "start_time": "2022-11-03T13:51:47.431Z"
   },
   {
    "duration": 11,
    "start_time": "2022-11-03T14:14:34.325Z"
   },
   {
    "duration": 12,
    "start_time": "2022-11-03T14:15:26.827Z"
   },
   {
    "duration": 12,
    "start_time": "2022-11-03T14:17:51.133Z"
   },
   {
    "duration": 19,
    "start_time": "2022-11-03T14:17:53.759Z"
   },
   {
    "duration": 10,
    "start_time": "2022-11-03T14:43:43.605Z"
   },
   {
    "duration": 11,
    "start_time": "2022-11-03T14:43:57.042Z"
   },
   {
    "duration": 28,
    "start_time": "2022-11-03T14:44:00.872Z"
   },
   {
    "duration": 300,
    "start_time": "2022-11-03T14:58:02.023Z"
   },
   {
    "duration": 3,
    "start_time": "2022-11-03T15:05:54.843Z"
   },
   {
    "duration": 23,
    "start_time": "2022-11-03T15:05:58.390Z"
   },
   {
    "duration": 1204,
    "start_time": "2022-11-03T17:14:39.757Z"
   },
   {
    "duration": 27,
    "start_time": "2022-11-03T17:14:41.184Z"
   },
   {
    "duration": 4,
    "start_time": "2022-11-03T17:14:45.874Z"
   },
   {
    "duration": 7,
    "start_time": "2022-11-03T17:14:46.661Z"
   },
   {
    "duration": 24,
    "start_time": "2022-11-03T17:14:47.329Z"
   },
   {
    "duration": 7,
    "start_time": "2022-11-03T17:29:40.226Z"
   },
   {
    "duration": 28,
    "start_time": "2022-11-03T17:29:49.890Z"
   },
   {
    "duration": 28,
    "start_time": "2022-11-03T17:30:05.204Z"
   },
   {
    "duration": 1190,
    "start_time": "2022-11-03T17:53:45.736Z"
   },
   {
    "duration": 1140,
    "start_time": "2022-11-03T18:02:29.166Z"
   },
   {
    "duration": 30,
    "start_time": "2022-11-03T18:04:48.305Z"
   },
   {
    "duration": 21,
    "start_time": "2022-11-03T18:04:55.299Z"
   },
   {
    "duration": 3,
    "start_time": "2022-11-03T18:56:19.731Z"
   },
   {
    "duration": 71,
    "start_time": "2022-11-03T18:58:05.813Z"
   },
   {
    "duration": 70,
    "start_time": "2022-11-03T18:58:11.957Z"
   },
   {
    "duration": 6,
    "start_time": "2022-11-03T21:08:20.477Z"
   },
   {
    "duration": 24,
    "start_time": "2022-11-03T21:08:25.976Z"
   },
   {
    "duration": 471,
    "start_time": "2022-11-04T06:10:47.451Z"
   },
   {
    "duration": 340,
    "start_time": "2022-11-04T06:10:48.453Z"
   },
   {
    "duration": 112,
    "start_time": "2022-11-04T06:10:51.993Z"
   },
   {
    "duration": 28,
    "start_time": "2022-11-04T06:11:07.551Z"
   },
   {
    "duration": 23,
    "start_time": "2022-11-04T06:14:31.211Z"
   },
   {
    "duration": 5,
    "start_time": "2022-11-04T06:14:35.545Z"
   },
   {
    "duration": 21,
    "start_time": "2022-11-04T06:14:45.486Z"
   },
   {
    "duration": 5,
    "start_time": "2022-11-04T06:17:33.911Z"
   },
   {
    "duration": 948,
    "start_time": "2022-11-04T06:17:52.636Z"
   },
   {
    "duration": 15,
    "start_time": "2022-11-04T06:18:15.231Z"
   },
   {
    "duration": 21,
    "start_time": "2022-11-04T06:18:43.311Z"
   },
   {
    "duration": 15,
    "start_time": "2022-11-04T06:18:52.651Z"
   },
   {
    "duration": 35,
    "start_time": "2022-11-04T06:19:13.552Z"
   },
   {
    "duration": 24,
    "start_time": "2022-11-04T06:19:17.352Z"
   },
   {
    "duration": 22,
    "start_time": "2022-11-04T06:19:26.692Z"
   },
   {
    "duration": 10,
    "start_time": "2022-11-04T06:19:29.931Z"
   },
   {
    "duration": 36,
    "start_time": "2022-11-04T06:19:59.091Z"
   },
   {
    "duration": 10,
    "start_time": "2022-11-04T06:20:06.871Z"
   },
   {
    "duration": 37,
    "start_time": "2022-11-04T06:21:37.271Z"
   },
   {
    "duration": 30,
    "start_time": "2022-11-04T06:21:54.451Z"
   },
   {
    "duration": 25,
    "start_time": "2022-11-04T06:24:34.432Z"
   },
   {
    "duration": 10,
    "start_time": "2022-11-04T06:24:37.752Z"
   },
   {
    "duration": 11,
    "start_time": "2022-11-04T06:24:48.610Z"
   },
   {
    "duration": 12,
    "start_time": "2022-11-04T06:24:51.771Z"
   },
   {
    "duration": 20,
    "start_time": "2022-11-04T06:25:05.846Z"
   },
   {
    "duration": 5,
    "start_time": "2022-11-04T06:25:19.351Z"
   },
   {
    "duration": 11,
    "start_time": "2022-11-04T06:25:22.103Z"
   },
   {
    "duration": 14,
    "start_time": "2022-11-04T06:25:31.331Z"
   },
   {
    "duration": 10,
    "start_time": "2022-11-04T06:25:36.300Z"
   },
   {
    "duration": 25,
    "start_time": "2022-11-04T06:25:57.542Z"
   },
   {
    "duration": 22,
    "start_time": "2022-11-04T06:26:41.931Z"
   },
   {
    "duration": 28,
    "start_time": "2022-11-04T06:26:45.723Z"
   },
   {
    "duration": 28,
    "start_time": "2022-11-04T06:26:48.588Z"
   },
   {
    "duration": 52,
    "start_time": "2022-11-04T06:29:35.411Z"
   },
   {
    "duration": 48,
    "start_time": "2022-11-04T11:14:21.763Z"
   },
   {
    "duration": 395,
    "start_time": "2022-11-04T11:14:29.929Z"
   },
   {
    "duration": 311,
    "start_time": "2022-11-04T11:14:30.326Z"
   },
   {
    "duration": 70,
    "start_time": "2022-11-04T11:14:30.638Z"
   },
   {
    "duration": 39,
    "start_time": "2022-11-04T11:14:30.710Z"
   },
   {
    "duration": 25,
    "start_time": "2022-11-04T11:14:30.752Z"
   },
   {
    "duration": 7,
    "start_time": "2022-11-04T11:14:30.779Z"
   },
   {
    "duration": 74,
    "start_time": "2022-11-04T11:14:30.787Z"
   },
   {
    "duration": 40,
    "start_time": "2022-11-04T11:14:30.863Z"
   },
   {
    "duration": 40,
    "start_time": "2022-11-04T11:14:30.906Z"
   },
   {
    "duration": 77,
    "start_time": "2022-11-04T11:16:39.013Z"
   },
   {
    "duration": 20,
    "start_time": "2022-11-04T11:16:43.952Z"
   },
   {
    "duration": 45,
    "start_time": "2022-11-04T11:18:20.292Z"
   },
   {
    "duration": 46,
    "start_time": "2022-11-04T11:18:31.943Z"
   },
   {
    "duration": 83,
    "start_time": "2022-11-04T11:18:53.825Z"
   },
   {
    "duration": 41,
    "start_time": "2022-11-04T11:19:06.248Z"
   },
   {
    "duration": 54,
    "start_time": "2022-11-04T11:19:12.925Z"
   },
   {
    "duration": 40,
    "start_time": "2022-11-04T11:23:55.802Z"
   },
   {
    "duration": 41,
    "start_time": "2022-11-04T11:24:27.192Z"
   },
   {
    "duration": 53,
    "start_time": "2022-11-05T10:41:57.395Z"
   },
   {
    "duration": 377,
    "start_time": "2022-11-05T10:42:02.469Z"
   },
   {
    "duration": 330,
    "start_time": "2022-11-05T10:42:02.848Z"
   },
   {
    "duration": 60,
    "start_time": "2022-11-05T10:42:03.180Z"
   },
   {
    "duration": 32,
    "start_time": "2022-11-05T10:42:03.242Z"
   },
   {
    "duration": 3,
    "start_time": "2022-11-05T10:42:03.276Z"
   },
   {
    "duration": 26,
    "start_time": "2022-11-05T10:42:03.280Z"
   },
   {
    "duration": 20,
    "start_time": "2022-11-05T10:42:03.307Z"
   },
   {
    "duration": 22,
    "start_time": "2022-11-05T10:42:03.329Z"
   },
   {
    "duration": 21,
    "start_time": "2022-11-05T10:42:03.353Z"
   },
   {
    "duration": 45,
    "start_time": "2022-11-05T10:42:03.376Z"
   },
   {
    "duration": 1330,
    "start_time": "2022-11-05T10:42:03.423Z"
   },
   {
    "duration": 8,
    "start_time": "2022-11-05T10:54:36.719Z"
   },
   {
    "duration": 19,
    "start_time": "2022-11-05T10:56:23.775Z"
   },
   {
    "duration": 17,
    "start_time": "2022-11-05T10:56:35.160Z"
   },
   {
    "duration": 395,
    "start_time": "2022-11-05T10:56:41.274Z"
   },
   {
    "duration": 107,
    "start_time": "2022-11-05T10:56:41.671Z"
   },
   {
    "duration": 59,
    "start_time": "2022-11-05T10:56:41.780Z"
   },
   {
    "duration": 35,
    "start_time": "2022-11-05T10:56:41.841Z"
   },
   {
    "duration": 3,
    "start_time": "2022-11-05T10:56:41.877Z"
   },
   {
    "duration": 37,
    "start_time": "2022-11-05T10:56:41.881Z"
   },
   {
    "duration": 23,
    "start_time": "2022-11-05T10:56:41.920Z"
   },
   {
    "duration": 26,
    "start_time": "2022-11-05T10:56:41.945Z"
   },
   {
    "duration": 20,
    "start_time": "2022-11-05T10:56:41.972Z"
   },
   {
    "duration": 22,
    "start_time": "2022-11-05T10:56:42.005Z"
   },
   {
    "duration": 11,
    "start_time": "2022-11-05T10:56:42.028Z"
   },
   {
    "duration": 8,
    "start_time": "2022-11-05T10:57:10.146Z"
   },
   {
    "duration": 59,
    "start_time": "2022-11-05T11:47:53.841Z"
   },
   {
    "duration": 9,
    "start_time": "2022-11-05T11:47:56.610Z"
   },
   {
    "duration": 19,
    "start_time": "2022-11-05T11:47:58.981Z"
   },
   {
    "duration": 23,
    "start_time": "2022-11-05T11:48:02.477Z"
   },
   {
    "duration": 3,
    "start_time": "2022-11-05T12:19:24.897Z"
   },
   {
    "duration": 17,
    "start_time": "2022-11-05T12:23:22.911Z"
   },
   {
    "duration": 17,
    "start_time": "2022-11-05T12:41:21.627Z"
   },
   {
    "duration": 16,
    "start_time": "2022-11-05T12:41:41.858Z"
   },
   {
    "duration": 409,
    "start_time": "2022-11-05T12:41:49.699Z"
   },
   {
    "duration": 105,
    "start_time": "2022-11-05T12:41:50.110Z"
   },
   {
    "duration": 90,
    "start_time": "2022-11-05T12:41:50.217Z"
   },
   {
    "duration": 35,
    "start_time": "2022-11-05T12:41:50.309Z"
   },
   {
    "duration": 3,
    "start_time": "2022-11-05T12:41:50.345Z"
   },
   {
    "duration": 7,
    "start_time": "2022-11-05T12:41:50.350Z"
   },
   {
    "duration": 25,
    "start_time": "2022-11-05T12:41:50.358Z"
   },
   {
    "duration": 45,
    "start_time": "2022-11-05T12:41:50.384Z"
   },
   {
    "duration": 20,
    "start_time": "2022-11-05T12:41:50.431Z"
   },
   {
    "duration": 24,
    "start_time": "2022-11-05T12:41:50.453Z"
   },
   {
    "duration": 34,
    "start_time": "2022-11-05T12:41:50.478Z"
   },
   {
    "duration": 19,
    "start_time": "2022-11-05T12:41:50.514Z"
   },
   {
    "duration": 84,
    "start_time": "2022-11-05T12:41:50.535Z"
   },
   {
    "duration": 0,
    "start_time": "2022-11-05T12:41:50.620Z"
   },
   {
    "duration": 0,
    "start_time": "2022-11-05T12:41:50.621Z"
   },
   {
    "duration": 3,
    "start_time": "2022-11-05T12:44:47.210Z"
   },
   {
    "duration": 15,
    "start_time": "2022-11-05T12:44:59.777Z"
   },
   {
    "duration": 37,
    "start_time": "2022-11-05T12:45:22.894Z"
   },
   {
    "duration": 832,
    "start_time": "2022-11-05T12:46:22.534Z"
   },
   {
    "duration": 7,
    "start_time": "2022-11-05T12:48:42.751Z"
   },
   {
    "duration": 7,
    "start_time": "2022-11-05T12:48:47.691Z"
   },
   {
    "duration": 820,
    "start_time": "2022-11-05T12:49:15.031Z"
   },
   {
    "duration": 7,
    "start_time": "2022-11-05T12:50:14.147Z"
   },
   {
    "duration": 894,
    "start_time": "2022-11-05T12:50:24.093Z"
   },
   {
    "duration": 360,
    "start_time": "2022-11-05T12:54:35.728Z"
   },
   {
    "duration": 114,
    "start_time": "2022-11-05T12:54:36.090Z"
   },
   {
    "duration": 67,
    "start_time": "2022-11-05T12:54:36.206Z"
   },
   {
    "duration": 61,
    "start_time": "2022-11-05T12:54:36.276Z"
   },
   {
    "duration": 3,
    "start_time": "2022-11-05T12:54:36.339Z"
   },
   {
    "duration": 7,
    "start_time": "2022-11-05T12:54:36.343Z"
   },
   {
    "duration": 24,
    "start_time": "2022-11-05T12:54:36.352Z"
   },
   {
    "duration": 40,
    "start_time": "2022-11-05T12:54:36.378Z"
   },
   {
    "duration": 20,
    "start_time": "2022-11-05T12:54:36.419Z"
   },
   {
    "duration": 22,
    "start_time": "2022-11-05T12:54:36.440Z"
   },
   {
    "duration": 7,
    "start_time": "2022-11-05T12:54:36.464Z"
   },
   {
    "duration": 60,
    "start_time": "2022-11-05T12:54:36.472Z"
   },
   {
    "duration": 3,
    "start_time": "2022-11-05T12:54:36.533Z"
   },
   {
    "duration": 22,
    "start_time": "2022-11-05T12:54:36.537Z"
   },
   {
    "duration": 428,
    "start_time": "2022-11-05T12:54:36.560Z"
   },
   {
    "duration": 846,
    "start_time": "2022-11-05T12:54:50.519Z"
   },
   {
    "duration": 10,
    "start_time": "2022-11-05T12:55:17.993Z"
   },
   {
    "duration": 21,
    "start_time": "2022-11-05T12:55:28.165Z"
   },
   {
    "duration": 6,
    "start_time": "2022-11-05T12:55:50.053Z"
   },
   {
    "duration": 21,
    "start_time": "2022-11-05T12:55:52.680Z"
   },
   {
    "duration": 4,
    "start_time": "2022-11-05T12:56:36.304Z"
   },
   {
    "duration": 26,
    "start_time": "2022-11-05T12:56:37.867Z"
   },
   {
    "duration": 335,
    "start_time": "2022-11-05T12:56:44.846Z"
   },
   {
    "duration": 107,
    "start_time": "2022-11-05T12:56:45.183Z"
   },
   {
    "duration": 62,
    "start_time": "2022-11-05T12:56:45.292Z"
   },
   {
    "duration": 54,
    "start_time": "2022-11-05T12:56:45.355Z"
   },
   {
    "duration": 3,
    "start_time": "2022-11-05T12:56:45.411Z"
   },
   {
    "duration": 8,
    "start_time": "2022-11-05T12:56:45.415Z"
   },
   {
    "duration": 22,
    "start_time": "2022-11-05T12:56:45.424Z"
   },
   {
    "duration": 26,
    "start_time": "2022-11-05T12:56:45.447Z"
   },
   {
    "duration": 45,
    "start_time": "2022-11-05T12:56:45.474Z"
   },
   {
    "duration": 20,
    "start_time": "2022-11-05T12:56:45.521Z"
   },
   {
    "duration": 8,
    "start_time": "2022-11-05T12:56:45.543Z"
   },
   {
    "duration": 54,
    "start_time": "2022-11-05T12:56:45.552Z"
   },
   {
    "duration": 4,
    "start_time": "2022-11-05T12:56:45.607Z"
   },
   {
    "duration": 25,
    "start_time": "2022-11-05T12:56:45.612Z"
   },
   {
    "duration": 281,
    "start_time": "2022-11-05T12:56:45.638Z"
   },
   {
    "duration": 17,
    "start_time": "2022-11-05T12:57:46.094Z"
   },
   {
    "duration": 9,
    "start_time": "2022-11-05T12:58:17.123Z"
   },
   {
    "duration": 11,
    "start_time": "2022-11-05T12:58:49.020Z"
   },
   {
    "duration": 17,
    "start_time": "2022-11-05T13:02:02.755Z"
   },
   {
    "duration": 74,
    "start_time": "2022-11-05T14:06:35.649Z"
   },
   {
    "duration": 72,
    "start_time": "2022-11-05T14:11:44.748Z"
   },
   {
    "duration": 7,
    "start_time": "2022-11-05T14:12:18.243Z"
   },
   {
    "duration": 88,
    "start_time": "2022-11-05T15:05:23.963Z"
   },
   {
    "duration": 8,
    "start_time": "2022-11-05T15:05:27.498Z"
   },
   {
    "duration": 7,
    "start_time": "2022-11-05T15:09:23.110Z"
   },
   {
    "duration": 8,
    "start_time": "2022-11-05T15:09:44.911Z"
   },
   {
    "duration": 8,
    "start_time": "2022-11-05T15:09:50.919Z"
   },
   {
    "duration": 7,
    "start_time": "2022-11-05T15:15:36.200Z"
   },
   {
    "duration": 7,
    "start_time": "2022-11-05T15:16:21.362Z"
   },
   {
    "duration": 7,
    "start_time": "2022-11-05T15:16:38.707Z"
   },
   {
    "duration": 13,
    "start_time": "2022-11-05T15:16:57.013Z"
   },
   {
    "duration": 42,
    "start_time": "2022-11-05T15:18:05.507Z"
   },
   {
    "duration": 344,
    "start_time": "2022-11-05T15:18:09.233Z"
   },
   {
    "duration": 368,
    "start_time": "2022-11-05T15:18:21.519Z"
   },
   {
    "duration": 100,
    "start_time": "2022-11-05T15:18:21.889Z"
   },
   {
    "duration": 57,
    "start_time": "2022-11-05T15:18:21.990Z"
   },
   {
    "duration": 35,
    "start_time": "2022-11-05T15:18:22.048Z"
   },
   {
    "duration": 22,
    "start_time": "2022-11-05T15:18:22.084Z"
   },
   {
    "duration": 9,
    "start_time": "2022-11-05T15:18:22.107Z"
   },
   {
    "duration": 22,
    "start_time": "2022-11-05T15:18:22.118Z"
   },
   {
    "duration": 25,
    "start_time": "2022-11-05T15:18:22.142Z"
   },
   {
    "duration": 38,
    "start_time": "2022-11-05T15:18:22.168Z"
   },
   {
    "duration": 20,
    "start_time": "2022-11-05T15:18:22.207Z"
   },
   {
    "duration": 11,
    "start_time": "2022-11-05T15:18:22.228Z"
   },
   {
    "duration": 36,
    "start_time": "2022-11-05T15:18:22.241Z"
   },
   {
    "duration": 77,
    "start_time": "2022-11-05T15:18:22.279Z"
   },
   {
    "duration": 0,
    "start_time": "2022-11-05T15:18:22.358Z"
   },
   {
    "duration": 0,
    "start_time": "2022-11-05T15:18:22.359Z"
   },
   {
    "duration": 16,
    "start_time": "2022-11-05T15:19:56.457Z"
   },
   {
    "duration": 59,
    "start_time": "2022-11-05T15:19:58.531Z"
   },
   {
    "duration": 14,
    "start_time": "2022-11-05T15:20:12.139Z"
   },
   {
    "duration": 441,
    "start_time": "2022-11-05T15:22:37.193Z"
   },
   {
    "duration": 103,
    "start_time": "2022-11-05T15:22:37.636Z"
   },
   {
    "duration": 64,
    "start_time": "2022-11-05T15:22:37.740Z"
   },
   {
    "duration": 37,
    "start_time": "2022-11-05T15:22:37.806Z"
   },
   {
    "duration": 4,
    "start_time": "2022-11-05T15:22:37.844Z"
   },
   {
    "duration": 10,
    "start_time": "2022-11-05T15:22:37.849Z"
   },
   {
    "duration": 47,
    "start_time": "2022-11-05T15:22:37.860Z"
   },
   {
    "duration": 35,
    "start_time": "2022-11-05T15:22:37.909Z"
   },
   {
    "duration": 37,
    "start_time": "2022-11-05T15:22:37.946Z"
   },
   {
    "duration": 29,
    "start_time": "2022-11-05T15:22:38.008Z"
   },
   {
    "duration": 17,
    "start_time": "2022-11-05T15:22:38.039Z"
   },
   {
    "duration": 55,
    "start_time": "2022-11-05T15:22:38.058Z"
   },
   {
    "duration": 16,
    "start_time": "2022-11-05T15:22:38.115Z"
   },
   {
    "duration": 398,
    "start_time": "2022-11-05T15:22:38.134Z"
   },
   {
    "duration": 0,
    "start_time": "2022-11-05T15:22:38.534Z"
   },
   {
    "duration": 0,
    "start_time": "2022-11-05T15:22:38.537Z"
   },
   {
    "duration": 396,
    "start_time": "2022-11-05T15:23:55.681Z"
   },
   {
    "duration": 120,
    "start_time": "2022-11-05T15:23:56.079Z"
   },
   {
    "duration": 78,
    "start_time": "2022-11-05T15:23:56.202Z"
   },
   {
    "duration": 56,
    "start_time": "2022-11-05T15:23:56.281Z"
   },
   {
    "duration": 3,
    "start_time": "2022-11-05T15:23:56.339Z"
   },
   {
    "duration": 9,
    "start_time": "2022-11-05T15:23:56.343Z"
   },
   {
    "duration": 21,
    "start_time": "2022-11-05T15:23:56.353Z"
   },
   {
    "duration": 49,
    "start_time": "2022-11-05T15:23:56.375Z"
   },
   {
    "duration": 21,
    "start_time": "2022-11-05T15:23:56.426Z"
   },
   {
    "duration": 22,
    "start_time": "2022-11-05T15:23:56.448Z"
   },
   {
    "duration": 10,
    "start_time": "2022-11-05T15:23:56.472Z"
   },
   {
    "duration": 33,
    "start_time": "2022-11-05T15:23:56.505Z"
   },
   {
    "duration": 14,
    "start_time": "2022-11-05T15:23:56.540Z"
   },
   {
    "duration": 378,
    "start_time": "2022-11-05T15:23:56.556Z"
   },
   {
    "duration": 0,
    "start_time": "2022-11-05T15:23:56.935Z"
   },
   {
    "duration": 0,
    "start_time": "2022-11-05T15:23:56.936Z"
   },
   {
    "duration": 312,
    "start_time": "2022-11-05T15:24:36.632Z"
   },
   {
    "duration": 376,
    "start_time": "2022-11-05T15:36:49.321Z"
   },
   {
    "duration": 105,
    "start_time": "2022-11-05T15:36:49.699Z"
   },
   {
    "duration": 66,
    "start_time": "2022-11-05T15:36:49.805Z"
   },
   {
    "duration": 60,
    "start_time": "2022-11-05T15:36:49.872Z"
   },
   {
    "duration": 4,
    "start_time": "2022-11-05T15:36:49.933Z"
   },
   {
    "duration": 8,
    "start_time": "2022-11-05T15:36:49.938Z"
   },
   {
    "duration": 24,
    "start_time": "2022-11-05T15:36:49.947Z"
   },
   {
    "duration": 50,
    "start_time": "2022-11-05T15:36:49.972Z"
   },
   {
    "duration": 24,
    "start_time": "2022-11-05T15:36:50.024Z"
   },
   {
    "duration": 24,
    "start_time": "2022-11-05T15:36:50.049Z"
   },
   {
    "duration": 36,
    "start_time": "2022-11-05T15:36:50.075Z"
   },
   {
    "duration": 38,
    "start_time": "2022-11-05T15:36:50.112Z"
   },
   {
    "duration": 27,
    "start_time": "2022-11-05T15:36:50.152Z"
   },
   {
    "duration": 417,
    "start_time": "2022-11-05T15:36:50.181Z"
   },
   {
    "duration": 0,
    "start_time": "2022-11-05T15:36:50.600Z"
   },
   {
    "duration": 0,
    "start_time": "2022-11-05T15:36:50.601Z"
   },
   {
    "duration": 280,
    "start_time": "2022-11-05T15:40:06.949Z"
   },
   {
    "duration": 408,
    "start_time": "2022-11-05T15:40:26.075Z"
   },
   {
    "duration": 106,
    "start_time": "2022-11-05T15:40:26.485Z"
   },
   {
    "duration": 63,
    "start_time": "2022-11-05T15:40:26.592Z"
   },
   {
    "duration": 49,
    "start_time": "2022-11-05T15:40:26.656Z"
   },
   {
    "duration": 3,
    "start_time": "2022-11-05T15:40:26.707Z"
   },
   {
    "duration": 8,
    "start_time": "2022-11-05T15:40:26.712Z"
   },
   {
    "duration": 21,
    "start_time": "2022-11-05T15:40:26.721Z"
   },
   {
    "duration": 26,
    "start_time": "2022-11-05T15:40:26.743Z"
   },
   {
    "duration": 43,
    "start_time": "2022-11-05T15:40:26.770Z"
   },
   {
    "duration": 23,
    "start_time": "2022-11-05T15:40:26.815Z"
   },
   {
    "duration": 9,
    "start_time": "2022-11-05T15:40:26.839Z"
   },
   {
    "duration": 59,
    "start_time": "2022-11-05T15:40:26.850Z"
   },
   {
    "duration": 15,
    "start_time": "2022-11-05T15:40:26.911Z"
   },
   {
    "duration": 125,
    "start_time": "2022-11-05T15:40:26.928Z"
   },
   {
    "duration": 13,
    "start_time": "2022-11-05T15:40:27.054Z"
   },
   {
    "duration": 318,
    "start_time": "2022-11-05T15:40:27.069Z"
   },
   {
    "duration": 5,
    "start_time": "2022-11-05T15:41:12.960Z"
   },
   {
    "duration": 36,
    "start_time": "2022-11-05T15:41:17.599Z"
   },
   {
    "duration": 70,
    "start_time": "2022-11-05T17:01:35.350Z"
   },
   {
    "duration": 365,
    "start_time": "2022-11-05T18:13:00.435Z"
   },
   {
    "duration": 106,
    "start_time": "2022-11-05T18:13:00.802Z"
   },
   {
    "duration": 64,
    "start_time": "2022-11-05T18:13:00.910Z"
   },
   {
    "duration": 61,
    "start_time": "2022-11-05T18:13:00.976Z"
   },
   {
    "duration": 3,
    "start_time": "2022-11-05T18:13:01.039Z"
   },
   {
    "duration": 16,
    "start_time": "2022-11-05T18:13:01.043Z"
   },
   {
    "duration": 28,
    "start_time": "2022-11-05T18:13:01.061Z"
   },
   {
    "duration": 34,
    "start_time": "2022-11-05T18:13:01.091Z"
   },
   {
    "duration": 32,
    "start_time": "2022-11-05T18:13:01.127Z"
   },
   {
    "duration": 34,
    "start_time": "2022-11-05T18:13:01.161Z"
   },
   {
    "duration": 40,
    "start_time": "2022-11-05T18:13:01.196Z"
   },
   {
    "duration": 56,
    "start_time": "2022-11-05T18:13:01.237Z"
   },
   {
    "duration": 69,
    "start_time": "2022-11-05T18:13:01.294Z"
   },
   {
    "duration": 0,
    "start_time": "2022-11-05T18:13:01.365Z"
   },
   {
    "duration": 0,
    "start_time": "2022-11-05T18:13:01.366Z"
   },
   {
    "duration": 0,
    "start_time": "2022-11-05T18:13:01.367Z"
   },
   {
    "duration": 0,
    "start_time": "2022-11-05T18:13:01.368Z"
   },
   {
    "duration": 380,
    "start_time": "2022-11-05T18:14:17.037Z"
   },
   {
    "duration": 107,
    "start_time": "2022-11-05T18:14:17.420Z"
   },
   {
    "duration": 59,
    "start_time": "2022-11-05T18:14:17.528Z"
   },
   {
    "duration": 45,
    "start_time": "2022-11-05T18:14:17.589Z"
   },
   {
    "duration": 3,
    "start_time": "2022-11-05T18:14:17.636Z"
   },
   {
    "duration": 8,
    "start_time": "2022-11-05T18:14:17.640Z"
   },
   {
    "duration": 22,
    "start_time": "2022-11-05T18:14:17.650Z"
   },
   {
    "duration": 48,
    "start_time": "2022-11-05T18:14:17.673Z"
   },
   {
    "duration": 20,
    "start_time": "2022-11-05T18:14:17.722Z"
   },
   {
    "duration": 27,
    "start_time": "2022-11-05T18:14:17.744Z"
   },
   {
    "duration": 13,
    "start_time": "2022-11-05T18:14:17.772Z"
   },
   {
    "duration": 49,
    "start_time": "2022-11-05T18:14:17.787Z"
   },
   {
    "duration": 19,
    "start_time": "2022-11-05T18:14:17.838Z"
   },
   {
    "duration": 162,
    "start_time": "2022-11-05T18:14:17.859Z"
   },
   {
    "duration": 4,
    "start_time": "2022-11-05T18:14:18.023Z"
   },
   {
    "duration": 72,
    "start_time": "2022-11-05T18:14:18.030Z"
   },
   {
    "duration": 0,
    "start_time": "2022-11-05T18:14:18.104Z"
   },
   {
    "duration": 7,
    "start_time": "2022-11-05T18:44:14.793Z"
   },
   {
    "duration": 32,
    "start_time": "2022-11-05T18:44:21.315Z"
   },
   {
    "duration": 5,
    "start_time": "2022-11-05T18:45:33.596Z"
   },
   {
    "duration": 5,
    "start_time": "2022-11-05T18:46:10.006Z"
   },
   {
    "duration": 5,
    "start_time": "2022-11-05T18:46:21.212Z"
   },
   {
    "duration": 6,
    "start_time": "2022-11-05T18:46:35.696Z"
   },
   {
    "duration": 58,
    "start_time": "2022-11-05T22:20:49.467Z"
   },
   {
    "duration": 30,
    "start_time": "2022-11-05T22:20:59.077Z"
   },
   {
    "duration": 34,
    "start_time": "2022-11-05T22:21:11.623Z"
   },
   {
    "duration": 425,
    "start_time": "2022-11-05T22:27:23.497Z"
   },
   {
    "duration": 102,
    "start_time": "2022-11-05T22:27:23.924Z"
   },
   {
    "duration": 77,
    "start_time": "2022-11-05T22:27:24.028Z"
   },
   {
    "duration": 44,
    "start_time": "2022-11-05T22:27:24.107Z"
   },
   {
    "duration": 3,
    "start_time": "2022-11-05T22:27:24.153Z"
   },
   {
    "duration": 23,
    "start_time": "2022-11-05T22:27:24.157Z"
   },
   {
    "duration": 28,
    "start_time": "2022-11-05T22:27:24.182Z"
   },
   {
    "duration": 45,
    "start_time": "2022-11-05T22:27:24.211Z"
   },
   {
    "duration": 22,
    "start_time": "2022-11-05T22:27:24.257Z"
   },
   {
    "duration": 34,
    "start_time": "2022-11-05T22:27:24.281Z"
   },
   {
    "duration": 32,
    "start_time": "2022-11-05T22:27:24.316Z"
   },
   {
    "duration": 36,
    "start_time": "2022-11-05T22:27:24.349Z"
   },
   {
    "duration": 15,
    "start_time": "2022-11-05T22:27:24.387Z"
   },
   {
    "duration": 122,
    "start_time": "2022-11-05T22:27:24.403Z"
   },
   {
    "duration": 4,
    "start_time": "2022-11-05T22:27:24.527Z"
   },
   {
    "duration": 36,
    "start_time": "2022-11-05T22:27:24.532Z"
   },
   {
    "duration": 72,
    "start_time": "2022-11-05T22:27:24.570Z"
   },
   {
    "duration": 0,
    "start_time": "2022-11-05T22:27:24.643Z"
   },
   {
    "duration": 0,
    "start_time": "2022-11-05T22:27:24.645Z"
   },
   {
    "duration": 8,
    "start_time": "2022-11-05T22:32:00.607Z"
   },
   {
    "duration": 852,
    "start_time": "2022-11-05T22:38:51.128Z"
   },
   {
    "duration": 146,
    "start_time": "2022-11-05T22:39:04.027Z"
   },
   {
    "duration": 309,
    "start_time": "2022-11-05T22:42:10.197Z"
   },
   {
    "duration": 11,
    "start_time": "2022-11-05T23:15:57.134Z"
   },
   {
    "duration": 52,
    "start_time": "2022-11-06T14:35:36.901Z"
   },
   {
    "duration": 440,
    "start_time": "2022-11-06T14:35:54.870Z"
   },
   {
    "duration": 381,
    "start_time": "2022-11-06T14:35:55.312Z"
   },
   {
    "duration": 81,
    "start_time": "2022-11-06T14:35:55.694Z"
   },
   {
    "duration": 69,
    "start_time": "2022-11-06T14:35:55.777Z"
   },
   {
    "duration": 5,
    "start_time": "2022-11-06T14:35:55.848Z"
   },
   {
    "duration": 10,
    "start_time": "2022-11-06T14:35:55.855Z"
   },
   {
    "duration": 25,
    "start_time": "2022-11-06T14:35:55.867Z"
   },
   {
    "duration": 60,
    "start_time": "2022-11-06T14:35:55.894Z"
   },
   {
    "duration": 24,
    "start_time": "2022-11-06T14:35:55.956Z"
   },
   {
    "duration": 1368,
    "start_time": "2022-11-06T14:35:55.983Z"
   },
   {
    "duration": 31,
    "start_time": "2022-11-06T14:35:57.353Z"
   },
   {
    "duration": 12,
    "start_time": "2022-11-06T14:35:57.386Z"
   },
   {
    "duration": 74,
    "start_time": "2022-11-06T14:35:57.400Z"
   },
   {
    "duration": 26,
    "start_time": "2022-11-06T14:35:57.476Z"
   },
   {
    "duration": 169,
    "start_time": "2022-11-06T14:35:57.504Z"
   },
   {
    "duration": 6,
    "start_time": "2022-11-06T14:35:57.676Z"
   },
   {
    "duration": 49,
    "start_time": "2022-11-06T14:35:57.683Z"
   },
   {
    "duration": 18,
    "start_time": "2022-11-06T14:35:57.734Z"
   },
   {
    "duration": 3,
    "start_time": "2022-11-06T14:35:57.754Z"
   },
   {
    "duration": 7,
    "start_time": "2022-11-06T14:35:57.759Z"
   },
   {
    "duration": 245,
    "start_time": "2022-11-06T14:35:57.768Z"
   },
   {
    "duration": 18,
    "start_time": "2022-11-06T14:35:58.015Z"
   },
   {
    "duration": 3,
    "start_time": "2022-11-06T14:35:58.034Z"
   },
   {
    "duration": 566,
    "start_time": "2022-11-06T14:35:58.039Z"
   },
   {
    "duration": 0,
    "start_time": "2022-11-06T14:35:58.607Z"
   },
   {
    "duration": 0,
    "start_time": "2022-11-06T14:35:58.608Z"
   },
   {
    "duration": 0,
    "start_time": "2022-11-06T14:35:58.609Z"
   },
   {
    "duration": 11,
    "start_time": "2022-11-06T14:40:55.134Z"
   },
   {
    "duration": 3,
    "start_time": "2022-11-06T14:41:04.604Z"
   },
   {
    "duration": 377,
    "start_time": "2022-11-06T14:41:06.199Z"
   },
   {
    "duration": 428,
    "start_time": "2022-11-06T14:46:31.204Z"
   },
   {
    "duration": 76,
    "start_time": "2022-11-06T14:53:15.853Z"
   },
   {
    "duration": 15,
    "start_time": "2022-11-06T14:53:31.676Z"
   },
   {
    "duration": 37,
    "start_time": "2022-11-06T14:54:07.201Z"
   },
   {
    "duration": 16,
    "start_time": "2022-11-06T14:54:16.368Z"
   },
   {
    "duration": 16,
    "start_time": "2022-11-06T14:54:31.331Z"
   },
   {
    "duration": 434,
    "start_time": "2022-11-06T15:00:08.430Z"
   },
   {
    "duration": 116,
    "start_time": "2022-11-06T15:00:08.866Z"
   },
   {
    "duration": 79,
    "start_time": "2022-11-06T15:00:08.987Z"
   },
   {
    "duration": 68,
    "start_time": "2022-11-06T15:00:09.068Z"
   },
   {
    "duration": 3,
    "start_time": "2022-11-06T15:00:09.138Z"
   },
   {
    "duration": 9,
    "start_time": "2022-11-06T15:00:09.144Z"
   },
   {
    "duration": 26,
    "start_time": "2022-11-06T15:00:09.155Z"
   },
   {
    "duration": 61,
    "start_time": "2022-11-06T15:00:09.182Z"
   },
   {
    "duration": 26,
    "start_time": "2022-11-06T15:00:09.247Z"
   },
   {
    "duration": 1165,
    "start_time": "2022-11-06T15:00:09.275Z"
   },
   {
    "duration": 32,
    "start_time": "2022-11-06T15:00:10.442Z"
   },
   {
    "duration": 14,
    "start_time": "2022-11-06T15:00:10.482Z"
   },
   {
    "duration": 47,
    "start_time": "2022-11-06T15:00:10.498Z"
   },
   {
    "duration": 23,
    "start_time": "2022-11-06T15:00:10.546Z"
   },
   {
    "duration": 165,
    "start_time": "2022-11-06T15:00:10.571Z"
   },
   {
    "duration": 5,
    "start_time": "2022-11-06T15:00:10.737Z"
   },
   {
    "duration": 38,
    "start_time": "2022-11-06T15:00:10.744Z"
   },
   {
    "duration": 25,
    "start_time": "2022-11-06T15:00:10.784Z"
   },
   {
    "duration": 13,
    "start_time": "2022-11-06T15:00:10.824Z"
   },
   {
    "duration": 17,
    "start_time": "2022-11-06T15:00:10.839Z"
   },
   {
    "duration": 198,
    "start_time": "2022-11-06T15:00:10.858Z"
   },
   {
    "duration": 11,
    "start_time": "2022-11-06T15:00:11.058Z"
   },
   {
    "duration": 8,
    "start_time": "2022-11-06T15:00:11.071Z"
   },
   {
    "duration": 56950,
    "start_time": "2022-11-06T15:00:11.081Z"
   },
   {
    "duration": 3,
    "start_time": "2022-11-06T15:01:08.033Z"
   },
   {
    "duration": 181,
    "start_time": "2022-11-06T15:01:08.038Z"
   },
   {
    "duration": 0,
    "start_time": "2022-11-06T15:01:08.220Z"
   },
   {
    "duration": 12,
    "start_time": "2022-11-06T15:05:39.892Z"
   },
   {
    "duration": 590067,
    "start_time": "2022-11-06T15:11:07.105Z"
   },
   {
    "duration": 21,
    "start_time": "2022-11-06T15:37:42.282Z"
   },
   {
    "duration": 18,
    "start_time": "2022-11-06T15:38:26.989Z"
   },
   {
    "duration": 454,
    "start_time": "2022-11-06T15:38:41.648Z"
   },
   {
    "duration": 111,
    "start_time": "2022-11-06T15:38:42.105Z"
   },
   {
    "duration": 80,
    "start_time": "2022-11-06T15:38:42.219Z"
   },
   {
    "duration": 66,
    "start_time": "2022-11-06T15:38:42.302Z"
   },
   {
    "duration": 4,
    "start_time": "2022-11-06T15:38:42.370Z"
   },
   {
    "duration": 11,
    "start_time": "2022-11-06T15:38:42.376Z"
   },
   {
    "duration": 61,
    "start_time": "2022-11-06T15:38:42.390Z"
   },
   {
    "duration": 38,
    "start_time": "2022-11-06T15:38:42.453Z"
   },
   {
    "duration": 48,
    "start_time": "2022-11-06T15:38:42.493Z"
   },
   {
    "duration": 1178,
    "start_time": "2022-11-06T15:38:42.544Z"
   },
   {
    "duration": 26,
    "start_time": "2022-11-06T15:38:43.724Z"
   },
   {
    "duration": 10,
    "start_time": "2022-11-06T15:38:43.751Z"
   },
   {
    "duration": 63,
    "start_time": "2022-11-06T15:38:43.762Z"
   },
   {
    "duration": 22,
    "start_time": "2022-11-06T15:38:43.827Z"
   },
   {
    "duration": 158,
    "start_time": "2022-11-06T15:38:43.851Z"
   },
   {
    "duration": 5,
    "start_time": "2022-11-06T15:38:44.010Z"
   },
   {
    "duration": 30,
    "start_time": "2022-11-06T15:38:44.023Z"
   },
   {
    "duration": 26,
    "start_time": "2022-11-06T15:38:44.055Z"
   },
   {
    "duration": 13,
    "start_time": "2022-11-06T15:38:44.083Z"
   },
   {
    "duration": 129,
    "start_time": "2022-11-06T15:38:44.123Z"
   },
   {
    "duration": 0,
    "start_time": "2022-11-06T15:38:44.254Z"
   },
   {
    "duration": 0,
    "start_time": "2022-11-06T15:38:44.255Z"
   },
   {
    "duration": 0,
    "start_time": "2022-11-06T15:38:44.256Z"
   },
   {
    "duration": 0,
    "start_time": "2022-11-06T15:38:44.258Z"
   },
   {
    "duration": 0,
    "start_time": "2022-11-06T15:38:44.259Z"
   },
   {
    "duration": 0,
    "start_time": "2022-11-06T15:38:44.261Z"
   },
   {
    "duration": 0,
    "start_time": "2022-11-06T15:38:44.263Z"
   },
   {
    "duration": 0,
    "start_time": "2022-11-06T15:38:44.264Z"
   },
   {
    "duration": 13,
    "start_time": "2022-11-06T15:49:27.614Z"
   },
   {
    "duration": 15,
    "start_time": "2022-11-06T15:49:33.596Z"
   },
   {
    "duration": 448,
    "start_time": "2022-11-06T15:49:40.732Z"
   },
   {
    "duration": 112,
    "start_time": "2022-11-06T15:49:41.182Z"
   },
   {
    "duration": 74,
    "start_time": "2022-11-06T15:49:41.296Z"
   },
   {
    "duration": 59,
    "start_time": "2022-11-06T15:49:41.372Z"
   },
   {
    "duration": 3,
    "start_time": "2022-11-06T15:49:41.433Z"
   },
   {
    "duration": 7,
    "start_time": "2022-11-06T15:49:41.437Z"
   },
   {
    "duration": 28,
    "start_time": "2022-11-06T15:49:41.446Z"
   },
   {
    "duration": 65,
    "start_time": "2022-11-06T15:49:41.476Z"
   },
   {
    "duration": 35,
    "start_time": "2022-11-06T15:49:41.543Z"
   },
   {
    "duration": 1135,
    "start_time": "2022-11-06T15:49:41.581Z"
   },
   {
    "duration": 30,
    "start_time": "2022-11-06T15:49:42.717Z"
   },
   {
    "duration": 9,
    "start_time": "2022-11-06T15:49:42.748Z"
   },
   {
    "duration": 70,
    "start_time": "2022-11-06T15:49:42.759Z"
   },
   {
    "duration": 25,
    "start_time": "2022-11-06T15:49:42.831Z"
   },
   {
    "duration": 159,
    "start_time": "2022-11-06T15:49:42.858Z"
   },
   {
    "duration": 9,
    "start_time": "2022-11-06T15:49:43.018Z"
   },
   {
    "duration": 36,
    "start_time": "2022-11-06T15:49:43.029Z"
   },
   {
    "duration": 26,
    "start_time": "2022-11-06T15:49:43.067Z"
   },
   {
    "duration": 435,
    "start_time": "2022-11-06T15:49:43.095Z"
   },
   {
    "duration": 0,
    "start_time": "2022-11-06T15:49:43.532Z"
   },
   {
    "duration": 0,
    "start_time": "2022-11-06T15:49:43.533Z"
   },
   {
    "duration": 0,
    "start_time": "2022-11-06T15:49:43.534Z"
   },
   {
    "duration": 0,
    "start_time": "2022-11-06T15:49:43.536Z"
   },
   {
    "duration": 0,
    "start_time": "2022-11-06T15:49:43.537Z"
   },
   {
    "duration": 0,
    "start_time": "2022-11-06T15:49:43.538Z"
   },
   {
    "duration": 0,
    "start_time": "2022-11-06T15:49:43.539Z"
   },
   {
    "duration": 0,
    "start_time": "2022-11-06T15:49:43.540Z"
   },
   {
    "duration": 0,
    "start_time": "2022-11-06T15:49:43.541Z"
   },
   {
    "duration": 16,
    "start_time": "2022-11-06T15:50:53.838Z"
   },
   {
    "duration": 18,
    "start_time": "2022-11-06T15:50:55.853Z"
   },
   {
    "duration": 588153,
    "start_time": "2022-11-06T15:51:12.969Z"
   },
   {
    "duration": 14,
    "start_time": "2022-11-06T19:25:17.511Z"
   },
   {
    "duration": 384,
    "start_time": "2022-11-06T19:42:14.074Z"
   },
   {
    "duration": 113,
    "start_time": "2022-11-06T19:42:14.460Z"
   },
   {
    "duration": 72,
    "start_time": "2022-11-06T19:42:14.575Z"
   },
   {
    "duration": 43,
    "start_time": "2022-11-06T19:42:14.648Z"
   },
   {
    "duration": 3,
    "start_time": "2022-11-06T19:42:14.693Z"
   },
   {
    "duration": 29,
    "start_time": "2022-11-06T19:42:14.698Z"
   },
   {
    "duration": 26,
    "start_time": "2022-11-06T19:42:14.729Z"
   },
   {
    "duration": 35,
    "start_time": "2022-11-06T19:42:14.756Z"
   },
   {
    "duration": 50,
    "start_time": "2022-11-06T19:42:14.792Z"
   },
   {
    "duration": 1080,
    "start_time": "2022-11-06T19:42:14.843Z"
   },
   {
    "duration": 18,
    "start_time": "2022-11-06T19:42:15.925Z"
   },
   {
    "duration": 148,
    "start_time": "2022-11-06T19:42:15.944Z"
   },
   {
    "duration": 152,
    "start_time": "2022-11-06T19:42:16.094Z"
   },
   {
    "duration": 0,
    "start_time": "2022-11-06T19:42:16.248Z"
   },
   {
    "duration": 0,
    "start_time": "2022-11-06T19:42:16.249Z"
   },
   {
    "duration": 0,
    "start_time": "2022-11-06T19:42:16.251Z"
   },
   {
    "duration": 0,
    "start_time": "2022-11-06T19:42:16.252Z"
   },
   {
    "duration": 0,
    "start_time": "2022-11-06T19:42:16.255Z"
   },
   {
    "duration": 0,
    "start_time": "2022-11-06T19:42:16.256Z"
   },
   {
    "duration": 0,
    "start_time": "2022-11-06T19:42:16.258Z"
   },
   {
    "duration": 0,
    "start_time": "2022-11-06T19:42:16.259Z"
   },
   {
    "duration": 332,
    "start_time": "2022-11-06T19:42:30.768Z"
   },
   {
    "duration": 61,
    "start_time": "2022-11-06T19:44:54.814Z"
   },
   {
    "duration": 20,
    "start_time": "2022-11-06T19:44:59.964Z"
   },
   {
    "duration": 34,
    "start_time": "2022-11-06T19:54:23.661Z"
   },
   {
    "duration": 23,
    "start_time": "2022-11-06T19:54:50.470Z"
   },
   {
    "duration": 51,
    "start_time": "2022-11-06T19:55:03.674Z"
   },
   {
    "duration": 347,
    "start_time": "2022-11-06T19:59:51.856Z"
   },
   {
    "duration": 488,
    "start_time": "2022-11-06T20:00:11.423Z"
   },
   {
    "duration": 126,
    "start_time": "2022-11-06T20:00:11.914Z"
   },
   {
    "duration": 112,
    "start_time": "2022-11-06T20:00:12.043Z"
   },
   {
    "duration": 45,
    "start_time": "2022-11-06T20:00:12.158Z"
   },
   {
    "duration": 4,
    "start_time": "2022-11-06T20:00:12.224Z"
   },
   {
    "duration": 15,
    "start_time": "2022-11-06T20:00:12.230Z"
   },
   {
    "duration": 40,
    "start_time": "2022-11-06T20:00:12.247Z"
   },
   {
    "duration": 51,
    "start_time": "2022-11-06T20:00:12.289Z"
   },
   {
    "duration": 27,
    "start_time": "2022-11-06T20:00:12.342Z"
   },
   {
    "duration": 1164,
    "start_time": "2022-11-06T20:00:12.372Z"
   },
   {
    "duration": 21,
    "start_time": "2022-11-06T20:00:13.538Z"
   },
   {
    "duration": 159,
    "start_time": "2022-11-06T20:00:13.561Z"
   },
   {
    "duration": 458,
    "start_time": "2022-11-06T20:00:13.722Z"
   },
   {
    "duration": 0,
    "start_time": "2022-11-06T20:00:14.182Z"
   },
   {
    "duration": 0,
    "start_time": "2022-11-06T20:00:14.183Z"
   },
   {
    "duration": 0,
    "start_time": "2022-11-06T20:00:14.184Z"
   },
   {
    "duration": 1,
    "start_time": "2022-11-06T20:00:14.185Z"
   },
   {
    "duration": 0,
    "start_time": "2022-11-06T20:00:14.187Z"
   },
   {
    "duration": 0,
    "start_time": "2022-11-06T20:00:14.188Z"
   },
   {
    "duration": 0,
    "start_time": "2022-11-06T20:00:14.189Z"
   },
   {
    "duration": 0,
    "start_time": "2022-11-06T20:00:14.191Z"
   },
   {
    "duration": 37,
    "start_time": "2022-11-06T20:00:39.289Z"
   },
   {
    "duration": 37,
    "start_time": "2022-11-06T20:00:42.517Z"
   },
   {
    "duration": 39,
    "start_time": "2022-11-06T20:01:26.461Z"
   },
   {
    "duration": 31,
    "start_time": "2022-11-06T20:01:27.310Z"
   },
   {
    "duration": 24,
    "start_time": "2022-11-06T20:17:24.503Z"
   },
   {
    "duration": 421,
    "start_time": "2022-11-06T20:50:44.991Z"
   },
   {
    "duration": 127,
    "start_time": "2022-11-06T20:50:45.414Z"
   },
   {
    "duration": 103,
    "start_time": "2022-11-06T20:50:45.544Z"
   },
   {
    "duration": 43,
    "start_time": "2022-11-06T20:50:45.650Z"
   },
   {
    "duration": 4,
    "start_time": "2022-11-06T20:50:45.695Z"
   },
   {
    "duration": 33,
    "start_time": "2022-11-06T20:50:45.701Z"
   },
   {
    "duration": 27,
    "start_time": "2022-11-06T20:50:45.736Z"
   },
   {
    "duration": 36,
    "start_time": "2022-11-06T20:50:45.764Z"
   },
   {
    "duration": 43,
    "start_time": "2022-11-06T20:50:45.801Z"
   },
   {
    "duration": 1122,
    "start_time": "2022-11-06T20:50:45.847Z"
   },
   {
    "duration": 19,
    "start_time": "2022-11-06T20:50:46.971Z"
   },
   {
    "duration": 156,
    "start_time": "2022-11-06T20:50:46.992Z"
   },
   {
    "duration": 43,
    "start_time": "2022-11-06T20:50:47.150Z"
   },
   {
    "duration": 50,
    "start_time": "2022-11-06T20:50:47.195Z"
   },
   {
    "duration": 6,
    "start_time": "2022-11-06T20:50:47.247Z"
   },
   {
    "duration": 11,
    "start_time": "2022-11-06T20:50:47.255Z"
   },
   {
    "duration": 3,
    "start_time": "2022-11-06T20:50:47.268Z"
   },
   {
    "duration": 581,
    "start_time": "2022-11-06T20:50:47.273Z"
   },
   {
    "duration": 0,
    "start_time": "2022-11-06T20:50:47.855Z"
   },
   {
    "duration": 0,
    "start_time": "2022-11-06T20:50:47.857Z"
   },
   {
    "duration": 0,
    "start_time": "2022-11-06T20:50:47.858Z"
   },
   {
    "duration": 16,
    "start_time": "2022-11-06T20:51:26.795Z"
   },
   {
    "duration": 56,
    "start_time": "2022-11-06T20:52:15.940Z"
   },
   {
    "duration": 442,
    "start_time": "2022-11-06T20:52:24.717Z"
   },
   {
    "duration": 113,
    "start_time": "2022-11-06T20:52:25.161Z"
   },
   {
    "duration": 74,
    "start_time": "2022-11-06T20:52:25.276Z"
   },
   {
    "duration": 42,
    "start_time": "2022-11-06T20:52:25.352Z"
   },
   {
    "duration": 4,
    "start_time": "2022-11-06T20:52:25.396Z"
   },
   {
    "duration": 27,
    "start_time": "2022-11-06T20:52:25.402Z"
   },
   {
    "duration": 25,
    "start_time": "2022-11-06T20:52:25.431Z"
   },
   {
    "duration": 35,
    "start_time": "2022-11-06T20:52:25.458Z"
   },
   {
    "duration": 61,
    "start_time": "2022-11-06T20:52:25.495Z"
   },
   {
    "duration": 1089,
    "start_time": "2022-11-06T20:52:25.560Z"
   },
   {
    "duration": 18,
    "start_time": "2022-11-06T20:52:26.651Z"
   },
   {
    "duration": 156,
    "start_time": "2022-11-06T20:52:26.671Z"
   },
   {
    "duration": 175,
    "start_time": "2022-11-06T20:52:26.828Z"
   },
   {
    "duration": 0,
    "start_time": "2022-11-06T20:52:27.006Z"
   },
   {
    "duration": 0,
    "start_time": "2022-11-06T20:52:27.007Z"
   },
   {
    "duration": 0,
    "start_time": "2022-11-06T20:52:27.008Z"
   },
   {
    "duration": 0,
    "start_time": "2022-11-06T20:52:27.008Z"
   },
   {
    "duration": 0,
    "start_time": "2022-11-06T20:52:27.009Z"
   },
   {
    "duration": 0,
    "start_time": "2022-11-06T20:52:27.011Z"
   },
   {
    "duration": 0,
    "start_time": "2022-11-06T20:52:27.011Z"
   },
   {
    "duration": 0,
    "start_time": "2022-11-06T20:52:27.012Z"
   },
   {
    "duration": 354,
    "start_time": "2022-11-06T20:53:06.350Z"
   },
   {
    "duration": 401,
    "start_time": "2022-11-06T20:53:18.071Z"
   },
   {
    "duration": 114,
    "start_time": "2022-11-06T20:53:18.475Z"
   },
   {
    "duration": 75,
    "start_time": "2022-11-06T20:53:18.591Z"
   },
   {
    "duration": 62,
    "start_time": "2022-11-06T20:53:18.668Z"
   },
   {
    "duration": 4,
    "start_time": "2022-11-06T20:53:18.732Z"
   },
   {
    "duration": 8,
    "start_time": "2022-11-06T20:53:18.738Z"
   },
   {
    "duration": 26,
    "start_time": "2022-11-06T20:53:18.748Z"
   },
   {
    "duration": 69,
    "start_time": "2022-11-06T20:53:18.776Z"
   },
   {
    "duration": 26,
    "start_time": "2022-11-06T20:53:18.847Z"
   },
   {
    "duration": 1144,
    "start_time": "2022-11-06T20:53:18.877Z"
   },
   {
    "duration": 18,
    "start_time": "2022-11-06T20:53:20.023Z"
   },
   {
    "duration": 151,
    "start_time": "2022-11-06T20:53:20.043Z"
   },
   {
    "duration": 454,
    "start_time": "2022-11-06T20:53:20.196Z"
   },
   {
    "duration": 1,
    "start_time": "2022-11-06T20:53:20.651Z"
   },
   {
    "duration": 0,
    "start_time": "2022-11-06T20:53:20.653Z"
   },
   {
    "duration": 0,
    "start_time": "2022-11-06T20:53:20.655Z"
   },
   {
    "duration": 0,
    "start_time": "2022-11-06T20:53:20.656Z"
   },
   {
    "duration": 0,
    "start_time": "2022-11-06T20:53:20.658Z"
   },
   {
    "duration": 0,
    "start_time": "2022-11-06T20:53:20.659Z"
   },
   {
    "duration": 0,
    "start_time": "2022-11-06T20:53:20.661Z"
   },
   {
    "duration": 0,
    "start_time": "2022-11-06T20:53:20.662Z"
   },
   {
    "duration": 384,
    "start_time": "2022-11-06T20:59:24.792Z"
   },
   {
    "duration": 50,
    "start_time": "2022-11-06T20:59:45.871Z"
   },
   {
    "duration": 8,
    "start_time": "2022-11-06T21:01:31.658Z"
   },
   {
    "duration": 11,
    "start_time": "2022-11-06T21:01:33.400Z"
   },
   {
    "duration": 2,
    "start_time": "2022-11-06T21:01:34.036Z"
   },
   {
    "duration": 372,
    "start_time": "2022-11-06T21:01:34.635Z"
   },
   {
    "duration": 21,
    "start_time": "2022-11-06T21:02:13.066Z"
   },
   {
    "duration": 28,
    "start_time": "2022-11-06T21:02:43.528Z"
   },
   {
    "duration": 17,
    "start_time": "2022-11-06T21:02:51.198Z"
   },
   {
    "duration": 19,
    "start_time": "2022-11-06T21:03:17.205Z"
   },
   {
    "duration": 16,
    "start_time": "2022-11-06T21:06:25.839Z"
   },
   {
    "duration": 51,
    "start_time": "2022-11-07T06:40:37.824Z"
   },
   {
    "duration": 437,
    "start_time": "2022-11-07T06:51:35.000Z"
   },
   {
    "duration": 112,
    "start_time": "2022-11-07T06:51:35.439Z"
   },
   {
    "duration": 75,
    "start_time": "2022-11-07T06:51:35.553Z"
   },
   {
    "duration": 39,
    "start_time": "2022-11-07T06:51:35.632Z"
   },
   {
    "duration": 3,
    "start_time": "2022-11-07T06:51:35.673Z"
   },
   {
    "duration": 12,
    "start_time": "2022-11-07T06:51:35.677Z"
   },
   {
    "duration": 45,
    "start_time": "2022-11-07T06:51:35.690Z"
   },
   {
    "duration": 29,
    "start_time": "2022-11-07T06:51:35.736Z"
   },
   {
    "duration": 53,
    "start_time": "2022-11-07T06:51:35.766Z"
   },
   {
    "duration": 1034,
    "start_time": "2022-11-07T06:51:35.822Z"
   },
   {
    "duration": 15,
    "start_time": "2022-11-07T06:51:36.857Z"
   },
   {
    "duration": 164,
    "start_time": "2022-11-07T06:51:36.874Z"
   },
   {
    "duration": 166,
    "start_time": "2022-11-07T06:51:37.040Z"
   },
   {
    "duration": 0,
    "start_time": "2022-11-07T06:51:37.220Z"
   },
   {
    "duration": 0,
    "start_time": "2022-11-07T06:51:37.222Z"
   },
   {
    "duration": 0,
    "start_time": "2022-11-07T06:51:37.223Z"
   },
   {
    "duration": 0,
    "start_time": "2022-11-07T06:51:37.225Z"
   },
   {
    "duration": 0,
    "start_time": "2022-11-07T06:51:37.226Z"
   },
   {
    "duration": 0,
    "start_time": "2022-11-07T06:51:37.227Z"
   },
   {
    "duration": 0,
    "start_time": "2022-11-07T06:51:37.227Z"
   },
   {
    "duration": 0,
    "start_time": "2022-11-07T06:51:37.228Z"
   },
   {
    "duration": 0,
    "start_time": "2022-11-07T06:51:37.229Z"
   },
   {
    "duration": 0,
    "start_time": "2022-11-07T06:51:37.231Z"
   },
   {
    "duration": 47,
    "start_time": "2022-11-08T01:00:58.799Z"
   },
   {
    "duration": 357,
    "start_time": "2022-11-08T01:01:03.390Z"
   },
   {
    "duration": 376,
    "start_time": "2022-11-08T01:01:03.749Z"
   },
   {
    "duration": 64,
    "start_time": "2022-11-08T01:01:04.127Z"
   },
   {
    "duration": 62,
    "start_time": "2022-11-08T01:01:04.193Z"
   },
   {
    "duration": 3,
    "start_time": "2022-11-08T01:01:04.257Z"
   },
   {
    "duration": 8,
    "start_time": "2022-11-08T01:01:04.261Z"
   },
   {
    "duration": 21,
    "start_time": "2022-11-08T01:01:04.270Z"
   },
   {
    "duration": 33,
    "start_time": "2022-11-08T01:01:04.293Z"
   },
   {
    "duration": 40,
    "start_time": "2022-11-08T01:01:04.327Z"
   },
   {
    "duration": 1149,
    "start_time": "2022-11-08T01:01:04.369Z"
   },
   {
    "duration": 18,
    "start_time": "2022-11-08T01:01:05.520Z"
   },
   {
    "duration": 132,
    "start_time": "2022-11-08T01:01:05.546Z"
   },
   {
    "duration": 14,
    "start_time": "2022-11-08T01:01:05.680Z"
   },
   {
    "duration": 5,
    "start_time": "2022-11-08T01:01:05.697Z"
   },
   {
    "duration": 9,
    "start_time": "2022-11-08T01:01:05.704Z"
   },
   {
    "duration": 2,
    "start_time": "2022-11-08T01:01:05.715Z"
   },
   {
    "duration": 16,
    "start_time": "2022-11-08T01:01:05.745Z"
   },
   {
    "duration": 364,
    "start_time": "2022-11-08T01:01:05.763Z"
   },
   {
    "duration": 0,
    "start_time": "2022-11-08T01:01:06.129Z"
   },
   {
    "duration": 0,
    "start_time": "2022-11-08T01:01:06.130Z"
   },
   {
    "duration": 0,
    "start_time": "2022-11-08T01:01:06.131Z"
   },
   {
    "duration": 0,
    "start_time": "2022-11-08T01:01:06.132Z"
   },
   {
    "duration": 27,
    "start_time": "2022-11-08T01:03:34.398Z"
   },
   {
    "duration": 47,
    "start_time": "2022-11-08T01:03:47.096Z"
   },
   {
    "duration": 371,
    "start_time": "2022-11-08T01:03:51.512Z"
   },
   {
    "duration": 396,
    "start_time": "2022-11-08T01:07:09.610Z"
   },
   {
    "duration": 406,
    "start_time": "2022-11-08T01:07:30.311Z"
   },
   {
    "duration": 9,
    "start_time": "2022-11-08T01:09:59.579Z"
   },
   {
    "duration": 41,
    "start_time": "2022-11-08T01:10:16.363Z"
   },
   {
    "duration": 52,
    "start_time": "2022-11-08T01:11:23.691Z"
   },
   {
    "duration": 45,
    "start_time": "2022-11-08T01:11:30.392Z"
   },
   {
    "duration": 41386,
    "start_time": "2022-11-08T01:11:55.076Z"
   },
   {
    "duration": 38366,
    "start_time": "2022-11-08T01:22:29.910Z"
   },
   {
    "duration": 352,
    "start_time": "2022-11-08T01:56:15.047Z"
   },
   {
    "duration": 9,
    "start_time": "2022-11-08T01:57:40.365Z"
   },
   {
    "duration": 17,
    "start_time": "2022-11-08T01:57:47.350Z"
   },
   {
    "duration": 15,
    "start_time": "2022-11-08T02:22:18.679Z"
   },
   {
    "duration": 13,
    "start_time": "2022-11-08T02:22:30.361Z"
   },
   {
    "duration": 13,
    "start_time": "2022-11-08T02:22:43.711Z"
   },
   {
    "duration": 5,
    "start_time": "2022-11-08T02:22:51.584Z"
   },
   {
    "duration": 505,
    "start_time": "2022-11-08T02:22:54.289Z"
   },
   {
    "duration": 524,
    "start_time": "2022-11-08T02:26:09.322Z"
   },
   {
    "duration": 28,
    "start_time": "2022-11-08T02:28:10.633Z"
   },
   {
    "duration": 10,
    "start_time": "2022-11-08T02:28:33.452Z"
   },
   {
    "duration": 10,
    "start_time": "2022-11-08T02:28:54.320Z"
   },
   {
    "duration": 430,
    "start_time": "2022-11-08T02:29:05.434Z"
   },
   {
    "duration": 106,
    "start_time": "2022-11-08T02:29:05.866Z"
   },
   {
    "duration": 79,
    "start_time": "2022-11-08T02:29:05.974Z"
   },
   {
    "duration": 40,
    "start_time": "2022-11-08T02:29:06.054Z"
   },
   {
    "duration": 4,
    "start_time": "2022-11-08T02:29:06.096Z"
   },
   {
    "duration": 30,
    "start_time": "2022-11-08T02:29:06.101Z"
   },
   {
    "duration": 37,
    "start_time": "2022-11-08T02:29:06.132Z"
   },
   {
    "duration": 34,
    "start_time": "2022-11-08T02:29:06.170Z"
   },
   {
    "duration": 47,
    "start_time": "2022-11-08T02:29:06.206Z"
   },
   {
    "duration": 3342,
    "start_time": "2022-11-08T02:29:06.255Z"
   },
   {
    "duration": 17,
    "start_time": "2022-11-08T02:29:09.599Z"
   },
   {
    "duration": 161,
    "start_time": "2022-11-08T02:29:09.618Z"
   },
   {
    "duration": 17,
    "start_time": "2022-11-08T02:29:09.780Z"
   },
   {
    "duration": 38393,
    "start_time": "2022-11-08T02:29:09.800Z"
   },
   {
    "duration": 7,
    "start_time": "2022-11-08T02:29:48.195Z"
   },
   {
    "duration": 12,
    "start_time": "2022-11-08T02:29:48.204Z"
   },
   {
    "duration": 3,
    "start_time": "2022-11-08T02:29:48.217Z"
   },
   {
    "duration": 37,
    "start_time": "2022-11-08T02:29:48.222Z"
   },
   {
    "duration": 451,
    "start_time": "2022-11-08T02:29:48.261Z"
   },
   {
    "duration": 0,
    "start_time": "2022-11-08T02:29:48.714Z"
   },
   {
    "duration": 0,
    "start_time": "2022-11-08T02:29:48.715Z"
   },
   {
    "duration": 0,
    "start_time": "2022-11-08T02:29:48.716Z"
   },
   {
    "duration": 2048,
    "start_time": "2022-11-08T02:30:08.207Z"
   },
   {
    "duration": 21,
    "start_time": "2022-11-08T02:30:22.660Z"
   },
   {
    "duration": 509,
    "start_time": "2022-11-08T02:30:25.514Z"
   },
   {
    "duration": 6,
    "start_time": "2022-11-08T02:36:05.797Z"
   },
   {
    "duration": 412,
    "start_time": "2022-11-08T02:36:30.440Z"
   },
   {
    "duration": 105,
    "start_time": "2022-11-08T02:36:30.854Z"
   },
   {
    "duration": 86,
    "start_time": "2022-11-08T02:36:30.961Z"
   },
   {
    "duration": 37,
    "start_time": "2022-11-08T02:36:31.050Z"
   },
   {
    "duration": 4,
    "start_time": "2022-11-08T02:36:31.089Z"
   },
   {
    "duration": 14,
    "start_time": "2022-11-08T02:36:31.095Z"
   },
   {
    "duration": 46,
    "start_time": "2022-11-08T02:36:31.111Z"
   },
   {
    "duration": 35,
    "start_time": "2022-11-08T02:36:31.159Z"
   },
   {
    "duration": 23,
    "start_time": "2022-11-08T02:36:31.196Z"
   },
   {
    "duration": 3373,
    "start_time": "2022-11-08T02:36:31.221Z"
   },
   {
    "duration": 18,
    "start_time": "2022-11-08T02:36:34.595Z"
   },
   {
    "duration": 136,
    "start_time": "2022-11-08T02:36:34.615Z"
   },
   {
    "duration": 18,
    "start_time": "2022-11-08T02:36:34.752Z"
   },
   {
    "duration": 39117,
    "start_time": "2022-11-08T02:36:34.771Z"
   },
   {
    "duration": 6,
    "start_time": "2022-11-08T02:37:13.889Z"
   },
   {
    "duration": 10,
    "start_time": "2022-11-08T02:37:13.897Z"
   },
   {
    "duration": 12,
    "start_time": "2022-11-08T02:37:13.908Z"
   },
   {
    "duration": 3,
    "start_time": "2022-11-08T02:37:13.921Z"
   },
   {
    "duration": 33,
    "start_time": "2022-11-08T02:37:13.925Z"
   },
   {
    "duration": 449,
    "start_time": "2022-11-08T02:37:13.959Z"
   },
   {
    "duration": 0,
    "start_time": "2022-11-08T02:37:14.410Z"
   },
   {
    "duration": 0,
    "start_time": "2022-11-08T02:37:14.412Z"
   },
   {
    "duration": 0,
    "start_time": "2022-11-08T02:37:14.414Z"
   },
   {
    "duration": 17,
    "start_time": "2022-11-08T02:44:20.060Z"
   },
   {
    "duration": 5,
    "start_time": "2022-11-08T02:44:36.438Z"
   },
   {
    "duration": 5,
    "start_time": "2022-11-08T02:45:16.905Z"
   },
   {
    "duration": 16,
    "start_time": "2022-11-08T02:45:33.621Z"
   },
   {
    "duration": 194,
    "start_time": "2022-11-08T02:46:42.228Z"
   },
   {
    "duration": 9,
    "start_time": "2022-11-08T02:47:50.097Z"
   },
   {
    "duration": 440,
    "start_time": "2022-11-08T02:47:54.054Z"
   },
   {
    "duration": 706,
    "start_time": "2022-11-08T02:48:33.793Z"
   },
   {
    "duration": 708,
    "start_time": "2022-11-08T02:49:45.741Z"
   },
   {
    "duration": 349,
    "start_time": "2022-11-08T02:50:57.391Z"
   },
   {
    "duration": 103,
    "start_time": "2022-11-08T02:50:57.771Z"
   },
   {
    "duration": 64,
    "start_time": "2022-11-08T02:50:58.344Z"
   },
   {
    "duration": 36,
    "start_time": "2022-11-08T02:50:58.757Z"
   },
   {
    "duration": 3,
    "start_time": "2022-11-08T02:50:59.759Z"
   },
   {
    "duration": 6,
    "start_time": "2022-11-08T02:51:00.718Z"
   },
   {
    "duration": 22,
    "start_time": "2022-11-08T02:51:01.073Z"
   },
   {
    "duration": 33,
    "start_time": "2022-11-08T02:51:01.714Z"
   },
   {
    "duration": 24,
    "start_time": "2022-11-08T02:51:02.509Z"
   },
   {
    "duration": 3225,
    "start_time": "2022-11-08T02:51:05.016Z"
   },
   {
    "duration": 17,
    "start_time": "2022-11-08T02:51:08.243Z"
   },
   {
    "duration": 134,
    "start_time": "2022-11-08T02:51:09.745Z"
   },
   {
    "duration": 5,
    "start_time": "2022-11-08T02:51:13.658Z"
   },
   {
    "duration": 5,
    "start_time": "2022-11-08T02:51:23.971Z"
   },
   {
    "duration": 4,
    "start_time": "2022-11-08T02:51:29.900Z"
   },
   {
    "duration": 7,
    "start_time": "2022-11-08T02:51:45.292Z"
   },
   {
    "duration": 7,
    "start_time": "2022-11-08T02:51:56.468Z"
   },
   {
    "duration": 15,
    "start_time": "2022-11-08T02:52:03.117Z"
   },
   {
    "duration": 20,
    "start_time": "2022-11-08T02:58:30.299Z"
   },
   {
    "duration": 13580,
    "start_time": "2022-11-08T02:58:32.003Z"
   },
   {
    "duration": 6,
    "start_time": "2022-11-08T02:58:45.585Z"
   },
   {
    "duration": 7,
    "start_time": "2022-11-08T02:58:45.593Z"
   },
   {
    "duration": 12,
    "start_time": "2022-11-08T02:58:45.602Z"
   },
   {
    "duration": 149,
    "start_time": "2022-11-08T02:58:45.616Z"
   },
   {
    "duration": 42,
    "start_time": "2022-11-08T02:59:11.918Z"
   },
   {
    "duration": 317,
    "start_time": "2022-11-08T02:59:35.130Z"
   },
   {
    "duration": 16,
    "start_time": "2022-11-08T03:00:03.230Z"
   },
   {
    "duration": 3,
    "start_time": "2022-11-08T03:05:53.848Z"
   },
   {
    "duration": 21,
    "start_time": "2022-11-08T03:05:58.721Z"
   },
   {
    "duration": 425,
    "start_time": "2022-11-08T03:06:14.717Z"
   },
   {
    "duration": 103,
    "start_time": "2022-11-08T03:06:15.144Z"
   },
   {
    "duration": 65,
    "start_time": "2022-11-08T03:06:15.249Z"
   },
   {
    "duration": 65,
    "start_time": "2022-11-08T03:06:15.316Z"
   },
   {
    "duration": 3,
    "start_time": "2022-11-08T03:06:15.383Z"
   },
   {
    "duration": 9,
    "start_time": "2022-11-08T03:06:15.388Z"
   },
   {
    "duration": 24,
    "start_time": "2022-11-08T03:06:15.398Z"
   },
   {
    "duration": 46,
    "start_time": "2022-11-08T03:06:15.424Z"
   },
   {
    "duration": 24,
    "start_time": "2022-11-08T03:06:15.472Z"
   },
   {
    "duration": 3375,
    "start_time": "2022-11-08T03:06:15.499Z"
   },
   {
    "duration": 18,
    "start_time": "2022-11-08T03:06:18.876Z"
   },
   {
    "duration": 139,
    "start_time": "2022-11-08T03:06:18.896Z"
   },
   {
    "duration": 21,
    "start_time": "2022-11-08T03:06:19.045Z"
   },
   {
    "duration": 13525,
    "start_time": "2022-11-08T03:06:19.068Z"
   },
   {
    "duration": 6,
    "start_time": "2022-11-08T03:06:32.594Z"
   },
   {
    "duration": 26,
    "start_time": "2022-11-08T03:06:32.601Z"
   },
   {
    "duration": 148,
    "start_time": "2022-11-08T03:06:32.629Z"
   },
   {
    "duration": 0,
    "start_time": "2022-11-08T03:06:32.779Z"
   },
   {
    "duration": 0,
    "start_time": "2022-11-08T03:06:32.780Z"
   },
   {
    "duration": 0,
    "start_time": "2022-11-08T03:06:32.781Z"
   },
   {
    "duration": 0,
    "start_time": "2022-11-08T03:06:32.783Z"
   },
   {
    "duration": 0,
    "start_time": "2022-11-08T03:06:32.784Z"
   },
   {
    "duration": 0,
    "start_time": "2022-11-08T03:06:32.785Z"
   },
   {
    "duration": 0,
    "start_time": "2022-11-08T03:06:32.787Z"
   },
   {
    "duration": 7,
    "start_time": "2022-11-08T03:07:02.222Z"
   },
   {
    "duration": 23,
    "start_time": "2022-11-08T03:07:03.183Z"
   },
   {
    "duration": 424,
    "start_time": "2022-11-08T03:07:09.820Z"
   },
   {
    "duration": 108,
    "start_time": "2022-11-08T03:07:10.245Z"
   },
   {
    "duration": 66,
    "start_time": "2022-11-08T03:07:10.354Z"
   },
   {
    "duration": 39,
    "start_time": "2022-11-08T03:07:10.445Z"
   },
   {
    "duration": 3,
    "start_time": "2022-11-08T03:07:10.486Z"
   },
   {
    "duration": 33,
    "start_time": "2022-11-08T03:07:10.491Z"
   },
   {
    "duration": 40,
    "start_time": "2022-11-08T03:07:10.526Z"
   },
   {
    "duration": 30,
    "start_time": "2022-11-08T03:07:10.568Z"
   },
   {
    "duration": 23,
    "start_time": "2022-11-08T03:07:10.600Z"
   },
   {
    "duration": 3329,
    "start_time": "2022-11-08T03:07:10.645Z"
   },
   {
    "duration": 16,
    "start_time": "2022-11-08T03:07:13.975Z"
   },
   {
    "duration": 132,
    "start_time": "2022-11-08T03:07:13.993Z"
   },
   {
    "duration": 30,
    "start_time": "2022-11-08T03:07:14.127Z"
   },
   {
    "duration": 13480,
    "start_time": "2022-11-08T03:07:14.158Z"
   },
   {
    "duration": 8,
    "start_time": "2022-11-08T03:07:27.640Z"
   },
   {
    "duration": 33,
    "start_time": "2022-11-08T03:07:27.650Z"
   },
   {
    "duration": 15,
    "start_time": "2022-11-08T03:07:27.685Z"
   },
   {
    "duration": 3,
    "start_time": "2022-11-08T03:07:27.701Z"
   },
   {
    "duration": 27,
    "start_time": "2022-11-08T03:07:27.705Z"
   },
   {
    "duration": 21,
    "start_time": "2022-11-08T03:07:27.746Z"
   },
   {
    "duration": 49087,
    "start_time": "2022-11-08T03:07:27.768Z"
   },
   {
    "duration": 213,
    "start_time": "2022-11-08T03:08:16.857Z"
   },
   {
    "duration": 0,
    "start_time": "2022-11-08T03:08:17.072Z"
   },
   {
    "duration": 0,
    "start_time": "2022-11-08T03:08:17.073Z"
   },
   {
    "duration": 496,
    "start_time": "2022-11-08T03:09:37.114Z"
   },
   {
    "duration": 372,
    "start_time": "2022-11-08T11:42:22.977Z"
   },
   {
    "duration": 346,
    "start_time": "2022-11-08T11:42:23.351Z"
   },
   {
    "duration": 60,
    "start_time": "2022-11-08T11:42:23.699Z"
   },
   {
    "duration": 35,
    "start_time": "2022-11-08T11:42:23.762Z"
   },
   {
    "duration": 3,
    "start_time": "2022-11-08T11:42:23.799Z"
   },
   {
    "duration": 13,
    "start_time": "2022-11-08T11:42:23.803Z"
   },
   {
    "duration": 24,
    "start_time": "2022-11-08T11:42:23.818Z"
   },
   {
    "duration": 39,
    "start_time": "2022-11-08T11:42:23.844Z"
   },
   {
    "duration": 21,
    "start_time": "2022-11-08T11:42:23.885Z"
   },
   {
    "duration": 4272,
    "start_time": "2022-11-08T11:42:23.909Z"
   },
   {
    "duration": 16,
    "start_time": "2022-11-08T11:42:28.182Z"
   },
   {
    "duration": 127,
    "start_time": "2022-11-08T11:42:28.200Z"
   },
   {
    "duration": 19,
    "start_time": "2022-11-08T11:42:28.329Z"
   },
   {
    "duration": 70,
    "start_time": "2022-11-08T11:42:28.349Z"
   },
   {
    "duration": 0,
    "start_time": "2022-11-08T11:42:28.420Z"
   },
   {
    "duration": 0,
    "start_time": "2022-11-08T11:42:28.421Z"
   },
   {
    "duration": 0,
    "start_time": "2022-11-08T11:42:28.423Z"
   },
   {
    "duration": 0,
    "start_time": "2022-11-08T11:42:28.424Z"
   },
   {
    "duration": 0,
    "start_time": "2022-11-08T11:42:28.425Z"
   },
   {
    "duration": 0,
    "start_time": "2022-11-08T11:42:28.425Z"
   },
   {
    "duration": 0,
    "start_time": "2022-11-08T11:42:28.427Z"
   },
   {
    "duration": 0,
    "start_time": "2022-11-08T11:42:28.427Z"
   },
   {
    "duration": 0,
    "start_time": "2022-11-08T11:42:28.428Z"
   },
   {
    "duration": 51,
    "start_time": "2022-11-08T11:42:42.635Z"
   },
   {
    "duration": 400,
    "start_time": "2022-11-08T17:26:18.477Z"
   },
   {
    "duration": 106,
    "start_time": "2022-11-08T17:26:18.879Z"
   },
   {
    "duration": 63,
    "start_time": "2022-11-08T17:26:18.986Z"
   },
   {
    "duration": 44,
    "start_time": "2022-11-08T17:26:19.051Z"
   },
   {
    "duration": 3,
    "start_time": "2022-11-08T17:26:19.096Z"
   },
   {
    "duration": 8,
    "start_time": "2022-11-08T17:26:19.100Z"
   },
   {
    "duration": 22,
    "start_time": "2022-11-08T17:26:19.109Z"
   },
   {
    "duration": 47,
    "start_time": "2022-11-08T17:26:19.132Z"
   },
   {
    "duration": 20,
    "start_time": "2022-11-08T17:26:19.181Z"
   },
   {
    "duration": 3294,
    "start_time": "2022-11-08T17:26:19.203Z"
   },
   {
    "duration": 16,
    "start_time": "2022-11-08T17:26:22.499Z"
   },
   {
    "duration": 159,
    "start_time": "2022-11-08T17:26:22.516Z"
   },
   {
    "duration": 22,
    "start_time": "2022-11-08T17:26:22.677Z"
   },
   {
    "duration": 12566,
    "start_time": "2022-11-08T17:26:22.700Z"
   },
   {
    "duration": 6,
    "start_time": "2022-11-08T17:26:35.267Z"
   },
   {
    "duration": 28,
    "start_time": "2022-11-08T17:26:35.274Z"
   },
   {
    "duration": 13,
    "start_time": "2022-11-08T17:26:35.304Z"
   },
   {
    "duration": 2,
    "start_time": "2022-11-08T17:26:35.319Z"
   },
   {
    "duration": 23,
    "start_time": "2022-11-08T17:26:35.322Z"
   },
   {
    "duration": 27,
    "start_time": "2022-11-08T17:26:35.347Z"
   },
   {
    "duration": 356,
    "start_time": "2022-11-08T17:37:12.623Z"
   },
   {
    "duration": 119,
    "start_time": "2022-11-08T17:37:12.981Z"
   },
   {
    "duration": 65,
    "start_time": "2022-11-08T17:37:13.101Z"
   },
   {
    "duration": 35,
    "start_time": "2022-11-08T17:37:13.179Z"
   },
   {
    "duration": 3,
    "start_time": "2022-11-08T17:37:13.215Z"
   },
   {
    "duration": 10,
    "start_time": "2022-11-08T17:37:13.219Z"
   },
   {
    "duration": 22,
    "start_time": "2022-11-08T17:37:13.231Z"
   },
   {
    "duration": 43,
    "start_time": "2022-11-08T17:37:13.254Z"
   },
   {
    "duration": 20,
    "start_time": "2022-11-08T17:37:13.298Z"
   },
   {
    "duration": 3572,
    "start_time": "2022-11-08T17:37:13.321Z"
   },
   {
    "duration": 16,
    "start_time": "2022-11-08T17:37:16.894Z"
   },
   {
    "duration": 161,
    "start_time": "2022-11-08T17:37:16.911Z"
   },
   {
    "duration": 21,
    "start_time": "2022-11-08T17:37:17.078Z"
   },
   {
    "duration": 12830,
    "start_time": "2022-11-08T17:37:17.101Z"
   },
   {
    "duration": 5,
    "start_time": "2022-11-08T17:37:29.933Z"
   },
   {
    "duration": 39,
    "start_time": "2022-11-08T17:37:29.940Z"
   },
   {
    "duration": 16,
    "start_time": "2022-11-08T17:37:29.982Z"
   },
   {
    "duration": 2,
    "start_time": "2022-11-08T17:37:29.999Z"
   },
   {
    "duration": 31,
    "start_time": "2022-11-08T17:37:30.003Z"
   },
   {
    "duration": 40,
    "start_time": "2022-11-08T17:37:30.035Z"
   },
   {
    "duration": 949902,
    "start_time": "2022-11-08T17:37:30.080Z"
   },
   {
    "duration": 667,
    "start_time": "2022-11-08T17:53:19.984Z"
   },
   {
    "duration": 0,
    "start_time": "2022-11-08T17:53:20.653Z"
   },
   {
    "duration": 7,
    "start_time": "2022-11-08T18:57:47.332Z"
   },
   {
    "duration": 430,
    "start_time": "2022-11-08T18:57:54.545Z"
   },
   {
    "duration": 98,
    "start_time": "2022-11-08T18:57:54.977Z"
   },
   {
    "duration": 67,
    "start_time": "2022-11-08T18:57:55.076Z"
   },
   {
    "duration": 50,
    "start_time": "2022-11-08T18:57:55.144Z"
   },
   {
    "duration": 3,
    "start_time": "2022-11-08T18:57:55.197Z"
   },
   {
    "duration": 24,
    "start_time": "2022-11-08T18:57:55.201Z"
   },
   {
    "duration": 40,
    "start_time": "2022-11-08T18:57:55.227Z"
   },
   {
    "duration": 38,
    "start_time": "2022-11-08T18:57:55.269Z"
   },
   {
    "duration": 22,
    "start_time": "2022-11-08T18:57:55.308Z"
   },
   {
    "duration": 3473,
    "start_time": "2022-11-08T18:57:55.332Z"
   },
   {
    "duration": 18,
    "start_time": "2022-11-08T18:57:58.806Z"
   },
   {
    "duration": 135,
    "start_time": "2022-11-08T18:57:58.826Z"
   },
   {
    "duration": 19,
    "start_time": "2022-11-08T18:57:58.963Z"
   },
   {
    "duration": 14388,
    "start_time": "2022-11-08T18:57:58.984Z"
   },
   {
    "duration": 6,
    "start_time": "2022-11-08T18:58:13.374Z"
   },
   {
    "duration": 22,
    "start_time": "2022-11-08T18:58:13.382Z"
   },
   {
    "duration": 13,
    "start_time": "2022-11-08T18:58:13.406Z"
   },
   {
    "duration": 2,
    "start_time": "2022-11-08T18:58:13.421Z"
   },
   {
    "duration": 38,
    "start_time": "2022-11-08T18:58:13.424Z"
   },
   {
    "duration": 29,
    "start_time": "2022-11-08T18:58:13.464Z"
   },
   {
    "duration": 1125978,
    "start_time": "2022-11-08T18:58:13.494Z"
   },
   {
    "duration": 420,
    "start_time": "2022-11-08T19:16:59.474Z"
   },
   {
    "duration": 0,
    "start_time": "2022-11-08T19:16:59.896Z"
   },
   {
    "duration": 4,
    "start_time": "2022-11-08T20:09:38.724Z"
   },
   {
    "duration": 8,
    "start_time": "2022-11-08T20:11:40.112Z"
   },
   {
    "duration": 4,
    "start_time": "2022-11-08T20:11:41.375Z"
   },
   {
    "duration": 847,
    "start_time": "2022-11-08T20:13:42.752Z"
   },
   {
    "duration": 914,
    "start_time": "2022-11-08T20:14:15.575Z"
   },
   {
    "duration": 6,
    "start_time": "2022-11-08T20:14:46.424Z"
   },
   {
    "duration": 4,
    "start_time": "2022-11-08T20:14:47.612Z"
   },
   {
    "duration": 405,
    "start_time": "2022-11-08T20:14:56.532Z"
   },
   {
    "duration": 105,
    "start_time": "2022-11-08T20:14:56.939Z"
   },
   {
    "duration": 70,
    "start_time": "2022-11-08T20:14:57.045Z"
   },
   {
    "duration": 61,
    "start_time": "2022-11-08T20:14:57.117Z"
   },
   {
    "duration": 3,
    "start_time": "2022-11-08T20:14:57.180Z"
   },
   {
    "duration": 9,
    "start_time": "2022-11-08T20:14:57.185Z"
   },
   {
    "duration": 31,
    "start_time": "2022-11-08T20:14:57.196Z"
   },
   {
    "duration": 65,
    "start_time": "2022-11-08T20:14:57.228Z"
   },
   {
    "duration": 26,
    "start_time": "2022-11-08T20:14:57.294Z"
   },
   {
    "duration": 3563,
    "start_time": "2022-11-08T20:14:57.322Z"
   },
   {
    "duration": 17,
    "start_time": "2022-11-08T20:15:00.886Z"
   },
   {
    "duration": 171,
    "start_time": "2022-11-08T20:15:00.905Z"
   },
   {
    "duration": 30,
    "start_time": "2022-11-08T20:15:01.078Z"
   },
   {
    "duration": 14948,
    "start_time": "2022-11-08T20:15:01.110Z"
   },
   {
    "duration": 11,
    "start_time": "2022-11-08T20:15:16.061Z"
   },
   {
    "duration": 33,
    "start_time": "2022-11-08T20:15:16.074Z"
   },
   {
    "duration": 4,
    "start_time": "2022-11-08T20:15:16.108Z"
   },
   {
    "duration": 14,
    "start_time": "2022-11-08T20:15:16.114Z"
   },
   {
    "duration": 2,
    "start_time": "2022-11-08T20:15:16.130Z"
   },
   {
    "duration": 36,
    "start_time": "2022-11-08T20:15:16.134Z"
   },
   {
    "duration": 27,
    "start_time": "2022-11-08T20:15:16.172Z"
   },
   {
    "duration": 400,
    "start_time": "2022-11-08T20:43:59.452Z"
   },
   {
    "duration": 94,
    "start_time": "2022-11-08T20:43:59.854Z"
   },
   {
    "duration": 67,
    "start_time": "2022-11-08T20:43:59.949Z"
   },
   {
    "duration": 64,
    "start_time": "2022-11-08T20:44:00.018Z"
   },
   {
    "duration": 3,
    "start_time": "2022-11-08T20:44:00.084Z"
   },
   {
    "duration": 18,
    "start_time": "2022-11-08T20:44:00.088Z"
   },
   {
    "duration": 28,
    "start_time": "2022-11-08T20:44:00.107Z"
   },
   {
    "duration": 44,
    "start_time": "2022-11-08T20:44:00.136Z"
   },
   {
    "duration": 26,
    "start_time": "2022-11-08T20:44:00.182Z"
   },
   {
    "duration": 3396,
    "start_time": "2022-11-08T20:44:00.210Z"
   },
   {
    "duration": 17,
    "start_time": "2022-11-08T20:44:03.607Z"
   },
   {
    "duration": 148,
    "start_time": "2022-11-08T20:44:03.626Z"
   },
   {
    "duration": 20,
    "start_time": "2022-11-08T20:44:03.776Z"
   },
   {
    "duration": 14807,
    "start_time": "2022-11-08T20:44:03.797Z"
   },
   {
    "duration": 7,
    "start_time": "2022-11-08T20:44:18.606Z"
   },
   {
    "duration": 23,
    "start_time": "2022-11-08T20:44:18.615Z"
   },
   {
    "duration": 4,
    "start_time": "2022-11-08T20:44:18.639Z"
   },
   {
    "duration": 30,
    "start_time": "2022-11-08T20:44:18.644Z"
   },
   {
    "duration": 2,
    "start_time": "2022-11-08T20:44:18.676Z"
   },
   {
    "duration": 25,
    "start_time": "2022-11-08T20:44:18.681Z"
   },
   {
    "duration": 20,
    "start_time": "2022-11-08T20:44:18.707Z"
   },
   {
    "duration": 165,
    "start_time": "2022-11-08T20:44:18.728Z"
   },
   {
    "duration": 0,
    "start_time": "2022-11-08T20:44:18.894Z"
   },
   {
    "duration": 0,
    "start_time": "2022-11-08T20:44:18.895Z"
   },
   {
    "duration": 54542,
    "start_time": "2022-11-08T20:46:34.426Z"
   },
   {
    "duration": 273568,
    "start_time": "2022-11-08T20:49:14.467Z"
   },
   {
    "duration": 11,
    "start_time": "2022-11-08T20:53:48.037Z"
   },
   {
    "duration": 54,
    "start_time": "2022-11-08T21:18:40.534Z"
   },
   {
    "duration": 887,
    "start_time": "2022-11-08T21:18:43.905Z"
   },
   {
    "duration": 4,
    "start_time": "2022-11-08T21:22:19.402Z"
   },
   {
    "duration": 6344195,
    "start_time": "2022-11-08T21:24:28.831Z"
   },
   {
    "duration": 9,
    "start_time": "2022-11-08T23:10:13.028Z"
   },
   {
    "duration": 4,
    "start_time": "2022-11-08T23:41:53.970Z"
   },
   {
    "duration": 50009,
    "start_time": "2022-11-08T23:56:12.262Z"
   },
   {
    "duration": 47834,
    "start_time": "2022-11-09T01:51:15.933Z"
   },
   {
    "duration": 6177715,
    "start_time": "2022-11-09T01:52:03.769Z"
   },
   {
    "duration": 2873,
    "start_time": "2022-11-09T03:41:02.091Z"
   },
   {
    "duration": 2673,
    "start_time": "2022-11-09T03:42:11.349Z"
   },
   {
    "duration": 4,
    "start_time": "2022-11-09T03:42:17.891Z"
   },
   {
    "duration": 394,
    "start_time": "2022-11-09T04:22:54.745Z"
   },
   {
    "duration": 94,
    "start_time": "2022-11-09T04:22:55.141Z"
   },
   {
    "duration": 57,
    "start_time": "2022-11-09T04:22:55.237Z"
   },
   {
    "duration": 34,
    "start_time": "2022-11-09T04:22:55.295Z"
   },
   {
    "duration": 3,
    "start_time": "2022-11-09T04:22:55.330Z"
   },
   {
    "duration": 5,
    "start_time": "2022-11-09T04:22:55.358Z"
   },
   {
    "duration": 24,
    "start_time": "2022-11-09T04:22:55.364Z"
   },
   {
    "duration": 27,
    "start_time": "2022-11-09T04:22:55.389Z"
   },
   {
    "duration": 19,
    "start_time": "2022-11-09T04:22:55.418Z"
   },
   {
    "duration": 3032,
    "start_time": "2022-11-09T04:22:55.458Z"
   },
   {
    "duration": 15,
    "start_time": "2022-11-09T04:22:58.492Z"
   },
   {
    "duration": 132,
    "start_time": "2022-11-09T04:22:58.508Z"
   },
   {
    "duration": 26,
    "start_time": "2022-11-09T04:22:58.642Z"
   },
   {
    "duration": 12800,
    "start_time": "2022-11-09T04:22:58.670Z"
   },
   {
    "duration": 5,
    "start_time": "2022-11-09T04:23:11.472Z"
   },
   {
    "duration": 18,
    "start_time": "2022-11-09T04:23:11.479Z"
   },
   {
    "duration": 12,
    "start_time": "2022-11-09T04:23:11.499Z"
   },
   {
    "duration": 51058,
    "start_time": "2022-11-09T04:23:11.513Z"
   },
   {
    "duration": 116,
    "start_time": "2022-11-09T04:24:02.660Z"
   },
   {
    "duration": 0,
    "start_time": "2022-11-09T04:24:02.778Z"
   },
   {
    "duration": 0,
    "start_time": "2022-11-09T04:24:02.779Z"
   },
   {
    "duration": 1547,
    "start_time": "2022-11-09T04:24:33.535Z"
   },
   {
    "duration": 118168,
    "start_time": "2022-11-09T04:24:39.435Z"
   },
   {
    "duration": 1957,
    "start_time": "2022-11-09T04:26:37.604Z"
   },
   {
    "duration": 1826,
    "start_time": "2022-11-09T04:53:02.178Z"
   },
   {
    "duration": 1839,
    "start_time": "2022-11-09T04:53:29.157Z"
   },
   {
    "duration": 70,
    "start_time": "2022-11-09T07:09:42.736Z"
   },
   {
    "duration": 50,
    "start_time": "2022-11-09T07:09:44.666Z"
   },
   {
    "duration": 48,
    "start_time": "2022-11-09T07:10:50.423Z"
   },
   {
    "duration": 52,
    "start_time": "2022-11-09T07:11:14.952Z"
   },
   {
    "duration": 80,
    "start_time": "2022-11-09T07:11:19.435Z"
   },
   {
    "duration": 48,
    "start_time": "2022-11-09T07:13:43.324Z"
   },
   {
    "duration": 57,
    "start_time": "2022-11-09T07:14:50.364Z"
   },
   {
    "duration": 101,
    "start_time": "2022-11-09T07:20:39.145Z"
   },
   {
    "duration": 58,
    "start_time": "2022-11-09T07:25:56.833Z"
   },
   {
    "duration": 47,
    "start_time": "2022-11-09T07:29:02.345Z"
   },
   {
    "duration": 86,
    "start_time": "2022-11-09T16:16:36.732Z"
   },
   {
    "duration": 57,
    "start_time": "2022-11-09T16:29:51.964Z"
   },
   {
    "duration": 490,
    "start_time": "2022-11-09T16:29:57.986Z"
   },
   {
    "duration": 260,
    "start_time": "2022-11-09T16:29:58.478Z"
   },
   {
    "duration": 86,
    "start_time": "2022-11-09T16:29:58.740Z"
   },
   {
    "duration": 60,
    "start_time": "2022-11-09T16:29:58.830Z"
   },
   {
    "duration": 4,
    "start_time": "2022-11-09T16:29:58.912Z"
   },
   {
    "duration": 19,
    "start_time": "2022-11-09T16:29:58.918Z"
   },
   {
    "duration": 47,
    "start_time": "2022-11-09T16:29:58.939Z"
   },
   {
    "duration": 49,
    "start_time": "2022-11-09T16:29:58.988Z"
   },
   {
    "duration": 38,
    "start_time": "2022-11-09T16:29:59.039Z"
   },
   {
    "duration": 5677,
    "start_time": "2022-11-09T16:29:59.081Z"
   },
   {
    "duration": 28,
    "start_time": "2022-11-09T16:30:04.760Z"
   },
   {
    "duration": 169,
    "start_time": "2022-11-09T16:30:04.790Z"
   },
   {
    "duration": 30,
    "start_time": "2022-11-09T16:30:04.961Z"
   },
   {
    "duration": 15423,
    "start_time": "2022-11-09T16:30:04.994Z"
   },
   {
    "duration": 174,
    "start_time": "2022-11-09T16:30:20.419Z"
   },
   {
    "duration": 0,
    "start_time": "2022-11-09T16:30:20.595Z"
   },
   {
    "duration": 0,
    "start_time": "2022-11-09T16:30:20.597Z"
   },
   {
    "duration": 0,
    "start_time": "2022-11-09T16:30:20.599Z"
   },
   {
    "duration": 0,
    "start_time": "2022-11-09T16:30:20.600Z"
   },
   {
    "duration": 0,
    "start_time": "2022-11-09T16:30:20.614Z"
   },
   {
    "duration": 0,
    "start_time": "2022-11-09T16:30:20.615Z"
   },
   {
    "duration": 4308,
    "start_time": "2022-11-09T16:30:36.250Z"
   },
   {
    "duration": 3865,
    "start_time": "2022-11-09T16:30:58.607Z"
   },
   {
    "duration": 3911,
    "start_time": "2022-11-09T16:31:57.241Z"
   },
   {
    "duration": 3378,
    "start_time": "2022-11-09T16:32:11.651Z"
   },
   {
    "duration": 7,
    "start_time": "2022-11-09T16:33:17.194Z"
   },
   {
    "duration": 6,
    "start_time": "2022-11-09T17:01:58.553Z"
   },
   {
    "duration": 253,
    "start_time": "2022-11-09T17:12:59.414Z"
   },
   {
    "duration": 195,
    "start_time": "2022-11-09T18:28:13.541Z"
   },
   {
    "duration": 437,
    "start_time": "2022-11-09T23:29:45.077Z"
   },
   {
    "duration": 439,
    "start_time": "2022-11-09T23:29:45.516Z"
   },
   {
    "duration": 90,
    "start_time": "2022-11-09T23:29:45.957Z"
   },
   {
    "duration": 70,
    "start_time": "2022-11-09T23:29:46.049Z"
   },
   {
    "duration": 7,
    "start_time": "2022-11-09T23:29:46.122Z"
   },
   {
    "duration": 14,
    "start_time": "2022-11-09T23:29:46.131Z"
   },
   {
    "duration": 26,
    "start_time": "2022-11-09T23:29:46.147Z"
   },
   {
    "duration": 35,
    "start_time": "2022-11-09T23:29:46.179Z"
   },
   {
    "duration": 24,
    "start_time": "2022-11-09T23:29:46.216Z"
   },
   {
    "duration": 4463,
    "start_time": "2022-11-09T23:29:46.244Z"
   },
   {
    "duration": 17,
    "start_time": "2022-11-09T23:29:50.708Z"
   },
   {
    "duration": 141,
    "start_time": "2022-11-09T23:29:50.727Z"
   },
   {
    "duration": 29,
    "start_time": "2022-11-09T23:29:50.869Z"
   },
   {
    "duration": 217,
    "start_time": "2022-11-09T23:29:50.900Z"
   },
   {
    "duration": 14556,
    "start_time": "2022-11-09T23:29:51.119Z"
   },
   {
    "duration": 6,
    "start_time": "2022-11-09T23:30:05.679Z"
   },
   {
    "duration": 21,
    "start_time": "2022-11-09T23:30:05.687Z"
   },
   {
    "duration": 255,
    "start_time": "2022-11-09T23:30:05.710Z"
   },
   {
    "duration": 499,
    "start_time": "2022-11-09T23:30:05.967Z"
   },
   {
    "duration": 498,
    "start_time": "2022-11-09T23:30:06.468Z"
   },
   {
    "duration": 999,
    "start_time": "2022-11-09T23:30:06.968Z"
   },
   {
    "duration": 0,
    "start_time": "2022-11-09T23:30:07.969Z"
   },
   {
    "duration": 0,
    "start_time": "2022-11-09T23:30:07.970Z"
   },
   {
    "duration": 0,
    "start_time": "2022-11-09T23:30:07.971Z"
   },
   {
    "duration": 0,
    "start_time": "2022-11-09T23:30:07.972Z"
   },
   {
    "duration": 0,
    "start_time": "2022-11-09T23:30:07.973Z"
   },
   {
    "duration": 417,
    "start_time": "2022-11-10T00:42:15.825Z"
   },
   {
    "duration": 112,
    "start_time": "2022-11-10T00:42:16.244Z"
   },
   {
    "duration": 76,
    "start_time": "2022-11-10T00:42:16.358Z"
   },
   {
    "duration": 61,
    "start_time": "2022-11-10T00:42:16.436Z"
   },
   {
    "duration": 4,
    "start_time": "2022-11-10T00:42:16.499Z"
   },
   {
    "duration": 54,
    "start_time": "2022-11-10T00:42:16.505Z"
   },
   {
    "duration": 52,
    "start_time": "2022-11-10T00:42:16.561Z"
   },
   {
    "duration": 46,
    "start_time": "2022-11-10T00:42:16.615Z"
   },
   {
    "duration": 29,
    "start_time": "2022-11-10T00:42:16.663Z"
   },
   {
    "duration": 3494,
    "start_time": "2022-11-10T00:42:16.695Z"
   },
   {
    "duration": 19,
    "start_time": "2022-11-10T00:42:20.190Z"
   },
   {
    "duration": 149,
    "start_time": "2022-11-10T00:42:20.211Z"
   },
   {
    "duration": 30,
    "start_time": "2022-11-10T00:42:20.362Z"
   },
   {
    "duration": 204,
    "start_time": "2022-11-10T00:42:20.394Z"
   },
   {
    "duration": 14669,
    "start_time": "2022-11-10T00:42:20.600Z"
   },
   {
    "duration": 6,
    "start_time": "2022-11-10T00:42:35.270Z"
   },
   {
    "duration": 8,
    "start_time": "2022-11-10T00:42:35.280Z"
   },
   {
    "duration": 273,
    "start_time": "2022-11-10T00:42:35.289Z"
   },
   {
    "duration": 508,
    "start_time": "2022-11-10T00:42:35.563Z"
   },
   {
    "duration": 475,
    "start_time": "2022-11-10T00:42:36.080Z"
   },
   {
    "duration": 22,
    "start_time": "2022-11-10T00:42:36.557Z"
   },
   {
    "duration": 10,
    "start_time": "2022-11-10T00:42:36.581Z"
   },
   {
    "duration": 1718303,
    "start_time": "2022-11-10T00:42:36.592Z"
   },
   {
    "duration": 121834,
    "start_time": "2022-11-10T01:11:14.897Z"
   },
   {
    "duration": 1936,
    "start_time": "2022-11-10T01:13:16.732Z"
   },
   {
    "duration": 116,
    "start_time": "2022-11-10T01:20:02.222Z"
   },
   {
    "duration": 50,
    "start_time": "2022-11-10T11:12:53.590Z"
   },
   {
    "duration": 522,
    "start_time": "2022-11-10T12:41:17.721Z"
   },
   {
    "duration": 416,
    "start_time": "2022-11-10T12:41:18.246Z"
   },
   {
    "duration": 108,
    "start_time": "2022-11-10T12:41:18.664Z"
   },
   {
    "duration": 76,
    "start_time": "2022-11-10T12:41:18.776Z"
   },
   {
    "duration": 3,
    "start_time": "2022-11-10T12:41:19.471Z"
   },
   {
    "duration": 7,
    "start_time": "2022-11-10T12:41:20.012Z"
   },
   {
    "duration": 39,
    "start_time": "2022-11-10T12:41:20.194Z"
   },
   {
    "duration": 34,
    "start_time": "2022-11-10T12:41:20.570Z"
   },
   {
    "duration": 31,
    "start_time": "2022-11-10T12:41:21.106Z"
   },
   {
    "duration": 5602,
    "start_time": "2022-11-10T12:41:23.949Z"
   },
   {
    "duration": 20,
    "start_time": "2022-11-10T12:41:29.553Z"
   },
   {
    "duration": 145,
    "start_time": "2022-11-10T12:41:29.575Z"
   },
   {
    "duration": 34,
    "start_time": "2022-11-10T12:41:29.731Z"
   },
   {
    "duration": 203,
    "start_time": "2022-11-10T12:41:29.767Z"
   },
   {
    "duration": 15535,
    "start_time": "2022-11-10T12:41:29.972Z"
   },
   {
    "duration": 7,
    "start_time": "2022-11-10T12:41:45.509Z"
   },
   {
    "duration": 14,
    "start_time": "2022-11-10T12:41:45.529Z"
   },
   {
    "duration": 312,
    "start_time": "2022-11-10T12:41:45.547Z"
   },
   {
    "duration": 624,
    "start_time": "2022-11-10T12:41:45.862Z"
   },
   {
    "duration": 565,
    "start_time": "2022-11-10T12:41:46.488Z"
   },
   {
    "duration": 27,
    "start_time": "2022-11-10T12:41:47.057Z"
   },
   {
    "duration": 14,
    "start_time": "2022-11-10T12:41:47.086Z"
   },
   {
    "duration": 2575,
    "start_time": "2022-11-10T12:41:48.672Z"
   },
   {
    "duration": 177,
    "start_time": "2022-11-10T12:41:51.249Z"
   },
   {
    "duration": 60,
    "start_time": "2022-11-10T13:00:35.621Z"
   },
   {
    "duration": 9,
    "start_time": "2022-11-10T13:00:40.127Z"
   },
   {
    "duration": 162,
    "start_time": "2022-11-10T13:00:53.751Z"
   },
   {
    "duration": 7049,
    "start_time": "2022-11-10T13:00:55.572Z"
   },
   {
    "duration": 192,
    "start_time": "2022-11-10T15:08:31.871Z"
   },
   {
    "duration": 41,
    "start_time": "2022-11-10T15:12:51.847Z"
   },
   {
    "duration": 511,
    "start_time": "2022-11-10T15:12:58.236Z"
   },
   {
    "duration": 460,
    "start_time": "2022-11-10T15:13:04.458Z"
   },
   {
    "duration": 469,
    "start_time": "2022-11-10T15:13:31.688Z"
   },
   {
    "duration": 202,
    "start_time": "2022-11-10T15:15:48.432Z"
   },
   {
    "duration": 190,
    "start_time": "2022-11-10T15:16:11.855Z"
   },
   {
    "duration": 479,
    "start_time": "2022-11-11T17:32:20.245Z"
   },
   {
    "duration": 277,
    "start_time": "2022-11-11T17:32:20.727Z"
   },
   {
    "duration": 88,
    "start_time": "2022-11-11T17:32:21.006Z"
   },
   {
    "duration": 81,
    "start_time": "2022-11-11T17:32:21.096Z"
   },
   {
    "duration": 4,
    "start_time": "2022-11-11T17:32:21.179Z"
   },
   {
    "duration": 22,
    "start_time": "2022-11-11T17:32:21.184Z"
   },
   {
    "duration": 46,
    "start_time": "2022-11-11T17:32:21.208Z"
   },
   {
    "duration": 60,
    "start_time": "2022-11-11T17:32:21.256Z"
   },
   {
    "duration": 26,
    "start_time": "2022-11-11T17:32:21.318Z"
   },
   {
    "duration": 8478,
    "start_time": "2022-11-11T17:32:21.346Z"
   },
   {
    "duration": 31,
    "start_time": "2022-11-11T17:32:29.827Z"
   },
   {
    "duration": 177,
    "start_time": "2022-11-11T17:32:29.861Z"
   },
   {
    "duration": 30,
    "start_time": "2022-11-11T17:32:30.040Z"
   },
   {
    "duration": 222,
    "start_time": "2022-11-11T17:32:30.073Z"
   },
   {
    "duration": 15101,
    "start_time": "2022-11-11T17:32:30.297Z"
   },
   {
    "duration": 7,
    "start_time": "2022-11-11T17:32:45.400Z"
   },
   {
    "duration": 9,
    "start_time": "2022-11-11T17:32:45.409Z"
   },
   {
    "duration": 295,
    "start_time": "2022-11-11T17:32:45.420Z"
   },
   {
    "duration": 553,
    "start_time": "2022-11-11T17:32:45.717Z"
   },
   {
    "duration": 560,
    "start_time": "2022-11-11T17:32:46.272Z"
   },
   {
    "duration": 29,
    "start_time": "2022-11-11T17:32:46.834Z"
   },
   {
    "duration": 13,
    "start_time": "2022-11-11T17:32:46.864Z"
   },
   {
    "duration": 1860685,
    "start_time": "2022-11-11T17:32:46.878Z"
   },
   {
    "duration": 162901,
    "start_time": "2022-11-11T18:03:47.565Z"
   },
   {
    "duration": 174,
    "start_time": "2022-11-11T18:06:30.467Z"
   },
   {
    "duration": 0,
    "start_time": "2022-11-11T18:06:30.644Z"
   },
   {
    "duration": 0,
    "start_time": "2022-11-11T18:06:30.646Z"
   },
   {
    "duration": 0,
    "start_time": "2022-11-11T18:06:30.647Z"
   },
   {
    "duration": 12,
    "start_time": "2022-11-11T19:15:55.244Z"
   },
   {
    "duration": 9,
    "start_time": "2022-11-11T23:14:11.879Z"
   },
   {
    "duration": 12,
    "start_time": "2022-11-11T23:52:42.615Z"
   },
   {
    "duration": 12,
    "start_time": "2022-11-11T23:52:56.540Z"
   },
   {
    "duration": 7,
    "start_time": "2022-11-11T23:53:01.560Z"
   },
   {
    "duration": 2137,
    "start_time": "2022-11-11T23:54:31.948Z"
   },
   {
    "duration": 9,
    "start_time": "2022-11-12T00:17:34.609Z"
   },
   {
    "duration": 52,
    "start_time": "2022-11-12T12:24:55.258Z"
   },
   {
    "duration": 448,
    "start_time": "2022-11-12T12:27:11.007Z"
   },
   {
    "duration": 291,
    "start_time": "2022-11-12T12:27:11.458Z"
   },
   {
    "duration": 72,
    "start_time": "2022-11-12T12:27:11.751Z"
   },
   {
    "duration": 45,
    "start_time": "2022-11-12T12:27:11.825Z"
   },
   {
    "duration": 3,
    "start_time": "2022-11-12T12:27:11.872Z"
   },
   {
    "duration": 8,
    "start_time": "2022-11-12T12:27:11.877Z"
   },
   {
    "duration": 43,
    "start_time": "2022-11-12T12:27:11.887Z"
   },
   {
    "duration": 32,
    "start_time": "2022-11-12T12:27:11.932Z"
   },
   {
    "duration": 24,
    "start_time": "2022-11-12T12:27:11.966Z"
   },
   {
    "duration": 5156,
    "start_time": "2022-11-12T12:27:11.993Z"
   },
   {
    "duration": 18,
    "start_time": "2022-11-12T12:27:17.151Z"
   },
   {
    "duration": 159,
    "start_time": "2022-11-12T12:27:17.170Z"
   },
   {
    "duration": 24,
    "start_time": "2022-11-12T12:27:17.331Z"
   },
   {
    "duration": 220,
    "start_time": "2022-11-12T12:27:17.357Z"
   },
   {
    "duration": 15043,
    "start_time": "2022-11-12T12:27:17.579Z"
   },
   {
    "duration": 13,
    "start_time": "2022-11-12T12:27:32.631Z"
   },
   {
    "duration": 24,
    "start_time": "2022-11-12T12:27:32.646Z"
   },
   {
    "duration": 290,
    "start_time": "2022-11-12T12:27:32.673Z"
   },
   {
    "duration": 584,
    "start_time": "2022-11-12T12:27:32.965Z"
   },
   {
    "duration": 548,
    "start_time": "2022-11-12T12:27:33.551Z"
   },
   {
    "duration": 35,
    "start_time": "2022-11-12T12:27:34.100Z"
   },
   {
    "duration": 13,
    "start_time": "2022-11-12T12:27:34.137Z"
   },
   {
    "duration": 335474,
    "start_time": "2022-11-12T12:27:34.152Z"
   },
   {
    "duration": 4410,
    "start_time": "2022-11-12T12:33:09.628Z"
   },
   {
    "duration": 135758,
    "start_time": "2022-11-12T12:33:14.040Z"
   },
   {
    "duration": 2455,
    "start_time": "2022-11-12T12:35:29.800Z"
   },
   {
    "duration": 11,
    "start_time": "2022-11-12T12:35:32.257Z"
   },
   {
    "duration": 9,
    "start_time": "2022-11-12T12:35:32.273Z"
   },
   {
    "duration": 2615,
    "start_time": "2022-11-12T12:35:32.284Z"
   },
   {
    "duration": 342,
    "start_time": "2022-11-12T12:35:34.901Z"
   },
   {
    "duration": 7,
    "start_time": "2022-11-12T13:18:47.339Z"
   },
   {
    "duration": 138,
    "start_time": "2022-11-12T15:43:43.470Z"
   },
   {
    "duration": 2096,
    "start_time": "2022-11-12T15:43:45.785Z"
   },
   {
    "duration": 151,
    "start_time": "2022-11-12T15:43:55.009Z"
   },
   {
    "duration": 482,
    "start_time": "2022-11-24T18:29:17.205Z"
   },
   {
    "duration": 301,
    "start_time": "2022-11-24T18:29:17.688Z"
   },
   {
    "duration": 83,
    "start_time": "2022-11-24T18:29:17.990Z"
   },
   {
    "duration": 35,
    "start_time": "2022-11-24T18:29:18.075Z"
   },
   {
    "duration": 3,
    "start_time": "2022-11-24T18:29:18.111Z"
   },
   {
    "duration": 25,
    "start_time": "2022-11-24T18:29:18.115Z"
   },
   {
    "duration": 47,
    "start_time": "2022-11-24T18:29:18.142Z"
   },
   {
    "duration": 17,
    "start_time": "2022-11-24T18:29:18.191Z"
   },
   {
    "duration": 6552,
    "start_time": "2022-11-24T18:29:18.209Z"
   },
   {
    "duration": 136,
    "start_time": "2022-11-24T18:29:24.764Z"
   },
   {
    "duration": 19,
    "start_time": "2022-11-24T18:29:24.902Z"
   },
   {
    "duration": 263,
    "start_time": "2022-11-24T18:29:24.922Z"
   },
   {
    "duration": 15187,
    "start_time": "2022-11-24T18:29:25.187Z"
   },
   {
    "duration": 6,
    "start_time": "2022-11-24T18:29:40.376Z"
   },
   {
    "duration": 12,
    "start_time": "2022-11-24T18:29:40.383Z"
   },
   {
    "duration": 220,
    "start_time": "2022-11-24T18:29:40.397Z"
   },
   {
    "duration": 471,
    "start_time": "2022-11-24T18:29:40.619Z"
   },
   {
    "duration": 502,
    "start_time": "2022-11-24T18:29:41.092Z"
   },
   {
    "duration": 17,
    "start_time": "2022-11-24T18:29:41.595Z"
   },
   {
    "duration": 22,
    "start_time": "2022-11-24T18:29:41.614Z"
   },
   {
    "duration": 120318,
    "start_time": "2022-11-24T18:29:41.637Z"
   },
   {
    "duration": 2686,
    "start_time": "2022-11-24T18:31:41.957Z"
   },
   {
    "duration": 120960,
    "start_time": "2022-11-24T18:31:44.644Z"
   },
   {
    "duration": 1897,
    "start_time": "2022-11-24T18:33:45.606Z"
   },
   {
    "duration": 7,
    "start_time": "2022-11-24T18:33:47.505Z"
   },
   {
    "duration": 7,
    "start_time": "2022-11-24T18:33:47.513Z"
   },
   {
    "duration": 1945,
    "start_time": "2022-11-24T18:33:47.522Z"
   },
   {
    "duration": 214,
    "start_time": "2022-11-24T18:33:49.471Z"
   },
   {
    "duration": 195,
    "start_time": "2022-11-24T18:33:49.687Z"
   },
   {
    "duration": 172,
    "start_time": "2022-11-24T18:37:40.237Z"
   },
   {
    "duration": 138,
    "start_time": "2022-11-24T19:23:03.756Z"
   },
   {
    "duration": 1721934,
    "start_time": "2022-11-24T21:22:32.912Z"
   },
   {
    "duration": 2865,
    "start_time": "2022-11-24T22:04:40.078Z"
   }
  ],
  "kernelspec": {
   "display_name": "Python 3 (ipykernel)",
   "language": "python",
   "name": "python3"
  },
  "language_info": {
   "codemirror_mode": {
    "name": "ipython",
    "version": 3
   },
   "file_extension": ".py",
   "mimetype": "text/x-python",
   "name": "python",
   "nbconvert_exporter": "python",
   "pygments_lexer": "ipython3",
   "version": "3.9.5"
  },
  "toc": {
   "base_numbering": 1,
   "nav_menu": {},
   "number_sections": true,
   "sideBar": true,
   "skip_h1_title": true,
   "title_cell": "Table of Contents",
   "title_sidebar": "Contents",
   "toc_cell": false,
   "toc_position": {
    "height": "calc(100% - 180px)",
    "left": "10px",
    "top": "150px",
    "width": "366.391px"
   },
   "toc_section_display": true,
   "toc_window_display": true
  }
 },
 "nbformat": 4,
 "nbformat_minor": 2
}
