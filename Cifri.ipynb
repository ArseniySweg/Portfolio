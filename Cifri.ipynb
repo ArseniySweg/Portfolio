{
 "cells": [
  {
   "cell_type": "markdown",
   "metadata": {
    "toc": true
   },
   "source": [
    "<h1>Содержание<span class=\"tocSkip\"></span></h1>\n",
    "<div class=\"toc\"><ul class=\"toc-item\"><li><span><a href=\"#Подготовка-данных\" data-toc-modified-id=\"Подготовка-данных-1\"><span class=\"toc-item-num\">1&nbsp;&nbsp;</span>Подготовка данных</a></span><ul class=\"toc-item\"><li><span><a href=\"#Изучение-файлов\" data-toc-modified-id=\"Изучение-файлов-1.1\"><span class=\"toc-item-num\">1.1&nbsp;&nbsp;</span>Изучение файлов</a></span></li><li><span><a href=\"#Проверка-целевого-признака\" data-toc-modified-id=\"Проверка-целевого-признака-1.2\"><span class=\"toc-item-num\">1.2&nbsp;&nbsp;</span>Проверка целевого признака</a></span></li><li><span><a href=\"#Сравнение-признаков\" data-toc-modified-id=\"Сравнение-признаков-1.3\"><span class=\"toc-item-num\">1.3&nbsp;&nbsp;</span>Сравнение признаков</a></span></li></ul></li><li><span><a href=\"#Анализ-данных\" data-toc-modified-id=\"Анализ-данных-2\"><span class=\"toc-item-num\">2&nbsp;&nbsp;</span>Анализ данных</a></span><ul class=\"toc-item\"><li><span><a href=\"#Концентрация-металлов-при-обработке\" data-toc-modified-id=\"Концентрация-металлов-при-обработке-2.1\"><span class=\"toc-item-num\">2.1&nbsp;&nbsp;</span>Концентрация металлов при обработке</a></span></li><li><span><a href=\"#Суммарная-концентрация\" data-toc-modified-id=\"Суммарная-концентрация-2.2\"><span class=\"toc-item-num\">2.2&nbsp;&nbsp;</span>Суммарная концентрация</a></span></li><li><span><a href=\"#Распределение-размеров-гранул\" data-toc-modified-id=\"Распределение-размеров-гранул-2.3\"><span class=\"toc-item-num\">2.3&nbsp;&nbsp;</span>Распределение размеров гранул</a></span></li></ul></li><li><span><a href=\"#Построение-модели\" data-toc-modified-id=\"Построение-модели-3\"><span class=\"toc-item-num\">3&nbsp;&nbsp;</span>Построение модели</a></span><ul class=\"toc-item\"><li><span><a href=\"#Создание-функции-sMAPE\" data-toc-modified-id=\"Создание-функции-sMAPE-3.1\"><span class=\"toc-item-num\">3.1&nbsp;&nbsp;</span>Создание функции sMAPE</a></span></li><li><span><a href=\"#Определение-признаков\" data-toc-modified-id=\"Определение-признаков-3.2\"><span class=\"toc-item-num\">3.2&nbsp;&nbsp;</span>Определение признаков</a></span></li><li><span><a href=\"#Обучение-модели--и-кросс-валидация\" data-toc-modified-id=\"Обучение-модели--и-кросс-валидация-3.3\"><span class=\"toc-item-num\">3.3&nbsp;&nbsp;</span>Обучение модели  и кросс-валидация</a></span></li><li><span><a href=\"#Проверка-модели-на-тестовых-данных\" data-toc-modified-id=\"Проверка-модели-на-тестовых-данных-3.4\"><span class=\"toc-item-num\">3.4&nbsp;&nbsp;</span>Проверка модели на тестовых данных</a></span></li></ul></li><li><span><a href=\"#Общий-вывод\" data-toc-modified-id=\"Общий-вывод-4\"><span class=\"toc-item-num\">4&nbsp;&nbsp;</span>Общий вывод</a></span></li></ul></div>"
   ]
  },
  {
   "cell_type": "markdown",
   "metadata": {},
   "source": [
    "# Восстановление золота из руды"
   ]
  },
  {
   "cell_type": "markdown",
   "metadata": {},
   "source": [
    "Некобходимо подготовить прототип модели машинного обучения для «Цифры». Компания разрабатывает решения для эффективной работы промышленных предприятий.\n",
    "\n",
    "Модель должна предсказать коэффициент восстановления золота из золотосодержащей руды. Используйте данные с параметрами добычи и очистки. \n",
    "\n",
    "Модель поможет оптимизировать производство, чтобы не запускать предприятие с убыточными характеристиками.\n",
    "\n",
    "План работы:\n",
    "\n",
    "1. Подготовить данные;\n",
    "2. Провести исследовательский анализ данных;\n",
    "3. Построить и обучить модель."
   ]
  },
  {
   "cell_type": "markdown",
   "metadata": {},
   "source": [
    "## Подготовка данных"
   ]
  },
  {
   "cell_type": "markdown",
   "metadata": {},
   "source": [
    "### Изучение файлов"
   ]
  },
  {
   "cell_type": "markdown",
   "metadata": {},
   "source": [
    "Импортируем все необходимые для работы библиотеки."
   ]
  },
  {
   "cell_type": "code",
   "execution_count": 1,
   "metadata": {},
   "outputs": [],
   "source": [
    "import pandas as pd\n",
    "import numpy as np\n",
    "\n",
    "import matplotlib.pyplot as plt\n",
    "import seaborn as sns\n",
    "\n",
    "\n",
    "from sklearn.metrics import make_scorer\n",
    "from sklearn.metrics import mean_absolute_error\n",
    "from sklearn.model_selection import cross_val_score\n",
    "from sklearn.model_selection import GridSearchCV\n",
    "\n",
    "from sklearn.dummy import DummyClassifier\n",
    "from sklearn.ensemble import RandomForestRegressor\n",
    "from sklearn.linear_model import LinearRegression\n",
    "from sklearn.tree import DecisionTreeRegressor"
   ]
  },
  {
   "cell_type": "markdown",
   "metadata": {},
   "source": [
    "Прочитаем предоставленные данные и запишем их в отдельные датафреймы - обучающий, тестовый и общий."
   ]
  },
  {
   "cell_type": "code",
   "execution_count": 2,
   "metadata": {},
   "outputs": [
    {
     "name": "stdout",
     "output_type": "stream",
     "text": [
      "<class 'pandas.core.frame.DataFrame'>\n",
      "RangeIndex: 14149 entries, 0 to 14148\n",
      "Data columns (total 87 columns):\n",
      " #   Column                                              Non-Null Count  Dtype  \n",
      "---  ------                                              --------------  -----  \n",
      " 0   date                                                14149 non-null  object \n",
      " 1   final.output.concentrate_ag                         14148 non-null  float64\n",
      " 2   final.output.concentrate_pb                         14148 non-null  float64\n",
      " 3   final.output.concentrate_sol                        13938 non-null  float64\n",
      " 4   final.output.concentrate_au                         14149 non-null  float64\n",
      " 5   final.output.recovery                               14149 non-null  float64\n",
      " 6   final.output.tail_ag                                14149 non-null  float64\n",
      " 7   final.output.tail_pb                                14049 non-null  float64\n",
      " 8   final.output.tail_sol                               14144 non-null  float64\n",
      " 9   final.output.tail_au                                14149 non-null  float64\n",
      " 10  primary_cleaner.input.sulfate                       14129 non-null  float64\n",
      " 11  primary_cleaner.input.depressant                    14117 non-null  float64\n",
      " 12  primary_cleaner.input.feed_size                     14149 non-null  float64\n",
      " 13  primary_cleaner.input.xanthate                      14049 non-null  float64\n",
      " 14  primary_cleaner.output.concentrate_ag               14149 non-null  float64\n",
      " 15  primary_cleaner.output.concentrate_pb               14063 non-null  float64\n",
      " 16  primary_cleaner.output.concentrate_sol              13863 non-null  float64\n",
      " 17  primary_cleaner.output.concentrate_au               14149 non-null  float64\n",
      " 18  primary_cleaner.output.tail_ag                      14148 non-null  float64\n",
      " 19  primary_cleaner.output.tail_pb                      14134 non-null  float64\n",
      " 20  primary_cleaner.output.tail_sol                     14103 non-null  float64\n",
      " 21  primary_cleaner.output.tail_au                      14149 non-null  float64\n",
      " 22  primary_cleaner.state.floatbank8_a_air              14145 non-null  float64\n",
      " 23  primary_cleaner.state.floatbank8_a_level            14148 non-null  float64\n",
      " 24  primary_cleaner.state.floatbank8_b_air              14145 non-null  float64\n",
      " 25  primary_cleaner.state.floatbank8_b_level            14148 non-null  float64\n",
      " 26  primary_cleaner.state.floatbank8_c_air              14147 non-null  float64\n",
      " 27  primary_cleaner.state.floatbank8_c_level            14148 non-null  float64\n",
      " 28  primary_cleaner.state.floatbank8_d_air              14146 non-null  float64\n",
      " 29  primary_cleaner.state.floatbank8_d_level            14148 non-null  float64\n",
      " 30  rougher.calculation.sulfate_to_au_concentrate       14148 non-null  float64\n",
      " 31  rougher.calculation.floatbank10_sulfate_to_au_feed  14148 non-null  float64\n",
      " 32  rougher.calculation.floatbank11_sulfate_to_au_feed  14148 non-null  float64\n",
      " 33  rougher.calculation.au_pb_ratio                     14149 non-null  float64\n",
      " 34  rougher.input.feed_ag                               14149 non-null  float64\n",
      " 35  rougher.input.feed_pb                               14049 non-null  float64\n",
      " 36  rougher.input.feed_rate                             14141 non-null  float64\n",
      " 37  rougher.input.feed_size                             14005 non-null  float64\n",
      " 38  rougher.input.feed_sol                              14071 non-null  float64\n",
      " 39  rougher.input.feed_au                               14149 non-null  float64\n",
      " 40  rougher.input.floatbank10_sulfate                   14120 non-null  float64\n",
      " 41  rougher.input.floatbank10_xanthate                  14141 non-null  float64\n",
      " 42  rougher.input.floatbank11_sulfate                   14113 non-null  float64\n",
      " 43  rougher.input.floatbank11_xanthate                  13721 non-null  float64\n",
      " 44  rougher.output.concentrate_ag                       14149 non-null  float64\n",
      " 45  rougher.output.concentrate_pb                       14149 non-null  float64\n",
      " 46  rougher.output.concentrate_sol                      14127 non-null  float64\n",
      " 47  rougher.output.concentrate_au                       14149 non-null  float64\n",
      " 48  rougher.output.recovery                             14149 non-null  float64\n",
      " 49  rougher.output.tail_ag                              14148 non-null  float64\n",
      " 50  rougher.output.tail_pb                              14149 non-null  float64\n",
      " 51  rougher.output.tail_sol                             14149 non-null  float64\n",
      " 52  rougher.output.tail_au                              14149 non-null  float64\n",
      " 53  rougher.state.floatbank10_a_air                     14148 non-null  float64\n",
      " 54  rougher.state.floatbank10_a_level                   14148 non-null  float64\n",
      " 55  rougher.state.floatbank10_b_air                     14148 non-null  float64\n",
      " 56  rougher.state.floatbank10_b_level                   14148 non-null  float64\n",
      " 57  rougher.state.floatbank10_c_air                     14148 non-null  float64\n",
      " 58  rougher.state.floatbank10_c_level                   14148 non-null  float64\n",
      " 59  rougher.state.floatbank10_d_air                     14149 non-null  float64\n",
      " 60  rougher.state.floatbank10_d_level                   14149 non-null  float64\n",
      " 61  rougher.state.floatbank10_e_air                     13713 non-null  float64\n",
      " 62  rougher.state.floatbank10_e_level                   14149 non-null  float64\n",
      " 63  rougher.state.floatbank10_f_air                     14149 non-null  float64\n",
      " 64  rougher.state.floatbank10_f_level                   14149 non-null  float64\n",
      " 65  secondary_cleaner.output.tail_ag                    14147 non-null  float64\n",
      " 66  secondary_cleaner.output.tail_pb                    14139 non-null  float64\n",
      " 67  secondary_cleaner.output.tail_sol                   12544 non-null  float64\n",
      " 68  secondary_cleaner.output.tail_au                    14149 non-null  float64\n",
      " 69  secondary_cleaner.state.floatbank2_a_air            13932 non-null  float64\n",
      " 70  secondary_cleaner.state.floatbank2_a_level          14148 non-null  float64\n",
      " 71  secondary_cleaner.state.floatbank2_b_air            14128 non-null  float64\n",
      " 72  secondary_cleaner.state.floatbank2_b_level          14148 non-null  float64\n",
      " 73  secondary_cleaner.state.floatbank3_a_air            14145 non-null  float64\n",
      " 74  secondary_cleaner.state.floatbank3_a_level          14148 non-null  float64\n",
      " 75  secondary_cleaner.state.floatbank3_b_air            14148 non-null  float64\n",
      " 76  secondary_cleaner.state.floatbank3_b_level          14148 non-null  float64\n",
      " 77  secondary_cleaner.state.floatbank4_a_air            14143 non-null  float64\n",
      " 78  secondary_cleaner.state.floatbank4_a_level          14148 non-null  float64\n",
      " 79  secondary_cleaner.state.floatbank4_b_air            14148 non-null  float64\n",
      " 80  secondary_cleaner.state.floatbank4_b_level          14148 non-null  float64\n",
      " 81  secondary_cleaner.state.floatbank5_a_air            14148 non-null  float64\n",
      " 82  secondary_cleaner.state.floatbank5_a_level          14148 non-null  float64\n",
      " 83  secondary_cleaner.state.floatbank5_b_air            14148 non-null  float64\n",
      " 84  secondary_cleaner.state.floatbank5_b_level          14148 non-null  float64\n",
      " 85  secondary_cleaner.state.floatbank6_a_air            14147 non-null  float64\n",
      " 86  secondary_cleaner.state.floatbank6_a_level          14148 non-null  float64\n",
      "dtypes: float64(86), object(1)\n",
      "memory usage: 9.4+ MB\n"
     ]
    }
   ],
   "source": [
    "data_train = pd.read_csv('/datasets/gold_recovery_train_new.csv')\n",
    "data_test = pd.read_csv('/datasets/gold_recovery_test_new.csv')\n",
    "data_full = pd.read_csv('/datasets/gold_recovery_full_new.csv')\n",
    "\n",
    "data_train.info()"
   ]
  },
  {
   "cell_type": "markdown",
   "metadata": {},
   "source": [
    "Пропущенных значений не так уж много, по каждому столбцу их менее 10%. Удалять не будем, исправим их на значения из предыдущих строк, аргументируя тем, что такое значение будет ближе к пропущенному по значению, чем значение из предыдущей недели, месяца и так далее."
   ]
  },
  {
   "cell_type": "code",
   "execution_count": 3,
   "metadata": {},
   "outputs": [],
   "source": [
    "data_train = data_train.ffill(None)"
   ]
  },
  {
   "cell_type": "markdown",
   "metadata": {},
   "source": [
    "### Проверка целевого признака"
   ]
  },
  {
   "cell_type": "markdown",
   "metadata": {},
   "source": [
    "Проверим правильно ли рассчитана эффективность обогащения, используя формулу сравним со столбцом `rougher.output.recovery`"
   ]
  },
  {
   "cell_type": "code",
   "execution_count": 4,
   "metadata": {},
   "outputs": [],
   "source": [
    "C = data_train['rougher.output.concentrate_au']\n",
    "F = data_train['rougher.input.feed_au']\n",
    "T = data_train['rougher.output.tail_au']"
   ]
  },
  {
   "cell_type": "code",
   "execution_count": 5,
   "metadata": {},
   "outputs": [
    {
     "data": {
      "text/plain": [
       "0        87.107763\n",
       "1        86.843261\n",
       "2        86.842308\n",
       "3        87.226430\n",
       "4        86.688794\n",
       "           ...    \n",
       "14144    89.574376\n",
       "14145    87.724007\n",
       "14146    88.890579\n",
       "14147    89.858126\n",
       "14148    89.514960\n",
       "Name: values, Length: 14149, dtype: float64"
      ]
     },
     "execution_count": 5,
     "metadata": {},
     "output_type": "execute_result"
    }
   ],
   "source": [
    "values = []\n",
    "data_train['values'] = ((C * (F - T)) / (F * (C - T)) *100 )\n",
    "data_train['values']"
   ]
  },
  {
   "cell_type": "code",
   "execution_count": 6,
   "metadata": {},
   "outputs": [
    {
     "data": {
      "text/plain": [
       "9.73512347450521e-15"
      ]
     },
     "execution_count": 6,
     "metadata": {},
     "output_type": "execute_result"
    }
   ],
   "source": [
    "pred = data_train['values']\n",
    "target = data_train['rougher.output.recovery']\n",
    "\n",
    "mae = mean_absolute_error(target, pred)\n",
    "mae"
   ]
  },
  {
   "cell_type": "markdown",
   "metadata": {},
   "source": [
    "Что ж, величина получилась крайне маленькая, значит с данными в таблице все более менее в порядке."
   ]
  },
  {
   "cell_type": "code",
   "execution_count": 7,
   "metadata": {},
   "outputs": [],
   "source": [
    "data_train = data_train.drop('values', axis=1)"
   ]
  },
  {
   "cell_type": "markdown",
   "metadata": {},
   "source": [
    "### Сравнение признаков"
   ]
  },
  {
   "cell_type": "markdown",
   "metadata": {},
   "source": [
    "Сравним датафреймы по количеству признаков."
   ]
  },
  {
   "cell_type": "code",
   "execution_count": 8,
   "metadata": {},
   "outputs": [
    {
     "name": "stdout",
     "output_type": "stream",
     "text": [
      "(14149, 87)\n",
      "(5290, 53)\n"
     ]
    },
    {
     "data": {
      "text/plain": [
       "(19439, 87)"
      ]
     },
     "execution_count": 8,
     "metadata": {},
     "output_type": "execute_result"
    }
   ],
   "source": [
    "print(data_train.shape)\n",
    "print(data_test.shape)\n",
    "data_full.shape"
   ]
  },
  {
   "cell_type": "code",
   "execution_count": 9,
   "metadata": {},
   "outputs": [
    {
     "data": {
      "text/html": [
       "<div>\n",
       "<style scoped>\n",
       "    .dataframe tbody tr th:only-of-type {\n",
       "        vertical-align: middle;\n",
       "    }\n",
       "\n",
       "    .dataframe tbody tr th {\n",
       "        vertical-align: top;\n",
       "    }\n",
       "\n",
       "    .dataframe thead th {\n",
       "        text-align: right;\n",
       "    }\n",
       "</style>\n",
       "<table border=\"1\" class=\"dataframe\">\n",
       "  <thead>\n",
       "    <tr style=\"text-align: right;\">\n",
       "      <th></th>\n",
       "      <th>primary_cleaner.output.concentrate_ag</th>\n",
       "      <th>primary_cleaner.output.concentrate_pb</th>\n",
       "      <th>primary_cleaner.output.tail_au</th>\n",
       "      <th>rougher.output.tail_ag</th>\n",
       "      <th>rougher.calculation.floatbank11_sulfate_to_au_feed</th>\n",
       "      <th>final.output.recovery</th>\n",
       "      <th>primary_cleaner.output.concentrate_au</th>\n",
       "      <th>final.output.tail_ag</th>\n",
       "      <th>final.output.concentrate_ag</th>\n",
       "      <th>final.output.tail_sol</th>\n",
       "      <th>...</th>\n",
       "      <th>rougher.output.tail_au</th>\n",
       "      <th>final.output.concentrate_pb</th>\n",
       "      <th>final.output.concentrate_au</th>\n",
       "      <th>rougher.calculation.au_pb_ratio</th>\n",
       "      <th>final.output.tail_pb</th>\n",
       "      <th>secondary_cleaner.output.tail_sol</th>\n",
       "      <th>rougher.output.tail_pb</th>\n",
       "      <th>primary_cleaner.output.tail_sol</th>\n",
       "      <th>rougher.output.concentrate_sol</th>\n",
       "      <th>rougher.output.concentrate_ag</th>\n",
       "    </tr>\n",
       "  </thead>\n",
       "  <tbody>\n",
       "    <tr>\n",
       "      <th>0</th>\n",
       "      <td>8.547551</td>\n",
       "      <td>10.389648</td>\n",
       "      <td>2.106679</td>\n",
       "      <td>5.008018</td>\n",
       "      <td>3520.337158</td>\n",
       "      <td>70.541216</td>\n",
       "      <td>34.174427</td>\n",
       "      <td>10.411962</td>\n",
       "      <td>6.055403</td>\n",
       "      <td>16.904297</td>\n",
       "      <td>...</td>\n",
       "      <td>1.170244</td>\n",
       "      <td>9.889648</td>\n",
       "      <td>42.192020</td>\n",
       "      <td>2.838687</td>\n",
       "      <td>0.895447</td>\n",
       "      <td>8.764648</td>\n",
       "      <td>0.508728</td>\n",
       "      <td>7.476074</td>\n",
       "      <td>28.029297</td>\n",
       "      <td>11.500771</td>\n",
       "    </tr>\n",
       "    <tr>\n",
       "      <th>1</th>\n",
       "      <td>8.558743</td>\n",
       "      <td>10.497069</td>\n",
       "      <td>2.353017</td>\n",
       "      <td>4.955378</td>\n",
       "      <td>3489.981857</td>\n",
       "      <td>69.266198</td>\n",
       "      <td>34.118526</td>\n",
       "      <td>10.462676</td>\n",
       "      <td>6.029369</td>\n",
       "      <td>16.634514</td>\n",
       "      <td>...</td>\n",
       "      <td>1.184827</td>\n",
       "      <td>9.968944</td>\n",
       "      <td>42.701629</td>\n",
       "      <td>2.858998</td>\n",
       "      <td>0.927452</td>\n",
       "      <td>9.001494</td>\n",
       "      <td>0.536689</td>\n",
       "      <td>6.733907</td>\n",
       "      <td>28.067063</td>\n",
       "      <td>11.615865</td>\n",
       "    </tr>\n",
       "    <tr>\n",
       "      <th>2</th>\n",
       "      <td>8.603505</td>\n",
       "      <td>10.354494</td>\n",
       "      <td>2.416800</td>\n",
       "      <td>4.843460</td>\n",
       "      <td>3502.359819</td>\n",
       "      <td>68.116445</td>\n",
       "      <td>33.969464</td>\n",
       "      <td>10.507046</td>\n",
       "      <td>6.055926</td>\n",
       "      <td>16.208849</td>\n",
       "      <td>...</td>\n",
       "      <td>1.162562</td>\n",
       "      <td>10.213995</td>\n",
       "      <td>42.657501</td>\n",
       "      <td>2.945989</td>\n",
       "      <td>0.953716</td>\n",
       "      <td>8.842896</td>\n",
       "      <td>0.546416</td>\n",
       "      <td>6.471768</td>\n",
       "      <td>27.454037</td>\n",
       "      <td>11.695753</td>\n",
       "    </tr>\n",
       "    <tr>\n",
       "      <th>3</th>\n",
       "      <td>7.221879</td>\n",
       "      <td>8.496563</td>\n",
       "      <td>2.262051</td>\n",
       "      <td>4.655288</td>\n",
       "      <td>3499.162912</td>\n",
       "      <td>68.347543</td>\n",
       "      <td>28.260743</td>\n",
       "      <td>10.422762</td>\n",
       "      <td>6.047977</td>\n",
       "      <td>16.532835</td>\n",
       "      <td>...</td>\n",
       "      <td>1.079755</td>\n",
       "      <td>9.977019</td>\n",
       "      <td>42.689819</td>\n",
       "      <td>3.002340</td>\n",
       "      <td>0.883763</td>\n",
       "      <td>9.122857</td>\n",
       "      <td>0.542525</td>\n",
       "      <td>6.843791</td>\n",
       "      <td>27.341277</td>\n",
       "      <td>11.915047</td>\n",
       "    </tr>\n",
       "    <tr>\n",
       "      <th>4</th>\n",
       "      <td>9.089428</td>\n",
       "      <td>9.986786</td>\n",
       "      <td>2.277073</td>\n",
       "      <td>4.552800</td>\n",
       "      <td>3506.679315</td>\n",
       "      <td>66.927016</td>\n",
       "      <td>33.044932</td>\n",
       "      <td>10.360302</td>\n",
       "      <td>6.148599</td>\n",
       "      <td>16.525686</td>\n",
       "      <td>...</td>\n",
       "      <td>1.012642</td>\n",
       "      <td>10.142511</td>\n",
       "      <td>42.774141</td>\n",
       "      <td>3.169615</td>\n",
       "      <td>0.792826</td>\n",
       "      <td>8.871028</td>\n",
       "      <td>0.515438</td>\n",
       "      <td>6.550154</td>\n",
       "      <td>27.041023</td>\n",
       "      <td>12.411054</td>\n",
       "    </tr>\n",
       "  </tbody>\n",
       "</table>\n",
       "<p>5 rows × 34 columns</p>\n",
       "</div>"
      ],
      "text/plain": [
       "   primary_cleaner.output.concentrate_ag  \\\n",
       "0                               8.547551   \n",
       "1                               8.558743   \n",
       "2                               8.603505   \n",
       "3                               7.221879   \n",
       "4                               9.089428   \n",
       "\n",
       "   primary_cleaner.output.concentrate_pb  primary_cleaner.output.tail_au  \\\n",
       "0                              10.389648                        2.106679   \n",
       "1                              10.497069                        2.353017   \n",
       "2                              10.354494                        2.416800   \n",
       "3                               8.496563                        2.262051   \n",
       "4                               9.986786                        2.277073   \n",
       "\n",
       "   rougher.output.tail_ag  rougher.calculation.floatbank11_sulfate_to_au_feed  \\\n",
       "0                5.008018                                        3520.337158    \n",
       "1                4.955378                                        3489.981857    \n",
       "2                4.843460                                        3502.359819    \n",
       "3                4.655288                                        3499.162912    \n",
       "4                4.552800                                        3506.679315    \n",
       "\n",
       "   final.output.recovery  primary_cleaner.output.concentrate_au  \\\n",
       "0              70.541216                              34.174427   \n",
       "1              69.266198                              34.118526   \n",
       "2              68.116445                              33.969464   \n",
       "3              68.347543                              28.260743   \n",
       "4              66.927016                              33.044932   \n",
       "\n",
       "   final.output.tail_ag  final.output.concentrate_ag  final.output.tail_sol  \\\n",
       "0             10.411962                     6.055403              16.904297   \n",
       "1             10.462676                     6.029369              16.634514   \n",
       "2             10.507046                     6.055926              16.208849   \n",
       "3             10.422762                     6.047977              16.532835   \n",
       "4             10.360302                     6.148599              16.525686   \n",
       "\n",
       "   ...  rougher.output.tail_au  final.output.concentrate_pb  \\\n",
       "0  ...                1.170244                     9.889648   \n",
       "1  ...                1.184827                     9.968944   \n",
       "2  ...                1.162562                    10.213995   \n",
       "3  ...                1.079755                     9.977019   \n",
       "4  ...                1.012642                    10.142511   \n",
       "\n",
       "   final.output.concentrate_au  rougher.calculation.au_pb_ratio  \\\n",
       "0                    42.192020                         2.838687   \n",
       "1                    42.701629                         2.858998   \n",
       "2                    42.657501                         2.945989   \n",
       "3                    42.689819                         3.002340   \n",
       "4                    42.774141                         3.169615   \n",
       "\n",
       "   final.output.tail_pb  secondary_cleaner.output.tail_sol  \\\n",
       "0              0.895447                           8.764648   \n",
       "1              0.927452                           9.001494   \n",
       "2              0.953716                           8.842896   \n",
       "3              0.883763                           9.122857   \n",
       "4              0.792826                           8.871028   \n",
       "\n",
       "   rougher.output.tail_pb  primary_cleaner.output.tail_sol  \\\n",
       "0                0.508728                         7.476074   \n",
       "1                0.536689                         6.733907   \n",
       "2                0.546416                         6.471768   \n",
       "3                0.542525                         6.843791   \n",
       "4                0.515438                         6.550154   \n",
       "\n",
       "   rougher.output.concentrate_sol  rougher.output.concentrate_ag  \n",
       "0                       28.029297                      11.500771  \n",
       "1                       28.067063                      11.615865  \n",
       "2                       27.454037                      11.695753  \n",
       "3                       27.341277                      11.915047  \n",
       "4                       27.041023                      12.411054  \n",
       "\n",
       "[5 rows x 34 columns]"
      ]
     },
     "execution_count": 9,
     "metadata": {},
     "output_type": "execute_result"
    }
   ],
   "source": [
    "column = set(data_train.columns) - set(data_test.columns)\n",
    "data_train[column].head()"
   ]
  },
  {
   "cell_type": "markdown",
   "metadata": {},
   "source": [
    "Предположу, что это признаки, которые могут стать утечкой при обучении модели. Выходные значения металлов, после производимых операций, их концентрация и размер.\n",
    "\n",
    "Из обучающего фрейма, необходимо удалить столбцы, которых нет в тестовом. Так как смысла обучать модель тому, что не пригодится - нет, она будет работать неккоректно. Сделаем это уже перед обучением модели."
   ]
  },
  {
   "cell_type": "markdown",
   "metadata": {},
   "source": [
    "## Анализ данных"
   ]
  },
  {
   "cell_type": "markdown",
   "metadata": {},
   "source": [
    "### Концентрация металлов при обработке"
   ]
  },
  {
   "cell_type": "markdown",
   "metadata": {},
   "source": [
    "Посмотрим как меняется распределение металлов на разных этапах обработки."
   ]
  },
  {
   "cell_type": "code",
   "execution_count": 10,
   "metadata": {},
   "outputs": [
    {
     "name": "stderr",
     "output_type": "stream",
     "text": [
      "/opt/conda/lib/python3.9/site-packages/seaborn/distributions.py:2557: FutureWarning: `distplot` is a deprecated function and will be removed in a future version. Please adapt your code to use either `displot` (a figure-level function with similar flexibility) or `histplot` (an axes-level function for histograms).\n",
      "  warnings.warn(msg, FutureWarning)\n",
      "/opt/conda/lib/python3.9/site-packages/seaborn/distributions.py:2557: FutureWarning: `distplot` is a deprecated function and will be removed in a future version. Please adapt your code to use either `displot` (a figure-level function with similar flexibility) or `histplot` (an axes-level function for histograms).\n",
      "  warnings.warn(msg, FutureWarning)\n",
      "/opt/conda/lib/python3.9/site-packages/seaborn/distributions.py:2557: FutureWarning: `distplot` is a deprecated function and will be removed in a future version. Please adapt your code to use either `displot` (a figure-level function with similar flexibility) or `histplot` (an axes-level function for histograms).\n",
      "  warnings.warn(msg, FutureWarning)\n",
      "/opt/conda/lib/python3.9/site-packages/seaborn/distributions.py:2557: FutureWarning: `distplot` is a deprecated function and will be removed in a future version. Please adapt your code to use either `displot` (a figure-level function with similar flexibility) or `histplot` (an axes-level function for histograms).\n",
      "  warnings.warn(msg, FutureWarning)\n",
      "/opt/conda/lib/python3.9/site-packages/seaborn/distributions.py:2557: FutureWarning: `distplot` is a deprecated function and will be removed in a future version. Please adapt your code to use either `displot` (a figure-level function with similar flexibility) or `histplot` (an axes-level function for histograms).\n",
      "  warnings.warn(msg, FutureWarning)\n",
      "/opt/conda/lib/python3.9/site-packages/seaborn/distributions.py:2557: FutureWarning: `distplot` is a deprecated function and will be removed in a future version. Please adapt your code to use either `displot` (a figure-level function with similar flexibility) or `histplot` (an axes-level function for histograms).\n",
      "  warnings.warn(msg, FutureWarning)\n",
      "/opt/conda/lib/python3.9/site-packages/seaborn/distributions.py:2557: FutureWarning: `distplot` is a deprecated function and will be removed in a future version. Please adapt your code to use either `displot` (a figure-level function with similar flexibility) or `histplot` (an axes-level function for histograms).\n",
      "  warnings.warn(msg, FutureWarning)\n",
      "/opt/conda/lib/python3.9/site-packages/seaborn/distributions.py:2557: FutureWarning: `distplot` is a deprecated function and will be removed in a future version. Please adapt your code to use either `displot` (a figure-level function with similar flexibility) or `histplot` (an axes-level function for histograms).\n",
      "  warnings.warn(msg, FutureWarning)\n",
      "/opt/conda/lib/python3.9/site-packages/seaborn/distributions.py:2557: FutureWarning: `distplot` is a deprecated function and will be removed in a future version. Please adapt your code to use either `displot` (a figure-level function with similar flexibility) or `histplot` (an axes-level function for histograms).\n",
      "  warnings.warn(msg, FutureWarning)\n"
     ]
    },
    {
     "data": {
      "image/png": "[encoded data removed]",
      "text/plain": [
       "<Figure size 432x288 with 1 Axes>"
      ]
     },
     "metadata": {
      "needs_background": "light"
     },
     "output_type": "display_data"
    },
    {
     "data": {
      "image/png": "[encoded data removed]",
      "text/plain": [
       "<Figure size 432x288 with 1 Axes>"
      ]
     },
     "metadata": {
      "needs_background": "light"
     },
     "output_type": "display_data"
    },
    {
     "data": {
      "image/png": "[encoded data removed]",
      "text/plain": [
       "<Figure size 432x288 with 1 Axes>"
      ]
     },
     "metadata": {
      "needs_background": "light"
     },
     "output_type": "display_data"
    }
   ],
   "source": [
    "def plot(rougher, primary, final, name):\n",
    "    f, ax = plt.subplots(1, 1)\n",
    "    sns.distplot(data_train[rougher], label = 'Флотация',ax=ax)\n",
    "    sns.distplot(data_train[primary], label = 'Первый этап очистки',ax=ax)\n",
    "    sns.distplot(data_train[final], label = 'Финальный концентрат',ax=ax)\n",
    "    ax.legend()\n",
    "    plt.title(name)\n",
    "    plt.ylabel('Доля вещества, %')\n",
    "    \n",
    "plot('rougher.output.concentrate_ag', 'primary_cleaner.output.concentrate_ag', 'final.output.concentrate_ag', 'Серебро')\n",
    "plot('rougher.output.concentrate_pb', 'primary_cleaner.output.concentrate_pb', 'final.output.concentrate_pb', 'Свинец')\n",
    "plot('rougher.output.concentrate_au', 'primary_cleaner.output.concentrate_au', 'final.output.concentrate_au', 'Золото')"
   ]
  },
  {
   "cell_type": "markdown",
   "metadata": {},
   "source": [
    "Из графиков видно, что серебро, как ему и положено уменьшается, ведь мы преследуем цель увеличения концентрации золота. Свинец распределен более равномерно. Золото же наоборот увеличивает свою долю, можно убедиться, что все работает как и нужно."
   ]
  },
  {
   "cell_type": "markdown",
   "metadata": {},
   "source": [
    "### Суммарная концентрация"
   ]
  },
  {
   "cell_type": "markdown",
   "metadata": {},
   "source": [
    "Теперь посмотрим как распределенны ВСЕ вещества в сумме."
   ]
  },
  {
   "cell_type": "code",
   "execution_count": 11,
   "metadata": {},
   "outputs": [
    {
     "name": "stdout",
     "output_type": "stream",
     "text": [
      "38.88032491727404\n",
      "50.15629580032781\n",
      "59.27856030405919\n"
     ]
    },
    {
     "name": "stderr",
     "output_type": "stream",
     "text": [
      "/opt/conda/lib/python3.9/site-packages/seaborn/distributions.py:2557: FutureWarning: `distplot` is a deprecated function and will be removed in a future version. Please adapt your code to use either `displot` (a figure-level function with similar flexibility) or `histplot` (an axes-level function for histograms).\n",
      "  warnings.warn(msg, FutureWarning)\n",
      "/opt/conda/lib/python3.9/site-packages/seaborn/distributions.py:2557: FutureWarning: `distplot` is a deprecated function and will be removed in a future version. Please adapt your code to use either `displot` (a figure-level function with similar flexibility) or `histplot` (an axes-level function for histograms).\n",
      "  warnings.warn(msg, FutureWarning)\n",
      "/opt/conda/lib/python3.9/site-packages/seaborn/distributions.py:2557: FutureWarning: `distplot` is a deprecated function and will be removed in a future version. Please adapt your code to use either `displot` (a figure-level function with similar flexibility) or `histplot` (an axes-level function for histograms).\n",
      "  warnings.warn(msg, FutureWarning)\n"
     ]
    },
    {
     "data": {
      "text/plain": [
       "Text(0, 0.5, 'Доля веществ, %')"
      ]
     },
     "execution_count": 11,
     "metadata": {},
     "output_type": "execute_result"
    },
    {
     "data": {
      "image/png": "[encoded data removed]",
      "text/plain": [
       "<Figure size 432x288 with 1 Axes>"
      ]
     },
     "metadata": {
      "needs_background": "light"
     },
     "output_type": "display_data"
    }
   ],
   "source": [
    "data_train['sum_concentrate_rougher'] = \\\n",
    "data_train.loc[:, ['rougher.output.concentrate_ag', 'rougher.output.concentrate_pb', 'rougher.output.concentrate_au']].sum(axis=1)\n",
    "print(data_train['sum_concentrate_rougher'].mean())\n",
    "\n",
    "data_train['sum_concentrate_primary_cleaner'] = \\\n",
    "data_train.loc[:, ['primary_cleaner.output.concentrate_ag', 'primary_cleaner.output.concentrate_pb', 'primary_cleaner.output.concentrate_au']].sum(axis=1)\n",
    "print(data_train['sum_concentrate_primary_cleaner'].mean())\n",
    "\n",
    "data_train['sum_concentrate_final'] = \\\n",
    "data_train.loc[:, ['final.output.concentrate_ag', 'final.output.concentrate_pb', 'final.output.concentrate_au']].sum(axis=1)\n",
    "print(data_train['sum_concentrate_final'].mean())\n",
    "\n",
    "f, ax = plt.subplots(1, 1)\n",
    "sns.distplot(data_train['sum_concentrate_rougher'], label = 'Флотация',ax=ax)\n",
    "sns.distplot(data_train['sum_concentrate_primary_cleaner'], label = 'Первый этап очистки',ax=ax)\n",
    "sns.distplot(data_train['sum_concentrate_final'], label = 'Финальный концентрат',ax=ax)\n",
    "ax.legend()\n",
    "plt.title('Суммарная концентрация')\n",
    "plt.ylabel('Доля веществ, %')"
   ]
  },
  {
   "cell_type": "markdown",
   "metadata": {},
   "source": [
    "Здесь можно наблюдать как после всех этапов очистки общая концентрация становится все более усредненной."
   ]
  },
  {
   "cell_type": "code",
   "execution_count": 12,
   "metadata": {},
   "outputs": [
    {
     "data": {
      "text/plain": [
       "(14149, 87)"
      ]
     },
     "execution_count": 12,
     "metadata": {},
     "output_type": "execute_result"
    }
   ],
   "source": [
    "data_train = data_train.drop(['sum_concentrate_rougher', 'sum_concentrate_primary_cleaner', 'sum_concentrate_final'], axis=1)\n",
    "data_train.shape"
   ]
  },
  {
   "cell_type": "markdown",
   "metadata": {},
   "source": [
    "На графиках очень много нулевых значений, можно считать их выбросами, избавимся от всех строк в которых хоть один из элементов принимает такое низкое значение, они неккоректны."
   ]
  },
  {
   "cell_type": "code",
   "execution_count": 13,
   "metadata": {},
   "outputs": [
    {
     "data": {
      "text/plain": [
       "['final.output.concentrate_ag',\n",
       " 'final.output.concentrate_pb',\n",
       " 'final.output.concentrate_sol',\n",
       " 'final.output.concentrate_au',\n",
       " 'primary_cleaner.output.concentrate_ag',\n",
       " 'primary_cleaner.output.concentrate_pb',\n",
       " 'primary_cleaner.output.concentrate_sol',\n",
       " 'primary_cleaner.output.concentrate_au',\n",
       " 'rougher.output.concentrate_ag',\n",
       " 'rougher.output.concentrate_pb',\n",
       " 'rougher.output.concentrate_sol',\n",
       " 'rougher.output.concentrate_au']"
      ]
     },
     "execution_count": 13,
     "metadata": {},
     "output_type": "execute_result"
    }
   ],
   "source": [
    "col_with_conc = []\n",
    "for column in data_train.columns:\n",
    "    if 'output.concentrate' in column:\n",
    "        col_with_conc.append(column)\n",
    "col_with_conc"
   ]
  },
  {
   "cell_type": "code",
   "execution_count": 14,
   "metadata": {},
   "outputs": [
    {
     "data": {
      "text/plain": [
       "(13592, 87)"
      ]
     },
     "execution_count": 14,
     "metadata": {},
     "output_type": "execute_result"
    }
   ],
   "source": [
    "for column in col_with_conc:\n",
    "    data_train = data_train[data_train[column] > .01]\n",
    "    \n",
    "data_train.shape"
   ]
  },
  {
   "cell_type": "markdown",
   "metadata": {},
   "source": [
    "### Распределение размеров гранул"
   ]
  },
  {
   "cell_type": "markdown",
   "metadata": {},
   "source": [
    "Проверим, как распределены значения размеров гранул в тренировочном и тестововм датасетах, построим графики."
   ]
  },
  {
   "cell_type": "code",
   "execution_count": 15,
   "metadata": {},
   "outputs": [
    {
     "data": {
      "text/plain": [
       "<matplotlib.legend.Legend at 0x7f2b95683f10>"
      ]
     },
     "execution_count": 15,
     "metadata": {},
     "output_type": "execute_result"
    },
    {
     "data": {
      "image/png": "[encoded data removed]",
      "text/plain": [
       "<Figure size 432x288 with 1 Axes>"
      ]
     },
     "metadata": {
      "needs_background": "light"
     },
     "output_type": "display_data"
    }
   ],
   "source": [
    "f, ax = plt.subplots(1, 1)\n",
    "sns.kdeplot(data_train['rougher.input.feed_size'], label='Train, rougher', ax=ax)\n",
    "sns.kdeplot(data_test['rougher.input.feed_size'], label='Test, rougher', ax=ax)\n",
    "ax.legend()"
   ]
  },
  {
   "cell_type": "code",
   "execution_count": 16,
   "metadata": {},
   "outputs": [
    {
     "data": {
      "text/plain": [
       "<matplotlib.legend.Legend at 0x7f2b95650160>"
      ]
     },
     "execution_count": 16,
     "metadata": {},
     "output_type": "execute_result"
    },
    {
     "data": {
      "image/png": "[encoded data removed]",
      "text/plain": [
       "<Figure size 432x288 with 1 Axes>"
      ]
     },
     "metadata": {
      "needs_background": "light"
     },
     "output_type": "display_data"
    }
   ],
   "source": [
    "f, ax = plt.subplots(1, 1)\n",
    "sns.kdeplot(data_train['primary_cleaner.input.feed_size'], label='Train, primary', ax=ax)\n",
    "sns.kdeplot(data_test['primary_cleaner.input.feed_size'], label='Test, primary', ax=ax)\n",
    "ax.legend()"
   ]
  },
  {
   "cell_type": "markdown",
   "metadata": {},
   "source": [
    "Здесь все в порядке."
   ]
  },
  {
   "cell_type": "markdown",
   "metadata": {},
   "source": [
    "## Построение модели"
   ]
  },
  {
   "cell_type": "markdown",
   "metadata": {},
   "source": [
    "### Создание функции sMAPE"
   ]
  },
  {
   "cell_type": "code",
   "execution_count": 17,
   "metadata": {},
   "outputs": [],
   "source": [
    "def smape(targ, pred): \n",
    "    error = np.abs(targ - pred) \n",
    "    scale = (np.abs(targ) + np.abs(pred)) / 2\n",
    "    return np.mean(error / scale) * 100 \n",
    "\n",
    "def total_smape(rougher, final):\n",
    "    result = rougher*.25 + final*.75\n",
    "    return result"
   ]
  },
  {
   "cell_type": "markdown",
   "metadata": {},
   "source": [
    "Создадим скорер, благодаря которому будем подбирать параметры, интересуемый нас результат - чем меньше, тем лучше."
   ]
  },
  {
   "cell_type": "code",
   "execution_count": 18,
   "metadata": {},
   "outputs": [],
   "source": [
    "smape_scorer = make_scorer(smape, greater_is_better=False)"
   ]
  },
  {
   "cell_type": "markdown",
   "metadata": {},
   "source": [
    "### Определение признаков"
   ]
  },
  {
   "cell_type": "markdown",
   "metadata": {},
   "source": [
    "Оставим только те столбцы, которые есть в тестовой выборке, предварительно определим целевые признаки."
   ]
  },
  {
   "cell_type": "code",
   "execution_count": 19,
   "metadata": {},
   "outputs": [
    {
     "data": {
      "text/plain": [
       "((13592,), (13592,), (13592, 52))"
      ]
     },
     "execution_count": 19,
     "metadata": {},
     "output_type": "execute_result"
    }
   ],
   "source": [
    "target_rougher = data_train['rougher.output.recovery']\n",
    "target_final = data_train['final.output.recovery']\n",
    "\n",
    "data_train = data_train.loc[:,data_test.columns]\n",
    "\n",
    "features = data_train.drop('date', axis=1)\n",
    "target_rougher.shape, target_final.shape, features.shape"
   ]
  },
  {
   "cell_type": "markdown",
   "metadata": {},
   "source": [
    "### Обучение модели  и кросс-валидация"
   ]
  },
  {
   "cell_type": "markdown",
   "metadata": {},
   "source": [
    "С помощью GridSearchCV подберем идеальные гиперпараметры и посчитаем sMAPE для случайного леса и древа решений, не забудем указать наш скорер."
   ]
  },
  {
   "cell_type": "code",
   "execution_count": 20,
   "metadata": {
    "scrolled": true
   },
   "outputs": [
    {
     "name": "stderr",
     "output_type": "stream",
     "text": [
      "/opt/conda/lib/python3.9/site-packages/sklearn/utils/validation.py:70: FutureWarning: Pass scoring=make_scorer(smape, greater_is_better=False) as keyword args. From version 1.0 (renaming of 0.25) passing these as positional arguments will result in an error\n",
      "  warnings.warn(f\"Pass {args_msg} as keyword args. From version \"\n"
     ]
    },
    {
     "name": "stdout",
     "output_type": "stream",
     "text": [
      "Лучшая модель для rougher: DecisionTreeRegressor(max_depth=3, random_state=12345)\n",
      "Rougher sMAPE -6.816626954927381\n",
      "Лучшая модель для final: DecisionTreeRegressor(max_depth=3, random_state=12345)\n",
      "Final sMAPE: -9.219772143970484\n",
      "Итоговое sMAPE: -8.618985846709709\n"
     ]
    }
   ],
   "source": [
    "parametrs = {'max_depth': range(1,20, 2)}\n",
    "model = DecisionTreeRegressor(random_state=12345)\n",
    "grid = GridSearchCV(model, parametrs, smape_scorer)\n",
    "\n",
    "grid.fit(features, target_rougher)\n",
    "best_tree_rougher = grid.best_estimator_\n",
    "scores_rougher = grid.best_score_\n",
    "print('Лучшая модель для rougher:', best_tree_rougher)\n",
    "print('Rougher sMAPE', scores_rougher)\n",
    "\n",
    "grid.fit(features, target_final)\n",
    "best_tree_final = grid.best_estimator_\n",
    "scores_final = grid.best_score_\n",
    "print('Лучшая модель для final:', best_tree_final)\n",
    "print('Final sMAPE:', scores_final)\n",
    "\n",
    "print('Итоговое sMAPE:', total_smape(scores_rougher, scores_final))"
   ]
  },
  {
   "cell_type": "markdown",
   "metadata": {},
   "source": [
    "Проделаем то же самое со случайным лесом."
   ]
  },
  {
   "cell_type": "code",
   "execution_count": 21,
   "metadata": {},
   "outputs": [
    {
     "name": "stderr",
     "output_type": "stream",
     "text": [
      "/opt/conda/lib/python3.9/site-packages/sklearn/utils/validation.py:70: FutureWarning: Pass scoring=make_scorer(smape, greater_is_better=False) as keyword args. From version 1.0 (renaming of 0.25) passing these as positional arguments will result in an error\n",
      "  warnings.warn(f\"Pass {args_msg} as keyword args. From version \"\n"
     ]
    },
    {
     "name": "stdout",
     "output_type": "stream",
     "text": [
      "Лучшая модель для rougher RandomForestRegressor(max_depth=5, n_estimators=81, random_state=12345)\n",
      "Rougher sMAPE: -6.378609189329682\n",
      "Лучшая модель для final: RandomForestRegressor(max_depth=5, n_estimators=81, random_state=12345)\n",
      "Final sMAPE: -9.031092767027328\n",
      "Итоговое sMAPE: -8.367971872602917\n"
     ]
    }
   ],
   "source": [
    "parametrs = {'max_depth': range(1,20, 4),\n",
    "             'n_estimators': range(1,100, 20)}\n",
    "model = RandomForestRegressor(random_state=12345)\n",
    "grid = GridSearchCV(model, parametrs, smape_scorer)\n",
    "\n",
    "grid.fit(features, target_rougher)\n",
    "best_forest_rougher = grid.best_estimator_\n",
    "scores_rougher = grid.best_score_\n",
    "print('Лучшая модель для rougher', best_forest_rougher)\n",
    "print('Rougher sMAPE:', scores_rougher)\n",
    "\n",
    "grid.fit(features, target_final)\n",
    "best_forest_final = grid.best_estimator_\n",
    "scores_final = grid.best_score_\n",
    "print('Лучшая модель для final:', best_forest_final)\n",
    "print('Final sMAPE:', scores_final)\n",
    "\n",
    "print('Итоговое sMAPE:', total_smape(scores_rougher, scores_final))"
   ]
  },
  {
   "cell_type": "markdown",
   "metadata": {},
   "source": [
    "Теперь пришла очередь линейной регрессии."
   ]
  },
  {
   "cell_type": "code",
   "execution_count": 22,
   "metadata": {},
   "outputs": [
    {
     "name": "stdout",
     "output_type": "stream",
     "text": [
      "Rougher smape: -7.270673184186526\n",
      "Final smape: -10.995311438260142\n",
      "Итоговое smape: -10.064151874741738\n"
     ]
    }
   ],
   "source": [
    "model = LinearRegression()\n",
    "scores_rougher = cross_val_score(model, features, target_rougher, scoring=smape_scorer).mean()\n",
    "scores_final = cross_val_score(model, features, target_final, scoring=smape_scorer).mean()\n",
    "print('Rougher smape:',  scores_rougher)\n",
    "print('Final smape:',  scores_final)\n",
    "print('Итоговое smape:', total_smape(scores_rougher, scores_final))"
   ]
  },
  {
   "cell_type": "markdown",
   "metadata": {},
   "source": [
    "Лучший результат показал случайный лес - 8.37% ошибок."
   ]
  },
  {
   "cell_type": "markdown",
   "metadata": {},
   "source": [
    "### Проверка модели на тестовых данных"
   ]
  },
  {
   "cell_type": "markdown",
   "metadata": {},
   "source": [
    "Добавим в тестовую выборку таргеты, определив date как индекс."
   ]
  },
  {
   "cell_type": "code",
   "execution_count": 23,
   "metadata": {},
   "outputs": [],
   "source": [
    "data_test = data_test.ffill(None)"
   ]
  },
  {
   "cell_type": "code",
   "execution_count": 24,
   "metadata": {},
   "outputs": [
    {
     "data": {
      "text/html": [
       "<div>\n",
       "<style scoped>\n",
       "    .dataframe tbody tr th:only-of-type {\n",
       "        vertical-align: middle;\n",
       "    }\n",
       "\n",
       "    .dataframe tbody tr th {\n",
       "        vertical-align: top;\n",
       "    }\n",
       "\n",
       "    .dataframe thead th {\n",
       "        text-align: right;\n",
       "    }\n",
       "</style>\n",
       "<table border=\"1\" class=\"dataframe\">\n",
       "  <thead>\n",
       "    <tr style=\"text-align: right;\">\n",
       "      <th></th>\n",
       "      <th>primary_cleaner.input.sulfate</th>\n",
       "      <th>primary_cleaner.input.depressant</th>\n",
       "      <th>primary_cleaner.input.feed_size</th>\n",
       "      <th>primary_cleaner.input.xanthate</th>\n",
       "      <th>primary_cleaner.state.floatbank8_a_air</th>\n",
       "      <th>primary_cleaner.state.floatbank8_a_level</th>\n",
       "      <th>primary_cleaner.state.floatbank8_b_air</th>\n",
       "      <th>primary_cleaner.state.floatbank8_b_level</th>\n",
       "      <th>primary_cleaner.state.floatbank8_c_air</th>\n",
       "      <th>primary_cleaner.state.floatbank8_c_level</th>\n",
       "      <th>...</th>\n",
       "      <th>secondary_cleaner.state.floatbank4_b_air</th>\n",
       "      <th>secondary_cleaner.state.floatbank4_b_level</th>\n",
       "      <th>secondary_cleaner.state.floatbank5_a_air</th>\n",
       "      <th>secondary_cleaner.state.floatbank5_a_level</th>\n",
       "      <th>secondary_cleaner.state.floatbank5_b_air</th>\n",
       "      <th>secondary_cleaner.state.floatbank5_b_level</th>\n",
       "      <th>secondary_cleaner.state.floatbank6_a_air</th>\n",
       "      <th>secondary_cleaner.state.floatbank6_a_level</th>\n",
       "      <th>rougher.output.recovery</th>\n",
       "      <th>final.output.recovery</th>\n",
       "    </tr>\n",
       "    <tr>\n",
       "      <th>date</th>\n",
       "      <th></th>\n",
       "      <th></th>\n",
       "      <th></th>\n",
       "      <th></th>\n",
       "      <th></th>\n",
       "      <th></th>\n",
       "      <th></th>\n",
       "      <th></th>\n",
       "      <th></th>\n",
       "      <th></th>\n",
       "      <th></th>\n",
       "      <th></th>\n",
       "      <th></th>\n",
       "      <th></th>\n",
       "      <th></th>\n",
       "      <th></th>\n",
       "      <th></th>\n",
       "      <th></th>\n",
       "      <th></th>\n",
       "      <th></th>\n",
       "      <th></th>\n",
       "    </tr>\n",
       "  </thead>\n",
       "  <tbody>\n",
       "    <tr>\n",
       "      <th>2016-09-01 00:59:59</th>\n",
       "      <td>210.800909</td>\n",
       "      <td>14.993118</td>\n",
       "      <td>8.080000</td>\n",
       "      <td>1.005021</td>\n",
       "      <td>1398.981301</td>\n",
       "      <td>-500.225577</td>\n",
       "      <td>1399.144926</td>\n",
       "      <td>-499.919735</td>\n",
       "      <td>1400.102998</td>\n",
       "      <td>-500.704369</td>\n",
       "      <td>...</td>\n",
       "      <td>8.016656</td>\n",
       "      <td>-501.289139</td>\n",
       "      <td>7.946562</td>\n",
       "      <td>-432.317850</td>\n",
       "      <td>4.872511</td>\n",
       "      <td>-500.037437</td>\n",
       "      <td>26.705889</td>\n",
       "      <td>-499.709414</td>\n",
       "      <td>89.993421</td>\n",
       "      <td>70.273583</td>\n",
       "    </tr>\n",
       "    <tr>\n",
       "      <th>2016-09-01 01:59:59</th>\n",
       "      <td>215.392455</td>\n",
       "      <td>14.987471</td>\n",
       "      <td>8.080000</td>\n",
       "      <td>0.990469</td>\n",
       "      <td>1398.777912</td>\n",
       "      <td>-500.057435</td>\n",
       "      <td>1398.055362</td>\n",
       "      <td>-499.778182</td>\n",
       "      <td>1396.151033</td>\n",
       "      <td>-499.240168</td>\n",
       "      <td>...</td>\n",
       "      <td>8.130979</td>\n",
       "      <td>-499.634209</td>\n",
       "      <td>7.958270</td>\n",
       "      <td>-525.839648</td>\n",
       "      <td>4.878850</td>\n",
       "      <td>-500.162375</td>\n",
       "      <td>25.019940</td>\n",
       "      <td>-499.819438</td>\n",
       "      <td>88.089657</td>\n",
       "      <td>68.910432</td>\n",
       "    </tr>\n",
       "    <tr>\n",
       "      <th>2016-09-01 02:59:59</th>\n",
       "      <td>215.259946</td>\n",
       "      <td>12.884934</td>\n",
       "      <td>7.786667</td>\n",
       "      <td>0.996043</td>\n",
       "      <td>1398.493666</td>\n",
       "      <td>-500.868360</td>\n",
       "      <td>1398.860436</td>\n",
       "      <td>-499.764529</td>\n",
       "      <td>1398.075709</td>\n",
       "      <td>-502.151509</td>\n",
       "      <td>...</td>\n",
       "      <td>8.096893</td>\n",
       "      <td>-500.827423</td>\n",
       "      <td>8.071056</td>\n",
       "      <td>-500.801673</td>\n",
       "      <td>4.905125</td>\n",
       "      <td>-499.828510</td>\n",
       "      <td>24.994862</td>\n",
       "      <td>-500.622559</td>\n",
       "      <td>88.412756</td>\n",
       "      <td>68.143213</td>\n",
       "    </tr>\n",
       "    <tr>\n",
       "      <th>2016-09-01 03:59:59</th>\n",
       "      <td>215.336236</td>\n",
       "      <td>12.006805</td>\n",
       "      <td>7.640000</td>\n",
       "      <td>0.863514</td>\n",
       "      <td>1399.618111</td>\n",
       "      <td>-498.863574</td>\n",
       "      <td>1397.440120</td>\n",
       "      <td>-499.211024</td>\n",
       "      <td>1400.129303</td>\n",
       "      <td>-498.355873</td>\n",
       "      <td>...</td>\n",
       "      <td>8.074946</td>\n",
       "      <td>-499.474407</td>\n",
       "      <td>7.897085</td>\n",
       "      <td>-500.868509</td>\n",
       "      <td>4.931400</td>\n",
       "      <td>-499.963623</td>\n",
       "      <td>24.948919</td>\n",
       "      <td>-498.709987</td>\n",
       "      <td>87.360133</td>\n",
       "      <td>67.776393</td>\n",
       "    </tr>\n",
       "    <tr>\n",
       "      <th>2016-09-01 04:59:59</th>\n",
       "      <td>199.099327</td>\n",
       "      <td>10.682530</td>\n",
       "      <td>7.530000</td>\n",
       "      <td>0.805575</td>\n",
       "      <td>1401.268123</td>\n",
       "      <td>-500.808305</td>\n",
       "      <td>1398.128818</td>\n",
       "      <td>-499.504543</td>\n",
       "      <td>1402.172226</td>\n",
       "      <td>-500.810606</td>\n",
       "      <td>...</td>\n",
       "      <td>8.054678</td>\n",
       "      <td>-500.397500</td>\n",
       "      <td>8.107890</td>\n",
       "      <td>-509.526725</td>\n",
       "      <td>4.957674</td>\n",
       "      <td>-500.360026</td>\n",
       "      <td>25.003331</td>\n",
       "      <td>-500.856333</td>\n",
       "      <td>83.236367</td>\n",
       "      <td>61.467078</td>\n",
       "    </tr>\n",
       "  </tbody>\n",
       "</table>\n",
       "<p>5 rows × 54 columns</p>\n",
       "</div>"
      ],
      "text/plain": [
       "                     primary_cleaner.input.sulfate  \\\n",
       "date                                                 \n",
       "2016-09-01 00:59:59                     210.800909   \n",
       "2016-09-01 01:59:59                     215.392455   \n",
       "2016-09-01 02:59:59                     215.259946   \n",
       "2016-09-01 03:59:59                     215.336236   \n",
       "2016-09-01 04:59:59                     199.099327   \n",
       "\n",
       "                     primary_cleaner.input.depressant  \\\n",
       "date                                                    \n",
       "2016-09-01 00:59:59                         14.993118   \n",
       "2016-09-01 01:59:59                         14.987471   \n",
       "2016-09-01 02:59:59                         12.884934   \n",
       "2016-09-01 03:59:59                         12.006805   \n",
       "2016-09-01 04:59:59                         10.682530   \n",
       "\n",
       "                     primary_cleaner.input.feed_size  \\\n",
       "date                                                   \n",
       "2016-09-01 00:59:59                         8.080000   \n",
       "2016-09-01 01:59:59                         8.080000   \n",
       "2016-09-01 02:59:59                         7.786667   \n",
       "2016-09-01 03:59:59                         7.640000   \n",
       "2016-09-01 04:59:59                         7.530000   \n",
       "\n",
       "                     primary_cleaner.input.xanthate  \\\n",
       "date                                                  \n",
       "2016-09-01 00:59:59                        1.005021   \n",
       "2016-09-01 01:59:59                        0.990469   \n",
       "2016-09-01 02:59:59                        0.996043   \n",
       "2016-09-01 03:59:59                        0.863514   \n",
       "2016-09-01 04:59:59                        0.805575   \n",
       "\n",
       "                     primary_cleaner.state.floatbank8_a_air  \\\n",
       "date                                                          \n",
       "2016-09-01 00:59:59                             1398.981301   \n",
       "2016-09-01 01:59:59                             1398.777912   \n",
       "2016-09-01 02:59:59                             1398.493666   \n",
       "2016-09-01 03:59:59                             1399.618111   \n",
       "2016-09-01 04:59:59                             1401.268123   \n",
       "\n",
       "                     primary_cleaner.state.floatbank8_a_level  \\\n",
       "date                                                            \n",
       "2016-09-01 00:59:59                               -500.225577   \n",
       "2016-09-01 01:59:59                               -500.057435   \n",
       "2016-09-01 02:59:59                               -500.868360   \n",
       "2016-09-01 03:59:59                               -498.863574   \n",
       "2016-09-01 04:59:59                               -500.808305   \n",
       "\n",
       "                     primary_cleaner.state.floatbank8_b_air  \\\n",
       "date                                                          \n",
       "2016-09-01 00:59:59                             1399.144926   \n",
       "2016-09-01 01:59:59                             1398.055362   \n",
       "2016-09-01 02:59:59                             1398.860436   \n",
       "2016-09-01 03:59:59                             1397.440120   \n",
       "2016-09-01 04:59:59                             1398.128818   \n",
       "\n",
       "                     primary_cleaner.state.floatbank8_b_level  \\\n",
       "date                                                            \n",
       "2016-09-01 00:59:59                               -499.919735   \n",
       "2016-09-01 01:59:59                               -499.778182   \n",
       "2016-09-01 02:59:59                               -499.764529   \n",
       "2016-09-01 03:59:59                               -499.211024   \n",
       "2016-09-01 04:59:59                               -499.504543   \n",
       "\n",
       "                     primary_cleaner.state.floatbank8_c_air  \\\n",
       "date                                                          \n",
       "2016-09-01 00:59:59                             1400.102998   \n",
       "2016-09-01 01:59:59                             1396.151033   \n",
       "2016-09-01 02:59:59                             1398.075709   \n",
       "2016-09-01 03:59:59                             1400.129303   \n",
       "2016-09-01 04:59:59                             1402.172226   \n",
       "\n",
       "                     primary_cleaner.state.floatbank8_c_level  ...  \\\n",
       "date                                                           ...   \n",
       "2016-09-01 00:59:59                               -500.704369  ...   \n",
       "2016-09-01 01:59:59                               -499.240168  ...   \n",
       "2016-09-01 02:59:59                               -502.151509  ...   \n",
       "2016-09-01 03:59:59                               -498.355873  ...   \n",
       "2016-09-01 04:59:59                               -500.810606  ...   \n",
       "\n",
       "                     secondary_cleaner.state.floatbank4_b_air  \\\n",
       "date                                                            \n",
       "2016-09-01 00:59:59                                  8.016656   \n",
       "2016-09-01 01:59:59                                  8.130979   \n",
       "2016-09-01 02:59:59                                  8.096893   \n",
       "2016-09-01 03:59:59                                  8.074946   \n",
       "2016-09-01 04:59:59                                  8.054678   \n",
       "\n",
       "                     secondary_cleaner.state.floatbank4_b_level  \\\n",
       "date                                                              \n",
       "2016-09-01 00:59:59                                 -501.289139   \n",
       "2016-09-01 01:59:59                                 -499.634209   \n",
       "2016-09-01 02:59:59                                 -500.827423   \n",
       "2016-09-01 03:59:59                                 -499.474407   \n",
       "2016-09-01 04:59:59                                 -500.397500   \n",
       "\n",
       "                     secondary_cleaner.state.floatbank5_a_air  \\\n",
       "date                                                            \n",
       "2016-09-01 00:59:59                                  7.946562   \n",
       "2016-09-01 01:59:59                                  7.958270   \n",
       "2016-09-01 02:59:59                                  8.071056   \n",
       "2016-09-01 03:59:59                                  7.897085   \n",
       "2016-09-01 04:59:59                                  8.107890   \n",
       "\n",
       "                     secondary_cleaner.state.floatbank5_a_level  \\\n",
       "date                                                              \n",
       "2016-09-01 00:59:59                                 -432.317850   \n",
       "2016-09-01 01:59:59                                 -525.839648   \n",
       "2016-09-01 02:59:59                                 -500.801673   \n",
       "2016-09-01 03:59:59                                 -500.868509   \n",
       "2016-09-01 04:59:59                                 -509.526725   \n",
       "\n",
       "                     secondary_cleaner.state.floatbank5_b_air  \\\n",
       "date                                                            \n",
       "2016-09-01 00:59:59                                  4.872511   \n",
       "2016-09-01 01:59:59                                  4.878850   \n",
       "2016-09-01 02:59:59                                  4.905125   \n",
       "2016-09-01 03:59:59                                  4.931400   \n",
       "2016-09-01 04:59:59                                  4.957674   \n",
       "\n",
       "                     secondary_cleaner.state.floatbank5_b_level  \\\n",
       "date                                                              \n",
       "2016-09-01 00:59:59                                 -500.037437   \n",
       "2016-09-01 01:59:59                                 -500.162375   \n",
       "2016-09-01 02:59:59                                 -499.828510   \n",
       "2016-09-01 03:59:59                                 -499.963623   \n",
       "2016-09-01 04:59:59                                 -500.360026   \n",
       "\n",
       "                     secondary_cleaner.state.floatbank6_a_air  \\\n",
       "date                                                            \n",
       "2016-09-01 00:59:59                                 26.705889   \n",
       "2016-09-01 01:59:59                                 25.019940   \n",
       "2016-09-01 02:59:59                                 24.994862   \n",
       "2016-09-01 03:59:59                                 24.948919   \n",
       "2016-09-01 04:59:59                                 25.003331   \n",
       "\n",
       "                     secondary_cleaner.state.floatbank6_a_level  \\\n",
       "date                                                              \n",
       "2016-09-01 00:59:59                                 -499.709414   \n",
       "2016-09-01 01:59:59                                 -499.819438   \n",
       "2016-09-01 02:59:59                                 -500.622559   \n",
       "2016-09-01 03:59:59                                 -498.709987   \n",
       "2016-09-01 04:59:59                                 -500.856333   \n",
       "\n",
       "                     rougher.output.recovery  final.output.recovery  \n",
       "date                                                                 \n",
       "2016-09-01 00:59:59                89.993421              70.273583  \n",
       "2016-09-01 01:59:59                88.089657              68.910432  \n",
       "2016-09-01 02:59:59                88.412756              68.143213  \n",
       "2016-09-01 03:59:59                87.360133              67.776393  \n",
       "2016-09-01 04:59:59                83.236367              61.467078  \n",
       "\n",
       "[5 rows x 54 columns]"
      ]
     },
     "execution_count": 24,
     "metadata": {},
     "output_type": "execute_result"
    }
   ],
   "source": [
    "data_test = data_test.set_index('date')\n",
    "data_full = data_full.set_index('date')\n",
    "data_test = data_test.merge(data_full[['rougher.output.recovery', 'final.output.recovery']], on = 'date', how='left')\n",
    "data_test.head()"
   ]
  },
  {
   "cell_type": "markdown",
   "metadata": {},
   "source": [
    "Перенанзначим признаки для теста."
   ]
  },
  {
   "cell_type": "code",
   "execution_count": 25,
   "metadata": {},
   "outputs": [
    {
     "data": {
      "text/plain": [
       "((5290,), (5290,), (5290, 52))"
      ]
     },
     "execution_count": 25,
     "metadata": {},
     "output_type": "execute_result"
    }
   ],
   "source": [
    "features_test = data_test.drop(['rougher.output.recovery', 'final.output.recovery'], axis=1)\n",
    "target_rougher_test = data_test['rougher.output.recovery']\n",
    "target_final_test = data_test['final.output.recovery']\n",
    "target_rougher_test.shape, target_final_test.shape, features_test.shape"
   ]
  },
  {
   "cell_type": "markdown",
   "metadata": {},
   "source": [
    "Проверим какую sMAPE покажет наша модель на тесте"
   ]
  },
  {
   "cell_type": "code",
   "execution_count": 26,
   "metadata": {},
   "outputs": [
    {
     "name": "stdout",
     "output_type": "stream",
     "text": [
      "8.129649569540504\n",
      "9.72191655144335\n",
      "9.323849805967638\n"
     ]
    }
   ],
   "source": [
    "pred_rougher = best_forest_rougher.predict(features_test)\n",
    "smape_rougher = smape(target_rougher_test, pred_rougher)\n",
    "pred_final = best_forest_final.predict(features_test)\n",
    "smape_final = smape(target_final_test, pred_final)\n",
    "print(smape_rougher)\n",
    "print(smape_final)\n",
    "print(total_smape(smape_rougher, smape_final))"
   ]
  },
  {
   "cell_type": "markdown",
   "metadata": {},
   "source": [
    "Теперь сравним ее со \"случайной\" моделью."
   ]
  },
  {
   "cell_type": "code",
   "execution_count": 27,
   "metadata": {},
   "outputs": [
    {
     "name": "stdout",
     "output_type": "stream",
     "text": [
      "9.985912565459811\n",
      "9.72191655144335\n",
      "9.787915554947466\n"
     ]
    }
   ],
   "source": [
    "dummy_clf = DummyClassifier(strategy=\"most_frequent\")\n",
    "dummy_clf.fit(features, target_rougher)\n",
    "pred_rougher = dummy_clf.predict(features_test)\n",
    "smape_rougher = smape(target_rougher_test, pred_rougher)\n",
    "pred_final = best_forest_final.predict(features_test)\n",
    "smape_final = smape(target_final_test, pred_final)\n",
    "print(smape_rougher)\n",
    "print(smape_final)\n",
    "print(total_smape(smape_rougher, smape_final))"
   ]
  },
  {
   "cell_type": "markdown",
   "metadata": {},
   "source": [
    "Наша машина ненамного превосходит константную, есть к чему стремиться!"
   ]
  },
  {
   "cell_type": "markdown",
   "metadata": {},
   "source": [
    "## Общий вывод"
   ]
  },
  {
   "cell_type": "markdown",
   "metadata": {},
   "source": [
    "В этом проекте мы разрабатывали модель способную предсказывать окончательное количество золото в руде исходя из данных прочих металлов. \n",
    "\n",
    "В результате проделанной работы мы провели анализ предоставленных данных:\n",
    "- пропуски были заменены на значения из предыдущих операций, ближайших по времени;\n",
    "- от нулевых значений было решено избавиться, так как скорее всего такие данные являлись ошибочными.\n",
    "\n",
    "Также мы построили графики распределений величин:\n",
    "- сравнили какую долю занимают металлы на всех этапах обработки;\n",
    "- проверили, что данные распределены одинаково относительно тренировочной и тестовой выборок. \n",
    "\n",
    "Однотипные задачи были выполнены с помощью функций и циклов, подборкой лучших гиперпараметров и моделей занимался GridSearch, чем мы значительно облегчили себе работу. Выбрав лучшую модель мы проестировали ее на отдельной выборке и получили результат sMAPE = 9.32%, такой результат оказался ненамного выше случайной модели. \n",
    "\n",
    "Запускать ли такую машину ради дополнительных 0,4% точности - решение за заказчиком."
   ]
  }
 ],
 "metadata": {
  "ExecuteTimeLog": [
   {
    "duration": 56,
    "start_time": "2022-07-18T23:18:10.669Z"
   },
   {
    "duration": 416,
    "start_time": "2022-07-18T23:18:13.277Z"
   },
   {
    "duration": 1680,
    "start_time": "2022-07-18T23:18:13.696Z"
   },
   {
    "duration": 57,
    "start_time": "2022-07-19T02:26:56.543Z"
   },
   {
    "duration": 4,
    "start_time": "2022-07-19T02:27:11.982Z"
   },
   {
    "duration": 4,
    "start_time": "2022-07-19T02:27:19.105Z"
   },
   {
    "duration": 13,
    "start_time": "2022-07-19T02:31:39.037Z"
   },
   {
    "duration": 1138,
    "start_time": "2022-07-19T02:34:25.209Z"
   },
   {
    "duration": 1133,
    "start_time": "2022-07-19T02:34:30.684Z"
   },
   {
    "duration": 64,
    "start_time": "2022-07-19T03:07:18.235Z"
   },
   {
    "duration": 0,
    "start_time": "2022-07-19T03:07:18.301Z"
   },
   {
    "duration": 0,
    "start_time": "2022-07-19T03:07:18.303Z"
   },
   {
    "duration": 0,
    "start_time": "2022-07-19T03:07:18.304Z"
   },
   {
    "duration": 0,
    "start_time": "2022-07-19T03:07:18.306Z"
   },
   {
    "duration": 0,
    "start_time": "2022-07-19T03:07:18.307Z"
   },
   {
    "duration": 0,
    "start_time": "2022-07-19T03:07:18.308Z"
   },
   {
    "duration": 101,
    "start_time": "2022-07-19T03:07:29.587Z"
   },
   {
    "duration": 0,
    "start_time": "2022-07-19T03:07:29.690Z"
   },
   {
    "duration": 0,
    "start_time": "2022-07-19T03:07:29.691Z"
   },
   {
    "duration": 0,
    "start_time": "2022-07-19T03:07:29.692Z"
   },
   {
    "duration": 0,
    "start_time": "2022-07-19T03:07:29.693Z"
   },
   {
    "duration": 0,
    "start_time": "2022-07-19T03:07:29.694Z"
   },
   {
    "duration": 0,
    "start_time": "2022-07-19T03:07:29.695Z"
   },
   {
    "duration": 1114,
    "start_time": "2022-07-19T03:07:34.092Z"
   },
   {
    "duration": 79,
    "start_time": "2022-07-19T03:07:40.749Z"
   },
   {
    "duration": 3,
    "start_time": "2022-07-19T03:07:55.576Z"
   },
   {
    "duration": 966,
    "start_time": "2022-07-19T03:07:56.362Z"
   },
   {
    "duration": 4,
    "start_time": "2022-07-19T03:07:58.564Z"
   },
   {
    "duration": 3,
    "start_time": "2022-07-19T03:07:59.192Z"
   },
   {
    "duration": 10,
    "start_time": "2022-07-19T03:07:59.918Z"
   },
   {
    "duration": 107,
    "start_time": "2022-07-19T03:08:03.678Z"
   },
   {
    "duration": 7,
    "start_time": "2022-07-19T03:08:36.648Z"
   },
   {
    "duration": 1156,
    "start_time": "2022-07-19T03:09:12.495Z"
   },
   {
    "duration": 974,
    "start_time": "2022-07-19T03:09:13.656Z"
   },
   {
    "duration": 4,
    "start_time": "2022-07-19T03:09:14.632Z"
   },
   {
    "duration": 22,
    "start_time": "2022-07-19T03:09:14.638Z"
   },
   {
    "duration": 158,
    "start_time": "2022-07-19T03:09:14.662Z"
   },
   {
    "duration": 0,
    "start_time": "2022-07-19T03:09:14.836Z"
   },
   {
    "duration": 27,
    "start_time": "2022-07-19T03:09:53.191Z"
   },
   {
    "duration": 1182,
    "start_time": "2022-07-19T03:09:58.301Z"
   },
   {
    "duration": 931,
    "start_time": "2022-07-19T03:09:59.485Z"
   },
   {
    "duration": 5,
    "start_time": "2022-07-19T03:10:00.420Z"
   },
   {
    "duration": 29,
    "start_time": "2022-07-19T03:10:00.435Z"
   },
   {
    "duration": 124,
    "start_time": "2022-07-19T03:10:00.467Z"
   },
   {
    "duration": 0,
    "start_time": "2022-07-19T03:10:00.593Z"
   },
   {
    "duration": 8,
    "start_time": "2022-07-19T03:10:17.785Z"
   },
   {
    "duration": 5,
    "start_time": "2022-07-19T03:10:38.187Z"
   },
   {
    "duration": 5,
    "start_time": "2022-07-19T03:10:39.949Z"
   },
   {
    "duration": 16,
    "start_time": "2022-07-19T03:10:44.254Z"
   },
   {
    "duration": 15,
    "start_time": "2022-07-19T03:10:55.227Z"
   },
   {
    "duration": 9,
    "start_time": "2022-07-19T03:12:40.344Z"
   },
   {
    "duration": 2,
    "start_time": "2022-07-19T03:13:12.585Z"
   },
   {
    "duration": 941,
    "start_time": "2022-07-19T03:13:13.509Z"
   },
   {
    "duration": 3,
    "start_time": "2022-07-19T03:13:15.600Z"
   },
   {
    "duration": 3,
    "start_time": "2022-07-19T03:13:17.271Z"
   },
   {
    "duration": 8,
    "start_time": "2022-07-19T03:13:17.794Z"
   },
   {
    "duration": 17,
    "start_time": "2022-07-19T03:13:18.545Z"
   },
   {
    "duration": 6,
    "start_time": "2022-07-19T03:16:58.877Z"
   },
   {
    "duration": 10,
    "start_time": "2022-07-19T03:17:04.653Z"
   },
   {
    "duration": 5,
    "start_time": "2022-07-19T03:17:25.663Z"
   },
   {
    "duration": 5,
    "start_time": "2022-07-19T03:17:33.853Z"
   },
   {
    "duration": 1150,
    "start_time": "2022-07-19T03:18:35.366Z"
   },
   {
    "duration": 914,
    "start_time": "2022-07-19T03:18:36.524Z"
   },
   {
    "duration": 3,
    "start_time": "2022-07-19T03:18:37.441Z"
   },
   {
    "duration": 7,
    "start_time": "2022-07-19T03:18:37.446Z"
   },
   {
    "duration": 12,
    "start_time": "2022-07-19T03:18:37.454Z"
   },
   {
    "duration": 113,
    "start_time": "2022-07-19T03:18:37.468Z"
   },
   {
    "duration": 4,
    "start_time": "2022-07-19T03:19:24.997Z"
   },
   {
    "duration": 4,
    "start_time": "2022-07-19T03:19:28.355Z"
   },
   {
    "duration": 19,
    "start_time": "2022-07-19T03:19:51.011Z"
   },
   {
    "duration": 1310,
    "start_time": "2022-07-19T03:20:06.934Z"
   },
   {
    "duration": 988,
    "start_time": "2022-07-19T03:20:08.250Z"
   },
   {
    "duration": 3,
    "start_time": "2022-07-19T03:20:09.240Z"
   },
   {
    "duration": 54,
    "start_time": "2022-07-19T03:20:09.245Z"
   },
   {
    "duration": 50,
    "start_time": "2022-07-19T03:20:09.302Z"
   },
   {
    "duration": 168,
    "start_time": "2022-07-19T03:20:09.354Z"
   },
   {
    "duration": 1234,
    "start_time": "2022-07-19T03:28:56.002Z"
   },
   {
    "duration": 999,
    "start_time": "2022-07-19T03:28:57.239Z"
   },
   {
    "duration": 4,
    "start_time": "2022-07-19T03:28:58.247Z"
   },
   {
    "duration": 114,
    "start_time": "2022-07-19T03:28:58.253Z"
   },
   {
    "duration": 0,
    "start_time": "2022-07-19T03:28:58.369Z"
   },
   {
    "duration": 12,
    "start_time": "2022-07-19T03:34:47.400Z"
   },
   {
    "duration": 119,
    "start_time": "2022-07-19T03:34:51.963Z"
   },
   {
    "duration": 8,
    "start_time": "2022-07-19T03:34:57.069Z"
   },
   {
    "duration": 1303,
    "start_time": "2022-07-19T11:07:02.741Z"
   },
   {
    "duration": 1566,
    "start_time": "2022-07-19T11:07:04.051Z"
   },
   {
    "duration": 3,
    "start_time": "2022-07-19T11:07:05.619Z"
   },
   {
    "duration": 103,
    "start_time": "2022-07-19T11:07:05.624Z"
   },
   {
    "duration": 0,
    "start_time": "2022-07-19T11:07:05.728Z"
   },
   {
    "duration": 0,
    "start_time": "2022-07-19T11:07:05.730Z"
   },
   {
    "duration": 1143,
    "start_time": "2022-07-20T21:40:08.391Z"
   },
   {
    "duration": 1998,
    "start_time": "2022-07-20T21:40:09.536Z"
   },
   {
    "duration": 105,
    "start_time": "2022-07-20T21:40:11.535Z"
   },
   {
    "duration": 0,
    "start_time": "2022-07-20T21:40:11.641Z"
   },
   {
    "duration": 0,
    "start_time": "2022-07-20T21:40:11.642Z"
   },
   {
    "duration": 0,
    "start_time": "2022-07-20T21:40:11.643Z"
   },
   {
    "duration": 11,
    "start_time": "2022-07-20T21:40:36.339Z"
   },
   {
    "duration": 18,
    "start_time": "2022-07-20T21:43:20.689Z"
   },
   {
    "duration": 5,
    "start_time": "2022-07-20T21:44:10.821Z"
   },
   {
    "duration": 7,
    "start_time": "2022-07-20T21:44:50.470Z"
   },
   {
    "duration": 15,
    "start_time": "2022-07-20T21:45:01.421Z"
   },
   {
    "duration": 16,
    "start_time": "2022-07-20T21:45:24.570Z"
   },
   {
    "duration": 9,
    "start_time": "2022-07-20T21:45:47.081Z"
   },
   {
    "duration": 12,
    "start_time": "2022-07-20T21:46:13.180Z"
   },
   {
    "duration": 173,
    "start_time": "2022-07-20T21:46:28.769Z"
   },
   {
    "duration": 13,
    "start_time": "2022-07-20T21:52:04.948Z"
   },
   {
    "duration": 8,
    "start_time": "2022-07-20T21:52:26.060Z"
   },
   {
    "duration": 14,
    "start_time": "2022-07-20T21:54:01.801Z"
   },
   {
    "duration": 163,
    "start_time": "2022-07-20T21:54:20.001Z"
   },
   {
    "duration": 7,
    "start_time": "2022-07-20T21:54:23.960Z"
   },
   {
    "duration": 9,
    "start_time": "2022-07-20T21:55:46.469Z"
   },
   {
    "duration": 10,
    "start_time": "2022-07-20T22:01:56.481Z"
   },
   {
    "duration": 11573,
    "start_time": "2022-07-20T22:02:15.559Z"
   },
   {
    "duration": 20829,
    "start_time": "2022-07-20T22:03:03.328Z"
   },
   {
    "duration": 10618,
    "start_time": "2022-07-20T22:03:44.621Z"
   },
   {
    "duration": 1132,
    "start_time": "2022-07-20T22:04:19.001Z"
   },
   {
    "duration": 872,
    "start_time": "2022-07-20T22:04:20.136Z"
   },
   {
    "duration": 2,
    "start_time": "2022-07-20T22:04:21.010Z"
   },
   {
    "duration": 12196,
    "start_time": "2022-07-20T22:04:21.014Z"
   },
   {
    "duration": 0,
    "start_time": "2022-07-20T22:04:33.212Z"
   },
   {
    "duration": 1164,
    "start_time": "2022-07-20T22:05:31.973Z"
   },
   {
    "duration": 1889,
    "start_time": "2022-07-20T22:05:33.139Z"
   },
   {
    "duration": 3,
    "start_time": "2022-07-20T22:05:35.030Z"
   },
   {
    "duration": 11243,
    "start_time": "2022-07-20T22:05:35.034Z"
   },
   {
    "duration": 22,
    "start_time": "2022-07-20T22:05:46.279Z"
   },
   {
    "duration": 10099,
    "start_time": "2022-07-20T22:19:26.348Z"
   },
   {
    "duration": 20936,
    "start_time": "2022-07-20T22:19:58.710Z"
   },
   {
    "duration": 11075,
    "start_time": "2022-07-20T22:24:59.508Z"
   },
   {
    "duration": 6,
    "start_time": "2022-07-20T22:25:32.109Z"
   },
   {
    "duration": 11,
    "start_time": "2022-07-20T22:26:02.208Z"
   },
   {
    "duration": 874,
    "start_time": "2022-07-20T22:26:13.435Z"
   },
   {
    "duration": 6,
    "start_time": "2022-07-20T23:00:21.911Z"
   },
   {
    "duration": 9,
    "start_time": "2022-07-20T23:36:58.839Z"
   },
   {
    "duration": 9,
    "start_time": "2022-07-20T23:38:38.730Z"
   },
   {
    "duration": 3,
    "start_time": "2022-07-20T23:39:33.050Z"
   },
   {
    "duration": 4,
    "start_time": "2022-07-20T23:39:35.518Z"
   },
   {
    "duration": 5,
    "start_time": "2022-07-20T23:39:44.652Z"
   },
   {
    "duration": 9,
    "start_time": "2022-07-20T23:42:21.411Z"
   },
   {
    "duration": 23,
    "start_time": "2022-07-20T23:43:31.371Z"
   },
   {
    "duration": 15,
    "start_time": "2022-07-21T00:20:27.717Z"
   },
   {
    "duration": 28,
    "start_time": "2022-07-21T00:21:12.270Z"
   },
   {
    "duration": 1084,
    "start_time": "2022-07-21T01:37:53.237Z"
   },
   {
    "duration": 1757,
    "start_time": "2022-07-21T01:37:54.323Z"
   },
   {
    "duration": 3,
    "start_time": "2022-07-21T01:37:56.082Z"
   },
   {
    "duration": 10736,
    "start_time": "2022-07-21T01:37:56.087Z"
   },
   {
    "duration": 958,
    "start_time": "2022-07-21T01:38:06.825Z"
   },
   {
    "duration": 0,
    "start_time": "2022-07-21T01:38:07.784Z"
   },
   {
    "duration": 9,
    "start_time": "2022-07-21T01:51:06.487Z"
   },
   {
    "duration": 9,
    "start_time": "2022-07-21T01:51:18.047Z"
   },
   {
    "duration": 5,
    "start_time": "2022-07-21T01:51:39.487Z"
   },
   {
    "duration": 1137,
    "start_time": "2022-07-21T01:51:46.283Z"
   },
   {
    "duration": 1061,
    "start_time": "2022-07-21T01:51:47.422Z"
   },
   {
    "duration": 9,
    "start_time": "2022-07-21T01:51:48.485Z"
   },
   {
    "duration": 7,
    "start_time": "2022-07-21T01:51:48.495Z"
   },
   {
    "duration": 4,
    "start_time": "2022-07-21T01:51:48.504Z"
   },
   {
    "duration": 10982,
    "start_time": "2022-07-21T01:51:48.510Z"
   },
   {
    "duration": 959,
    "start_time": "2022-07-21T01:51:59.494Z"
   },
   {
    "duration": 0,
    "start_time": "2022-07-21T01:52:00.455Z"
   },
   {
    "duration": 4,
    "start_time": "2022-07-21T01:52:22.884Z"
   },
   {
    "duration": 4,
    "start_time": "2022-07-21T01:52:29.964Z"
   },
   {
    "duration": 4,
    "start_time": "2022-07-21T01:52:41.092Z"
   },
   {
    "duration": 5,
    "start_time": "2022-07-21T01:52:41.755Z"
   },
   {
    "duration": 8,
    "start_time": "2022-07-21T01:53:13.164Z"
   },
   {
    "duration": 28,
    "start_time": "2022-07-21T01:53:18.310Z"
   },
   {
    "duration": 5,
    "start_time": "2022-07-21T01:53:35.791Z"
   },
   {
    "duration": 4,
    "start_time": "2022-07-21T01:53:38.423Z"
   },
   {
    "duration": 9,
    "start_time": "2022-07-21T01:54:32.723Z"
   },
   {
    "duration": 4,
    "start_time": "2022-07-21T01:54:39.025Z"
   },
   {
    "duration": 4,
    "start_time": "2022-07-21T01:54:48.562Z"
   },
   {
    "duration": 8,
    "start_time": "2022-07-21T01:55:17.383Z"
   },
   {
    "duration": 4,
    "start_time": "2022-07-21T01:55:21.891Z"
   },
   {
    "duration": 3,
    "start_time": "2022-07-21T01:55:39.613Z"
   },
   {
    "duration": 5,
    "start_time": "2022-07-21T01:55:54.416Z"
   },
   {
    "duration": 900,
    "start_time": "2022-07-21T10:25:51.512Z"
   },
   {
    "duration": 3043,
    "start_time": "2022-07-21T10:25:53.313Z"
   },
   {
    "duration": 8,
    "start_time": "2022-07-21T10:25:59.348Z"
   },
   {
    "duration": 3,
    "start_time": "2022-07-21T10:26:00.652Z"
   },
   {
    "duration": 3,
    "start_time": "2022-07-21T10:26:01.129Z"
   },
   {
    "duration": 74,
    "start_time": "2022-07-21T10:26:01.941Z"
   },
   {
    "duration": 6,
    "start_time": "2022-07-21T10:26:13.094Z"
   },
   {
    "duration": 84,
    "start_time": "2022-07-21T10:26:31.872Z"
   },
   {
    "duration": 9,
    "start_time": "2022-07-21T10:38:24.765Z"
   },
   {
    "duration": 26,
    "start_time": "2022-07-21T10:41:44.986Z"
   },
   {
    "duration": 23,
    "start_time": "2022-07-21T10:47:59.725Z"
   },
   {
    "duration": 78,
    "start_time": "2022-07-21T10:49:20.085Z"
   },
   {
    "duration": 8,
    "start_time": "2022-07-21T10:49:35.025Z"
   },
   {
    "duration": 425,
    "start_time": "2022-07-21T10:49:57.952Z"
   },
   {
    "duration": 28,
    "start_time": "2022-07-21T10:49:58.978Z"
   },
   {
    "duration": 9,
    "start_time": "2022-07-21T11:04:41.751Z"
   },
   {
    "duration": 3,
    "start_time": "2022-07-21T11:04:56.779Z"
   },
   {
    "duration": 115,
    "start_time": "2022-07-21T11:04:56.940Z"
   },
   {
    "duration": 886,
    "start_time": "2022-07-21T11:05:09.062Z"
   },
   {
    "duration": 1375,
    "start_time": "2022-07-21T11:06:32.882Z"
   },
   {
    "duration": 1011,
    "start_time": "2022-07-21T11:09:04.814Z"
   },
   {
    "duration": 48,
    "start_time": "2022-07-21T18:36:00.501Z"
   },
   {
    "duration": 1085,
    "start_time": "2022-07-21T18:36:09.619Z"
   },
   {
    "duration": 2868,
    "start_time": "2022-07-21T18:36:10.705Z"
   },
   {
    "duration": 9,
    "start_time": "2022-07-21T18:36:13.575Z"
   },
   {
    "duration": 7,
    "start_time": "2022-07-21T18:36:13.587Z"
   },
   {
    "duration": 11,
    "start_time": "2022-07-21T18:36:13.595Z"
   },
   {
    "duration": 108,
    "start_time": "2022-07-21T18:36:13.608Z"
   },
   {
    "duration": 0,
    "start_time": "2022-07-21T18:36:13.718Z"
   },
   {
    "duration": 0,
    "start_time": "2022-07-21T18:36:13.720Z"
   },
   {
    "duration": 0,
    "start_time": "2022-07-21T18:36:13.721Z"
   },
   {
    "duration": 6,
    "start_time": "2022-07-21T18:36:47.192Z"
   },
   {
    "duration": 13,
    "start_time": "2022-07-21T18:37:30.037Z"
   },
   {
    "duration": 5,
    "start_time": "2022-07-21T18:38:24.258Z"
   },
   {
    "duration": 11,
    "start_time": "2022-07-21T18:38:28.878Z"
   },
   {
    "duration": 9,
    "start_time": "2022-07-21T18:38:58.489Z"
   },
   {
    "duration": 8,
    "start_time": "2022-07-21T18:39:29.379Z"
   },
   {
    "duration": 9,
    "start_time": "2022-07-21T18:40:32.295Z"
   },
   {
    "duration": 995,
    "start_time": "2022-07-21T18:40:45.885Z"
   },
   {
    "duration": 725,
    "start_time": "2022-07-21T18:40:46.882Z"
   },
   {
    "duration": 8,
    "start_time": "2022-07-21T18:40:47.608Z"
   },
   {
    "duration": 4,
    "start_time": "2022-07-21T18:40:47.618Z"
   },
   {
    "duration": 10,
    "start_time": "2022-07-21T18:40:47.623Z"
   },
   {
    "duration": 17,
    "start_time": "2022-07-21T18:40:47.635Z"
   },
   {
    "duration": 101,
    "start_time": "2022-07-21T18:40:47.654Z"
   },
   {
    "duration": 0,
    "start_time": "2022-07-21T18:40:47.757Z"
   },
   {
    "duration": 0,
    "start_time": "2022-07-21T18:40:47.758Z"
   },
   {
    "duration": 0,
    "start_time": "2022-07-21T18:40:47.759Z"
   },
   {
    "duration": 10,
    "start_time": "2022-07-21T18:42:46.736Z"
   },
   {
    "duration": 9,
    "start_time": "2022-07-21T18:42:52.750Z"
   },
   {
    "duration": 9,
    "start_time": "2022-07-21T18:43:14.388Z"
   },
   {
    "duration": 28,
    "start_time": "2022-07-21T19:10:02.668Z"
   },
   {
    "duration": 457,
    "start_time": "2022-07-21T19:10:02.944Z"
   },
   {
    "duration": 131,
    "start_time": "2022-07-21T19:10:03.402Z"
   },
   {
    "duration": 66,
    "start_time": "2022-07-21T19:11:24.553Z"
   },
   {
    "duration": 1007,
    "start_time": "2022-07-21T19:11:24.724Z"
   },
   {
    "duration": 1090,
    "start_time": "2022-07-21T19:12:47.017Z"
   },
   {
    "duration": 1040,
    "start_time": "2022-07-21T19:14:35.541Z"
   },
   {
    "duration": 1114,
    "start_time": "2022-07-21T19:15:28.323Z"
   },
   {
    "duration": 1057,
    "start_time": "2022-07-21T19:15:29.439Z"
   },
   {
    "duration": 1266,
    "start_time": "2022-07-21T19:16:44.800Z"
   },
   {
    "duration": 3,
    "start_time": "2022-07-21T19:34:48.461Z"
   },
   {
    "duration": 60,
    "start_time": "2022-07-21T19:36:28.423Z"
   },
   {
    "duration": 0,
    "start_time": "2022-07-21T19:37:05.573Z"
   },
   {
    "duration": 0,
    "start_time": "2022-07-21T19:37:05.574Z"
   },
   {
    "duration": 0,
    "start_time": "2022-07-21T19:37:05.576Z"
   },
   {
    "duration": 0,
    "start_time": "2022-07-21T19:37:05.577Z"
   },
   {
    "duration": 0,
    "start_time": "2022-07-21T19:37:05.578Z"
   },
   {
    "duration": 0,
    "start_time": "2022-07-21T19:37:05.580Z"
   },
   {
    "duration": 0,
    "start_time": "2022-07-21T19:37:05.581Z"
   },
   {
    "duration": 0,
    "start_time": "2022-07-21T19:37:05.583Z"
   },
   {
    "duration": 0,
    "start_time": "2022-07-21T19:37:05.584Z"
   },
   {
    "duration": 0,
    "start_time": "2022-07-21T19:37:05.585Z"
   },
   {
    "duration": 0,
    "start_time": "2022-07-21T19:37:05.588Z"
   },
   {
    "duration": 0,
    "start_time": "2022-07-21T19:37:05.589Z"
   },
   {
    "duration": 0,
    "start_time": "2022-07-21T19:37:05.590Z"
   },
   {
    "duration": 3,
    "start_time": "2022-07-21T19:37:28.112Z"
   },
   {
    "duration": 784,
    "start_time": "2022-07-21T19:37:29.668Z"
   },
   {
    "duration": 34,
    "start_time": "2022-07-21T19:37:30.463Z"
   },
   {
    "duration": 814,
    "start_time": "2022-07-21T19:37:58.985Z"
   },
   {
    "duration": 17,
    "start_time": "2022-07-21T19:38:32.785Z"
   },
   {
    "duration": 1435,
    "start_time": "2022-07-21T19:38:41.741Z"
   },
   {
    "duration": 889,
    "start_time": "2022-07-21T19:38:43.178Z"
   },
   {
    "duration": 48,
    "start_time": "2022-07-21T19:38:44.069Z"
   },
   {
    "duration": 42,
    "start_time": "2022-07-21T19:38:44.119Z"
   },
   {
    "duration": 10,
    "start_time": "2022-07-21T19:38:44.164Z"
   },
   {
    "duration": 14,
    "start_time": "2022-07-21T19:38:44.176Z"
   },
   {
    "duration": 28,
    "start_time": "2022-07-21T19:38:44.192Z"
   },
   {
    "duration": 28,
    "start_time": "2022-07-21T19:38:44.222Z"
   },
   {
    "duration": 149,
    "start_time": "2022-07-21T19:38:44.253Z"
   },
   {
    "duration": 0,
    "start_time": "2022-07-21T19:38:44.404Z"
   },
   {
    "duration": 0,
    "start_time": "2022-07-21T19:38:44.405Z"
   },
   {
    "duration": 0,
    "start_time": "2022-07-21T19:38:44.407Z"
   },
   {
    "duration": 0,
    "start_time": "2022-07-21T19:38:44.408Z"
   },
   {
    "duration": 0,
    "start_time": "2022-07-21T19:38:44.409Z"
   },
   {
    "duration": 11,
    "start_time": "2022-07-21T19:39:30.601Z"
   },
   {
    "duration": 21,
    "start_time": "2022-07-21T19:39:31.663Z"
   },
   {
    "duration": 821,
    "start_time": "2022-07-21T19:39:53.596Z"
   },
   {
    "duration": 26,
    "start_time": "2022-07-21T20:13:26.143Z"
   },
   {
    "duration": 74,
    "start_time": "2022-07-21T21:33:01.597Z"
   },
   {
    "duration": 4,
    "start_time": "2022-07-21T21:35:22.888Z"
   },
   {
    "duration": 9,
    "start_time": "2022-07-21T21:35:23.567Z"
   },
   {
    "duration": 3,
    "start_time": "2022-07-21T21:36:01.685Z"
   },
   {
    "duration": 9,
    "start_time": "2022-07-21T21:36:02.096Z"
   },
   {
    "duration": 15,
    "start_time": "2022-07-21T21:36:03.088Z"
   },
   {
    "duration": 2,
    "start_time": "2022-07-21T21:42:26.438Z"
   },
   {
    "duration": 11,
    "start_time": "2022-07-21T21:42:26.925Z"
   },
   {
    "duration": 13,
    "start_time": "2022-07-21T21:42:37.659Z"
   },
   {
    "duration": 14,
    "start_time": "2022-07-21T21:43:06.982Z"
   },
   {
    "duration": 5,
    "start_time": "2022-07-21T21:43:13.087Z"
   },
   {
    "duration": 5,
    "start_time": "2022-07-21T21:43:36.059Z"
   },
   {
    "duration": 8,
    "start_time": "2022-07-21T21:43:42.690Z"
   },
   {
    "duration": 3,
    "start_time": "2022-07-21T21:48:15.287Z"
   },
   {
    "duration": 8,
    "start_time": "2022-07-21T21:48:15.635Z"
   },
   {
    "duration": 6,
    "start_time": "2022-07-21T21:48:16.362Z"
   },
   {
    "duration": 9,
    "start_time": "2022-07-21T21:53:32.971Z"
   },
   {
    "duration": 18,
    "start_time": "2022-07-21T21:53:41.362Z"
   },
   {
    "duration": 5,
    "start_time": "2022-07-21T21:54:24.431Z"
   },
   {
    "duration": 7,
    "start_time": "2022-07-21T21:55:11.472Z"
   },
   {
    "duration": 5,
    "start_time": "2022-07-21T21:57:09.763Z"
   },
   {
    "duration": 14,
    "start_time": "2022-07-21T21:58:50.747Z"
   },
   {
    "duration": 17,
    "start_time": "2022-07-21T22:08:57.701Z"
   },
   {
    "duration": 16,
    "start_time": "2022-07-21T22:09:08.118Z"
   },
   {
    "duration": 14,
    "start_time": "2022-07-21T22:09:17.326Z"
   },
   {
    "duration": 12,
    "start_time": "2022-07-21T22:09:21.125Z"
   },
   {
    "duration": 1317,
    "start_time": "2022-07-21T22:11:00.693Z"
   },
   {
    "duration": 765,
    "start_time": "2022-07-21T22:11:02.012Z"
   },
   {
    "duration": 24,
    "start_time": "2022-07-21T22:11:02.778Z"
   },
   {
    "duration": 5,
    "start_time": "2022-07-21T22:11:02.804Z"
   },
   {
    "duration": 7,
    "start_time": "2022-07-21T22:11:02.811Z"
   },
   {
    "duration": 33,
    "start_time": "2022-07-21T22:11:02.820Z"
   },
   {
    "duration": 9,
    "start_time": "2022-07-21T22:11:02.857Z"
   },
   {
    "duration": 121,
    "start_time": "2022-07-21T22:11:02.868Z"
   },
   {
    "duration": 0,
    "start_time": "2022-07-21T22:11:02.990Z"
   },
   {
    "duration": 0,
    "start_time": "2022-07-21T22:11:02.991Z"
   },
   {
    "duration": 0,
    "start_time": "2022-07-21T22:11:02.992Z"
   },
   {
    "duration": 0,
    "start_time": "2022-07-21T22:11:02.993Z"
   },
   {
    "duration": 0,
    "start_time": "2022-07-21T22:11:02.994Z"
   },
   {
    "duration": 0,
    "start_time": "2022-07-21T22:11:02.995Z"
   },
   {
    "duration": 0,
    "start_time": "2022-07-21T22:11:02.996Z"
   },
   {
    "duration": 18,
    "start_time": "2022-07-21T22:12:38.567Z"
   },
   {
    "duration": 4,
    "start_time": "2022-07-21T22:12:49.126Z"
   },
   {
    "duration": 5,
    "start_time": "2022-07-21T22:22:05.819Z"
   },
   {
    "duration": 5,
    "start_time": "2022-07-21T22:22:23.631Z"
   },
   {
    "duration": 5,
    "start_time": "2022-07-21T22:22:46.939Z"
   },
   {
    "duration": 5,
    "start_time": "2022-07-21T22:29:38.501Z"
   },
   {
    "duration": 6,
    "start_time": "2022-07-21T22:30:37.940Z"
   },
   {
    "duration": 4,
    "start_time": "2022-07-21T22:32:19.415Z"
   },
   {
    "duration": 10,
    "start_time": "2022-07-21T22:33:33.013Z"
   },
   {
    "duration": 9,
    "start_time": "2022-07-21T22:34:07.384Z"
   },
   {
    "duration": 6,
    "start_time": "2022-07-21T22:34:34.022Z"
   },
   {
    "duration": 57,
    "start_time": "2022-07-21T22:37:36.908Z"
   },
   {
    "duration": 4,
    "start_time": "2022-07-21T22:37:43.367Z"
   },
   {
    "duration": 27,
    "start_time": "2022-07-21T22:39:44.579Z"
   },
   {
    "duration": 24,
    "start_time": "2022-07-21T22:47:53.069Z"
   },
   {
    "duration": 5,
    "start_time": "2022-07-21T22:59:31.630Z"
   },
   {
    "duration": 13,
    "start_time": "2022-07-21T22:59:37.742Z"
   },
   {
    "duration": 26,
    "start_time": "2022-07-21T22:59:38.261Z"
   },
   {
    "duration": 1375,
    "start_time": "2022-07-21T22:59:49.944Z"
   },
   {
    "duration": 762,
    "start_time": "2022-07-21T22:59:51.321Z"
   },
   {
    "duration": 27,
    "start_time": "2022-07-21T22:59:52.085Z"
   },
   {
    "duration": 6,
    "start_time": "2022-07-21T22:59:52.115Z"
   },
   {
    "duration": 34,
    "start_time": "2022-07-21T22:59:52.122Z"
   },
   {
    "duration": 18,
    "start_time": "2022-07-21T22:59:52.158Z"
   },
   {
    "duration": 9,
    "start_time": "2022-07-21T22:59:52.178Z"
   },
   {
    "duration": 29,
    "start_time": "2022-07-21T22:59:52.189Z"
   },
   {
    "duration": 4,
    "start_time": "2022-07-21T22:59:52.220Z"
   },
   {
    "duration": 45,
    "start_time": "2022-07-21T22:59:52.226Z"
   },
   {
    "duration": 3,
    "start_time": "2022-07-21T22:59:52.273Z"
   },
   {
    "duration": 122,
    "start_time": "2022-07-21T22:59:52.278Z"
   },
   {
    "duration": 0,
    "start_time": "2022-07-21T22:59:52.401Z"
   },
   {
    "duration": 0,
    "start_time": "2022-07-21T22:59:52.403Z"
   },
   {
    "duration": 27,
    "start_time": "2022-07-21T23:00:31.874Z"
   },
   {
    "duration": 1435,
    "start_time": "2022-07-21T23:02:05.444Z"
   },
   {
    "duration": 744,
    "start_time": "2022-07-21T23:02:06.881Z"
   },
   {
    "duration": 44,
    "start_time": "2022-07-21T23:02:07.627Z"
   },
   {
    "duration": 5,
    "start_time": "2022-07-21T23:02:07.673Z"
   },
   {
    "duration": 9,
    "start_time": "2022-07-21T23:02:07.680Z"
   },
   {
    "duration": 13,
    "start_time": "2022-07-21T23:02:07.690Z"
   },
   {
    "duration": 5,
    "start_time": "2022-07-21T23:02:07.704Z"
   },
   {
    "duration": 46,
    "start_time": "2022-07-21T23:02:07.710Z"
   },
   {
    "duration": 28,
    "start_time": "2022-07-21T23:02:07.758Z"
   },
   {
    "duration": 118,
    "start_time": "2022-07-21T23:02:07.788Z"
   },
   {
    "duration": 0,
    "start_time": "2022-07-21T23:02:07.908Z"
   },
   {
    "duration": 0,
    "start_time": "2022-07-21T23:02:07.909Z"
   },
   {
    "duration": 3,
    "start_time": "2022-07-21T23:02:17.972Z"
   },
   {
    "duration": 11,
    "start_time": "2022-07-21T23:02:21.723Z"
   },
   {
    "duration": 2,
    "start_time": "2022-07-21T23:04:34.533Z"
   },
   {
    "duration": 1089,
    "start_time": "2022-07-21T23:04:39.160Z"
   },
   {
    "duration": 1165,
    "start_time": "2022-07-21T23:04:45.724Z"
   },
   {
    "duration": 1290,
    "start_time": "2022-07-21T23:04:46.891Z"
   },
   {
    "duration": 1136,
    "start_time": "2022-07-21T23:05:29.857Z"
   },
   {
    "duration": 1023,
    "start_time": "2022-07-21T23:05:44.645Z"
   },
   {
    "duration": 1097,
    "start_time": "2022-07-21T23:07:48.369Z"
   },
   {
    "duration": 1162,
    "start_time": "2022-07-21T23:11:06.292Z"
   },
   {
    "duration": 1140,
    "start_time": "2022-07-21T23:11:52.886Z"
   },
   {
    "duration": 1037,
    "start_time": "2022-07-21T23:15:47.058Z"
   },
   {
    "duration": 7,
    "start_time": "2022-07-22T00:58:31.813Z"
   },
   {
    "duration": 9,
    "start_time": "2022-07-22T00:58:42.093Z"
   },
   {
    "duration": 8,
    "start_time": "2022-07-22T00:59:08.828Z"
   },
   {
    "duration": 7,
    "start_time": "2022-07-22T00:59:21.394Z"
   },
   {
    "duration": 53,
    "start_time": "2022-07-22T00:59:40.205Z"
   },
   {
    "duration": 48,
    "start_time": "2022-07-22T00:59:44.352Z"
   },
   {
    "duration": 53,
    "start_time": "2022-07-22T00:59:54.926Z"
   },
   {
    "duration": 56,
    "start_time": "2022-07-22T01:00:05.453Z"
   },
   {
    "duration": 53,
    "start_time": "2022-07-22T01:00:08.673Z"
   },
   {
    "duration": 55,
    "start_time": "2022-07-22T01:00:11.105Z"
   },
   {
    "duration": 53,
    "start_time": "2022-07-22T01:00:13.232Z"
   },
   {
    "duration": 42,
    "start_time": "2022-07-22T01:00:16.284Z"
   },
   {
    "duration": 51,
    "start_time": "2022-07-22T01:00:19.682Z"
   },
   {
    "duration": 52,
    "start_time": "2022-07-22T01:00:32.231Z"
   },
   {
    "duration": 7,
    "start_time": "2022-07-22T01:00:37.111Z"
   },
   {
    "duration": 10,
    "start_time": "2022-07-22T01:02:20.233Z"
   },
   {
    "duration": 9,
    "start_time": "2022-07-22T01:02:43.218Z"
   },
   {
    "duration": 1127,
    "start_time": "2022-07-22T01:04:42.812Z"
   },
   {
    "duration": 9,
    "start_time": "2022-07-22T01:13:06.142Z"
   },
   {
    "duration": 3,
    "start_time": "2022-07-22T01:14:26.666Z"
   },
   {
    "duration": 4,
    "start_time": "2022-07-22T01:14:35.183Z"
   },
   {
    "duration": 4,
    "start_time": "2022-07-22T01:16:45.483Z"
   },
   {
    "duration": 42,
    "start_time": "2022-07-22T01:18:41.757Z"
   },
   {
    "duration": 34,
    "start_time": "2022-07-22T01:18:57.966Z"
   },
   {
    "duration": 7,
    "start_time": "2022-07-22T01:23:47.548Z"
   },
   {
    "duration": 16,
    "start_time": "2022-07-22T01:23:54.589Z"
   },
   {
    "duration": 1267,
    "start_time": "2022-07-22T01:25:11.407Z"
   },
   {
    "duration": 698,
    "start_time": "2022-07-22T01:25:12.676Z"
   },
   {
    "duration": 24,
    "start_time": "2022-07-22T01:25:13.376Z"
   },
   {
    "duration": 7,
    "start_time": "2022-07-22T01:25:13.402Z"
   },
   {
    "duration": 35,
    "start_time": "2022-07-22T01:25:13.411Z"
   },
   {
    "duration": 12,
    "start_time": "2022-07-22T01:25:13.447Z"
   },
   {
    "duration": 6,
    "start_time": "2022-07-22T01:25:13.461Z"
   },
   {
    "duration": 21,
    "start_time": "2022-07-22T01:25:13.468Z"
   },
   {
    "duration": 55,
    "start_time": "2022-07-22T01:25:13.495Z"
   },
   {
    "duration": 1090,
    "start_time": "2022-07-22T01:25:13.551Z"
   },
   {
    "duration": 1032,
    "start_time": "2022-07-22T01:25:14.645Z"
   },
   {
    "duration": 1291,
    "start_time": "2022-07-22T01:25:15.679Z"
   },
   {
    "duration": 1164,
    "start_time": "2022-07-22T01:25:16.972Z"
   },
   {
    "duration": 17,
    "start_time": "2022-07-22T01:25:18.139Z"
   },
   {
    "duration": 4,
    "start_time": "2022-07-22T01:25:18.158Z"
   },
   {
    "duration": 40,
    "start_time": "2022-07-22T01:25:18.164Z"
   },
   {
    "duration": 699,
    "start_time": "2022-07-22T01:27:19.376Z"
   },
   {
    "duration": 3,
    "start_time": "2022-07-22T02:19:15.194Z"
   },
   {
    "duration": 53,
    "start_time": "2022-07-22T03:54:33.729Z"
   },
   {
    "duration": 1499,
    "start_time": "2022-07-22T03:54:40.952Z"
   },
   {
    "duration": 3025,
    "start_time": "2022-07-22T03:54:42.453Z"
   },
   {
    "duration": 22,
    "start_time": "2022-07-22T03:54:45.480Z"
   },
   {
    "duration": 2,
    "start_time": "2022-07-22T03:54:45.504Z"
   },
   {
    "duration": 22,
    "start_time": "2022-07-22T03:54:45.509Z"
   },
   {
    "duration": 5,
    "start_time": "2022-07-22T03:54:45.532Z"
   },
   {
    "duration": 19,
    "start_time": "2022-07-22T03:54:45.539Z"
   },
   {
    "duration": 5,
    "start_time": "2022-07-22T03:54:45.560Z"
   },
   {
    "duration": 150,
    "start_time": "2022-07-22T03:54:45.567Z"
   },
   {
    "duration": 0,
    "start_time": "2022-07-22T03:54:45.718Z"
   },
   {
    "duration": 0,
    "start_time": "2022-07-22T03:54:45.719Z"
   },
   {
    "duration": 0,
    "start_time": "2022-07-22T03:54:45.723Z"
   },
   {
    "duration": 0,
    "start_time": "2022-07-22T03:54:45.724Z"
   },
   {
    "duration": 0,
    "start_time": "2022-07-22T03:54:45.725Z"
   },
   {
    "duration": 0,
    "start_time": "2022-07-22T03:54:45.726Z"
   },
   {
    "duration": 0,
    "start_time": "2022-07-22T03:54:45.727Z"
   },
   {
    "duration": 0,
    "start_time": "2022-07-22T03:54:45.728Z"
   },
   {
    "duration": 17,
    "start_time": "2022-07-22T03:55:14.388Z"
   },
   {
    "duration": 14,
    "start_time": "2022-07-22T03:55:40.467Z"
   },
   {
    "duration": 18,
    "start_time": "2022-07-22T03:58:06.052Z"
   },
   {
    "duration": 32,
    "start_time": "2022-07-22T03:59:04.820Z"
   },
   {
    "duration": 196,
    "start_time": "2022-07-22T03:59:31.471Z"
   },
   {
    "duration": 23,
    "start_time": "2022-07-22T04:01:17.831Z"
   },
   {
    "duration": 14,
    "start_time": "2022-07-22T04:02:01.467Z"
   },
   {
    "duration": 1315,
    "start_time": "2022-07-22T04:02:08.766Z"
   },
   {
    "duration": 728,
    "start_time": "2022-07-22T04:02:10.082Z"
   },
   {
    "duration": 32,
    "start_time": "2022-07-22T04:02:10.811Z"
   },
   {
    "duration": 2,
    "start_time": "2022-07-22T04:02:10.845Z"
   },
   {
    "duration": 15,
    "start_time": "2022-07-22T04:02:10.849Z"
   },
   {
    "duration": 4,
    "start_time": "2022-07-22T04:02:10.866Z"
   },
   {
    "duration": 21,
    "start_time": "2022-07-22T04:02:10.872Z"
   },
   {
    "duration": 34,
    "start_time": "2022-07-22T04:02:10.894Z"
   },
   {
    "duration": 126,
    "start_time": "2022-07-22T04:02:10.929Z"
   },
   {
    "duration": 0,
    "start_time": "2022-07-22T04:02:11.057Z"
   },
   {
    "duration": 0,
    "start_time": "2022-07-22T04:02:11.059Z"
   },
   {
    "duration": 0,
    "start_time": "2022-07-22T04:02:11.060Z"
   },
   {
    "duration": 0,
    "start_time": "2022-07-22T04:02:11.061Z"
   },
   {
    "duration": 0,
    "start_time": "2022-07-22T04:02:11.062Z"
   },
   {
    "duration": 0,
    "start_time": "2022-07-22T04:02:11.063Z"
   },
   {
    "duration": 0,
    "start_time": "2022-07-22T04:02:11.064Z"
   },
   {
    "duration": 0,
    "start_time": "2022-07-22T04:02:11.065Z"
   },
   {
    "duration": 0,
    "start_time": "2022-07-22T04:02:11.066Z"
   },
   {
    "duration": 1285,
    "start_time": "2022-07-22T04:37:02.877Z"
   },
   {
    "duration": 734,
    "start_time": "2022-07-22T04:37:04.165Z"
   },
   {
    "duration": 38,
    "start_time": "2022-07-22T04:37:04.901Z"
   },
   {
    "duration": 2,
    "start_time": "2022-07-22T04:37:04.942Z"
   },
   {
    "duration": 15,
    "start_time": "2022-07-22T04:37:04.946Z"
   },
   {
    "duration": 5,
    "start_time": "2022-07-22T04:37:04.963Z"
   },
   {
    "duration": 21,
    "start_time": "2022-07-22T04:37:04.969Z"
   },
   {
    "duration": 33,
    "start_time": "2022-07-22T04:37:04.992Z"
   },
   {
    "duration": 5,
    "start_time": "2022-07-22T04:37:05.027Z"
   },
   {
    "duration": 1192,
    "start_time": "2022-07-22T04:37:05.034Z"
   },
   {
    "duration": 1220,
    "start_time": "2022-07-22T04:37:06.227Z"
   },
   {
    "duration": 1374,
    "start_time": "2022-07-22T04:37:07.449Z"
   },
   {
    "duration": 1225,
    "start_time": "2022-07-22T04:37:08.825Z"
   },
   {
    "duration": 19,
    "start_time": "2022-07-22T04:37:10.052Z"
   },
   {
    "duration": 5,
    "start_time": "2022-07-22T04:37:10.072Z"
   },
   {
    "duration": 67,
    "start_time": "2022-07-22T04:37:10.079Z"
   },
   {
    "duration": 4,
    "start_time": "2022-07-22T04:37:10.148Z"
   },
   {
    "duration": 125,
    "start_time": "2022-07-22T04:37:10.153Z"
   },
   {
    "duration": 15,
    "start_time": "2022-07-22T04:37:29.756Z"
   },
   {
    "duration": 5,
    "start_time": "2022-07-22T04:38:21.264Z"
   },
   {
    "duration": 7,
    "start_time": "2022-07-22T04:38:24.627Z"
   },
   {
    "duration": 9,
    "start_time": "2022-07-22T04:38:32.971Z"
   },
   {
    "duration": 26,
    "start_time": "2022-07-22T05:12:15.471Z"
   },
   {
    "duration": 18,
    "start_time": "2022-07-22T05:16:09.382Z"
   },
   {
    "duration": 7,
    "start_time": "2022-07-22T05:16:31.749Z"
   },
   {
    "duration": 1493,
    "start_time": "2022-07-22T05:22:16.060Z"
   },
   {
    "duration": 785,
    "start_time": "2022-07-22T05:22:17.555Z"
   },
   {
    "duration": 24,
    "start_time": "2022-07-22T05:22:18.342Z"
   },
   {
    "duration": 2,
    "start_time": "2022-07-22T05:22:18.368Z"
   },
   {
    "duration": 13,
    "start_time": "2022-07-22T05:22:18.372Z"
   },
   {
    "duration": 5,
    "start_time": "2022-07-22T05:22:18.386Z"
   },
   {
    "duration": 23,
    "start_time": "2022-07-22T05:22:18.424Z"
   },
   {
    "duration": 6,
    "start_time": "2022-07-22T05:22:18.449Z"
   },
   {
    "duration": 11,
    "start_time": "2022-07-22T05:22:18.457Z"
   },
   {
    "duration": 1198,
    "start_time": "2022-07-22T05:22:18.471Z"
   },
   {
    "duration": 1321,
    "start_time": "2022-07-22T05:22:19.670Z"
   },
   {
    "duration": 1207,
    "start_time": "2022-07-22T05:22:20.992Z"
   },
   {
    "duration": 1159,
    "start_time": "2022-07-22T05:22:22.200Z"
   },
   {
    "duration": 19,
    "start_time": "2022-07-22T05:22:23.361Z"
   },
   {
    "duration": 4,
    "start_time": "2022-07-22T05:22:23.382Z"
   },
   {
    "duration": 70,
    "start_time": "2022-07-22T05:22:23.388Z"
   },
   {
    "duration": 3,
    "start_time": "2022-07-22T05:22:23.461Z"
   },
   {
    "duration": 135,
    "start_time": "2022-07-22T05:22:23.466Z"
   },
   {
    "duration": 0,
    "start_time": "2022-07-22T05:22:23.602Z"
   },
   {
    "duration": 8,
    "start_time": "2022-07-22T05:22:48.612Z"
   },
   {
    "duration": 17,
    "start_time": "2022-07-22T05:23:00.795Z"
   },
   {
    "duration": 5,
    "start_time": "2022-07-22T05:23:11.437Z"
   },
   {
    "duration": 12,
    "start_time": "2022-07-22T05:23:24.237Z"
   },
   {
    "duration": 15,
    "start_time": "2022-07-22T05:23:36.614Z"
   },
   {
    "duration": 7,
    "start_time": "2022-07-22T05:23:38.947Z"
   },
   {
    "duration": 4,
    "start_time": "2022-07-22T05:23:47.892Z"
   },
   {
    "duration": 12,
    "start_time": "2022-07-22T05:25:57.053Z"
   },
   {
    "duration": 12,
    "start_time": "2022-07-22T05:26:03.504Z"
   },
   {
    "duration": 14,
    "start_time": "2022-07-22T05:26:07.396Z"
   },
   {
    "duration": 2,
    "start_time": "2022-07-22T05:26:50.188Z"
   },
   {
    "duration": 11,
    "start_time": "2022-07-22T05:32:29.998Z"
   },
   {
    "duration": 1397,
    "start_time": "2022-07-22T05:32:38.926Z"
   },
   {
    "duration": 725,
    "start_time": "2022-07-22T05:32:40.326Z"
   },
   {
    "duration": 26,
    "start_time": "2022-07-22T05:32:41.053Z"
   },
   {
    "duration": 3,
    "start_time": "2022-07-22T05:32:41.081Z"
   },
   {
    "duration": 39,
    "start_time": "2022-07-22T05:32:41.086Z"
   },
   {
    "duration": 6,
    "start_time": "2022-07-22T05:32:41.127Z"
   },
   {
    "duration": 36,
    "start_time": "2022-07-22T05:32:41.135Z"
   },
   {
    "duration": 9,
    "start_time": "2022-07-22T05:32:41.173Z"
   },
   {
    "duration": 24,
    "start_time": "2022-07-22T05:32:41.184Z"
   },
   {
    "duration": 1162,
    "start_time": "2022-07-22T05:32:41.211Z"
   },
   {
    "duration": 1207,
    "start_time": "2022-07-22T05:32:42.375Z"
   },
   {
    "duration": 1227,
    "start_time": "2022-07-22T05:32:43.584Z"
   },
   {
    "duration": 1225,
    "start_time": "2022-07-22T05:32:44.813Z"
   },
   {
    "duration": 18,
    "start_time": "2022-07-22T05:32:46.040Z"
   },
   {
    "duration": 4,
    "start_time": "2022-07-22T05:32:46.059Z"
   },
   {
    "duration": 70,
    "start_time": "2022-07-22T05:32:46.065Z"
   },
   {
    "duration": 3,
    "start_time": "2022-07-22T05:32:46.137Z"
   },
   {
    "duration": 12,
    "start_time": "2022-07-22T05:32:46.142Z"
   },
   {
    "duration": 8,
    "start_time": "2022-07-22T05:32:46.156Z"
   },
   {
    "duration": 6,
    "start_time": "2022-07-22T05:32:46.166Z"
   },
   {
    "duration": 1540,
    "start_time": "2022-07-22T05:32:46.174Z"
   },
   {
    "duration": 7,
    "start_time": "2022-07-22T05:32:47.716Z"
   },
   {
    "duration": 1470,
    "start_time": "2022-07-22T05:32:55.404Z"
   },
   {
    "duration": 1365,
    "start_time": "2022-07-22T06:09:28.770Z"
   },
   {
    "duration": 709,
    "start_time": "2022-07-22T06:09:30.137Z"
   },
   {
    "duration": 24,
    "start_time": "2022-07-22T06:09:30.848Z"
   },
   {
    "duration": 3,
    "start_time": "2022-07-22T06:09:30.874Z"
   },
   {
    "duration": 23,
    "start_time": "2022-07-22T06:09:30.878Z"
   },
   {
    "duration": 24,
    "start_time": "2022-07-22T06:09:30.903Z"
   },
   {
    "duration": 32,
    "start_time": "2022-07-22T06:09:30.929Z"
   },
   {
    "duration": 13,
    "start_time": "2022-07-22T06:09:30.962Z"
   },
   {
    "duration": 9,
    "start_time": "2022-07-22T06:09:30.977Z"
   },
   {
    "duration": 1049,
    "start_time": "2022-07-22T06:09:30.989Z"
   },
   {
    "duration": 1313,
    "start_time": "2022-07-22T06:09:32.040Z"
   },
   {
    "duration": 1171,
    "start_time": "2022-07-22T06:09:33.355Z"
   },
   {
    "duration": 1191,
    "start_time": "2022-07-22T06:09:34.528Z"
   },
   {
    "duration": 18,
    "start_time": "2022-07-22T06:09:35.724Z"
   },
   {
    "duration": 5,
    "start_time": "2022-07-22T06:09:35.744Z"
   },
   {
    "duration": 46,
    "start_time": "2022-07-22T06:09:35.751Z"
   },
   {
    "duration": 25,
    "start_time": "2022-07-22T06:09:35.799Z"
   },
   {
    "duration": 11,
    "start_time": "2022-07-22T06:09:35.826Z"
   },
   {
    "duration": 11,
    "start_time": "2022-07-22T06:09:35.838Z"
   },
   {
    "duration": 11,
    "start_time": "2022-07-22T06:09:35.851Z"
   },
   {
    "duration": 2662,
    "start_time": "2022-07-22T06:09:35.863Z"
   },
   {
    "duration": 4,
    "start_time": "2022-07-22T06:09:38.527Z"
   },
   {
    "duration": 2606,
    "start_time": "2022-07-22T06:09:51.690Z"
   },
   {
    "duration": 1082,
    "start_time": "2022-07-22T07:00:49.771Z"
   },
   {
    "duration": 1358,
    "start_time": "2022-07-22T07:00:56.757Z"
   },
   {
    "duration": 711,
    "start_time": "2022-07-22T07:00:58.117Z"
   },
   {
    "duration": 24,
    "start_time": "2022-07-22T07:00:58.830Z"
   },
   {
    "duration": 4,
    "start_time": "2022-07-22T07:00:58.856Z"
   },
   {
    "duration": 13,
    "start_time": "2022-07-22T07:00:58.863Z"
   },
   {
    "duration": 6,
    "start_time": "2022-07-22T07:00:58.878Z"
   },
   {
    "duration": 19,
    "start_time": "2022-07-22T07:00:58.925Z"
   },
   {
    "duration": 5,
    "start_time": "2022-07-22T07:00:58.946Z"
   },
   {
    "duration": 9,
    "start_time": "2022-07-22T07:00:58.953Z"
   },
   {
    "duration": 1074,
    "start_time": "2022-07-22T07:00:58.964Z"
   },
   {
    "duration": 1220,
    "start_time": "2022-07-22T07:01:00.040Z"
   },
   {
    "duration": 1213,
    "start_time": "2022-07-22T07:01:01.262Z"
   },
   {
    "duration": 1154,
    "start_time": "2022-07-22T07:01:02.477Z"
   },
   {
    "duration": 17,
    "start_time": "2022-07-22T07:01:03.634Z"
   },
   {
    "duration": 4,
    "start_time": "2022-07-22T07:01:03.653Z"
   },
   {
    "duration": 43,
    "start_time": "2022-07-22T07:01:03.658Z"
   },
   {
    "duration": 23,
    "start_time": "2022-07-22T07:01:03.703Z"
   },
   {
    "duration": 48,
    "start_time": "2022-07-22T07:01:03.728Z"
   },
   {
    "duration": 0,
    "start_time": "2022-07-22T07:01:03.777Z"
   },
   {
    "duration": 0,
    "start_time": "2022-07-22T07:01:03.779Z"
   },
   {
    "duration": 0,
    "start_time": "2022-07-22T07:01:03.780Z"
   },
   {
    "duration": 0,
    "start_time": "2022-07-22T07:01:03.782Z"
   },
   {
    "duration": 0,
    "start_time": "2022-07-22T07:01:03.783Z"
   },
   {
    "duration": 6,
    "start_time": "2022-07-22T07:01:10.637Z"
   },
   {
    "duration": 7,
    "start_time": "2022-07-22T07:01:11.071Z"
   },
   {
    "duration": 4,
    "start_time": "2022-07-22T07:01:11.491Z"
   },
   {
    "duration": 2584,
    "start_time": "2022-07-22T07:01:11.876Z"
   },
   {
    "duration": 2606,
    "start_time": "2022-07-22T07:02:48.157Z"
   },
   {
    "duration": 1348,
    "start_time": "2022-07-22T09:35:37.244Z"
   },
   {
    "duration": 1391,
    "start_time": "2022-07-22T09:35:56.274Z"
   },
   {
    "duration": 717,
    "start_time": "2022-07-22T09:35:57.667Z"
   },
   {
    "duration": 24,
    "start_time": "2022-07-22T09:35:58.386Z"
   },
   {
    "duration": 13,
    "start_time": "2022-07-22T09:35:58.411Z"
   },
   {
    "duration": 11,
    "start_time": "2022-07-22T09:35:58.426Z"
   },
   {
    "duration": 5,
    "start_time": "2022-07-22T09:35:58.439Z"
   },
   {
    "duration": 24,
    "start_time": "2022-07-22T09:35:58.445Z"
   },
   {
    "duration": 5,
    "start_time": "2022-07-22T09:35:58.470Z"
   },
   {
    "duration": 8,
    "start_time": "2022-07-22T09:35:58.477Z"
   },
   {
    "duration": 1658,
    "start_time": "2022-07-22T09:35:58.487Z"
   },
   {
    "duration": 1178,
    "start_time": "2022-07-22T09:36:00.146Z"
   },
   {
    "duration": 1183,
    "start_time": "2022-07-22T09:36:01.325Z"
   },
   {
    "duration": 1141,
    "start_time": "2022-07-22T09:36:02.510Z"
   },
   {
    "duration": 20,
    "start_time": "2022-07-22T09:36:03.654Z"
   },
   {
    "duration": 4,
    "start_time": "2022-07-22T09:36:03.676Z"
   },
   {
    "duration": 57,
    "start_time": "2022-07-22T09:36:03.682Z"
   },
   {
    "duration": 4,
    "start_time": "2022-07-22T09:36:03.741Z"
   },
   {
    "duration": 82,
    "start_time": "2022-07-22T09:36:03.746Z"
   },
   {
    "duration": 0,
    "start_time": "2022-07-22T09:36:03.830Z"
   },
   {
    "duration": 0,
    "start_time": "2022-07-22T09:36:03.831Z"
   },
   {
    "duration": 0,
    "start_time": "2022-07-22T09:36:03.832Z"
   },
   {
    "duration": 0,
    "start_time": "2022-07-22T09:36:03.833Z"
   },
   {
    "duration": 0,
    "start_time": "2022-07-22T09:36:03.834Z"
   },
   {
    "duration": 114,
    "start_time": "2022-07-22T09:36:58.333Z"
   },
   {
    "duration": 24,
    "start_time": "2022-07-22T09:37:03.196Z"
   },
   {
    "duration": 1200,
    "start_time": "2022-07-22T09:37:52.655Z"
   },
   {
    "duration": 1975,
    "start_time": "2022-07-22T14:24:18.280Z"
   },
   {
    "duration": 3066,
    "start_time": "2022-07-22T14:24:20.257Z"
   },
   {
    "duration": 22,
    "start_time": "2022-07-22T14:24:23.324Z"
   },
   {
    "duration": 2,
    "start_time": "2022-07-22T14:24:23.349Z"
   },
   {
    "duration": 14,
    "start_time": "2022-07-22T14:24:23.353Z"
   },
   {
    "duration": 4,
    "start_time": "2022-07-22T14:24:23.369Z"
   },
   {
    "duration": 26,
    "start_time": "2022-07-22T14:24:23.374Z"
   },
   {
    "duration": 4,
    "start_time": "2022-07-22T14:24:23.402Z"
   },
   {
    "duration": 22,
    "start_time": "2022-07-22T14:24:23.423Z"
   },
   {
    "duration": 1106,
    "start_time": "2022-07-22T14:24:23.448Z"
   },
   {
    "duration": 1119,
    "start_time": "2022-07-22T14:24:24.556Z"
   },
   {
    "duration": 1108,
    "start_time": "2022-07-22T14:24:25.677Z"
   },
   {
    "duration": 1145,
    "start_time": "2022-07-22T14:24:26.787Z"
   },
   {
    "duration": 16,
    "start_time": "2022-07-22T14:24:27.934Z"
   },
   {
    "duration": 119,
    "start_time": "2022-07-22T14:24:27.952Z"
   },
   {
    "duration": 0,
    "start_time": "2022-07-22T14:24:28.073Z"
   },
   {
    "duration": 0,
    "start_time": "2022-07-22T14:24:28.074Z"
   },
   {
    "duration": 0,
    "start_time": "2022-07-22T14:24:28.075Z"
   },
   {
    "duration": 0,
    "start_time": "2022-07-22T14:24:28.076Z"
   },
   {
    "duration": 0,
    "start_time": "2022-07-22T14:24:28.078Z"
   },
   {
    "duration": 0,
    "start_time": "2022-07-22T14:24:28.079Z"
   },
   {
    "duration": 0,
    "start_time": "2022-07-22T14:24:28.080Z"
   },
   {
    "duration": 0,
    "start_time": "2022-07-22T14:24:28.081Z"
   },
   {
    "duration": 0,
    "start_time": "2022-07-22T14:24:28.082Z"
   },
   {
    "duration": 4,
    "start_time": "2022-07-22T14:24:43.361Z"
   },
   {
    "duration": 6,
    "start_time": "2022-07-22T14:24:46.041Z"
   },
   {
    "duration": 799,
    "start_time": "2022-07-22T14:26:21.009Z"
   },
   {
    "duration": 16,
    "start_time": "2022-07-22T14:26:48.905Z"
   },
   {
    "duration": 11,
    "start_time": "2022-07-22T14:27:12.610Z"
   },
   {
    "duration": 57,
    "start_time": "2022-07-22T14:32:57.798Z"
   },
   {
    "duration": 176,
    "start_time": "2022-07-22T14:33:06.599Z"
   },
   {
    "duration": 220,
    "start_time": "2022-07-22T14:34:03.152Z"
   },
   {
    "duration": 292,
    "start_time": "2022-07-22T14:34:48.460Z"
   },
   {
    "duration": 661,
    "start_time": "2022-07-22T14:35:19.520Z"
   },
   {
    "duration": 373,
    "start_time": "2022-07-22T14:36:04.359Z"
   },
   {
    "duration": 423,
    "start_time": "2022-07-22T14:36:06.256Z"
   },
   {
    "duration": 12,
    "start_time": "2022-07-22T14:38:00.947Z"
   },
   {
    "duration": 1583,
    "start_time": "2022-07-22T14:41:35.302Z"
   },
   {
    "duration": 753,
    "start_time": "2022-07-22T14:41:36.887Z"
   },
   {
    "duration": 11,
    "start_time": "2022-07-22T14:41:37.643Z"
   },
   {
    "duration": 24,
    "start_time": "2022-07-22T14:41:37.657Z"
   },
   {
    "duration": 36,
    "start_time": "2022-07-22T14:41:37.683Z"
   },
   {
    "duration": 22,
    "start_time": "2022-07-22T14:41:37.721Z"
   },
   {
    "duration": 27,
    "start_time": "2022-07-22T14:41:37.746Z"
   },
   {
    "duration": 8,
    "start_time": "2022-07-22T14:41:37.774Z"
   },
   {
    "duration": 34,
    "start_time": "2022-07-22T14:41:37.784Z"
   },
   {
    "duration": 1545,
    "start_time": "2022-07-22T14:41:37.832Z"
   },
   {
    "duration": 1349,
    "start_time": "2022-07-22T14:41:39.379Z"
   },
   {
    "duration": 1192,
    "start_time": "2022-07-22T14:41:40.733Z"
   },
   {
    "duration": 1266,
    "start_time": "2022-07-22T14:41:41.928Z"
   },
   {
    "duration": 31,
    "start_time": "2022-07-22T14:41:43.196Z"
   },
   {
    "duration": 8,
    "start_time": "2022-07-22T14:41:43.234Z"
   },
   {
    "duration": 44,
    "start_time": "2022-07-22T14:41:43.244Z"
   },
   {
    "duration": 426,
    "start_time": "2022-07-22T14:41:43.290Z"
   },
   {
    "duration": 398,
    "start_time": "2022-07-22T14:41:43.718Z"
   },
   {
    "duration": 7,
    "start_time": "2022-07-22T14:41:44.118Z"
   },
   {
    "duration": 61,
    "start_time": "2022-07-22T14:41:44.127Z"
   },
   {
    "duration": 0,
    "start_time": "2022-07-22T14:41:44.190Z"
   },
   {
    "duration": 0,
    "start_time": "2022-07-22T14:41:44.191Z"
   },
   {
    "duration": 0,
    "start_time": "2022-07-22T14:41:44.193Z"
   },
   {
    "duration": 0,
    "start_time": "2022-07-22T14:41:44.194Z"
   },
   {
    "duration": 0,
    "start_time": "2022-07-22T14:41:44.195Z"
   },
   {
    "duration": 6,
    "start_time": "2022-07-22T14:41:54.276Z"
   },
   {
    "duration": 7,
    "start_time": "2022-07-22T14:41:54.780Z"
   },
   {
    "duration": 3,
    "start_time": "2022-07-22T14:41:56.762Z"
   },
   {
    "duration": 8,
    "start_time": "2022-07-22T14:42:36.814Z"
   },
   {
    "duration": 6,
    "start_time": "2022-07-22T14:43:10.383Z"
   },
   {
    "duration": 123,
    "start_time": "2022-07-22T14:43:17.157Z"
   },
   {
    "duration": 3,
    "start_time": "2022-07-22T14:43:38.259Z"
   },
   {
    "duration": 14,
    "start_time": "2022-07-22T14:43:42.362Z"
   },
   {
    "duration": 14,
    "start_time": "2022-07-22T14:46:52.144Z"
   },
   {
    "duration": 15,
    "start_time": "2022-07-22T14:49:41.331Z"
   },
   {
    "duration": 9,
    "start_time": "2022-07-22T14:50:27.206Z"
   },
   {
    "duration": 21863,
    "start_time": "2022-07-22T14:50:59.167Z"
   },
   {
    "duration": 4,
    "start_time": "2022-07-22T14:54:11.637Z"
   },
   {
    "duration": 10,
    "start_time": "2022-07-22T14:55:06.835Z"
   },
   {
    "duration": 5,
    "start_time": "2022-07-22T14:55:18.887Z"
   },
   {
    "duration": 9,
    "start_time": "2022-07-22T14:55:19.497Z"
   },
   {
    "duration": 3,
    "start_time": "2022-07-22T14:56:41.231Z"
   },
   {
    "duration": 1438,
    "start_time": "2022-07-22T14:56:48.733Z"
   },
   {
    "duration": 691,
    "start_time": "2022-07-22T14:56:50.173Z"
   },
   {
    "duration": 11,
    "start_time": "2022-07-22T14:56:50.866Z"
   },
   {
    "duration": 3,
    "start_time": "2022-07-22T14:56:50.879Z"
   },
   {
    "duration": 16,
    "start_time": "2022-07-22T14:56:50.884Z"
   },
   {
    "duration": 5,
    "start_time": "2022-07-22T14:56:50.902Z"
   },
   {
    "duration": 21,
    "start_time": "2022-07-22T14:56:50.923Z"
   },
   {
    "duration": 5,
    "start_time": "2022-07-22T14:56:50.946Z"
   },
   {
    "duration": 23,
    "start_time": "2022-07-22T14:56:50.953Z"
   },
   {
    "duration": 1062,
    "start_time": "2022-07-22T14:56:50.977Z"
   },
   {
    "duration": 1217,
    "start_time": "2022-07-22T14:56:52.040Z"
   },
   {
    "duration": 1206,
    "start_time": "2022-07-22T14:56:53.259Z"
   },
   {
    "duration": 1167,
    "start_time": "2022-07-22T14:56:54.467Z"
   },
   {
    "duration": 26,
    "start_time": "2022-07-22T14:56:55.636Z"
   },
   {
    "duration": 4,
    "start_time": "2022-07-22T14:56:55.664Z"
   },
   {
    "duration": 63,
    "start_time": "2022-07-22T14:56:55.669Z"
   },
   {
    "duration": 384,
    "start_time": "2022-07-22T14:56:55.733Z"
   },
   {
    "duration": 514,
    "start_time": "2022-07-22T14:56:56.118Z"
   },
   {
    "duration": 4,
    "start_time": "2022-07-22T14:56:56.634Z"
   },
   {
    "duration": 8,
    "start_time": "2022-07-22T14:56:56.639Z"
   },
   {
    "duration": 11,
    "start_time": "2022-07-22T14:56:56.649Z"
   },
   {
    "duration": 18,
    "start_time": "2022-07-22T14:56:56.662Z"
   },
   {
    "duration": 20388,
    "start_time": "2022-07-22T14:56:56.682Z"
   },
   {
    "duration": 3,
    "start_time": "2022-07-22T14:57:17.073Z"
   },
   {
    "duration": 105,
    "start_time": "2022-07-22T15:07:28.347Z"
   },
   {
    "duration": 1338,
    "start_time": "2022-07-22T15:07:46.481Z"
   },
   {
    "duration": 669,
    "start_time": "2022-07-22T15:07:47.822Z"
   },
   {
    "duration": 10,
    "start_time": "2022-07-22T15:07:48.493Z"
   },
   {
    "duration": 3,
    "start_time": "2022-07-22T15:07:48.505Z"
   },
   {
    "duration": 22,
    "start_time": "2022-07-22T15:07:48.510Z"
   },
   {
    "duration": 5,
    "start_time": "2022-07-22T15:07:48.534Z"
   },
   {
    "duration": 19,
    "start_time": "2022-07-22T15:07:48.540Z"
   },
   {
    "duration": 4,
    "start_time": "2022-07-22T15:07:48.561Z"
   },
   {
    "duration": 29,
    "start_time": "2022-07-22T15:07:48.567Z"
   },
   {
    "duration": 1110,
    "start_time": "2022-07-22T15:07:48.624Z"
   },
   {
    "duration": 1108,
    "start_time": "2022-07-22T15:07:49.736Z"
   },
   {
    "duration": 1266,
    "start_time": "2022-07-22T15:07:50.845Z"
   },
   {
    "duration": 1286,
    "start_time": "2022-07-22T15:07:52.112Z"
   },
   {
    "duration": 25,
    "start_time": "2022-07-22T15:07:53.401Z"
   },
   {
    "duration": 6,
    "start_time": "2022-07-22T15:07:53.427Z"
   },
   {
    "duration": 40,
    "start_time": "2022-07-22T15:07:53.435Z"
   },
   {
    "duration": 435,
    "start_time": "2022-07-22T15:07:53.477Z"
   },
   {
    "duration": 418,
    "start_time": "2022-07-22T15:07:53.914Z"
   },
   {
    "duration": 3,
    "start_time": "2022-07-22T15:07:54.334Z"
   },
   {
    "duration": 7,
    "start_time": "2022-07-22T15:07:54.339Z"
   },
   {
    "duration": 8,
    "start_time": "2022-07-22T15:07:54.348Z"
   },
   {
    "duration": 10,
    "start_time": "2022-07-22T15:07:54.357Z"
   },
   {
    "duration": 126,
    "start_time": "2022-07-22T15:07:54.368Z"
   },
   {
    "duration": 0,
    "start_time": "2022-07-22T15:07:54.496Z"
   },
   {
    "duration": 1570,
    "start_time": "2022-07-22T15:11:25.101Z"
   },
   {
    "duration": 752,
    "start_time": "2022-07-22T15:11:26.673Z"
   },
   {
    "duration": 13,
    "start_time": "2022-07-22T15:11:27.426Z"
   },
   {
    "duration": 3,
    "start_time": "2022-07-22T15:11:27.441Z"
   },
   {
    "duration": 12,
    "start_time": "2022-07-22T15:11:27.446Z"
   },
   {
    "duration": 5,
    "start_time": "2022-07-22T15:11:27.460Z"
   },
   {
    "duration": 25,
    "start_time": "2022-07-22T15:11:27.466Z"
   },
   {
    "duration": 31,
    "start_time": "2022-07-22T15:11:27.493Z"
   },
   {
    "duration": 25,
    "start_time": "2022-07-22T15:11:27.526Z"
   },
   {
    "duration": 1142,
    "start_time": "2022-07-22T15:11:27.553Z"
   },
   {
    "duration": 1411,
    "start_time": "2022-07-22T15:11:28.696Z"
   },
   {
    "duration": 1284,
    "start_time": "2022-07-22T15:11:30.108Z"
   },
   {
    "duration": 1057,
    "start_time": "2022-07-22T15:11:31.393Z"
   },
   {
    "duration": 21,
    "start_time": "2022-07-22T15:11:32.452Z"
   },
   {
    "duration": 5,
    "start_time": "2022-07-22T15:11:32.475Z"
   },
   {
    "duration": 63,
    "start_time": "2022-07-22T15:11:32.481Z"
   },
   {
    "duration": 482,
    "start_time": "2022-07-22T15:11:32.545Z"
   },
   {
    "duration": 597,
    "start_time": "2022-07-22T15:11:33.030Z"
   },
   {
    "duration": 4,
    "start_time": "2022-07-22T15:11:33.629Z"
   },
   {
    "duration": 10,
    "start_time": "2022-07-22T15:11:33.634Z"
   },
   {
    "duration": 12,
    "start_time": "2022-07-22T15:11:33.646Z"
   },
   {
    "duration": 13,
    "start_time": "2022-07-22T15:11:33.660Z"
   },
   {
    "duration": 142,
    "start_time": "2022-07-22T15:11:33.675Z"
   },
   {
    "duration": 0,
    "start_time": "2022-07-22T15:11:33.823Z"
   },
   {
    "duration": 20896,
    "start_time": "2022-07-22T15:12:35.498Z"
   },
   {
    "duration": 43885,
    "start_time": "2022-07-22T15:20:01.328Z"
   },
   {
    "duration": 64,
    "start_time": "2022-07-22T15:22:42.182Z"
   },
   {
    "duration": 1366,
    "start_time": "2022-07-22T15:32:05.795Z"
   },
   {
    "duration": 715,
    "start_time": "2022-07-22T15:32:07.163Z"
   },
   {
    "duration": 10,
    "start_time": "2022-07-22T15:32:07.879Z"
   },
   {
    "duration": 3,
    "start_time": "2022-07-22T15:32:07.891Z"
   },
   {
    "duration": 16,
    "start_time": "2022-07-22T15:32:07.896Z"
   },
   {
    "duration": 18,
    "start_time": "2022-07-22T15:32:07.914Z"
   },
   {
    "duration": 27,
    "start_time": "2022-07-22T15:32:07.934Z"
   },
   {
    "duration": 5,
    "start_time": "2022-07-22T15:32:07.963Z"
   },
   {
    "duration": 28,
    "start_time": "2022-07-22T15:32:07.969Z"
   },
   {
    "duration": 1171,
    "start_time": "2022-07-22T15:32:07.999Z"
   },
   {
    "duration": 1349,
    "start_time": "2022-07-22T15:32:09.173Z"
   },
   {
    "duration": 1321,
    "start_time": "2022-07-22T15:32:10.534Z"
   },
   {
    "duration": 1130,
    "start_time": "2022-07-22T15:32:11.856Z"
   },
   {
    "duration": 17,
    "start_time": "2022-07-22T15:32:12.988Z"
   },
   {
    "duration": 4,
    "start_time": "2022-07-22T15:32:13.007Z"
   },
   {
    "duration": 50,
    "start_time": "2022-07-22T15:32:13.012Z"
   },
   {
    "duration": 436,
    "start_time": "2022-07-22T15:32:13.064Z"
   },
   {
    "duration": 409,
    "start_time": "2022-07-22T15:32:13.502Z"
   },
   {
    "duration": 3,
    "start_time": "2022-07-22T15:32:13.912Z"
   },
   {
    "duration": 16,
    "start_time": "2022-07-22T15:32:13.917Z"
   },
   {
    "duration": 12,
    "start_time": "2022-07-22T15:32:13.935Z"
   },
   {
    "duration": 8,
    "start_time": "2022-07-22T15:32:13.948Z"
   },
   {
    "duration": 43790,
    "start_time": "2022-07-22T15:32:13.957Z"
   },
   {
    "duration": 1443,
    "start_time": "2022-07-22T15:52:19.338Z"
   },
   {
    "duration": 783,
    "start_time": "2022-07-22T15:52:20.783Z"
   },
   {
    "duration": 11,
    "start_time": "2022-07-22T15:52:21.568Z"
   },
   {
    "duration": 4,
    "start_time": "2022-07-22T15:52:21.581Z"
   },
   {
    "duration": 20,
    "start_time": "2022-07-22T15:52:21.586Z"
   },
   {
    "duration": 31,
    "start_time": "2022-07-22T15:52:21.607Z"
   },
   {
    "duration": 17,
    "start_time": "2022-07-22T15:52:21.641Z"
   },
   {
    "duration": 5,
    "start_time": "2022-07-22T15:52:21.660Z"
   },
   {
    "duration": 30,
    "start_time": "2022-07-22T15:52:21.666Z"
   },
   {
    "duration": 1051,
    "start_time": "2022-07-22T15:52:21.698Z"
   },
   {
    "duration": 1222,
    "start_time": "2022-07-22T15:52:22.751Z"
   },
   {
    "duration": 1239,
    "start_time": "2022-07-22T15:52:23.974Z"
   },
   {
    "duration": 1253,
    "start_time": "2022-07-22T15:52:25.214Z"
   },
   {
    "duration": 17,
    "start_time": "2022-07-22T15:52:26.468Z"
   },
   {
    "duration": 11,
    "start_time": "2022-07-22T15:52:26.487Z"
   },
   {
    "duration": 65,
    "start_time": "2022-07-22T15:52:26.499Z"
   },
   {
    "duration": 475,
    "start_time": "2022-07-22T15:52:26.566Z"
   },
   {
    "duration": 411,
    "start_time": "2022-07-22T15:52:27.043Z"
   },
   {
    "duration": 3,
    "start_time": "2022-07-22T15:52:27.456Z"
   },
   {
    "duration": 6,
    "start_time": "2022-07-22T15:52:27.460Z"
   },
   {
    "duration": 8,
    "start_time": "2022-07-22T15:52:27.468Z"
   },
   {
    "duration": 7,
    "start_time": "2022-07-22T15:52:27.477Z"
   },
   {
    "duration": 42898,
    "start_time": "2022-07-22T15:52:27.486Z"
   },
   {
    "duration": 1368,
    "start_time": "2022-07-22T16:19:49.552Z"
   },
   {
    "duration": 700,
    "start_time": "2022-07-22T16:19:50.924Z"
   },
   {
    "duration": 10,
    "start_time": "2022-07-22T16:19:51.626Z"
   },
   {
    "duration": 3,
    "start_time": "2022-07-22T16:19:51.639Z"
   },
   {
    "duration": 13,
    "start_time": "2022-07-22T16:19:51.643Z"
   },
   {
    "duration": 5,
    "start_time": "2022-07-22T16:19:51.658Z"
   },
   {
    "duration": 18,
    "start_time": "2022-07-22T16:19:51.665Z"
   },
   {
    "duration": 5,
    "start_time": "2022-07-22T16:19:51.685Z"
   },
   {
    "duration": 56,
    "start_time": "2022-07-22T16:19:51.691Z"
   },
   {
    "duration": 1089,
    "start_time": "2022-07-22T16:19:51.751Z"
   },
   {
    "duration": 1204,
    "start_time": "2022-07-22T16:19:52.841Z"
   },
   {
    "duration": 1212,
    "start_time": "2022-07-22T16:19:54.047Z"
   },
   {
    "duration": 1161,
    "start_time": "2022-07-22T16:19:55.262Z"
   },
   {
    "duration": 17,
    "start_time": "2022-07-22T16:19:56.425Z"
   },
   {
    "duration": 4,
    "start_time": "2022-07-22T16:19:56.443Z"
   },
   {
    "duration": 40,
    "start_time": "2022-07-22T16:19:56.448Z"
   },
   {
    "duration": 394,
    "start_time": "2022-07-22T16:19:56.490Z"
   },
   {
    "duration": 433,
    "start_time": "2022-07-22T16:19:56.886Z"
   },
   {
    "duration": 4,
    "start_time": "2022-07-22T16:19:57.324Z"
   },
   {
    "duration": 7,
    "start_time": "2022-07-22T16:19:57.330Z"
   },
   {
    "duration": 12,
    "start_time": "2022-07-22T16:19:57.339Z"
   },
   {
    "duration": 11,
    "start_time": "2022-07-22T16:19:57.353Z"
   },
   {
    "duration": 41413,
    "start_time": "2022-07-22T16:19:57.366Z"
   },
   {
    "duration": 1371,
    "start_time": "2022-07-22T16:37:48.565Z"
   },
   {
    "duration": 693,
    "start_time": "2022-07-22T16:37:49.937Z"
   },
   {
    "duration": 11,
    "start_time": "2022-07-22T16:37:50.631Z"
   },
   {
    "duration": 3,
    "start_time": "2022-07-22T16:37:50.644Z"
   },
   {
    "duration": 14,
    "start_time": "2022-07-22T16:37:50.650Z"
   },
   {
    "duration": 5,
    "start_time": "2022-07-22T16:37:50.666Z"
   },
   {
    "duration": 28,
    "start_time": "2022-07-22T16:37:50.673Z"
   },
   {
    "duration": 23,
    "start_time": "2022-07-22T16:37:50.703Z"
   },
   {
    "duration": 34,
    "start_time": "2022-07-22T16:37:50.728Z"
   },
   {
    "duration": 973,
    "start_time": "2022-07-22T16:37:50.763Z"
   },
   {
    "duration": 1123,
    "start_time": "2022-07-22T16:37:51.737Z"
   },
   {
    "duration": 1156,
    "start_time": "2022-07-22T16:37:52.862Z"
   },
   {
    "duration": 1009,
    "start_time": "2022-07-22T16:37:54.022Z"
   },
   {
    "duration": 17,
    "start_time": "2022-07-22T16:37:55.035Z"
   },
   {
    "duration": 5,
    "start_time": "2022-07-22T16:37:55.054Z"
   },
   {
    "duration": 51,
    "start_time": "2022-07-22T16:37:55.060Z"
   },
   {
    "duration": 379,
    "start_time": "2022-07-22T16:37:55.113Z"
   },
   {
    "duration": 416,
    "start_time": "2022-07-22T16:37:55.494Z"
   },
   {
    "duration": 11,
    "start_time": "2022-07-22T16:37:55.912Z"
   },
   {
    "duration": 6,
    "start_time": "2022-07-22T16:37:55.925Z"
   },
   {
    "duration": 6,
    "start_time": "2022-07-22T16:37:55.933Z"
   },
   {
    "duration": 7,
    "start_time": "2022-07-22T16:37:55.941Z"
   },
   {
    "duration": 42157,
    "start_time": "2022-07-22T16:37:55.949Z"
   },
   {
    "duration": 1525,
    "start_time": "2022-07-22T16:58:34.012Z"
   },
   {
    "duration": 714,
    "start_time": "2022-07-22T16:58:35.539Z"
   },
   {
    "duration": 11,
    "start_time": "2022-07-22T16:58:36.255Z"
   },
   {
    "duration": 3,
    "start_time": "2022-07-22T16:58:36.268Z"
   },
   {
    "duration": 13,
    "start_time": "2022-07-22T16:58:36.272Z"
   },
   {
    "duration": 5,
    "start_time": "2022-07-22T16:58:36.286Z"
   },
   {
    "duration": 43,
    "start_time": "2022-07-22T16:58:36.292Z"
   },
   {
    "duration": 5,
    "start_time": "2022-07-22T16:58:36.337Z"
   },
   {
    "duration": 32,
    "start_time": "2022-07-22T16:58:36.343Z"
   },
   {
    "duration": 1268,
    "start_time": "2022-07-22T16:58:36.378Z"
   },
   {
    "duration": 1216,
    "start_time": "2022-07-22T16:58:37.648Z"
   },
   {
    "duration": 1227,
    "start_time": "2022-07-22T16:58:38.866Z"
   },
   {
    "duration": 1144,
    "start_time": "2022-07-22T16:58:40.095Z"
   },
   {
    "duration": 19,
    "start_time": "2022-07-22T16:58:41.240Z"
   },
   {
    "duration": 16,
    "start_time": "2022-07-22T16:58:41.261Z"
   },
   {
    "duration": 61,
    "start_time": "2022-07-22T16:58:41.278Z"
   },
   {
    "duration": 343,
    "start_time": "2022-07-22T16:58:41.341Z"
   },
   {
    "duration": 439,
    "start_time": "2022-07-22T16:58:41.686Z"
   },
   {
    "duration": 3,
    "start_time": "2022-07-22T16:58:42.127Z"
   },
   {
    "duration": 6,
    "start_time": "2022-07-22T16:58:42.131Z"
   },
   {
    "duration": 10,
    "start_time": "2022-07-22T16:58:42.138Z"
   },
   {
    "duration": 8,
    "start_time": "2022-07-22T16:58:42.149Z"
   },
   {
    "duration": 41797,
    "start_time": "2022-07-22T16:58:42.159Z"
   },
   {
    "duration": 1371,
    "start_time": "2022-07-22T17:04:53.271Z"
   },
   {
    "duration": 757,
    "start_time": "2022-07-22T17:04:54.644Z"
   },
   {
    "duration": 20,
    "start_time": "2022-07-22T17:04:55.403Z"
   },
   {
    "duration": 4,
    "start_time": "2022-07-22T17:04:55.426Z"
   },
   {
    "duration": 34,
    "start_time": "2022-07-22T17:04:55.432Z"
   },
   {
    "duration": 6,
    "start_time": "2022-07-22T17:04:55.468Z"
   },
   {
    "duration": 21,
    "start_time": "2022-07-22T17:04:55.476Z"
   },
   {
    "duration": 6,
    "start_time": "2022-07-22T17:04:55.499Z"
   },
   {
    "duration": 39,
    "start_time": "2022-07-22T17:04:55.506Z"
   },
   {
    "duration": 1126,
    "start_time": "2022-07-22T17:04:55.548Z"
   },
   {
    "duration": 1298,
    "start_time": "2022-07-22T17:04:56.676Z"
   },
   {
    "duration": 1205,
    "start_time": "2022-07-22T17:04:57.975Z"
   },
   {
    "duration": 1191,
    "start_time": "2022-07-22T17:04:59.183Z"
   },
   {
    "duration": 19,
    "start_time": "2022-07-22T17:05:00.376Z"
   },
   {
    "duration": 12,
    "start_time": "2022-07-22T17:05:00.397Z"
   },
   {
    "duration": 60,
    "start_time": "2022-07-22T17:05:00.423Z"
   },
   {
    "duration": 429,
    "start_time": "2022-07-22T17:05:00.484Z"
   },
   {
    "duration": 412,
    "start_time": "2022-07-22T17:05:00.914Z"
   },
   {
    "duration": 4,
    "start_time": "2022-07-22T17:05:01.327Z"
   },
   {
    "duration": 17,
    "start_time": "2022-07-22T17:05:01.332Z"
   },
   {
    "duration": 11,
    "start_time": "2022-07-22T17:05:01.350Z"
   },
   {
    "duration": 13,
    "start_time": "2022-07-22T17:05:01.363Z"
   },
   {
    "duration": 1557,
    "start_time": "2022-07-22T18:27:26.608Z"
   },
   {
    "duration": 825,
    "start_time": "2022-07-22T18:27:28.167Z"
   },
   {
    "duration": 13,
    "start_time": "2022-07-22T18:27:28.994Z"
   },
   {
    "duration": 15,
    "start_time": "2022-07-22T18:27:29.010Z"
   },
   {
    "duration": 25,
    "start_time": "2022-07-22T18:27:29.028Z"
   },
   {
    "duration": 7,
    "start_time": "2022-07-22T18:27:29.055Z"
   },
   {
    "duration": 30,
    "start_time": "2022-07-22T18:27:29.065Z"
   },
   {
    "duration": 26,
    "start_time": "2022-07-22T18:27:29.098Z"
   },
   {
    "duration": 48,
    "start_time": "2022-07-22T18:27:29.126Z"
   },
   {
    "duration": 1452,
    "start_time": "2022-07-22T18:27:29.177Z"
   },
   {
    "duration": 1544,
    "start_time": "2022-07-22T18:27:30.632Z"
   },
   {
    "duration": 1287,
    "start_time": "2022-07-22T18:27:32.178Z"
   },
   {
    "duration": 1199,
    "start_time": "2022-07-22T18:27:33.468Z"
   },
   {
    "duration": 18,
    "start_time": "2022-07-22T18:27:34.670Z"
   },
   {
    "duration": 5,
    "start_time": "2022-07-22T18:27:34.690Z"
   },
   {
    "duration": 67,
    "start_time": "2022-07-22T18:27:34.697Z"
   },
   {
    "duration": 362,
    "start_time": "2022-07-22T18:27:34.766Z"
   },
   {
    "duration": 409,
    "start_time": "2022-07-22T18:27:35.130Z"
   },
   {
    "duration": 4,
    "start_time": "2022-07-22T18:27:35.542Z"
   },
   {
    "duration": 13,
    "start_time": "2022-07-22T18:27:35.547Z"
   },
   {
    "duration": 11,
    "start_time": "2022-07-22T18:27:35.562Z"
   },
   {
    "duration": 14,
    "start_time": "2022-07-22T18:27:35.575Z"
   },
   {
    "duration": 47825,
    "start_time": "2022-07-22T18:27:35.590Z"
   },
   {
    "duration": 1314238,
    "start_time": "2022-07-22T18:28:23.417Z"
   },
   {
    "duration": 1388353,
    "start_time": "2022-07-22T18:50:17.657Z"
   },
   {
    "duration": 3,
    "start_time": "2022-07-22T19:13:26.012Z"
   },
   {
    "duration": 43,
    "start_time": "2022-07-23T07:50:02.370Z"
   },
   {
    "duration": 1361,
    "start_time": "2022-07-23T07:50:11.602Z"
   },
   {
    "duration": 63,
    "start_time": "2022-07-23T07:50:17.394Z"
   },
   {
    "duration": 1518,
    "start_time": "2022-07-23T08:15:27.529Z"
   },
   {
    "duration": 684,
    "start_time": "2022-07-23T08:15:29.049Z"
   },
   {
    "duration": 10,
    "start_time": "2022-07-23T08:15:30.817Z"
   },
   {
    "duration": 3,
    "start_time": "2022-07-23T08:15:31.309Z"
   },
   {
    "duration": 11,
    "start_time": "2022-07-23T08:15:31.509Z"
   },
   {
    "duration": 5,
    "start_time": "2022-07-23T08:15:31.755Z"
   },
   {
    "duration": 16,
    "start_time": "2022-07-23T08:15:32.128Z"
   },
   {
    "duration": 5,
    "start_time": "2022-07-23T08:15:32.585Z"
   },
   {
    "duration": 24,
    "start_time": "2022-07-23T08:15:32.824Z"
   },
   {
    "duration": 965,
    "start_time": "2022-07-23T08:15:33.472Z"
   },
   {
    "duration": 1100,
    "start_time": "2022-07-23T08:15:34.439Z"
   },
   {
    "duration": 1136,
    "start_time": "2022-07-23T08:15:35.541Z"
   },
   {
    "duration": 1067,
    "start_time": "2022-07-23T08:15:36.679Z"
   },
   {
    "duration": 16,
    "start_time": "2022-07-23T08:15:37.748Z"
   },
   {
    "duration": 3,
    "start_time": "2022-07-23T08:15:37.766Z"
   },
   {
    "duration": 57,
    "start_time": "2022-07-23T08:15:37.771Z"
   },
   {
    "duration": 348,
    "start_time": "2022-07-23T08:15:39.158Z"
   },
   {
    "duration": 323,
    "start_time": "2022-07-23T08:15:39.797Z"
   },
   {
    "duration": 3,
    "start_time": "2022-07-23T08:15:41.451Z"
   },
   {
    "duration": 3,
    "start_time": "2022-07-23T08:15:44.448Z"
   },
   {
    "duration": 5,
    "start_time": "2022-07-23T08:15:45.677Z"
   },
   {
    "duration": 6,
    "start_time": "2022-07-23T08:15:46.494Z"
   },
   {
    "duration": 1250,
    "start_time": "2022-07-23T08:15:52.204Z"
   },
   {
    "duration": 2382,
    "start_time": "2022-07-23T08:18:09.272Z"
   },
   {
    "duration": 1873,
    "start_time": "2022-07-23T08:18:21.879Z"
   },
   {
    "duration": 2421,
    "start_time": "2022-07-23T08:18:52.832Z"
   },
   {
    "duration": 2495,
    "start_time": "2022-07-23T08:19:13.061Z"
   },
   {
    "duration": 1555,
    "start_time": "2022-07-23T08:21:21.769Z"
   },
   {
    "duration": 102,
    "start_time": "2022-07-23T08:22:55.902Z"
   },
   {
    "duration": 2792,
    "start_time": "2022-07-23T08:23:07.273Z"
   },
   {
    "duration": 13,
    "start_time": "2022-07-23T08:23:44.890Z"
   },
   {
    "duration": 56900,
    "start_time": "2022-07-23T08:24:16.647Z"
   },
   {
    "duration": 71187,
    "start_time": "2022-07-23T08:26:53.273Z"
   },
   {
    "duration": 25,
    "start_time": "2022-07-23T08:35:43.196Z"
   },
   {
    "duration": 35,
    "start_time": "2022-07-23T08:35:59.988Z"
   },
   {
    "duration": 33,
    "start_time": "2022-07-23T08:37:21.346Z"
   },
   {
    "duration": 31,
    "start_time": "2022-07-23T08:37:29.057Z"
   },
   {
    "duration": 11,
    "start_time": "2022-07-23T08:38:39.784Z"
   },
   {
    "duration": 11,
    "start_time": "2022-07-23T08:39:26.659Z"
   },
   {
    "duration": 1333,
    "start_time": "2022-07-23T08:39:52.730Z"
   },
   {
    "duration": 641,
    "start_time": "2022-07-23T08:39:54.964Z"
   },
   {
    "duration": 11,
    "start_time": "2022-07-23T08:39:55.606Z"
   },
   {
    "duration": 3,
    "start_time": "2022-07-23T08:39:55.767Z"
   },
   {
    "duration": 12,
    "start_time": "2022-07-23T08:39:55.913Z"
   },
   {
    "duration": 6,
    "start_time": "2022-07-23T08:39:56.075Z"
   },
   {
    "duration": 16,
    "start_time": "2022-07-23T08:39:56.456Z"
   },
   {
    "duration": 5,
    "start_time": "2022-07-23T08:39:56.712Z"
   },
   {
    "duration": 24,
    "start_time": "2022-07-23T08:39:56.867Z"
   },
   {
    "duration": 1041,
    "start_time": "2022-07-23T08:39:57.322Z"
   },
   {
    "duration": 1113,
    "start_time": "2022-07-23T08:39:58.365Z"
   },
   {
    "duration": 1103,
    "start_time": "2022-07-23T08:39:59.479Z"
   },
   {
    "duration": 1061,
    "start_time": "2022-07-23T08:40:00.585Z"
   },
   {
    "duration": 16,
    "start_time": "2022-07-23T08:40:01.647Z"
   },
   {
    "duration": 32,
    "start_time": "2022-07-23T08:40:01.665Z"
   },
   {
    "duration": 67,
    "start_time": "2022-07-23T08:40:01.698Z"
   },
   {
    "duration": 347,
    "start_time": "2022-07-23T08:40:01.766Z"
   },
   {
    "duration": 421,
    "start_time": "2022-07-23T08:40:02.115Z"
   },
   {
    "duration": 3,
    "start_time": "2022-07-23T08:40:02.538Z"
   },
   {
    "duration": 28,
    "start_time": "2022-07-23T08:40:02.543Z"
   },
   {
    "duration": 50,
    "start_time": "2022-07-23T08:40:02.573Z"
   },
   {
    "duration": 24,
    "start_time": "2022-07-23T08:40:02.624Z"
   },
   {
    "duration": 1527,
    "start_time": "2022-07-23T08:40:07.954Z"
   },
   {
    "duration": 73356,
    "start_time": "2022-07-23T08:40:11.991Z"
   },
   {
    "duration": 2305,
    "start_time": "2022-07-23T08:41:25.348Z"
   },
   {
    "duration": 206,
    "start_time": "2022-07-23T08:41:27.656Z"
   },
   {
    "duration": 11,
    "start_time": "2022-07-23T08:55:59.382Z"
   },
   {
    "duration": 54,
    "start_time": "2022-07-23T08:59:54.951Z"
   },
   {
    "duration": 1427,
    "start_time": "2022-07-23T09:00:04.564Z"
   },
   {
    "duration": 739,
    "start_time": "2022-07-23T09:00:05.993Z"
   },
   {
    "duration": 10,
    "start_time": "2022-07-23T09:00:06.733Z"
   },
   {
    "duration": 3,
    "start_time": "2022-07-23T09:00:06.751Z"
   },
   {
    "duration": 14,
    "start_time": "2022-07-23T09:00:06.756Z"
   },
   {
    "duration": 6,
    "start_time": "2022-07-23T09:00:06.771Z"
   },
   {
    "duration": 15,
    "start_time": "2022-07-23T09:00:06.823Z"
   },
   {
    "duration": 5,
    "start_time": "2022-07-23T09:00:07.219Z"
   },
   {
    "duration": 21,
    "start_time": "2022-07-23T09:00:07.379Z"
   },
   {
    "duration": 1126,
    "start_time": "2022-07-23T09:00:07.872Z"
   },
   {
    "duration": 1144,
    "start_time": "2022-07-23T09:00:08.999Z"
   },
   {
    "duration": 1111,
    "start_time": "2022-07-23T09:00:10.145Z"
   },
   {
    "duration": 1173,
    "start_time": "2022-07-23T09:00:11.258Z"
   },
   {
    "duration": 24,
    "start_time": "2022-07-23T09:00:12.432Z"
   },
   {
    "duration": 6,
    "start_time": "2022-07-23T09:00:12.458Z"
   },
   {
    "duration": 42,
    "start_time": "2022-07-23T09:00:12.466Z"
   },
   {
    "duration": 386,
    "start_time": "2022-07-23T09:00:12.510Z"
   },
   {
    "duration": 417,
    "start_time": "2022-07-23T09:00:12.897Z"
   },
   {
    "duration": 5,
    "start_time": "2022-07-23T09:00:13.316Z"
   },
   {
    "duration": 5,
    "start_time": "2022-07-23T09:00:13.322Z"
   },
   {
    "duration": 5,
    "start_time": "2022-07-23T09:00:17.210Z"
   },
   {
    "duration": 5,
    "start_time": "2022-07-23T09:00:18.502Z"
   },
   {
    "duration": 1809,
    "start_time": "2022-07-23T09:00:22.987Z"
   },
   {
    "duration": 75982,
    "start_time": "2022-07-23T09:00:27.560Z"
   },
   {
    "duration": 4327,
    "start_time": "2022-07-23T09:01:43.544Z"
   },
   {
    "duration": 17,
    "start_time": "2022-07-23T09:01:47.954Z"
   },
   {
    "duration": 98,
    "start_time": "2022-07-23T09:01:48.054Z"
   },
   {
    "duration": 10,
    "start_time": "2022-07-23T09:02:11.223Z"
   },
   {
    "duration": 13,
    "start_time": "2022-07-23T09:04:58.220Z"
   },
   {
    "duration": 30,
    "start_time": "2022-07-23T09:05:15.310Z"
   },
   {
    "duration": 17,
    "start_time": "2022-07-23T09:22:36.045Z"
   },
   {
    "duration": 12,
    "start_time": "2022-07-23T09:22:56.750Z"
   },
   {
    "duration": 1356,
    "start_time": "2022-07-23T09:23:36.136Z"
   },
   {
    "duration": 623,
    "start_time": "2022-07-23T09:23:38.399Z"
   },
   {
    "duration": 10,
    "start_time": "2022-07-23T09:23:39.024Z"
   },
   {
    "duration": 3,
    "start_time": "2022-07-23T09:23:39.076Z"
   },
   {
    "duration": 10,
    "start_time": "2022-07-23T09:23:39.276Z"
   },
   {
    "duration": 5,
    "start_time": "2022-07-23T09:23:39.447Z"
   },
   {
    "duration": 15,
    "start_time": "2022-07-23T09:23:39.841Z"
   },
   {
    "duration": 4,
    "start_time": "2022-07-23T09:23:40.172Z"
   },
   {
    "duration": 23,
    "start_time": "2022-07-23T09:23:40.366Z"
   },
   {
    "duration": 1034,
    "start_time": "2022-07-23T09:23:40.904Z"
   },
   {
    "duration": 1102,
    "start_time": "2022-07-23T09:23:41.939Z"
   },
   {
    "duration": 1046,
    "start_time": "2022-07-23T09:23:43.042Z"
   },
   {
    "duration": 1181,
    "start_time": "2022-07-23T09:23:44.090Z"
   },
   {
    "duration": 16,
    "start_time": "2022-07-23T09:23:45.273Z"
   },
   {
    "duration": 4,
    "start_time": "2022-07-23T09:23:45.291Z"
   },
   {
    "duration": 43,
    "start_time": "2022-07-23T09:23:45.296Z"
   },
   {
    "duration": 374,
    "start_time": "2022-07-23T09:23:45.353Z"
   },
   {
    "duration": 459,
    "start_time": "2022-07-23T09:23:45.729Z"
   },
   {
    "duration": 4,
    "start_time": "2022-07-23T09:23:46.191Z"
   },
   {
    "duration": 7,
    "start_time": "2022-07-23T09:23:46.198Z"
   },
   {
    "duration": 6,
    "start_time": "2022-07-23T09:23:53.246Z"
   },
   {
    "duration": 6,
    "start_time": "2022-07-23T09:23:53.946Z"
   },
   {
    "duration": 1514,
    "start_time": "2022-07-23T09:23:56.440Z"
   },
   {
    "duration": 69590,
    "start_time": "2022-07-23T09:24:07.250Z"
   },
   {
    "duration": 2222,
    "start_time": "2022-07-23T09:25:16.842Z"
   },
   {
    "duration": 102,
    "start_time": "2022-07-23T09:25:19.157Z"
   },
   {
    "duration": 31,
    "start_time": "2022-07-23T09:25:19.260Z"
   },
   {
    "duration": 115,
    "start_time": "2022-07-23T09:25:19.292Z"
   },
   {
    "duration": 5,
    "start_time": "2022-07-23T09:26:36.424Z"
   },
   {
    "duration": 19,
    "start_time": "2022-07-23T09:26:49.655Z"
   },
   {
    "duration": 7,
    "start_time": "2022-07-23T09:27:09.385Z"
   },
   {
    "duration": 43,
    "start_time": "2022-07-23T09:33:18.172Z"
   },
   {
    "duration": 4,
    "start_time": "2022-07-23T09:34:08.281Z"
   },
   {
    "duration": 3,
    "start_time": "2022-07-23T09:34:08.755Z"
   },
   {
    "duration": 1192,
    "start_time": "2022-07-23T09:34:09.492Z"
   },
   {
    "duration": 1353,
    "start_time": "2022-07-23T09:35:05.589Z"
   },
   {
    "duration": 595,
    "start_time": "2022-07-23T09:35:06.944Z"
   },
   {
    "duration": 16,
    "start_time": "2022-07-23T09:35:07.541Z"
   },
   {
    "duration": 2,
    "start_time": "2022-07-23T09:35:07.559Z"
   },
   {
    "duration": 15,
    "start_time": "2022-07-23T09:35:07.563Z"
   },
   {
    "duration": 5,
    "start_time": "2022-07-23T09:35:07.579Z"
   },
   {
    "duration": 17,
    "start_time": "2022-07-23T09:35:07.585Z"
   },
   {
    "duration": 4,
    "start_time": "2022-07-23T09:35:07.603Z"
   },
   {
    "duration": 44,
    "start_time": "2022-07-23T09:35:07.609Z"
   },
   {
    "duration": 998,
    "start_time": "2022-07-23T09:35:07.654Z"
   },
   {
    "duration": 1066,
    "start_time": "2022-07-23T09:35:08.653Z"
   },
   {
    "duration": 1059,
    "start_time": "2022-07-23T09:35:09.720Z"
   },
   {
    "duration": 1095,
    "start_time": "2022-07-23T09:35:10.781Z"
   },
   {
    "duration": 15,
    "start_time": "2022-07-23T09:35:11.878Z"
   },
   {
    "duration": 4,
    "start_time": "2022-07-23T09:35:11.895Z"
   },
   {
    "duration": 39,
    "start_time": "2022-07-23T09:35:11.900Z"
   },
   {
    "duration": 358,
    "start_time": "2022-07-23T09:35:11.951Z"
   },
   {
    "duration": 402,
    "start_time": "2022-07-23T09:35:12.311Z"
   },
   {
    "duration": 3,
    "start_time": "2022-07-23T09:35:12.714Z"
   },
   {
    "duration": 6,
    "start_time": "2022-07-23T09:35:12.719Z"
   },
   {
    "duration": 15,
    "start_time": "2022-07-23T09:35:12.726Z"
   },
   {
    "duration": 17,
    "start_time": "2022-07-23T09:35:12.742Z"
   },
   {
    "duration": 39529,
    "start_time": "2022-07-23T09:35:12.761Z"
   },
   {
    "duration": 1503,
    "start_time": "2022-07-23T09:35:52.291Z"
   },
   {
    "duration": 2,
    "start_time": "2022-07-23T09:35:53.796Z"
   },
   {
    "duration": 9,
    "start_time": "2022-07-23T09:35:53.799Z"
   },
   {
    "duration": 15569,
    "start_time": "2022-07-23T09:35:53.809Z"
   },
   {
    "duration": 0,
    "start_time": "2022-07-23T09:36:09.380Z"
   },
   {
    "duration": 0,
    "start_time": "2022-07-23T09:36:09.381Z"
   },
   {
    "duration": 0,
    "start_time": "2022-07-23T09:36:09.382Z"
   },
   {
    "duration": 0,
    "start_time": "2022-07-23T09:36:09.382Z"
   },
   {
    "duration": 71666,
    "start_time": "2022-07-23T09:37:21.494Z"
   },
   {
    "duration": 2099,
    "start_time": "2022-07-23T09:38:33.162Z"
   },
   {
    "duration": 12,
    "start_time": "2022-07-23T09:38:35.353Z"
   },
   {
    "duration": 31,
    "start_time": "2022-07-23T09:38:35.367Z"
   },
   {
    "duration": 5,
    "start_time": "2022-07-23T09:38:35.399Z"
   },
   {
    "duration": 42,
    "start_time": "2022-07-23T09:40:28.723Z"
   },
   {
    "duration": 1442,
    "start_time": "2022-07-23T09:40:52.137Z"
   },
   {
    "duration": 662,
    "start_time": "2022-07-23T09:40:53.581Z"
   },
   {
    "duration": 13,
    "start_time": "2022-07-23T09:40:54.245Z"
   },
   {
    "duration": 3,
    "start_time": "2022-07-23T09:40:54.260Z"
   },
   {
    "duration": 12,
    "start_time": "2022-07-23T09:40:54.264Z"
   },
   {
    "duration": 5,
    "start_time": "2022-07-23T09:40:54.278Z"
   },
   {
    "duration": 20,
    "start_time": "2022-07-23T09:40:54.285Z"
   },
   {
    "duration": 5,
    "start_time": "2022-07-23T09:40:54.307Z"
   },
   {
    "duration": 59,
    "start_time": "2022-07-23T09:40:54.314Z"
   },
   {
    "duration": 1085,
    "start_time": "2022-07-23T09:40:54.377Z"
   },
   {
    "duration": 1295,
    "start_time": "2022-07-23T09:40:55.464Z"
   },
   {
    "duration": 1053,
    "start_time": "2022-07-23T09:40:56.760Z"
   },
   {
    "duration": 1160,
    "start_time": "2022-07-23T09:40:57.816Z"
   },
   {
    "duration": 18,
    "start_time": "2022-07-23T09:40:58.979Z"
   },
   {
    "duration": 5,
    "start_time": "2022-07-23T09:40:58.999Z"
   },
   {
    "duration": 57,
    "start_time": "2022-07-23T09:40:59.006Z"
   },
   {
    "duration": 373,
    "start_time": "2022-07-23T09:40:59.064Z"
   },
   {
    "duration": 450,
    "start_time": "2022-07-23T09:40:59.439Z"
   },
   {
    "duration": 3,
    "start_time": "2022-07-23T09:40:59.891Z"
   },
   {
    "duration": 11,
    "start_time": "2022-07-23T09:40:59.896Z"
   },
   {
    "duration": 10,
    "start_time": "2022-07-23T09:40:59.909Z"
   },
   {
    "duration": 10,
    "start_time": "2022-07-23T09:40:59.921Z"
   },
   {
    "duration": 38779,
    "start_time": "2022-07-23T09:40:59.933Z"
   },
   {
    "duration": 1492,
    "start_time": "2022-07-23T09:41:38.714Z"
   },
   {
    "duration": 2,
    "start_time": "2022-07-23T09:41:40.207Z"
   },
   {
    "duration": 5,
    "start_time": "2022-07-23T09:41:40.210Z"
   },
   {
    "duration": 71029,
    "start_time": "2022-07-23T09:41:40.217Z"
   },
   {
    "duration": 2604,
    "start_time": "2022-07-23T09:42:51.249Z"
   },
   {
    "duration": 12,
    "start_time": "2022-07-23T09:42:53.855Z"
   },
   {
    "duration": 103,
    "start_time": "2022-07-23T09:42:53.869Z"
   },
   {
    "duration": 4,
    "start_time": "2022-07-23T09:42:53.974Z"
   },
   {
    "duration": 42,
    "start_time": "2022-07-23T09:42:53.980Z"
   },
   {
    "duration": 22,
    "start_time": "2022-07-23T09:44:08.345Z"
   },
   {
    "duration": 26,
    "start_time": "2022-07-23T09:44:17.676Z"
   },
   {
    "duration": 1356,
    "start_time": "2022-07-23T09:45:34.021Z"
   },
   {
    "duration": 645,
    "start_time": "2022-07-23T09:45:35.379Z"
   },
   {
    "duration": 12,
    "start_time": "2022-07-23T09:45:36.027Z"
   },
   {
    "duration": 4,
    "start_time": "2022-07-23T09:45:36.051Z"
   },
   {
    "duration": 19,
    "start_time": "2022-07-23T09:45:36.056Z"
   },
   {
    "duration": 6,
    "start_time": "2022-07-23T09:45:36.077Z"
   },
   {
    "duration": 25,
    "start_time": "2022-07-23T09:45:36.085Z"
   },
   {
    "duration": 6,
    "start_time": "2022-07-23T09:45:36.112Z"
   },
   {
    "duration": 55,
    "start_time": "2022-07-23T09:45:36.120Z"
   },
   {
    "duration": 966,
    "start_time": "2022-07-23T09:45:36.178Z"
   },
   {
    "duration": 1077,
    "start_time": "2022-07-23T09:45:37.145Z"
   },
   {
    "duration": 1066,
    "start_time": "2022-07-23T09:45:38.224Z"
   },
   {
    "duration": 1045,
    "start_time": "2022-07-23T09:45:39.292Z"
   },
   {
    "duration": 18,
    "start_time": "2022-07-23T09:45:40.339Z"
   },
   {
    "duration": 4,
    "start_time": "2022-07-23T09:45:40.358Z"
   },
   {
    "duration": 37,
    "start_time": "2022-07-23T09:45:40.364Z"
   },
   {
    "duration": 398,
    "start_time": "2022-07-23T09:45:40.402Z"
   },
   {
    "duration": 423,
    "start_time": "2022-07-23T09:45:40.802Z"
   },
   {
    "duration": 3,
    "start_time": "2022-07-23T09:45:41.226Z"
   },
   {
    "duration": 16,
    "start_time": "2022-07-23T09:45:41.231Z"
   },
   {
    "duration": 14,
    "start_time": "2022-07-23T09:45:41.249Z"
   },
   {
    "duration": 24,
    "start_time": "2022-07-23T09:45:41.265Z"
   },
   {
    "duration": 38457,
    "start_time": "2022-07-23T09:45:41.290Z"
   },
   {
    "duration": 1536,
    "start_time": "2022-07-23T09:46:19.748Z"
   },
   {
    "duration": 3,
    "start_time": "2022-07-23T09:46:21.285Z"
   },
   {
    "duration": 10,
    "start_time": "2022-07-23T09:46:21.289Z"
   },
   {
    "duration": 71843,
    "start_time": "2022-07-23T09:46:21.301Z"
   },
   {
    "duration": 2612,
    "start_time": "2022-07-23T09:47:33.147Z"
   },
   {
    "duration": 12,
    "start_time": "2022-07-23T09:47:35.851Z"
   },
   {
    "duration": 96,
    "start_time": "2022-07-23T09:47:35.865Z"
   },
   {
    "duration": 7,
    "start_time": "2022-07-23T09:47:35.962Z"
   },
   {
    "duration": 48,
    "start_time": "2022-07-23T09:47:35.970Z"
   },
   {
    "duration": 1244,
    "start_time": "2022-07-23T10:14:46.193Z"
   },
   {
    "duration": 1287,
    "start_time": "2022-07-23T10:14:57.177Z"
   },
   {
    "duration": 643,
    "start_time": "2022-07-23T10:14:58.466Z"
   },
   {
    "duration": 10,
    "start_time": "2022-07-23T10:14:59.110Z"
   },
   {
    "duration": 3,
    "start_time": "2022-07-23T10:14:59.122Z"
   },
   {
    "duration": 30,
    "start_time": "2022-07-23T10:14:59.126Z"
   },
   {
    "duration": 24,
    "start_time": "2022-07-23T10:14:59.158Z"
   },
   {
    "duration": 36,
    "start_time": "2022-07-23T10:14:59.184Z"
   },
   {
    "duration": 5,
    "start_time": "2022-07-23T10:14:59.221Z"
   },
   {
    "duration": 28,
    "start_time": "2022-07-23T10:14:59.227Z"
   },
   {
    "duration": 999,
    "start_time": "2022-07-23T10:14:59.257Z"
   },
   {
    "duration": 1077,
    "start_time": "2022-07-23T10:15:00.258Z"
   },
   {
    "duration": 1040,
    "start_time": "2022-07-23T10:15:01.337Z"
   },
   {
    "duration": 1097,
    "start_time": "2022-07-23T10:15:02.378Z"
   },
   {
    "duration": 19,
    "start_time": "2022-07-23T10:15:03.477Z"
   },
   {
    "duration": 5,
    "start_time": "2022-07-23T10:15:03.499Z"
   },
   {
    "duration": 80,
    "start_time": "2022-07-23T10:15:03.507Z"
   },
   {
    "duration": 418,
    "start_time": "2022-07-23T10:15:03.589Z"
   },
   {
    "duration": 413,
    "start_time": "2022-07-23T10:15:04.009Z"
   },
   {
    "duration": 5,
    "start_time": "2022-07-23T10:15:04.424Z"
   },
   {
    "duration": 19,
    "start_time": "2022-07-23T10:15:04.430Z"
   },
   {
    "duration": 27,
    "start_time": "2022-07-23T10:15:04.452Z"
   },
   {
    "duration": 19,
    "start_time": "2022-07-23T10:15:04.481Z"
   },
   {
    "duration": 39300,
    "start_time": "2022-07-23T10:15:04.502Z"
   },
   {
    "duration": 1572,
    "start_time": "2022-07-23T10:15:43.804Z"
   },
   {
    "duration": 2,
    "start_time": "2022-07-23T10:15:45.378Z"
   },
   {
    "duration": 5,
    "start_time": "2022-07-23T10:15:45.382Z"
   },
   {
    "duration": 71207,
    "start_time": "2022-07-23T10:15:45.388Z"
   },
   {
    "duration": 2355,
    "start_time": "2022-07-23T10:16:56.598Z"
   },
   {
    "duration": 12,
    "start_time": "2022-07-23T10:16:58.955Z"
   },
   {
    "duration": 27,
    "start_time": "2022-07-23T10:16:58.969Z"
   },
   {
    "duration": 58,
    "start_time": "2022-07-23T10:16:58.998Z"
   },
   {
    "duration": 42,
    "start_time": "2022-07-23T10:16:59.058Z"
   },
   {
    "duration": 1380,
    "start_time": "2022-07-23T10:16:59.102Z"
   },
   {
    "duration": 39,
    "start_time": "2022-07-23T10:31:14.248Z"
   },
   {
    "duration": 12,
    "start_time": "2022-07-23T10:53:56.937Z"
   },
   {
    "duration": 2,
    "start_time": "2022-07-23T10:57:27.839Z"
   },
   {
    "duration": 9,
    "start_time": "2022-07-23T10:57:40.582Z"
   },
   {
    "duration": 9,
    "start_time": "2022-07-23T10:57:49.842Z"
   },
   {
    "duration": 1421,
    "start_time": "2022-07-23T10:59:27.389Z"
   },
   {
    "duration": 682,
    "start_time": "2022-07-23T10:59:28.812Z"
   },
   {
    "duration": 11,
    "start_time": "2022-07-23T10:59:29.496Z"
   },
   {
    "duration": 4,
    "start_time": "2022-07-23T10:59:29.509Z"
   },
   {
    "duration": 13,
    "start_time": "2022-07-23T10:59:29.515Z"
   },
   {
    "duration": 28,
    "start_time": "2022-07-23T10:59:29.529Z"
   },
   {
    "duration": 19,
    "start_time": "2022-07-23T10:59:29.558Z"
   },
   {
    "duration": 5,
    "start_time": "2022-07-23T10:59:29.579Z"
   },
   {
    "duration": 25,
    "start_time": "2022-07-23T10:59:29.586Z"
   },
   {
    "duration": 1058,
    "start_time": "2022-07-23T10:59:29.612Z"
   },
   {
    "duration": 1102,
    "start_time": "2022-07-23T10:59:30.671Z"
   },
   {
    "duration": 1201,
    "start_time": "2022-07-23T10:59:31.775Z"
   },
   {
    "duration": 1043,
    "start_time": "2022-07-23T10:59:32.977Z"
   },
   {
    "duration": 30,
    "start_time": "2022-07-23T10:59:34.023Z"
   },
   {
    "duration": 5,
    "start_time": "2022-07-23T10:59:34.054Z"
   },
   {
    "duration": 37,
    "start_time": "2022-07-23T10:59:34.060Z"
   },
   {
    "duration": 417,
    "start_time": "2022-07-23T10:59:34.098Z"
   },
   {
    "duration": 414,
    "start_time": "2022-07-23T10:59:34.516Z"
   },
   {
    "duration": 3,
    "start_time": "2022-07-23T10:59:34.932Z"
   },
   {
    "duration": 5,
    "start_time": "2022-07-23T10:59:34.936Z"
   },
   {
    "duration": 8,
    "start_time": "2022-07-23T10:59:34.952Z"
   },
   {
    "duration": 40058,
    "start_time": "2022-07-23T10:59:34.962Z"
   },
   {
    "duration": 1564,
    "start_time": "2022-07-23T11:00:15.022Z"
   },
   {
    "duration": 6,
    "start_time": "2022-07-23T11:00:16.588Z"
   },
   {
    "duration": 9,
    "start_time": "2022-07-23T11:00:16.595Z"
   },
   {
    "duration": 73865,
    "start_time": "2022-07-23T11:00:16.607Z"
   },
   {
    "duration": 3590,
    "start_time": "2022-07-23T11:01:30.474Z"
   },
   {
    "duration": 101,
    "start_time": "2022-07-23T11:01:34.067Z"
   },
   {
    "duration": 121,
    "start_time": "2022-07-23T11:01:34.173Z"
   },
   {
    "duration": 6,
    "start_time": "2022-07-23T11:01:34.296Z"
   },
   {
    "duration": 27309,
    "start_time": "2022-07-23T11:01:34.304Z"
   },
   {
    "duration": 5679,
    "start_time": "2022-07-23T11:11:26.524Z"
   },
   {
    "duration": 5342,
    "start_time": "2022-07-23T11:11:39.417Z"
   },
   {
    "duration": 12,
    "start_time": "2022-07-23T11:22:55.290Z"
   },
   {
    "duration": 1253,
    "start_time": "2022-07-23T12:03:18.568Z"
   },
   {
    "duration": 645,
    "start_time": "2022-07-23T12:03:19.822Z"
   },
   {
    "duration": 10,
    "start_time": "2022-07-23T12:03:20.468Z"
   },
   {
    "duration": 3,
    "start_time": "2022-07-23T12:03:20.480Z"
   },
   {
    "duration": 18,
    "start_time": "2022-07-23T12:03:20.484Z"
   },
   {
    "duration": 4,
    "start_time": "2022-07-23T12:03:20.504Z"
   },
   {
    "duration": 26,
    "start_time": "2022-07-23T12:03:20.509Z"
   },
   {
    "duration": 16,
    "start_time": "2022-07-23T12:03:20.537Z"
   },
   {
    "duration": 25,
    "start_time": "2022-07-23T12:03:20.555Z"
   },
   {
    "duration": 1062,
    "start_time": "2022-07-23T12:03:20.582Z"
   },
   {
    "duration": 1091,
    "start_time": "2022-07-23T12:03:21.645Z"
   },
   {
    "duration": 1069,
    "start_time": "2022-07-23T12:03:22.737Z"
   },
   {
    "duration": 1178,
    "start_time": "2022-07-23T12:03:23.807Z"
   },
   {
    "duration": 18,
    "start_time": "2022-07-23T12:03:24.987Z"
   },
   {
    "duration": 4,
    "start_time": "2022-07-23T12:03:25.007Z"
   },
   {
    "duration": 70,
    "start_time": "2022-07-23T12:03:25.012Z"
   },
   {
    "duration": 455,
    "start_time": "2022-07-23T12:03:25.084Z"
   },
   {
    "duration": 422,
    "start_time": "2022-07-23T12:03:25.541Z"
   },
   {
    "duration": 4,
    "start_time": "2022-07-23T12:03:25.964Z"
   },
   {
    "duration": 7,
    "start_time": "2022-07-23T12:03:25.969Z"
   },
   {
    "duration": 12,
    "start_time": "2022-07-23T12:03:25.977Z"
   },
   {
    "duration": 38993,
    "start_time": "2022-07-23T12:03:25.991Z"
   },
   {
    "duration": 7109,
    "start_time": "2022-07-23T12:04:04.986Z"
   },
   {
    "duration": 3,
    "start_time": "2022-07-23T12:04:12.096Z"
   },
   {
    "duration": 6,
    "start_time": "2022-07-23T12:04:12.100Z"
   },
   {
    "duration": 71634,
    "start_time": "2022-07-23T12:04:12.107Z"
   },
   {
    "duration": 2533,
    "start_time": "2022-07-23T12:05:23.742Z"
   },
   {
    "duration": 9,
    "start_time": "2022-07-23T12:05:26.357Z"
   },
   {
    "duration": 126,
    "start_time": "2022-07-23T12:05:26.368Z"
   },
   {
    "duration": 6,
    "start_time": "2022-07-23T12:05:26.496Z"
   },
   {
    "duration": 148,
    "start_time": "2022-07-23T12:05:26.504Z"
   },
   {
    "duration": 1254,
    "start_time": "2022-07-23T13:08:59.971Z"
   },
   {
    "duration": 656,
    "start_time": "2022-07-23T13:09:01.227Z"
   },
   {
    "duration": 10,
    "start_time": "2022-07-23T13:09:01.884Z"
   },
   {
    "duration": 3,
    "start_time": "2022-07-23T13:09:01.895Z"
   },
   {
    "duration": 17,
    "start_time": "2022-07-23T13:09:01.899Z"
   },
   {
    "duration": 6,
    "start_time": "2022-07-23T13:09:01.917Z"
   },
   {
    "duration": 50,
    "start_time": "2022-07-23T13:09:01.924Z"
   },
   {
    "duration": 26,
    "start_time": "2022-07-23T13:09:01.976Z"
   },
   {
    "duration": 34,
    "start_time": "2022-07-23T13:09:02.003Z"
   },
   {
    "duration": 992,
    "start_time": "2022-07-23T13:09:02.039Z"
   },
   {
    "duration": 1111,
    "start_time": "2022-07-23T13:09:03.032Z"
   },
   {
    "duration": 1024,
    "start_time": "2022-07-23T13:09:04.144Z"
   },
   {
    "duration": 1140,
    "start_time": "2022-07-23T13:09:05.170Z"
   },
   {
    "duration": 17,
    "start_time": "2022-07-23T13:09:06.311Z"
   },
   {
    "duration": 4,
    "start_time": "2022-07-23T13:09:06.329Z"
   },
   {
    "duration": 52,
    "start_time": "2022-07-23T13:09:06.335Z"
   },
   {
    "duration": 417,
    "start_time": "2022-07-23T13:09:06.388Z"
   },
   {
    "duration": 413,
    "start_time": "2022-07-23T13:09:06.806Z"
   },
   {
    "duration": 3,
    "start_time": "2022-07-23T13:09:07.220Z"
   },
   {
    "duration": 6,
    "start_time": "2022-07-23T13:09:07.224Z"
   },
   {
    "duration": 106,
    "start_time": "2022-07-23T13:09:07.231Z"
   },
   {
    "duration": 0,
    "start_time": "2022-07-23T13:09:07.339Z"
   },
   {
    "duration": 0,
    "start_time": "2022-07-23T13:09:07.340Z"
   },
   {
    "duration": 0,
    "start_time": "2022-07-23T13:09:07.342Z"
   },
   {
    "duration": 0,
    "start_time": "2022-07-23T13:09:07.352Z"
   },
   {
    "duration": 0,
    "start_time": "2022-07-23T13:09:07.353Z"
   },
   {
    "duration": 0,
    "start_time": "2022-07-23T13:09:07.354Z"
   },
   {
    "duration": 0,
    "start_time": "2022-07-23T13:09:07.355Z"
   },
   {
    "duration": 0,
    "start_time": "2022-07-23T13:09:07.355Z"
   },
   {
    "duration": 0,
    "start_time": "2022-07-23T13:09:07.356Z"
   },
   {
    "duration": 0,
    "start_time": "2022-07-23T13:09:07.357Z"
   },
   {
    "duration": 1353,
    "start_time": "2022-07-23T13:09:42.054Z"
   },
   {
    "duration": 624,
    "start_time": "2022-07-23T13:09:43.409Z"
   },
   {
    "duration": 17,
    "start_time": "2022-07-23T13:09:44.035Z"
   },
   {
    "duration": 3,
    "start_time": "2022-07-23T13:09:44.054Z"
   },
   {
    "duration": 16,
    "start_time": "2022-07-23T13:09:44.060Z"
   },
   {
    "duration": 5,
    "start_time": "2022-07-23T13:09:44.077Z"
   },
   {
    "duration": 17,
    "start_time": "2022-07-23T13:09:44.084Z"
   },
   {
    "duration": 5,
    "start_time": "2022-07-23T13:09:44.103Z"
   },
   {
    "duration": 56,
    "start_time": "2022-07-23T13:09:44.110Z"
   },
   {
    "duration": 1146,
    "start_time": "2022-07-23T13:09:44.167Z"
   },
   {
    "duration": 1267,
    "start_time": "2022-07-23T13:09:45.314Z"
   },
   {
    "duration": 1409,
    "start_time": "2022-07-23T13:09:46.584Z"
   },
   {
    "duration": 1152,
    "start_time": "2022-07-23T13:09:47.995Z"
   },
   {
    "duration": 16,
    "start_time": "2022-07-23T13:09:49.152Z"
   },
   {
    "duration": 4,
    "start_time": "2022-07-23T13:09:49.169Z"
   },
   {
    "duration": 38,
    "start_time": "2022-07-23T13:09:49.175Z"
   },
   {
    "duration": 398,
    "start_time": "2022-07-23T13:09:49.215Z"
   },
   {
    "duration": 409,
    "start_time": "2022-07-23T13:09:49.614Z"
   },
   {
    "duration": 3,
    "start_time": "2022-07-23T13:09:50.025Z"
   },
   {
    "duration": 18,
    "start_time": "2022-07-23T13:09:50.029Z"
   },
   {
    "duration": 123,
    "start_time": "2022-07-23T13:09:50.048Z"
   },
   {
    "duration": 0,
    "start_time": "2022-07-23T13:09:50.173Z"
   },
   {
    "duration": 0,
    "start_time": "2022-07-23T13:09:50.174Z"
   },
   {
    "duration": 0,
    "start_time": "2022-07-23T13:09:50.175Z"
   },
   {
    "duration": 0,
    "start_time": "2022-07-23T13:09:50.176Z"
   },
   {
    "duration": 0,
    "start_time": "2022-07-23T13:09:50.177Z"
   },
   {
    "duration": 0,
    "start_time": "2022-07-23T13:09:50.178Z"
   },
   {
    "duration": 0,
    "start_time": "2022-07-23T13:09:50.179Z"
   },
   {
    "duration": 0,
    "start_time": "2022-07-23T13:09:50.180Z"
   },
   {
    "duration": 0,
    "start_time": "2022-07-23T13:09:50.181Z"
   },
   {
    "duration": 0,
    "start_time": "2022-07-23T13:09:50.182Z"
   },
   {
    "duration": 1334,
    "start_time": "2022-07-23T13:10:29.902Z"
   },
   {
    "duration": 1282,
    "start_time": "2022-07-23T13:12:18.007Z"
   },
   {
    "duration": 622,
    "start_time": "2022-07-23T13:12:19.291Z"
   },
   {
    "duration": 9,
    "start_time": "2022-07-23T13:12:19.915Z"
   },
   {
    "duration": 2,
    "start_time": "2022-07-23T13:12:19.927Z"
   },
   {
    "duration": 22,
    "start_time": "2022-07-23T13:12:19.931Z"
   },
   {
    "duration": 5,
    "start_time": "2022-07-23T13:12:19.954Z"
   },
   {
    "duration": 16,
    "start_time": "2022-07-23T13:12:19.960Z"
   },
   {
    "duration": 4,
    "start_time": "2022-07-23T13:12:19.978Z"
   },
   {
    "duration": 22,
    "start_time": "2022-07-23T13:12:19.984Z"
   },
   {
    "duration": 1020,
    "start_time": "2022-07-23T13:12:20.008Z"
   },
   {
    "duration": 1031,
    "start_time": "2022-07-23T13:12:21.030Z"
   },
   {
    "duration": 1014,
    "start_time": "2022-07-23T13:12:22.062Z"
   },
   {
    "duration": 1122,
    "start_time": "2022-07-23T13:12:23.078Z"
   },
   {
    "duration": 17,
    "start_time": "2022-07-23T13:12:24.202Z"
   },
   {
    "duration": 4,
    "start_time": "2022-07-23T13:12:24.221Z"
   },
   {
    "duration": 68,
    "start_time": "2022-07-23T13:12:24.228Z"
   },
   {
    "duration": 447,
    "start_time": "2022-07-23T13:12:24.297Z"
   },
   {
    "duration": 423,
    "start_time": "2022-07-23T13:12:24.752Z"
   },
   {
    "duration": 4,
    "start_time": "2022-07-23T13:12:25.177Z"
   },
   {
    "duration": 9,
    "start_time": "2022-07-23T13:12:25.183Z"
   },
   {
    "duration": 13,
    "start_time": "2022-07-23T13:12:25.194Z"
   },
   {
    "duration": 40840,
    "start_time": "2022-07-23T13:12:25.209Z"
   },
   {
    "duration": 7162,
    "start_time": "2022-07-23T13:13:06.053Z"
   },
   {
    "duration": 2,
    "start_time": "2022-07-23T13:13:13.216Z"
   },
   {
    "duration": 7,
    "start_time": "2022-07-23T13:13:13.220Z"
   },
   {
    "duration": 72112,
    "start_time": "2022-07-23T13:13:13.228Z"
   },
   {
    "duration": 2911,
    "start_time": "2022-07-23T13:14:25.342Z"
   },
   {
    "duration": 8,
    "start_time": "2022-07-23T13:14:28.257Z"
   },
   {
    "duration": 128,
    "start_time": "2022-07-23T13:14:28.267Z"
   },
   {
    "duration": 7,
    "start_time": "2022-07-23T13:14:28.397Z"
   },
   {
    "duration": 132,
    "start_time": "2022-07-23T13:14:28.406Z"
   },
   {
    "duration": 1303,
    "start_time": "2022-07-23T13:27:42.387Z"
   },
   {
    "duration": 668,
    "start_time": "2022-07-23T13:27:43.692Z"
   },
   {
    "duration": 11,
    "start_time": "2022-07-23T13:27:44.361Z"
   },
   {
    "duration": 6,
    "start_time": "2022-07-23T13:27:44.373Z"
   },
   {
    "duration": 22,
    "start_time": "2022-07-23T13:27:44.382Z"
   },
   {
    "duration": 27,
    "start_time": "2022-07-23T13:27:44.406Z"
   },
   {
    "duration": 38,
    "start_time": "2022-07-23T13:27:44.434Z"
   },
   {
    "duration": 9,
    "start_time": "2022-07-23T13:27:44.473Z"
   },
   {
    "duration": 31,
    "start_time": "2022-07-23T13:27:44.484Z"
   },
   {
    "duration": 1059,
    "start_time": "2022-07-23T13:27:44.517Z"
   },
   {
    "duration": 1330,
    "start_time": "2022-07-23T13:27:45.578Z"
   },
   {
    "duration": 1062,
    "start_time": "2022-07-23T13:27:46.910Z"
   },
   {
    "duration": 1075,
    "start_time": "2022-07-23T13:27:47.974Z"
   },
   {
    "duration": 18,
    "start_time": "2022-07-23T13:27:49.051Z"
   },
   {
    "duration": 4,
    "start_time": "2022-07-23T13:27:49.070Z"
   },
   {
    "duration": 39,
    "start_time": "2022-07-23T13:27:49.076Z"
   },
   {
    "duration": 386,
    "start_time": "2022-07-23T13:27:49.116Z"
   },
   {
    "duration": 414,
    "start_time": "2022-07-23T13:27:49.504Z"
   },
   {
    "duration": 4,
    "start_time": "2022-07-23T13:27:49.919Z"
   },
   {
    "duration": 8,
    "start_time": "2022-07-23T13:27:49.924Z"
   },
   {
    "duration": 19,
    "start_time": "2022-07-23T13:27:49.934Z"
   },
   {
    "duration": 40862,
    "start_time": "2022-07-23T13:27:49.955Z"
   },
   {
    "duration": 1493,
    "start_time": "2022-07-23T13:28:30.819Z"
   },
   {
    "duration": 2,
    "start_time": "2022-07-23T13:28:32.314Z"
   },
   {
    "duration": 8,
    "start_time": "2022-07-23T13:28:32.318Z"
   },
   {
    "duration": 112,
    "start_time": "2022-07-23T13:28:32.328Z"
   },
   {
    "duration": 0,
    "start_time": "2022-07-23T13:28:32.441Z"
   },
   {
    "duration": 0,
    "start_time": "2022-07-23T13:28:32.442Z"
   },
   {
    "duration": 0,
    "start_time": "2022-07-23T13:28:32.443Z"
   },
   {
    "duration": 0,
    "start_time": "2022-07-23T13:28:32.444Z"
   },
   {
    "duration": 0,
    "start_time": "2022-07-23T13:28:32.452Z"
   },
   {
    "duration": 1337,
    "start_time": "2022-07-23T13:30:17.347Z"
   },
   {
    "duration": 654,
    "start_time": "2022-07-23T13:30:18.686Z"
   },
   {
    "duration": 16,
    "start_time": "2022-07-23T13:30:19.341Z"
   },
   {
    "duration": 3,
    "start_time": "2022-07-23T13:30:19.358Z"
   },
   {
    "duration": 13,
    "start_time": "2022-07-23T13:30:19.363Z"
   },
   {
    "duration": 4,
    "start_time": "2022-07-23T13:30:19.377Z"
   },
   {
    "duration": 18,
    "start_time": "2022-07-23T13:30:19.382Z"
   },
   {
    "duration": 5,
    "start_time": "2022-07-23T13:30:19.401Z"
   },
   {
    "duration": 52,
    "start_time": "2022-07-23T13:30:19.407Z"
   },
   {
    "duration": 1172,
    "start_time": "2022-07-23T13:30:19.460Z"
   },
   {
    "duration": 1232,
    "start_time": "2022-07-23T13:30:20.634Z"
   },
   {
    "duration": 1230,
    "start_time": "2022-07-23T13:30:21.868Z"
   },
   {
    "duration": 1201,
    "start_time": "2022-07-23T13:30:23.100Z"
   },
   {
    "duration": 18,
    "start_time": "2022-07-23T13:30:24.304Z"
   },
   {
    "duration": 7,
    "start_time": "2022-07-23T13:30:24.323Z"
   },
   {
    "duration": 57,
    "start_time": "2022-07-23T13:30:24.332Z"
   },
   {
    "duration": 463,
    "start_time": "2022-07-23T13:30:24.391Z"
   },
   {
    "duration": 460,
    "start_time": "2022-07-23T13:30:24.856Z"
   },
   {
    "duration": 4,
    "start_time": "2022-07-23T13:30:25.318Z"
   },
   {
    "duration": 51,
    "start_time": "2022-07-23T13:30:25.324Z"
   },
   {
    "duration": 24,
    "start_time": "2022-07-23T13:30:25.377Z"
   },
   {
    "duration": 41636,
    "start_time": "2022-07-23T13:30:25.403Z"
   },
   {
    "duration": 1504,
    "start_time": "2022-07-23T13:31:07.040Z"
   },
   {
    "duration": 1117450,
    "start_time": "2022-07-23T13:31:08.545Z"
   },
   {
    "duration": 1167113,
    "start_time": "2022-07-23T13:49:45.997Z"
   },
   {
    "duration": 119,
    "start_time": "2022-07-23T14:09:13.112Z"
   },
   {
    "duration": 0,
    "start_time": "2022-07-23T14:09:13.233Z"
   },
   {
    "duration": 0,
    "start_time": "2022-07-23T14:09:13.235Z"
   },
   {
    "duration": 0,
    "start_time": "2022-07-23T14:09:13.236Z"
   },
   {
    "duration": 0,
    "start_time": "2022-07-23T14:09:13.238Z"
   },
   {
    "duration": 0,
    "start_time": "2022-07-23T14:09:13.240Z"
   },
   {
    "duration": 100635,
    "start_time": "2022-07-23T14:14:24.705Z"
   },
   {
    "duration": 2901,
    "start_time": "2022-07-23T14:28:19.852Z"
   },
   {
    "duration": 7,
    "start_time": "2022-07-23T14:28:22.755Z"
   },
   {
    "duration": 118,
    "start_time": "2022-07-23T14:28:22.764Z"
   },
   {
    "duration": 7,
    "start_time": "2022-07-23T14:28:23.149Z"
   },
   {
    "duration": 34,
    "start_time": "2022-07-23T14:28:23.158Z"
   },
   {
    "duration": 1541,
    "start_time": "2022-07-24T19:09:10.693Z"
   },
   {
    "duration": 3038,
    "start_time": "2022-07-24T19:13:58.065Z"
   },
   {
    "duration": 12,
    "start_time": "2022-07-24T19:14:10.360Z"
   },
   {
    "duration": 4,
    "start_time": "2022-07-24T19:14:11.423Z"
   },
   {
    "duration": 11,
    "start_time": "2022-07-24T19:14:11.926Z"
   },
   {
    "duration": 5,
    "start_time": "2022-07-24T19:14:12.379Z"
   },
   {
    "duration": 18,
    "start_time": "2022-07-24T19:14:16.275Z"
   },
   {
    "duration": 5,
    "start_time": "2022-07-24T19:14:21.055Z"
   },
   {
    "duration": 1788,
    "start_time": "2022-07-24T22:22:01.792Z"
   },
   {
    "duration": 2199,
    "start_time": "2022-07-24T22:22:05.604Z"
   },
   {
    "duration": 21,
    "start_time": "2022-07-24T22:22:07.805Z"
   },
   {
    "duration": 3,
    "start_time": "2022-07-24T22:22:10.051Z"
   },
   {
    "duration": 11,
    "start_time": "2022-07-24T22:22:10.759Z"
   },
   {
    "duration": 6,
    "start_time": "2022-07-24T22:22:11.486Z"
   },
   {
    "duration": 18,
    "start_time": "2022-07-24T22:22:13.352Z"
   },
   {
    "duration": 6,
    "start_time": "2022-07-24T22:22:14.970Z"
   },
   {
    "duration": 131,
    "start_time": "2022-07-24T22:22:16.607Z"
   },
   {
    "duration": 25,
    "start_time": "2022-07-24T22:22:26.875Z"
   },
   {
    "duration": 68,
    "start_time": "2022-07-24T22:23:13.323Z"
   },
   {
    "duration": 1232,
    "start_time": "2022-07-24T22:30:08.665Z"
   },
   {
    "duration": 4218,
    "start_time": "2022-07-24T22:35:40.125Z"
   },
   {
    "duration": 18,
    "start_time": "2022-07-24T22:59:56.274Z"
   },
   {
    "duration": 1298,
    "start_time": "2022-07-24T23:00:43.128Z"
   },
   {
    "duration": 87,
    "start_time": "2022-07-24T23:06:06.060Z"
   },
   {
    "duration": 15,
    "start_time": "2022-07-24T23:06:12.628Z"
   },
   {
    "duration": 4,
    "start_time": "2022-07-24T23:06:20.969Z"
   },
   {
    "duration": 4,
    "start_time": "2022-07-24T23:06:21.839Z"
   },
   {
    "duration": 16,
    "start_time": "2022-07-24T23:06:24.260Z"
   },
   {
    "duration": 16,
    "start_time": "2022-07-24T23:06:25.827Z"
   },
   {
    "duration": 55600,
    "start_time": "2022-07-24T23:07:04.975Z"
   },
   {
    "duration": 5,
    "start_time": "2022-07-24T23:11:23.539Z"
   },
   {
    "duration": 55551,
    "start_time": "2022-07-24T23:17:19.817Z"
   },
   {
    "duration": 55568,
    "start_time": "2022-07-24T23:20:59.380Z"
   },
   {
    "duration": 56567,
    "start_time": "2022-07-24T23:22:22.500Z"
   },
   {
    "duration": 55494,
    "start_time": "2022-07-24T23:23:54.954Z"
   },
   {
    "duration": 1535,
    "start_time": "2022-07-24T23:49:09.661Z"
   },
   {
    "duration": 885,
    "start_time": "2022-07-24T23:49:11.198Z"
   },
   {
    "duration": 12,
    "start_time": "2022-07-24T23:49:12.087Z"
   },
   {
    "duration": 12,
    "start_time": "2022-07-24T23:49:12.101Z"
   },
   {
    "duration": 22,
    "start_time": "2022-07-24T23:49:12.118Z"
   },
   {
    "duration": 5,
    "start_time": "2022-07-24T23:49:12.142Z"
   },
   {
    "duration": 19,
    "start_time": "2022-07-24T23:49:12.150Z"
   },
   {
    "duration": 5,
    "start_time": "2022-07-24T23:49:12.171Z"
   },
   {
    "duration": 56,
    "start_time": "2022-07-24T23:49:12.178Z"
   },
   {
    "duration": 3900,
    "start_time": "2022-07-24T23:49:12.236Z"
   },
   {
    "duration": 1251,
    "start_time": "2022-07-24T23:49:16.138Z"
   },
   {
    "duration": 33,
    "start_time": "2022-07-24T23:49:17.391Z"
   },
   {
    "duration": 6,
    "start_time": "2022-07-24T23:49:17.426Z"
   },
   {
    "duration": 51,
    "start_time": "2022-07-24T23:49:17.434Z"
   },
   {
    "duration": 453,
    "start_time": "2022-07-24T23:49:17.487Z"
   },
   {
    "duration": 520,
    "start_time": "2022-07-24T23:49:17.941Z"
   },
   {
    "duration": 4,
    "start_time": "2022-07-24T23:49:18.463Z"
   },
   {
    "duration": 21,
    "start_time": "2022-07-24T23:49:18.469Z"
   },
   {
    "duration": 15,
    "start_time": "2022-07-24T23:49:18.492Z"
   },
   {
    "duration": 50981,
    "start_time": "2022-07-24T23:49:18.509Z"
   },
   {
    "duration": 2924453,
    "start_time": "2022-07-24T23:50:09.492Z"
   },
   {
    "duration": 7299,
    "start_time": "2022-07-25T00:38:53.952Z"
   },
   {
    "duration": 13,
    "start_time": "2022-07-25T00:39:01.311Z"
   },
   {
    "duration": 130,
    "start_time": "2022-07-25T00:39:01.326Z"
   },
   {
    "duration": 7,
    "start_time": "2022-07-25T00:39:01.458Z"
   },
   {
    "duration": 74,
    "start_time": "2022-07-25T00:39:01.467Z"
   },
   {
    "duration": 31,
    "start_time": "2022-07-25T00:39:01.543Z"
   },
   {
    "duration": 1944,
    "start_time": "2022-07-25T09:33:28.808Z"
   },
   {
    "duration": 3544,
    "start_time": "2022-07-25T09:33:32.658Z"
   },
   {
    "duration": 15,
    "start_time": "2022-07-25T09:33:36.204Z"
   },
   {
    "duration": 5,
    "start_time": "2022-07-25T09:33:36.221Z"
   },
   {
    "duration": 15,
    "start_time": "2022-07-25T09:33:36.371Z"
   },
   {
    "duration": 8,
    "start_time": "2022-07-25T09:33:36.922Z"
   },
   {
    "duration": 19,
    "start_time": "2022-07-25T09:33:38.508Z"
   },
   {
    "duration": 6,
    "start_time": "2022-07-25T09:33:39.910Z"
   },
   {
    "duration": 29,
    "start_time": "2022-07-25T09:33:40.362Z"
   },
   {
    "duration": 3900,
    "start_time": "2022-07-25T09:33:47.541Z"
   },
   {
    "duration": 5736,
    "start_time": "2022-07-25T09:34:31.847Z"
   },
   {
    "duration": 5216,
    "start_time": "2022-07-25T09:35:09.496Z"
   },
   {
    "duration": 5391,
    "start_time": "2022-07-25T09:35:24.557Z"
   },
   {
    "duration": 5858,
    "start_time": "2022-07-25T09:35:59.852Z"
   },
   {
    "duration": 5421,
    "start_time": "2022-07-25T09:36:17.618Z"
   },
   {
    "duration": 4660,
    "start_time": "2022-07-25T09:38:44.796Z"
   },
   {
    "duration": 2917,
    "start_time": "2022-07-25T09:42:14.168Z"
   },
   {
    "duration": 3798,
    "start_time": "2022-07-25T09:42:44.416Z"
   },
   {
    "duration": 7408,
    "start_time": "2022-12-24T11:57:35.000Z"
   },
   {
    "duration": 19890,
    "start_time": "2022-12-24T11:57:42.410Z"
   },
   {
    "duration": 94,
    "start_time": "2022-12-24T11:58:02.312Z"
   },
   {
    "duration": 5,
    "start_time": "2022-12-24T11:58:02.497Z"
   },
   {
    "duration": 392,
    "start_time": "2022-12-24T11:58:02.508Z"
   },
   {
    "duration": 200,
    "start_time": "2022-12-24T11:58:02.904Z"
   },
   {
    "duration": 400,
    "start_time": "2022-12-24T11:58:03.106Z"
   },
   {
    "duration": 89,
    "start_time": "2022-12-24T11:58:03.512Z"
   },
   {
    "duration": 401,
    "start_time": "2022-12-24T11:58:03.603Z"
   },
   {
    "duration": 16298,
    "start_time": "2022-12-24T11:58:04.006Z"
   },
   {
    "duration": 13389,
    "start_time": "2022-12-24T11:58:20.307Z"
   },
   {
    "duration": 100,
    "start_time": "2022-12-24T11:58:33.702Z"
   },
   {
    "duration": 99,
    "start_time": "2022-12-24T11:58:33.807Z"
   },
   {
    "duration": 396,
    "start_time": "2022-12-24T11:58:33.913Z"
   },
   {
    "duration": 1792,
    "start_time": "2022-12-24T11:58:34.311Z"
   },
   {
    "duration": 1797,
    "start_time": "2022-12-24T11:58:36.105Z"
   },
   {
    "duration": 10,
    "start_time": "2022-12-24T11:58:37.912Z"
   },
   {
    "duration": 6,
    "start_time": "2022-12-24T11:58:38.002Z"
   },
   {
    "duration": 291,
    "start_time": "2022-12-24T11:58:38.012Z"
   },
   {
    "duration": 10693,
    "start_time": "2022-12-24T12:00:30.408Z"
   },
   {
    "duration": 3639,
    "start_time": "2022-12-24T12:00:41.104Z"
   },
   {
    "duration": 59,
    "start_time": "2022-12-24T12:00:44.745Z"
   },
   {
    "duration": 4,
    "start_time": "2022-12-24T12:00:44.806Z"
   },
   {
    "duration": 17,
    "start_time": "2022-12-24T12:00:44.812Z"
   },
   {
    "duration": 67,
    "start_time": "2022-12-24T12:00:44.831Z"
   },
   {
    "duration": 17,
    "start_time": "2022-12-24T12:00:44.900Z"
   },
   {
    "duration": 6,
    "start_time": "2022-12-24T12:00:44.919Z"
   },
   {
    "duration": 102,
    "start_time": "2022-12-24T12:00:44.927Z"
   },
   {
    "duration": 6391,
    "start_time": "2022-12-24T12:00:45.031Z"
   },
   {
    "duration": 1789,
    "start_time": "2022-12-24T12:00:51.423Z"
   },
   {
    "duration": 17,
    "start_time": "2022-12-24T12:00:53.214Z"
   },
   {
    "duration": 63,
    "start_time": "2022-12-24T12:00:53.235Z"
   },
   {
    "duration": 103,
    "start_time": "2022-12-24T12:00:53.300Z"
   },
   {
    "duration": 700,
    "start_time": "2022-12-24T12:00:53.405Z"
   },
   {
    "duration": 694,
    "start_time": "2022-12-24T12:00:54.106Z"
   },
   {
    "duration": 4,
    "start_time": "2022-12-24T12:00:54.801Z"
   },
   {
    "duration": 34,
    "start_time": "2022-12-24T12:00:54.807Z"
   },
   {
    "duration": 63,
    "start_time": "2022-12-24T12:00:54.843Z"
   },
   {
    "duration": 316494,
    "start_time": "2022-12-24T12:00:54.908Z"
   },
   {
    "duration": 13506,
    "start_time": "2022-12-24T16:55:10.902Z"
   },
   {
    "duration": 3508,
    "start_time": "2022-12-24T16:55:24.499Z"
   },
   {
    "duration": 14,
    "start_time": "2022-12-24T16:55:28.010Z"
   },
   {
    "duration": 4,
    "start_time": "2022-12-24T16:55:28.026Z"
   },
   {
    "duration": 67,
    "start_time": "2022-12-24T16:55:28.033Z"
   },
   {
    "duration": 15,
    "start_time": "2022-12-24T16:55:28.104Z"
   },
   {
    "duration": 22,
    "start_time": "2022-12-24T16:55:28.121Z"
   },
   {
    "duration": 58,
    "start_time": "2022-12-24T16:55:28.144Z"
   },
   {
    "duration": 29,
    "start_time": "2022-12-24T16:55:28.208Z"
   },
   {
    "duration": 11656,
    "start_time": "2022-12-24T16:55:28.239Z"
   },
   {
    "duration": 4803,
    "start_time": "2022-12-24T16:55:39.907Z"
   },
   {
    "duration": 93,
    "start_time": "2022-12-24T16:55:44.715Z"
   },
   {
    "duration": 94,
    "start_time": "2022-12-24T16:55:44.810Z"
   },
   {
    "duration": 294,
    "start_time": "2022-12-24T16:55:44.911Z"
   },
   {
    "duration": 1688,
    "start_time": "2022-12-24T16:55:45.211Z"
   },
   {
    "duration": 1717,
    "start_time": "2022-12-24T16:55:46.903Z"
   },
   {
    "duration": 3,
    "start_time": "2022-12-24T16:55:48.701Z"
   },
   {
    "duration": 4,
    "start_time": "2022-12-24T16:55:48.706Z"
   },
   {
    "duration": 298,
    "start_time": "2022-12-24T16:55:48.711Z"
   },
   {
    "duration": 265084,
    "start_time": "2022-12-24T16:55:49.014Z"
   },
   {
    "duration": 8062292,
    "start_time": "2022-12-24T17:00:14.100Z"
   },
   {
    "duration": 3117,
    "start_time": "2022-12-24T19:14:36.401Z"
   },
   {
    "duration": 14,
    "start_time": "2022-12-24T19:14:39.597Z"
   },
   {
    "duration": 85,
    "start_time": "2022-12-24T19:14:39.615Z"
   },
   {
    "duration": 9,
    "start_time": "2022-12-24T19:14:39.706Z"
   },
   {
    "duration": 41,
    "start_time": "2022-12-24T19:14:39.717Z"
   },
   {
    "duration": 44,
    "start_time": "2022-12-24T19:14:39.760Z"
   }
  ],
  "kernelspec": {
   "display_name": "Python 3 (ipykernel)",
   "language": "python",
   "name": "python3"
  },
  "language_info": {
   "codemirror_mode": {
    "name": "ipython",
    "version": 3
   },
   "file_extension": ".py",
   "mimetype": "text/x-python",
   "name": "python",
   "nbconvert_exporter": "python",
   "pygments_lexer": "ipython3",
   "version": "3.9.5"
  },
  "toc": {
   "base_numbering": 1,
   "nav_menu": {},
   "number_sections": true,
   "sideBar": true,
   "skip_h1_title": true,
   "title_cell": "Содержание",
   "title_sidebar": "Contents",
   "toc_cell": true,
   "toc_position": {
    "height": "calc(100% - 180px)",
    "left": "10px",
    "top": "150px",
    "width": "323.903px"
   },
   "toc_section_display": true,
   "toc_window_display": true
  }
 },
 "nbformat": 4,
 "nbformat_minor": 2
}
